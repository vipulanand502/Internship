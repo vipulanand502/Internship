{
 "cells": [
  {
   "cell_type": "code",
   "execution_count": 128,
   "id": "2fbfb31a",
   "metadata": {},
   "outputs": [],
   "source": [
    "#Name-Vipul Anand\n",
    "#Batch-DS2312\n",
    "#Assignment- Regular Expressions(1)"
   ]
  },
  {
   "cell_type": "code",
   "execution_count": 135,
   "id": "3bcbeccc",
   "metadata": {},
   "outputs": [
    {
     "name": "stdout",
     "output_type": "stream",
     "text": [
      "Python:Exercises::PHP:exercises:\n"
     ]
    }
   ],
   "source": [
    "#question 1\n",
    "#Question 1- Write a Python program to replace all occurrences of a space, comma, or dot with a colon.\n",
    "Sample_text= 'Python Exercises, PHP exercises.'\n",
    "new_text= re.sub('[ ,.]',':',Sample_text)\n",
    "print(new_text)"
   ]
  },
  {
   "cell_type": "code",
   "execution_count": 16,
   "id": "03288eea",
   "metadata": {},
   "outputs": [
    {
     "name": "stdout",
     "output_type": "stream",
     "text": [
      "         SUMMARY\n",
      "0    hello world\n",
      "1           test\n",
      "2  four five six\n"
     ]
    }
   ],
   "source": [
    "#question2\n",
    "Dictionary= {'SUMMARY' : ['hello, world!', 'XXXXX test', '123four, five:; six...']}\n",
    "data= pd.DataFrame(Dictionary)\n",
    "data['SUMMARY']=data['SUMMARY'].str.replace(r'[,!;:.]|X+|\\d+','',regex=True)\n",
    "print(data)\n"
   ]
  },
  {
   "cell_type": "code",
   "execution_count": 19,
   "id": "1be6c847",
   "metadata": {},
   "outputs": [
    {
     "name": "stdout",
     "output_type": "stream",
     "text": [
      "the words which are 4 or more characters long are  ['indian', 'team', 'lost', '2023', 'cricket', 'world', 'which', 'held', 'india']\n"
     ]
    }
   ],
   "source": [
    "#question3\n",
    "string='indian team lost the 2023 odi cricket world cup which was held in india'\n",
    "pattern= re.compile('\\w{4,}')\n",
    "string_list= pattern.findall(string)\n",
    "print('the words which are 4 or more characters long are ', string_list)"
   ]
  },
  {
   "cell_type": "code",
   "execution_count": 21,
   "id": "c1de0833",
   "metadata": {},
   "outputs": [
    {
     "name": "stdout",
     "output_type": "stream",
     "text": [
      "the words which have 3,4 or 5 characters are  ['india', 'team', 'lost', 'the', '2023', 'odi', 'crick', 'world', 'cup', 'which', 'was', 'held', 'india']\n"
     ]
    }
   ],
   "source": [
    "#question4\n",
    "string='indian team lost the 2023 odi cricket world cup which was held in india'\n",
    "pattern= re.compile('\\w{3,5}')\n",
    "string_list= pattern.findall(string)\n",
    "print('the words which have 3,4 or 5 characters are ', string_list)\n"
   ]
  },
  {
   "cell_type": "code",
   "execution_count": 65,
   "id": "0db03e55",
   "metadata": {},
   "outputs": [
    {
     "name": "stdout",
     "output_type": "stream",
     "text": [
      "['india', 'lost', 'the', '2023', 'odi', 'world', 'cup']\n"
     ]
    }
   ],
   "source": [
    "#question4\n",
    "#Question 4- Create a function in python to find all three, four, and five character words in a string.\n",
    "pattern= re.compile(r'\\b\\w{3,5}\\b')\n",
    "def fun(string):\n",
    "    word_list= pattern.findall(string)\n",
    "    print(word_list)\n",
    "string='india lost the 2023 odi cricket world cup'\n",
    "fun(string)\n"
   ]
  },
  {
   "cell_type": "code",
   "execution_count": 15,
   "id": "e33f2c95",
   "metadata": {},
   "outputs": [
    {
     "name": "stdout",
     "output_type": "stream",
     "text": [
      "['example.com', 'hr@fliprobo.com', 'github.com', 'HelloDataScienceWorld', 'DataScientist']\n"
     ]
    }
   ],
   "source": [
    "#question5\n",
    "sample_text= [\"example (.com)\", \"hr@fliprobo (.com)\", \"github (.com)\", \"Hello (Data Science World)\", \"Data (Scientist)\"]\n",
    "new_sample_text=[]\n",
    "pattern=re.compile('[() ]')\n",
    "for i in sample_text:\n",
    "    a=pattern.sub('',i)\n",
    "    new_sample_text.append(a)\n",
    "print(new_sample_text)"
   ]
  },
  {
   "cell_type": "code",
   "execution_count": 16,
   "id": "03180d36",
   "metadata": {},
   "outputs": [
    {
     "name": "stdout",
     "output_type": "stream",
     "text": [
      "['example.com', 'hr@fliprobo.com', 'github.com', 'HelloDataScienceWorld', 'DataScientist']\n"
     ]
    }
   ],
   "source": [
    "#question6\n",
    "sample_text= [\"example (.com)\", \"hr@fliprobo (.com)\", \"github (.com)\", \"Hello (Data Science World)\", \"Data (Scientist)\"]\n",
    "new_sample_text=[]\n",
    "pattern=re.compile('[() ]')\n",
    "for i in sample_text:\n",
    "    a=pattern.sub('',i)\n",
    "    new_sample_text.append(a)\n",
    "print(new_sample_text)\n"
   ]
  },
  {
   "cell_type": "code",
   "execution_count": 85,
   "id": "667d184a",
   "metadata": {},
   "outputs": [
    {
     "name": "stdout",
     "output_type": "stream",
     "text": [
      "['Importance', 'Of', 'Regular', 'Expressions', 'In', 'Python']\n"
     ]
    }
   ],
   "source": [
    "#question7\n",
    "Sample_text= 'ImportanceOfRegularExpressionsInPython'\n",
    "new_sample_text= re.findall('[A-Z][a-z]+', Sample_text)\n",
    "print(new_sample_text)"
   ]
  },
  {
   "cell_type": "code",
   "execution_count": 148,
   "id": "b5f44d97",
   "metadata": {},
   "outputs": [
    {
     "name": "stdout",
     "output_type": "stream",
     "text": [
      "['RegularExpression', '1IsAn', '2ImportantTopic', '3InPython']\n",
      "RegularExpression 1IsAn 2ImportantTopic 3InPython\n"
     ]
    }
   ],
   "source": [
    "#question8\n",
    "Sample_Text= 'RegularExpression1IsAn2ImportantTopic3InPython'\n",
    "word_list= re.findall(r'[a-zA-Z]+|\\d[a-zA-Z]+', Sample_Text)\n",
    "print(word_list)\n",
    "new_sample_text= ' '.join(word_list)\n",
    "print(new_sample_text)"
   ]
  },
  {
   "cell_type": "code",
   "execution_count": 155,
   "id": "cb620d75",
   "metadata": {},
   "outputs": [
    {
     "name": "stdout",
     "output_type": "stream",
     "text": [
      "['Regular', 'Expression', '1', 'Is', 'An', '2', 'Important', 'Topic', '3', 'In', 'Python']\n",
      "Regular Expression 1 Is An 2 Important Topic 3 In Python\n"
     ]
    }
   ],
   "source": [
    "#question9\n",
    "#insert spaces between words starting with capital letters and numbers\n",
    "Sample_Text= 'RegularExpression1IsAn2ImportantTopic3InPython'\n",
    "word_list=re.findall(r'[A-Z][a-z]+|\\d',Sample_Text)\n",
    "print(word_list)\n",
    "new_sample_text= ' '.join(word_list)\n",
    "print(new_sample_text)\n",
    "\n",
    "\n"
   ]
  },
  {
   "cell_type": "code",
   "execution_count": 101,
   "id": "0a383cf3",
   "metadata": {},
   "outputs": [
    {
     "data": {
      "text/html": [
       "<div>\n",
       "<style scoped>\n",
       "    .dataframe tbody tr th:only-of-type {\n",
       "        vertical-align: middle;\n",
       "    }\n",
       "\n",
       "    .dataframe tbody tr th {\n",
       "        vertical-align: top;\n",
       "    }\n",
       "\n",
       "    .dataframe thead th {\n",
       "        text-align: right;\n",
       "    }\n",
       "</style>\n",
       "<table border=\"1\" class=\"dataframe\">\n",
       "  <thead>\n",
       "    <tr style=\"text-align: right;\">\n",
       "      <th></th>\n",
       "      <th>Country</th>\n",
       "      <th>Region</th>\n",
       "      <th>Happiness Rank</th>\n",
       "      <th>Happiness Score</th>\n",
       "      <th>Standard Error</th>\n",
       "      <th>Economy (GDP per Capita)</th>\n",
       "      <th>Family</th>\n",
       "      <th>Health (Life Expectancy)</th>\n",
       "      <th>Freedom</th>\n",
       "      <th>Trust (Government Corruption)</th>\n",
       "      <th>Generosity</th>\n",
       "      <th>Dystopia Residual</th>\n",
       "      <th>first_five_letters</th>\n",
       "    </tr>\n",
       "  </thead>\n",
       "  <tbody>\n",
       "    <tr>\n",
       "      <th>0</th>\n",
       "      <td>Switzerland</td>\n",
       "      <td>Western Europe</td>\n",
       "      <td>1</td>\n",
       "      <td>7.587</td>\n",
       "      <td>0.03411</td>\n",
       "      <td>1.39651</td>\n",
       "      <td>1.34951</td>\n",
       "      <td>0.94143</td>\n",
       "      <td>0.66557</td>\n",
       "      <td>0.41978</td>\n",
       "      <td>0.29678</td>\n",
       "      <td>2.51738</td>\n",
       "      <td>Switze</td>\n",
       "    </tr>\n",
       "    <tr>\n",
       "      <th>1</th>\n",
       "      <td>Iceland</td>\n",
       "      <td>Western Europe</td>\n",
       "      <td>2</td>\n",
       "      <td>7.561</td>\n",
       "      <td>0.04884</td>\n",
       "      <td>1.30232</td>\n",
       "      <td>1.40223</td>\n",
       "      <td>0.94784</td>\n",
       "      <td>0.62877</td>\n",
       "      <td>0.14145</td>\n",
       "      <td>0.43630</td>\n",
       "      <td>2.70201</td>\n",
       "      <td>Icelan</td>\n",
       "    </tr>\n",
       "    <tr>\n",
       "      <th>2</th>\n",
       "      <td>Denmark</td>\n",
       "      <td>Western Europe</td>\n",
       "      <td>3</td>\n",
       "      <td>7.527</td>\n",
       "      <td>0.03328</td>\n",
       "      <td>1.32548</td>\n",
       "      <td>1.36058</td>\n",
       "      <td>0.87464</td>\n",
       "      <td>0.64938</td>\n",
       "      <td>0.48357</td>\n",
       "      <td>0.34139</td>\n",
       "      <td>2.49204</td>\n",
       "      <td>Denmar</td>\n",
       "    </tr>\n",
       "    <tr>\n",
       "      <th>3</th>\n",
       "      <td>Norway</td>\n",
       "      <td>Western Europe</td>\n",
       "      <td>4</td>\n",
       "      <td>7.522</td>\n",
       "      <td>0.03880</td>\n",
       "      <td>1.45900</td>\n",
       "      <td>1.33095</td>\n",
       "      <td>0.88521</td>\n",
       "      <td>0.66973</td>\n",
       "      <td>0.36503</td>\n",
       "      <td>0.34699</td>\n",
       "      <td>2.46531</td>\n",
       "      <td>Norway</td>\n",
       "    </tr>\n",
       "    <tr>\n",
       "      <th>4</th>\n",
       "      <td>Canada</td>\n",
       "      <td>North America</td>\n",
       "      <td>5</td>\n",
       "      <td>7.427</td>\n",
       "      <td>0.03553</td>\n",
       "      <td>1.32629</td>\n",
       "      <td>1.32261</td>\n",
       "      <td>0.90563</td>\n",
       "      <td>0.63297</td>\n",
       "      <td>0.32957</td>\n",
       "      <td>0.45811</td>\n",
       "      <td>2.45176</td>\n",
       "      <td>Canada</td>\n",
       "    </tr>\n",
       "    <tr>\n",
       "      <th>...</th>\n",
       "      <td>...</td>\n",
       "      <td>...</td>\n",
       "      <td>...</td>\n",
       "      <td>...</td>\n",
       "      <td>...</td>\n",
       "      <td>...</td>\n",
       "      <td>...</td>\n",
       "      <td>...</td>\n",
       "      <td>...</td>\n",
       "      <td>...</td>\n",
       "      <td>...</td>\n",
       "      <td>...</td>\n",
       "      <td>...</td>\n",
       "    </tr>\n",
       "    <tr>\n",
       "      <th>153</th>\n",
       "      <td>Rwanda</td>\n",
       "      <td>Sub-Saharan Africa</td>\n",
       "      <td>154</td>\n",
       "      <td>3.465</td>\n",
       "      <td>0.03464</td>\n",
       "      <td>0.22208</td>\n",
       "      <td>0.77370</td>\n",
       "      <td>0.42864</td>\n",
       "      <td>0.59201</td>\n",
       "      <td>0.55191</td>\n",
       "      <td>0.22628</td>\n",
       "      <td>0.67042</td>\n",
       "      <td>Rwanda</td>\n",
       "    </tr>\n",
       "    <tr>\n",
       "      <th>154</th>\n",
       "      <td>Benin</td>\n",
       "      <td>Sub-Saharan Africa</td>\n",
       "      <td>155</td>\n",
       "      <td>3.340</td>\n",
       "      <td>0.03656</td>\n",
       "      <td>0.28665</td>\n",
       "      <td>0.35386</td>\n",
       "      <td>0.31910</td>\n",
       "      <td>0.48450</td>\n",
       "      <td>0.08010</td>\n",
       "      <td>0.18260</td>\n",
       "      <td>1.63328</td>\n",
       "      <td>Benin</td>\n",
       "    </tr>\n",
       "    <tr>\n",
       "      <th>155</th>\n",
       "      <td>Syria</td>\n",
       "      <td>Middle East and Northern Africa</td>\n",
       "      <td>156</td>\n",
       "      <td>3.006</td>\n",
       "      <td>0.05015</td>\n",
       "      <td>0.66320</td>\n",
       "      <td>0.47489</td>\n",
       "      <td>0.72193</td>\n",
       "      <td>0.15684</td>\n",
       "      <td>0.18906</td>\n",
       "      <td>0.47179</td>\n",
       "      <td>0.32858</td>\n",
       "      <td>Syria</td>\n",
       "    </tr>\n",
       "    <tr>\n",
       "      <th>156</th>\n",
       "      <td>Burundi</td>\n",
       "      <td>Sub-Saharan Africa</td>\n",
       "      <td>157</td>\n",
       "      <td>2.905</td>\n",
       "      <td>0.08658</td>\n",
       "      <td>0.01530</td>\n",
       "      <td>0.41587</td>\n",
       "      <td>0.22396</td>\n",
       "      <td>0.11850</td>\n",
       "      <td>0.10062</td>\n",
       "      <td>0.19727</td>\n",
       "      <td>1.83302</td>\n",
       "      <td>Burund</td>\n",
       "    </tr>\n",
       "    <tr>\n",
       "      <th>157</th>\n",
       "      <td>Togo</td>\n",
       "      <td>Sub-Saharan Africa</td>\n",
       "      <td>158</td>\n",
       "      <td>2.839</td>\n",
       "      <td>0.06727</td>\n",
       "      <td>0.20868</td>\n",
       "      <td>0.13995</td>\n",
       "      <td>0.28443</td>\n",
       "      <td>0.36453</td>\n",
       "      <td>0.10731</td>\n",
       "      <td>0.16681</td>\n",
       "      <td>1.56726</td>\n",
       "      <td>Togo</td>\n",
       "    </tr>\n",
       "  </tbody>\n",
       "</table>\n",
       "<p>158 rows × 13 columns</p>\n",
       "</div>"
      ],
      "text/plain": [
       "         Country                           Region  Happiness Rank  \\\n",
       "0    Switzerland                   Western Europe               1   \n",
       "1        Iceland                   Western Europe               2   \n",
       "2        Denmark                   Western Europe               3   \n",
       "3         Norway                   Western Europe               4   \n",
       "4         Canada                    North America               5   \n",
       "..           ...                              ...             ...   \n",
       "153       Rwanda               Sub-Saharan Africa             154   \n",
       "154        Benin               Sub-Saharan Africa             155   \n",
       "155        Syria  Middle East and Northern Africa             156   \n",
       "156      Burundi               Sub-Saharan Africa             157   \n",
       "157         Togo               Sub-Saharan Africa             158   \n",
       "\n",
       "     Happiness Score  Standard Error  Economy (GDP per Capita)   Family  \\\n",
       "0              7.587         0.03411                   1.39651  1.34951   \n",
       "1              7.561         0.04884                   1.30232  1.40223   \n",
       "2              7.527         0.03328                   1.32548  1.36058   \n",
       "3              7.522         0.03880                   1.45900  1.33095   \n",
       "4              7.427         0.03553                   1.32629  1.32261   \n",
       "..               ...             ...                       ...      ...   \n",
       "153            3.465         0.03464                   0.22208  0.77370   \n",
       "154            3.340         0.03656                   0.28665  0.35386   \n",
       "155            3.006         0.05015                   0.66320  0.47489   \n",
       "156            2.905         0.08658                   0.01530  0.41587   \n",
       "157            2.839         0.06727                   0.20868  0.13995   \n",
       "\n",
       "     Health (Life Expectancy)  Freedom  Trust (Government Corruption)  \\\n",
       "0                     0.94143  0.66557                        0.41978   \n",
       "1                     0.94784  0.62877                        0.14145   \n",
       "2                     0.87464  0.64938                        0.48357   \n",
       "3                     0.88521  0.66973                        0.36503   \n",
       "4                     0.90563  0.63297                        0.32957   \n",
       "..                        ...      ...                            ...   \n",
       "153                   0.42864  0.59201                        0.55191   \n",
       "154                   0.31910  0.48450                        0.08010   \n",
       "155                   0.72193  0.15684                        0.18906   \n",
       "156                   0.22396  0.11850                        0.10062   \n",
       "157                   0.28443  0.36453                        0.10731   \n",
       "\n",
       "     Generosity  Dystopia Residual first_five_letters  \n",
       "0       0.29678            2.51738             Switze  \n",
       "1       0.43630            2.70201             Icelan  \n",
       "2       0.34139            2.49204             Denmar  \n",
       "3       0.34699            2.46531             Norway  \n",
       "4       0.45811            2.45176             Canada  \n",
       "..          ...                ...                ...  \n",
       "153     0.22628            0.67042             Rwanda  \n",
       "154     0.18260            1.63328              Benin  \n",
       "155     0.47179            0.32858              Syria  \n",
       "156     0.19727            1.83302             Burund  \n",
       "157     0.16681            1.56726               Togo  \n",
       "\n",
       "[158 rows x 13 columns]"
      ]
     },
     "execution_count": 101,
     "metadata": {},
     "output_type": "execute_result"
    }
   ],
   "source": [
    "#question10\n",
    "data=pd.read_csv('https://raw.githubusercontent.com/dsrscientist/DSData/master/happiness_score_dataset.csv')\n",
    "data\n",
    "a=data['Country'].str.extract(r'(\\w{1,6})')\n",
    "data['first_five_letters']=a\n",
    "data"
   ]
  },
  {
   "cell_type": "code",
   "execution_count": 115,
   "id": "ebe42b9e",
   "metadata": {},
   "outputs": [
    {
     "name": "stdout",
     "output_type": "stream",
     "text": [
      "the string has only  any word characters\n"
     ]
    }
   ],
   "source": [
    "#question11\n",
    "patten=re.compile(r'^\\w\\w+$')\n",
    "string='abd1234432enen'\n",
    "a= patten.findall(string)\n",
    "if len(a)!=0:\n",
    "    print('the string has only  any word characters')\n",
    "else:\n",
    "    print('it does not has only any word characters')"
   ]
  },
  {
   "cell_type": "code",
   "execution_count": 123,
   "id": "3ddc21d5",
   "metadata": {},
   "outputs": [
    {
     "name": "stdout",
     "output_type": "stream",
     "text": [
      "it starts with 123\n"
     ]
    }
   ],
   "source": [
    "#question12\n",
    "patten= re.compile('123')\n",
    "string= '123abc'\n",
    "a= patten.findall(string)\n",
    "if len(a)!=0:\n",
    "    print('it starts with 123')\n",
    "else:\n",
    "    print('it does not starts with 123')"
   ]
  },
  {
   "cell_type": "code",
   "execution_count": 127,
   "id": "70c28b1c",
   "metadata": {},
   "outputs": [
    {
     "name": "stdout",
     "output_type": "stream",
     "text": [
      "10.010.255.255\n"
     ]
    }
   ],
   "source": [
    "#question13\n",
    "ip_address='010.010.255.255'\n",
    "new_ip_address= re.sub('^0','', ip_address)\n",
    "print(new_ip_address)"
   ]
  },
  {
   "cell_type": "code",
   "execution_count": 137,
   "id": "c46c7ef5",
   "metadata": {},
   "outputs": [
    {
     "name": "stdout",
     "output_type": "stream",
     "text": [
      "['August 15th 1947']\n"
     ]
    }
   ],
   "source": [
    "#question14\n",
    "Sample_text='On August 15th 1947 that India was declared independent from British colonialism, and the reins of control were handed over to the leaders of the Country'\n",
    "a=re.findall(r'[A-Z][a-z]+ \\d+\\w+ \\d+\\b', Sample_text)\n",
    "print(a)"
   ]
  },
  {
   "cell_type": "code",
   "execution_count": 144,
   "id": "45cb42ee",
   "metadata": {},
   "outputs": [
    {
     "name": "stdout",
     "output_type": "stream",
     "text": [
      "['fox', 'dog']\n"
     ]
    }
   ],
   "source": [
    "#question15\n",
    "Sample_text= 'The quick brown fox jumps over the lazy dog.'\n",
    "Searched_words = ['fox', 'dog','horse']\n",
    "a=re.findall('fox|dog|horse', Sample_text)\n",
    "print(a)"
   ]
  },
  {
   "cell_type": "code",
   "execution_count": 149,
   "id": "44349c31",
   "metadata": {},
   "outputs": [
    {
     "name": "stdout",
     "output_type": "stream",
     "text": [
      "<re.Match object; span=(16, 19), match='fox'>\n"
     ]
    }
   ],
   "source": [
    "#question16\n",
    "Sample_text= 'The quick brown fox jumps over the lazy dog.'\n",
    "Searched_words='fox'\n",
    "a= re.search('fox',Sample_text)\n",
    "print(a)"
   ]
  },
  {
   "cell_type": "code",
   "execution_count": 151,
   "id": "00920a4c",
   "metadata": {},
   "outputs": [
    {
     "name": "stdout",
     "output_type": "stream",
     "text": [
      "['exercises', 'exercises', 'exercises']\n"
     ]
    }
   ],
   "source": [
    "#question17\n",
    "Sample_text = 'Python exercises, PHP exercises, C# exercises'\n",
    "Pattern = 'exercises'\n",
    "a= re.findall('exercises', Sample_text)\n",
    "print(a)"
   ]
  },
  {
   "cell_type": "code",
   "execution_count": 153,
   "id": "28162357",
   "metadata": {},
   "outputs": [
    {
     "name": "stdout",
     "output_type": "stream",
     "text": [
      "<callable_iterator object at 0x00000174CBAC9A20>\n"
     ]
    }
   ],
   "source": [
    "#question18\n",
    "Sample_text = 'Python exercises, PHP exercises, C# exercises'\n",
    "Pattern = 'exercises'\n",
    "a= re.finditer('exercises', Sample_text)\n",
    "print(a)"
   ]
  },
  {
   "cell_type": "code",
   "execution_count": 36,
   "id": "bb67f8bd",
   "metadata": {},
   "outputs": [
    {
     "name": "stdout",
     "output_type": "stream",
     "text": [
      "06-01-2024\n"
     ]
    }
   ],
   "source": [
    "#question19\n",
    "date= '2024-01-06'\n",
    "date_list= re.split('-',date)\n",
    "date_list.reverse()\n",
    "date_list\n",
    "new_date='-'.join(date_list)\n",
    "print(new_date)"
   ]
  },
  {
   "cell_type": "code",
   "execution_count": 43,
   "id": "418598a0",
   "metadata": {},
   "outputs": [
    {
     "name": "stdout",
     "output_type": "stream",
     "text": [
      "['01.12', '145.8', '3.01', '27.25', '0.25']\n"
     ]
    }
   ],
   "source": [
    "#question20\n",
    "Sample_Text= '01.12 0132.123 2.31875 145.8 3.01 27.25 0.25'\n",
    "decimals_with_precision_of_1_and_2=  re.findall(r'\\b\\d+\\.\\d{1,2}\\b',Sample_Text)\n",
    "print(decimals_with_precision_of_1_and_2)"
   ]
  },
  {
   "cell_type": "code",
   "execution_count": 48,
   "id": "15260e96",
   "metadata": {},
   "outputs": [
    {
     "name": "stdout",
     "output_type": "stream",
     "text": [
      "<regex.Match object; span=(3, 6), match='123'>\n",
      "<regex.Match object; span=(11, 12), match='1'>\n",
      "<regex.Match object; span=(14, 17), match='456'>\n"
     ]
    }
   ],
   "source": [
    "#question21\n",
    "string='abc123india1up456'\n",
    "digits= re.finditer('\\d+', string)\n",
    "for i in digits:\n",
    "    print(i)"
   ]
  },
  {
   "cell_type": "code",
   "execution_count": 51,
   "id": "31088d11",
   "metadata": {},
   "outputs": [
    {
     "name": "stdout",
     "output_type": "stream",
     "text": [
      "['947', '896', '926', '524', '734', '950', '642']\n",
      "the maximum digit in this string is 950\n"
     ]
    }
   ],
   "source": [
    "#question22\n",
    "Sample_Text='My marks in each semester are: 947, 896, 926, 524, 734, 950, 642'\n",
    "digits_list= re.findall(r'\\d+', Sample_Text)\n",
    "print(digits_list)\n",
    "print('the maximum digit in this string is', max(digits_list))"
   ]
  },
  {
   "cell_type": "code",
   "execution_count": 55,
   "id": "14622466",
   "metadata": {},
   "outputs": [
    {
     "name": "stdout",
     "output_type": "stream",
     "text": [
      "['Regular', 'Expression', 'Is', 'An', 'Important', 'Topic', 'In', 'Python']\n",
      "Regular Expression Is An Important Topic In Python\n"
     ]
    }
   ],
   "source": [
    "#question23\n",
    "Sample_Text= 'RegularExpressionIsAnImportantTopicInPython'\n",
    "word_list= re.findall('[A-Z][a-z]+',Sample_Text)\n",
    "print(word_list)\n",
    "new_string= ' '.join(word_list)\n",
    "print(new_string)"
   ]
  },
  {
   "cell_type": "code",
   "execution_count": 57,
   "id": "9004975a",
   "metadata": {},
   "outputs": [
    {
     "name": "stdout",
     "output_type": "stream",
     "text": [
      "['Regular', 'Expression', 'Is', 'An', 'Important', 'Topic', 'In', 'Python']\n"
     ]
    }
   ],
   "source": [
    "#question24\n",
    "Sample_Text= 'RegularExpressionIsAnImportantTopicInPython'\n",
    "word_starting_with_capital_letters_followed_by_lower_case_letters_are= re.findall('[A-Z][a-z]+',Sample_Text)\n",
    "print(word_starting_with_capital_letters_followed_by_lower_case_letters_are)"
   ]
  },
  {
   "cell_type": "code",
   "execution_count": 73,
   "id": "b9f03da4",
   "metadata": {},
   "outputs": [
    {
     "name": "stdout",
     "output_type": "stream",
     "text": [
      "Hello hello world\n"
     ]
    }
   ],
   "source": [
    "#question25\n",
    "Sample_Text=\"Hello hello world world\"\n",
    "word_list= re.findall(r'\\w+',Sample_Text)\n",
    "word_list= set(word_list)\n",
    "word_list=list(word_list)\n",
    "word_list=' '.join(word_list)\n",
    "print(word_list)"
   ]
  },
  {
   "cell_type": "code",
   "execution_count": 76,
   "id": "49ed30c3",
   "metadata": {},
   "outputs": [
    {
     "name": "stdout",
     "output_type": "stream",
     "text": [
      "the string ends with alphanumeric number\n"
     ]
    }
   ],
   "source": [
    "#question26\n",
    "string='india won the 2011 odi world cup'\n",
    "string_list=re.findall('[A-Za-z0-9]$',string)\n",
    "if len(string_list)!=0:\n",
    "    print('the string ends with alphanumeric number')\n",
    "else:\n",
    "    print('it does not ends with alphanumeruc number')"
   ]
  },
  {
   "cell_type": "code",
   "execution_count": 91,
   "id": "1cc7cc67",
   "metadata": {},
   "outputs": [
    {
     "name": "stdout",
     "output_type": "stream",
     "text": [
      "['#Doltiwal', '#xyzabc', '#Demonetization']\n"
     ]
    }
   ],
   "source": [
    "#question27\n",
    "Sample_Text= \"\"\"RT @kapil_kausik: #Doltiwal I mean #xyzabc is \"hurt\" by #Demonetization as the same has rendered USELESS <ed><U+00A0><U+00BD><ed><U+00B1><U+0089> \"acquired funds\" No wo\"\"\"\n",
    "hashtags=re.findall(r'#\\w+',Sample_Text)\n",
    "print(hashtags)"
   ]
  },
  {
   "cell_type": "code",
   "execution_count": 115,
   "id": "62ec0474",
   "metadata": {},
   "outputs": [
    {
     "name": "stdout",
     "output_type": "stream",
     "text": [
      "@Jags123456 Bharat band on 28??<ed><ed>Those who  are protesting #demonetization  are all different party leaders\n"
     ]
    }
   ],
   "source": [
    "#question28\n",
    "Sample_Text: \"@Jags123456 Bharat band on 28??<ed><U+00A0><U+00BD><ed><U+00B8><U+0082>Those who  are protesting #demonetization  are all different party leaders\"\n",
    "new_sample_text_with_removed_symbols=     re.sub(r'<U\\+\\w+>','', Sample_Text)\n",
    "print(new_sample_text_with_removed_symbols)\n"
   ]
  },
  {
   "cell_type": "code",
   "execution_count": 118,
   "id": "a289f567",
   "metadata": {},
   "outputs": [
    {
     "name": "stdout",
     "output_type": "stream",
     "text": [
      "Sample_Text= 'Ron was born on 12-09-1992 and he was admitted to school 15-12-1999'\n",
      "['12-09-1992', '15-12-1999']\n"
     ]
    }
   ],
   "source": [
    "#question29\n",
    "with open(r\"C:\\Users\\vipul\\OneDrive\\Documents\\Sample_Text.txt\") as file:\n",
    "    for line in file:\n",
    "        string=line\n",
    "print(string)\n",
    "dates= re.findall(r'\\d{2}-\\d{2}-\\d{4}',string)\n",
    "print(dates)"
   ]
  },
  {
   "cell_type": "code",
   "execution_count": 125,
   "id": "2988cb7a",
   "metadata": {},
   "outputs": [
    {
     "name": "stdout",
     "output_type": "stream",
     "text": [
      " following example creates  ArrayList  a capacity   elements. 4 elements   added   ArrayList   ArrayList  trimmed accordingly.\n"
     ]
    }
   ],
   "source": [
    "#question30\n",
    "Sample_Text=\"The following example creates an ArrayList with a capacity of 50 elements. 4 elements are then added to the ArrayList and the ArrayList is trimmed accordingly.\"\n",
    "pattern= re.compile(r'\\b\\w{2,4}\\b')\n",
    "new_sample_text=pattern.sub('',Sample_Text)\n",
    "print(new_sample_text)"
   ]
  },
  {
   "cell_type": "code",
   "execution_count": null,
   "id": "ef04480e",
   "metadata": {},
   "outputs": [],
   "source": []
  },
  {
   "cell_type": "code",
   "execution_count": null,
   "id": "adbee409",
   "metadata": {},
   "outputs": [],
   "source": []
  },
  {
   "cell_type": "code",
   "execution_count": null,
   "id": "7253461e",
   "metadata": {},
   "outputs": [],
   "source": []
  },
  {
   "cell_type": "code",
   "execution_count": null,
   "id": "43c663f3",
   "metadata": {},
   "outputs": [],
   "source": []
  },
  {
   "cell_type": "code",
   "execution_count": null,
   "id": "8484aff6",
   "metadata": {},
   "outputs": [],
   "source": []
  },
  {
   "cell_type": "code",
   "execution_count": null,
   "id": "dff10c46",
   "metadata": {},
   "outputs": [],
   "source": []
  },
  {
   "cell_type": "code",
   "execution_count": null,
   "id": "6bc7fc74",
   "metadata": {},
   "outputs": [],
   "source": []
  },
  {
   "cell_type": "code",
   "execution_count": null,
   "id": "5c6af325",
   "metadata": {},
   "outputs": [],
   "source": []
  },
  {
   "cell_type": "code",
   "execution_count": null,
   "id": "29bc1510",
   "metadata": {},
   "outputs": [],
   "source": []
  },
  {
   "cell_type": "code",
   "execution_count": null,
   "id": "7194ec6b",
   "metadata": {},
   "outputs": [],
   "source": []
  },
  {
   "cell_type": "code",
   "execution_count": null,
   "id": "37489db9",
   "metadata": {},
   "outputs": [],
   "source": []
  },
  {
   "cell_type": "code",
   "execution_count": null,
   "id": "294c2cc7",
   "metadata": {},
   "outputs": [],
   "source": []
  },
  {
   "cell_type": "code",
   "execution_count": null,
   "id": "98a57a58",
   "metadata": {},
   "outputs": [],
   "source": []
  },
  {
   "cell_type": "code",
   "execution_count": null,
   "id": "04eb3d9e",
   "metadata": {},
   "outputs": [],
   "source": []
  },
  {
   "cell_type": "code",
   "execution_count": null,
   "id": "107198ad",
   "metadata": {},
   "outputs": [],
   "source": []
  },
  {
   "cell_type": "code",
   "execution_count": null,
   "id": "15a56aa0",
   "metadata": {},
   "outputs": [],
   "source": []
  },
  {
   "cell_type": "code",
   "execution_count": null,
   "id": "bfc401cc",
   "metadata": {},
   "outputs": [],
   "source": []
  },
  {
   "cell_type": "code",
   "execution_count": null,
   "id": "eb844ace",
   "metadata": {},
   "outputs": [],
   "source": []
  },
  {
   "cell_type": "code",
   "execution_count": null,
   "id": "e42c9bc3",
   "metadata": {},
   "outputs": [],
   "source": []
  },
  {
   "cell_type": "code",
   "execution_count": null,
   "id": "b0bba1ca",
   "metadata": {},
   "outputs": [],
   "source": []
  }
 ],
 "metadata": {
  "kernelspec": {
   "display_name": "Python 3 (ipykernel)",
   "language": "python",
   "name": "python3"
  },
  "language_info": {
   "codemirror_mode": {
    "name": "ipython",
    "version": 3
   },
   "file_extension": ".py",
   "mimetype": "text/x-python",
   "name": "python",
   "nbconvert_exporter": "python",
   "pygments_lexer": "ipython3",
   "version": "3.11.5"
  }
 },
 "nbformat": 4,
 "nbformat_minor": 5
}
