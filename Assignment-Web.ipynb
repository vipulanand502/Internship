{
 "cells": [
  {
   "cell_type": "code",
   "execution_count": 1,
   "id": "b0054aef",
   "metadata": {},
   "outputs": [],
   "source": [
    "from bs4 import BeautifulSoup\n",
    "import requests"
   ]
  },
  {
   "cell_type": "code",
   "execution_count": 2,
   "id": "f1a49788",
   "metadata": {},
   "outputs": [],
   "source": [
    "#Name-Vipul Anand\n",
    "#Batch-DS2312\n",
    "#Assignment-Web Scraping"
   ]
  },
  {
   "cell_type": "code",
   "execution_count": 5,
   "id": "d39e69cb",
   "metadata": {},
   "outputs": [],
   "source": [
    "#Question-1\n",
    "page=requests.get('https://en.wikipedia.org/wiki/Main_Page')\n",
    "page\n",
    "soup=BeautifulSoup(page.content)"
   ]
  },
  {
   "cell_type": "code",
   "execution_count": 9,
   "id": "e6d1d12a",
   "metadata": {},
   "outputs": [
    {
     "name": "stdout",
     "output_type": "stream",
     "text": [
      "Welcome to Wikipedia\n",
      "From today's featured article\n",
      "Did you know ...\n",
      "In the news\n",
      "On this day\n",
      "Today's featured picture\n",
      "Other areas of Wikipedia\n",
      "Wikipedia's sister projects\n",
      "Wikipedia languages\n"
     ]
    }
   ],
   "source": [
    "for i in soup.find_all('span',class_=\"mw-headline\"):\n",
    "    print(i.text)"
   ]
  },
  {
   "cell_type": "code",
   "execution_count": 11,
   "id": "ed794adc",
   "metadata": {},
   "outputs": [
    {
     "name": "stdout",
     "output_type": "stream",
     "text": [
      "<Response [200]>\n"
     ]
    }
   ],
   "source": [
    "#Question-2\n",
    "page=requests.get('https://presidentofindia.nic.in/former-presidents')\n",
    "print(page)\n",
    "soup=BeautifulSoup(page.content)"
   ]
  },
  {
   "cell_type": "code",
   "execution_count": 16,
   "id": "4c656393",
   "metadata": {},
   "outputs": [
    {
     "name": "stdout",
     "output_type": "stream",
     "text": [
      "\n",
      "Shri Ram Nath Kovind\n",
      "14th President of India\n",
      "\n",
      "\n",
      "Shri Pranab Mukherjee\n",
      "13th President of India\n",
      "\n",
      "\n",
      "Smt Pratibha Devisingh Patil\n",
      "12th President of India\n",
      "\n",
      "\n",
      "DR. A.P.J. Abdul Kalam\n",
      "11th President of India\n",
      "\n",
      "\n",
      "Shri K. R. Narayanan\n",
      "10th President of India\n",
      "\n",
      "\n",
      "Dr Shankar Dayal Sharma\n",
      "9th  President of India\n",
      "\n",
      "\n",
      "Shri R Venkataraman\n",
      "8th President of India\n",
      "\n",
      "\n",
      "Giani Zail Singh\n",
      "7th President of India\n",
      "\n",
      "\n",
      "Shri Neelam Sanjiva Reddy\n",
      "6th President of India\n",
      "\n",
      "\n",
      "Dr. Fakhruddin Ali Ahmed\n",
      "5th President of India\n",
      "\n",
      "\n",
      "Shri Varahagiri Venkata Giri\n",
      "4th President of India\n",
      "\n",
      "\n",
      "Dr. Zakir Husain\n",
      "3rd President of India\n",
      "\n",
      "\n",
      "Dr. Sarvepalli Radhakrishnan\n",
      "2nd President of India\n",
      "\n",
      "\n",
      "Dr. Rajendra Prasad\n",
      "1st President of India\n",
      "\n"
     ]
    }
   ],
   "source": [
    "for i in soup.find_all('div',class_=\"desc-sec\"):\n",
    "    print(i.text)"
   ]
  },
  {
   "cell_type": "code",
   "execution_count": null,
   "id": "a66660f0",
   "metadata": {},
   "outputs": [],
   "source": [
    "#Question-3\n",
    "#TO be skipped"
   ]
  },
  {
   "cell_type": "code",
   "execution_count": null,
   "id": "ccd3fb6f",
   "metadata": {},
   "outputs": [],
   "source": [
    "#Question-4\n",
    "#To be skipped"
   ]
  },
  {
   "cell_type": "code",
   "execution_count": 19,
   "id": "9a73819a",
   "metadata": {},
   "outputs": [],
   "source": [
    "#Question-5\n",
    "page=requests.get('https://www.cnbc.com/world/?region=world')\n",
    "page\n",
    "soup= BeautifulSoup(page.content)"
   ]
  },
  {
   "cell_type": "code",
   "execution_count": 145,
   "id": "6159410a",
   "metadata": {},
   "outputs": [
    {
     "name": "stdout",
     "output_type": "stream",
     "text": [
      "['13 Min AgoChina property stocks jump as Beijing takes steps to boost liquidity in the beleaguered sector  ', '1 Hour AgoChina youth unemployment will stay elevated in 2024, but EIU warns economic impact will linger', '1 Hour AgoChina is ramping up stimulus to boost market confidence — but is it enough?', '2 Hours AgoEuropean markets head for a lower open ahead of ECB rate decision', '4 Hours AgoShares of Tesla suppliers in Asia take a beating after automaker misses targets', \"5 Hours AgoUranium prices could rally past 16-year highs as the world's largest producer runs short\", \"6 Hours AgoCNBC Daily Open: U.S. economy's state of play\", \"6 Hours AgoDavid Ellison's Skydance explores acquiring all of Paramount, sources say \", '7 Hours AgoJudge denied Binance founder trip to UAE despite his offer of equity as security', '7 Hours AgoCramer sees upside for oil service stocks, points to Halliburton and SLB', \"7 Hours AgoCramer's Lightning Round: RxSight is 'losing too much money'\", '7 Hours AgoJim Cramer says to watch for market anomalies and take advantage of them', '7 Hours AgoChina and Hong Kong stocks lead gains in Asia as markets reverse course by afternoon trading    ', '8 Hours AgoASML and more: UBS names sectors and over 10 global stocks to play right now', '8 Hours AgoAnalysts love these biotech stocks, giving 4 more than 100% upside', '8 Hours AgoFAA halts Boeing 737 Max production expansion, but clears path to unground Max 9', '8 Hours AgoS&P 500 futures are little changed as investors prepare for GDP report', '9 Hours AgoStocks making biggest moves after hours: Tesla, IBM, Las Vegas Sands and more', '9 Hours AgoU.S. firms prefer India over China for supply chain needs, despite risks', '10 Hours AgoHPE hacked by same Russian intelligence group that hit Microsoft', '10 Hours AgoIBM shares rise after earnings top estimates in ‘uncertain, volatile’ economy', \"10 Hours AgoHere's a rapid-fire update on all 32 stocks in our portfolio\", '10 Hours AgoA new iPhone feature can help keep your money safe—how to turn it on', '11 Hours AgoThe 4 best industries to work in, according to Glassdoor', '11 Hours AgoAchieving this type of goal may lead to dissatisfaction, new study shows', '11 Hours AgoAs Trump wins New Hampshire, here are stocks that could rise in a GOP sweep ', '11 Hours AgoHow chaos in the Red Sea is putting the U.S. Navy to the test', '11 Hours AgoBiden guest at State of the Union will be Texas abortion case mom', \"12 Hours AgoThursday's GDP report expected to show the U.S. economy at a crossroads\", '12 Hours AgoUnited Auto Workers union endorses President Joe Biden for reelection over Trump']\n",
      "30\n"
     ]
    }
   ],
   "source": [
    "Headline=[]\n",
    "for i in soup.find_all('div',class_=\"LatestNews-headlineWrapper\"):\n",
    "    Headline.append(i.text)\n",
    "print(Headline)\n",
    "print(len(Headline))"
   ]
  },
  {
   "cell_type": "code",
   "execution_count": 146,
   "id": "3f83e15c",
   "metadata": {},
   "outputs": [
    {
     "name": "stdout",
     "output_type": "stream",
     "text": [
      "['13 Min Ago', '1 Hour Ago', '1 Hour Ago', '2 Hours Ago', '4 Hours Ago', '5 Hours Ago', '6 Hours Ago', '6 Hours Ago', '7 Hours Ago', '7 Hours Ago', '7 Hours Ago', '7 Hours Ago', '7 Hours Ago', '8 Hours Ago', '8 Hours Ago', '8 Hours Ago', '8 Hours Ago', '9 Hours Ago', '9 Hours Ago', '10 Hours Ago', '10 Hours Ago', '10 Hours Ago', '10 Hours Ago', '11 Hours Ago', '11 Hours Ago', '11 Hours Ago', '11 Hours Ago', '11 Hours Ago', '12 Hours Ago', '12 Hours Ago']\n",
      "30\n"
     ]
    }
   ],
   "source": [
    "Time=[]\n",
    "for i in soup.find_all('span',class_=\"LatestNews-wrapper\"):\n",
    "    Time.append(i.text)\n",
    "print(Time)\n",
    "print(len(Time))"
   ]
  },
  {
   "cell_type": "code",
   "execution_count": 152,
   "id": "4ee1b959",
   "metadata": {},
   "outputs": [
    {
     "name": "stdout",
     "output_type": "stream",
     "text": [
      "['https://www.cnbc.com/2024/01/25/china-property-stocks-jump-as-beijing-takes-steps-to-boost-liquidity-in-the-beleaguered-sector-.html', 'https://www.cnbc.com/2024/01/25/china-youth-unemployment-will-stay-elevated-in-2024-but-eiu-warns-economic-impact-will-linger.html', 'https://www.cnbc.com/2024/01/25/china-is-ramping-up-stimulus-to-boost-market-confidence-is-it-enough.html', 'https://www.cnbc.com/2024/01/25/european-markets-live-updates-stocks-news-ecb-decision-and-earnings.html', 'https://www.cnbc.com/2024/01/25/shares-of-tesla-suppliers-ev-makers-in-asia-fall-after-tesla-results.html', 'https://www.cnbc.com/2024/01/25/worlds-largest-uranium-producer-is-running-short.html', 'https://www.cnbc.com/2024/01/25/cnbc-daily-open-us-economys-state-of-play.html', 'https://www.cnbc.com/2024/01/24/david-ellisons-skydance-media-explores-buying-paramount-global.html', 'https://www.cnbc.com/2024/01/24/-binance-founder-changpeng-zhao-travel-blocked-by-federal-judge.html', 'https://www.cnbc.com/2024/01/24/cramer-sees-upside-for-oil-service-stocks-names-halliburton-and-slb.html', 'https://www.cnbc.com/2024/01/24/cramers-lightning-round-rxsight-is-losing-too-much-money.html', 'https://www.cnbc.com/2024/01/24/cramer-says-to-watch-for-market-anomalies-and-take-advantage-of-them.html', 'https://www.cnbc.com/2024/01/25/asia-markets.html', '/pro/', '/pro/', 'https://www.cnbc.com/2024/01/24/boeing-737-max-faa-halts-production-expansion-oks-inspection-instructions.html', 'https://www.cnbc.com/2024/01/24/stock-market-today-live-updates.html', 'https://www.cnbc.com/2024/01/24/stocks-making-the-biggest-moves-after-hours-tsla-ibm-lvs.html', 'https://www.cnbc.com/2024/01/24/us-firms-prefer-india-over-china-for-supply-chain-needs-despite-risks.html', 'https://www.cnbc.com/2024/01/24/hpe-hit-by-russian-intelligence-group-that-hacked-microsoft.html', 'https://www.cnbc.com/2024/01/24/ibm-q4-earnings-report-2023.html', '/investingclub/', 'https://www.cnbc.com/2024/01/24/how-to-turn-on-iphone-stolen-device-protection.html', 'https://www.cnbc.com/2024/01/24/best-industries-to-work-for-according-to-glassdoorsome-jobs-pay-over-200000.html', 'https://www.cnbc.com/2024/01/24/new-study-achieving-this-type-of-goal-may-lead-to-dissatisfaction.html', '/pro/', 'https://www.cnbc.com/2024/01/24/how-chaos-in-the-red-sea-is-putting-the-us-navy-to-the-test.html', 'https://www.cnbc.com/2024/01/24/biden-state-of-union-guest-is-texas-abortion-case-mom.html', 'https://www.cnbc.com/2024/01/24/thursdays-gdp-report-expected-to-show-the-us-economy-at-a-crossroads.html', 'https://www.cnbc.com/2024/01/24/uaw-endorses-biden-over-trump-in-2024-election.html']\n",
      "30\n"
     ]
    }
   ],
   "source": [
    "link=[]\n",
    "for i in soup.find_all('div',class_=\"LatestNews-headlineWrapper\"):\n",
    "    link.append(i.find('a').get('href'))\n",
    "print(link)\n",
    "print(len(link))"
   ]
  },
  {
   "cell_type": "code",
   "execution_count": 154,
   "id": "81daac8f",
   "metadata": {},
   "outputs": [
    {
     "name": "stdout",
     "output_type": "stream",
     "text": [
      "                                             Headline  ...                                               link\n",
      "0   13 Min AgoChina property stocks jump as Beijin...  ...  https://www.cnbc.com/2024/01/25/china-property...\n",
      "1   1 Hour AgoChina youth unemployment will stay e...  ...  https://www.cnbc.com/2024/01/25/china-youth-un...\n",
      "2   1 Hour AgoChina is ramping up stimulus to boos...  ...  https://www.cnbc.com/2024/01/25/china-is-rampi...\n",
      "3   2 Hours AgoEuropean markets head for a lower o...  ...  https://www.cnbc.com/2024/01/25/european-marke...\n",
      "4   4 Hours AgoShares of Tesla suppliers in Asia t...  ...  https://www.cnbc.com/2024/01/25/shares-of-tesl...\n",
      "5   5 Hours AgoUranium prices could rally past 16-...  ...  https://www.cnbc.com/2024/01/25/worlds-largest...\n",
      "6   6 Hours AgoCNBC Daily Open: U.S. economy's sta...  ...  https://www.cnbc.com/2024/01/25/cnbc-daily-ope...\n",
      "7   6 Hours AgoDavid Ellison's Skydance explores a...  ...  https://www.cnbc.com/2024/01/24/david-ellisons...\n",
      "8   7 Hours AgoJudge denied Binance founder trip t...  ...  https://www.cnbc.com/2024/01/24/-binance-found...\n",
      "9   7 Hours AgoCramer sees upside for oil service ...  ...  https://www.cnbc.com/2024/01/24/cramer-sees-up...\n",
      "10  7 Hours AgoCramer's Lightning Round: RxSight i...  ...  https://www.cnbc.com/2024/01/24/cramers-lightn...\n",
      "11  7 Hours AgoJim Cramer says to watch for market...  ...  https://www.cnbc.com/2024/01/24/cramer-says-to...\n",
      "12  7 Hours AgoChina and Hong Kong stocks lead gai...  ...  https://www.cnbc.com/2024/01/25/asia-markets.html\n",
      "13  8 Hours AgoASML and more: UBS names sectors an...  ...                                              /pro/\n",
      "14  8 Hours AgoAnalysts love these biotech stocks,...  ...                                              /pro/\n",
      "15  8 Hours AgoFAA halts Boeing 737 Max production...  ...  https://www.cnbc.com/2024/01/24/boeing-737-max...\n",
      "16  8 Hours AgoS&P 500 futures are little changed ...  ...  https://www.cnbc.com/2024/01/24/stock-market-t...\n",
      "17  9 Hours AgoStocks making biggest moves after h...  ...  https://www.cnbc.com/2024/01/24/stocks-making-...\n",
      "18  9 Hours AgoU.S. firms prefer India over China ...  ...  https://www.cnbc.com/2024/01/24/us-firms-prefe...\n",
      "19  10 Hours AgoHPE hacked by same Russian intelli...  ...  https://www.cnbc.com/2024/01/24/hpe-hit-by-rus...\n",
      "20  10 Hours AgoIBM shares rise after earnings top...  ...  https://www.cnbc.com/2024/01/24/ibm-q4-earning...\n",
      "21  10 Hours AgoHere's a rapid-fire update on all ...  ...                                    /investingclub/\n",
      "22  10 Hours AgoA new iPhone feature can help keep...  ...  https://www.cnbc.com/2024/01/24/how-to-turn-on...\n",
      "23  11 Hours AgoThe 4 best industries to work in, ...  ...  https://www.cnbc.com/2024/01/24/best-industrie...\n",
      "24  11 Hours AgoAchieving this type of goal may le...  ...  https://www.cnbc.com/2024/01/24/new-study-achi...\n",
      "25  11 Hours AgoAs Trump wins New Hampshire, here ...  ...                                              /pro/\n",
      "26  11 Hours AgoHow chaos in the Red Sea is puttin...  ...  https://www.cnbc.com/2024/01/24/how-chaos-in-t...\n",
      "27  11 Hours AgoBiden guest at State of the Union ...  ...  https://www.cnbc.com/2024/01/24/biden-state-of...\n",
      "28  12 Hours AgoThursday's GDP report expected to ...  ...  https://www.cnbc.com/2024/01/24/thursdays-gdp-...\n",
      "29  12 Hours AgoUnited Auto Workers union endorses...  ...  https://www.cnbc.com/2024/01/24/uaw-endorses-b...\n",
      "\n",
      "[30 rows x 3 columns]\n"
     ]
    }
   ],
   "source": [
    "CNBC= pd.DataFrame({'Headline':Headline,'Time':Time,'link':link})\n",
    "print(CNBC)"
   ]
  },
  {
   "cell_type": "code",
   "execution_count": 158,
   "id": "378d1ede",
   "metadata": {},
   "outputs": [
    {
     "data": {
      "text/plain": [
       "<Response [200]>"
      ]
     },
     "execution_count": 158,
     "metadata": {},
     "output_type": "execute_result"
    }
   ],
   "source": [
    "#Question-6\n",
    "page=requests.get('https://www.journals.elsevier.com/artificial-intelligence/most-downloaded-articles')\n",
    "page"
   ]
  },
  {
   "cell_type": "code",
   "execution_count": 159,
   "id": "cbae1e0d",
   "metadata": {},
   "outputs": [],
   "source": [
    "soup=BeautifulSoup(page.content)"
   ]
  },
  {
   "cell_type": "code",
   "execution_count": 175,
   "id": "cfc10829",
   "metadata": {},
   "outputs": [
    {
     "name": "stdout",
     "output_type": "stream",
     "text": [
      "['Reward is enough', 'Explanation in artificial intelligence: Insights from the social sciences', 'Creativity and artificial intelligence', 'Conflict-based search for optimal multi-agent pathfinding', 'Knowledge graphs as tools for explainable machine learning: A survey', 'Law and logic: A review from an argumentation perspective', 'Between MDPs and semi-MDPs: A framework for temporal abstraction in reinforcement learning', 'Explaining individual predictions when features are dependent: More accurate approximations to Shapley values', 'Multiple object tracking: A literature review', 'A survey of inverse reinforcement learning: Challenges, methods and progress', 'Evaluating XAI: A comparison of rule-based and example-based explanations', 'Explainable AI tools for legal reasoning about cases: A study on the European Court of Human Rights', 'Hard choices in artificial intelligence', 'Assessing the communication gap between AI models and healthcare professionals: Explainability, utility and trust in AI-driven clinical decision-making', 'Explaining black-box classifiers using post-hoc explanations-by-example: The effect of explanations and error-rates in XAI user studies', 'The Hanabi challenge: A new frontier for AI research', 'Wrappers for feature subset selection', 'Artificial cognition for social human–robot interaction: An implementation', 'A review of possible effects of cognitive biases on interpretation of rule-based machine learning models', 'The multifaceted impact of Ada Lovelace in the digital age', 'Robot ethics: Mapping the issues for a mechanized world', 'Reward (Mis)design for autonomous driving', 'Planning and acting in partially observable stochastic domains', 'What do we want from Explainable Artificial Intelligence (XAI)? – A stakeholder perspective on XAI and a conceptual model guiding interdisciplinary XAI research']\n",
      "24\n"
     ]
    }
   ],
   "source": [
    "Title=[]\n",
    "for i in soup.find_all('li',class_=\"sc-9zxyh7-1 sc-9zxyh7-2 kOEIEO hvoVxs\"):\n",
    "    Title.append(i.find('h2').text)\n",
    "print(Title)\n",
    "print(len(Title))"
   ]
  },
  {
   "cell_type": "code",
   "execution_count": 180,
   "id": "47717078",
   "metadata": {},
   "outputs": [
    {
     "name": "stdout",
     "output_type": "stream",
     "text": [
      "['David Silver, Satinder Singh, Doina Precup, Richard S. Sutton ', 'Tim Miller ', 'Margaret A. Boden ', 'Guni Sharon, Roni Stern, Ariel Felner, Nathan R. Sturtevant ', 'Ilaria Tiddi, Stefan Schlobach ', 'Henry Prakken, Giovanni Sartor ', 'Richard S. Sutton, Doina Precup, Satinder Singh ', 'Kjersti Aas, Martin Jullum, Anders Løland ', 'Wenhan Luo, Junliang Xing and 4 more', 'Saurabh Arora, Prashant Doshi ', 'Jasper van der Waa, Elisabeth Nieuwburg, Anita Cremers, Mark Neerincx ', 'Joe Collenette, Katie Atkinson, Trevor Bench-Capon ', 'Roel Dobbe, Thomas Krendl Gilbert, Yonatan Mintz ', 'Oskar Wysocki, Jessica Katharine Davies and 5 more', 'Eoin M. Kenny, Courtney Ford, Molly Quinn, Mark T. Keane ', 'Nolan Bard, Jakob N. Foerster and 13 more', 'Ron Kohavi, George H. John ', 'Séverin Lemaignan, Mathieu Warnier and 3 more', 'Tomáš Kliegr, Štěpán Bahník, Johannes Fürnkranz ', 'Luigia Carlucci Aiello ', 'Patrick Lin, Keith Abney, George Bekey ', 'W. Bradley Knox, Alessandro Allievi and 3 more', 'Leslie Pack Kaelbling, Michael L. Littman, Anthony R. Cassandra ', 'Markus Langer, Daniel Oster and 6 more']\n",
      "24\n"
     ]
    }
   ],
   "source": [
    "Authors=[]\n",
    "for i in soup.find_all('li',class_=\"sc-9zxyh7-1 sc-9zxyh7-2 kOEIEO hvoVxs\"):\n",
    "    Authors.append(i.find('span').text)\n",
    "print(Authors)\n",
    "print(len(Authors))"
   ]
  },
  {
   "cell_type": "code",
   "execution_count": 186,
   "id": "716d27b2",
   "metadata": {},
   "outputs": [
    {
     "name": "stdout",
     "output_type": "stream",
     "text": [
      "['October 2021', 'February 2019', 'August 1998', 'February 2015', 'January 2022', 'October 2015', 'August 1999', 'September 2021', 'April 2021', 'August 2021', 'February 2021', 'April 2023', 'November 2021', 'March 2023', 'May 2021', 'March 2020', 'December 1997', 'June 2017', 'June 2021', 'June 2016', 'April 2011', 'March 2023', 'May 1998', 'July 2021']\n",
      "24\n"
     ]
    }
   ],
   "source": [
    "Date=[]\n",
    "for i in soup.find_all('li',class_=\"sc-9zxyh7-1 sc-9zxyh7-2 kOEIEO hvoVxs\"):\n",
    "    Date.append(i.find('span',class_=\"sc-1thf9ly-2 dvggWt\").text)\n",
    "print(Date)\n",
    "print(len(Date))"
   ]
  },
  {
   "cell_type": "code",
   "execution_count": 190,
   "id": "d7eedf02",
   "metadata": {},
   "outputs": [
    {
     "name": "stdout",
     "output_type": "stream",
     "text": [
      "['https://www.sciencedirect.com/science/article/pii/S0004370221000862', 'https://www.sciencedirect.com/science/article/pii/S0004370218305988', 'https://www.sciencedirect.com/science/article/pii/S0004370298000551', 'https://www.sciencedirect.com/science/article/pii/S0004370214001386', 'https://www.sciencedirect.com/science/article/pii/S0004370221001788', 'https://www.sciencedirect.com/science/article/pii/S0004370215000910', 'https://www.sciencedirect.com/science/article/pii/S0004370299000521', 'https://www.sciencedirect.com/science/article/pii/S0004370221000539', 'https://www.sciencedirect.com/science/article/pii/S0004370220301958', 'https://www.sciencedirect.com/science/article/pii/S0004370221000515', 'https://www.sciencedirect.com/science/article/pii/S0004370220301533', 'https://www.sciencedirect.com/science/article/pii/S0004370223000073', 'https://www.sciencedirect.com/science/article/pii/S0004370221001065', 'https://www.sciencedirect.com/science/article/pii/S0004370222001795', 'https://www.sciencedirect.com/science/article/pii/S0004370221000102', 'https://www.sciencedirect.com/science/article/pii/S0004370219300116', 'https://www.sciencedirect.com/science/article/pii/S000437029700043X', 'https://www.sciencedirect.com/science/article/pii/S0004370216300790', 'https://www.sciencedirect.com/science/article/pii/S0004370221000096', 'https://www.sciencedirect.com/science/article/pii/S0004370216300224', 'https://www.sciencedirect.com/science/article/pii/S0004370211000178', 'https://www.sciencedirect.com/science/article/pii/S0004370222001692', 'https://www.sciencedirect.com/science/article/pii/S000437029800023X', 'https://www.sciencedirect.com/science/article/pii/S0004370221000242']\n",
      "24\n"
     ]
    }
   ],
   "source": [
    "link=[]\n",
    "for i in soup.find_all('li',class_=\"sc-9zxyh7-1 sc-9zxyh7-2 kOEIEO hvoVxs\"):\n",
    "    link.append(i.find('a').get('href'))\n",
    "print(link)\n",
    "print(len(link))"
   ]
  },
  {
   "cell_type": "code",
   "execution_count": 191,
   "id": "36f6b964",
   "metadata": {},
   "outputs": [
    {
     "name": "stdout",
     "output_type": "stream",
     "text": [
      "                                          paper_title  ...                                               link\n",
      "0                                    Reward is enough  ...  https://www.sciencedirect.com/science/article/...\n",
      "1   Explanation in artificial intelligence: Insigh...  ...  https://www.sciencedirect.com/science/article/...\n",
      "2              Creativity and artificial intelligence  ...  https://www.sciencedirect.com/science/article/...\n",
      "3   Conflict-based search for optimal multi-agent ...  ...  https://www.sciencedirect.com/science/article/...\n",
      "4   Knowledge graphs as tools for explainable mach...  ...  https://www.sciencedirect.com/science/article/...\n",
      "5   Law and logic: A review from an argumentation ...  ...  https://www.sciencedirect.com/science/article/...\n",
      "6   Between MDPs and semi-MDPs: A framework for te...  ...  https://www.sciencedirect.com/science/article/...\n",
      "7   Explaining individual predictions when feature...  ...  https://www.sciencedirect.com/science/article/...\n",
      "8       Multiple object tracking: A literature review  ...  https://www.sciencedirect.com/science/article/...\n",
      "9   A survey of inverse reinforcement learning: Ch...  ...  https://www.sciencedirect.com/science/article/...\n",
      "10  Evaluating XAI: A comparison of rule-based and...  ...  https://www.sciencedirect.com/science/article/...\n",
      "11  Explainable AI tools for legal reasoning about...  ...  https://www.sciencedirect.com/science/article/...\n",
      "12            Hard choices in artificial intelligence  ...  https://www.sciencedirect.com/science/article/...\n",
      "13  Assessing the communication gap between AI mod...  ...  https://www.sciencedirect.com/science/article/...\n",
      "14  Explaining black-box classifiers using post-ho...  ...  https://www.sciencedirect.com/science/article/...\n",
      "15  The Hanabi challenge: A new frontier for AI re...  ...  https://www.sciencedirect.com/science/article/...\n",
      "16              Wrappers for feature subset selection  ...  https://www.sciencedirect.com/science/article/...\n",
      "17  Artificial cognition for social human–robot in...  ...  https://www.sciencedirect.com/science/article/...\n",
      "18  A review of possible effects of cognitive bias...  ...  https://www.sciencedirect.com/science/article/...\n",
      "19  The multifaceted impact of Ada Lovelace in the...  ...  https://www.sciencedirect.com/science/article/...\n",
      "20  Robot ethics: Mapping the issues for a mechani...  ...  https://www.sciencedirect.com/science/article/...\n",
      "21          Reward (Mis)design for autonomous driving  ...  https://www.sciencedirect.com/science/article/...\n",
      "22  Planning and acting in partially observable st...  ...  https://www.sciencedirect.com/science/article/...\n",
      "23  What do we want from Explainable Artificial In...  ...  https://www.sciencedirect.com/science/article/...\n",
      "\n",
      "[24 rows x 4 columns]\n"
     ]
    }
   ],
   "source": [
    "Books= pd.DataFrame({'paper_title':Title,'Author':Authors,'Published_date':Date,'link':link})\n",
    "print(Books)"
   ]
  },
  {
   "cell_type": "code",
   "execution_count": 276,
   "id": "4a7cfc77",
   "metadata": {},
   "outputs": [],
   "source": [
    "#Question-7"
   ]
  },
  {
   "cell_type": "code",
   "execution_count": 277,
   "id": "a44a3cda",
   "metadata": {},
   "outputs": [
    {
     "data": {
      "text/plain": [
       "<Response [200]>"
      ]
     },
     "execution_count": 277,
     "metadata": {},
     "output_type": "execute_result"
    }
   ],
   "source": [
    "page= requests.get('https://www.dineout.co.in/delhi-restaurants/welcome-back')\n",
    "page"
   ]
  },
  {
   "cell_type": "code",
   "execution_count": 278,
   "id": "f8fc4d8c",
   "metadata": {},
   "outputs": [],
   "source": [
    "soup=BeautifulSoup(page.content)"
   ]
  },
  {
   "cell_type": "code",
   "execution_count": 279,
   "id": "e87e71b6",
   "metadata": {},
   "outputs": [
    {
     "name": "stdout",
     "output_type": "stream",
     "text": [
      "['The G.T. Road', 'My Bar Headquarters', \"Berco's\", 'Unplugged Courtyard', 'Sandoz', '38 Barracks', 'The Junkyard Cafe', 'Tamasha', 'Yeti - The Himalayan Kitchen', 'Ministry Of Beer', 'Farzi Cafe', 'Connaught Club House', 'Openhouse Cafe', 'Ardor 2.1 Restaurant and Lounge', 'Desi Villagio - Village Theme Restro Bar', 'Wok in the Clouds', 'The Embassy', 'Local', 'Zaffran', 'Castle Barbeque', 'Gin & Juliet']\n",
      "21\n"
     ]
    }
   ],
   "source": [
    "restaurant=[]\n",
    "for i in soup.find_all('div',class_=\"restnt-info cursor\"):\n",
    "    restaurant.append(i.find('a',class_=\"restnt-name ellipsis\").text)\n",
    "print(restaurant)\n",
    "print(len(restaurant))"
   ]
  },
  {
   "cell_type": "code",
   "execution_count": 280,
   "id": "c4d4cfc3",
   "metadata": {},
   "outputs": [
    {
     "name": "stdout",
     "output_type": "stream",
     "text": [
      "[' North Indian', ' North Indian, Chinese', ' Chinese, Thai', ' North Indian, Italian, Chinese, Turkish, Continental', ' North Indian, Continental', ' North Indian, Chinese, Continental', ' North Indian, Continental, Chinese, Fast Food', ' Continental, Asian, Italian, North Indian', ' Tibetan, Nepalese', ' North Indian, Continental, American, Asian', ' Modern Indian, Continental, Finger Food', ' North Indian, Continental, Asian, Chinese', ' North Indian, Asian, Italian', ' North Indian, Chinese, Italian, Continental', ' North Indian', ' Chinese, Thai, Continental, North Indian, Asian', ' North Indian, European, Fast Food, Italian, Continental', ' North Indian, Asian, Continental', ' Mughlai, North Indian', ' Chinese, North Indian', ' Italian, Chinese, North Indian, Fast Food']\n",
      "21\n"
     ]
    }
   ],
   "source": [
    "cuisine=[]\n",
    "for i in soup.find_all('span',class_=\"double-line-ellipsis\"):\n",
    "    cuisine.append(i.text.split('|')[1])\n",
    "print(cuisine)\n",
    "print(len(cuisine))"
   ]
  },
  {
   "cell_type": "code",
   "execution_count": 281,
   "id": "aa62786e",
   "metadata": {},
   "outputs": [
    {
     "name": "stdout",
     "output_type": "stream",
     "text": [
      "['M-Block,Connaught Place, Central Delhi', 'Connaught Place, Central Delhi', 'Connaught Place, Central Delhi', 'Connaught Place, Central Delhi', 'Connaught Place, Central Delhi', 'M-Block,Connaught Place, Central Delhi', 'Connaught Place, Central Delhi', 'Connaught Place, Central Delhi', 'The Colonnade,Connaught Place, Central Delhi', 'M-Block,Connaught Place, Central Delhi', 'Connaught Place, Central Delhi', 'Connaught Place, Central Delhi', 'Connaught Place, Central Delhi', 'Connaught Place, Central Delhi', 'Connaught Place, Central Delhi', 'Connaught Place, Central Delhi', 'Connaught Place, Central Delhi', 'Scindia House,Connaught Place, Central Delhi', 'Hotel Palace Heights,Connaught Place, Central Delhi', 'Connaught Place, Central Delhi', 'F-Block,Connaught Place, Central Delhi']\n",
      "21\n"
     ]
    }
   ],
   "source": [
    "location=[]\n",
    "for i in soup.find_all('div',class_=\"restnt-loc ellipsis\"):\n",
    "    location.append(i.text)\n",
    "print(location)\n",
    "print(len(location))"
   ]
  },
  {
   "cell_type": "code",
   "execution_count": 282,
   "id": "7955409c",
   "metadata": {},
   "outputs": [
    {
     "name": "stdout",
     "output_type": "stream",
     "text": [
      "['4.3', '4', '4.3', '4', '4', '4.3', '4.1', '4.2', '4.3', '4', '4.1', '4.2', '4.1', '4.1', '4.1', '4.3', '4.1', '4', '4.4', '4', '4']\n",
      "21\n"
     ]
    }
   ],
   "source": [
    "Ratings=[]\n",
    "for i in soup.find_all('div',class_=\"restnt-rating rating-4\"):\n",
    "    Ratings.append(i.text)\n",
    "print(Ratings)\n",
    "print(len(Ratings))"
   ]
  },
  {
   "cell_type": "code",
   "execution_count": 283,
   "id": "b50d7148",
   "metadata": {},
   "outputs": [
    {
     "name": "stdout",
     "output_type": "stream",
     "text": [
      "['https://im1.dineout.co.in/images/uploads/restaurant/sharpen/3/m/u/p31393-15972091555f337a43bb961.jpg?tr=tr:n-medium', 'https://im1.dineout.co.in/images/uploads/restaurant/sharpen/1/d/f/p19636-16463919576221f295ae1f1.jpg?tr=tr:n-medium', 'https://im1.dineout.co.in/images/uploads/restaurant/sharpen/2/t/u/p237-16468990666229af7a72b08.jpg?tr=tr:n-medium', 'https://im1.dineout.co.in/images/uploads/restaurant/sharpen/2/e/y/p20941-168915645564ae7b673b872.jpg?tr=tr:n-medium', 'https://im1.dineout.co.in/images/uploads/restaurant/sharpen/8/e/u/p80493-16064603115fc0a397716de.jpg?tr=tr:n-medium', 'https://im1.dineout.co.in/images/uploads/restaurant/sharpen/2/s/d/p21171-1704789340659d055c4e182.jpg?tr=tr:n-medium', 'https://im1.dineout.co.in/images/uploads/restaurant/sharpen/2/s/y/p20298-1664186585633178d99f1db.jpg?tr=tr:n-medium', 'https://im1.dineout.co.in/images/uploads/restaurant/sharpen/2/a/j/p20996-145631488756cd9a0796608.jpg?tr=tr:n-medium', 'https://im1.dineout.co.in/images/uploads/restaurant/sharpen/3/n/c/p3007-15706949095d9ee6fd0b8b4.jpg?tr=tr:n-medium', 'https://im1.dineout.co.in/images/uploads/restaurant/sharpen/3/a/d/p32381-1495943585592a49a166fe7.jpg?tr=tr:n-medium', 'https://im1.dineout.co.in/images/uploads/restaurant/sharpen/4/y/y/p4199-164188203361dd21b1a3174.jpg?tr=tr:n-medium', 'https://im1.dineout.co.in/images/uploads/restaurant/sharpen/7/k/k/p77626-1700647577655dd299664b4.jpg?tr=tr:n-medium', 'https://im1.dineout.co.in/images/uploads/restaurant/sharpen/1/s/j/p19748-170565875165aa497ff347d.jpg?tr=tr:n-medium', 'https://im1.dineout.co.in/images/uploads/restaurant/sharpen/2/y/m/p221-16455303976214cd1d7a086.jpg?tr=tr:n-medium', 'https://im1.dineout.co.in/images/uploads/restaurant/sharpen/1/z/c/p19259-1686039280647eeaf0c8440.jpg?tr=tr:n-medium', 'https://im1.dineout.co.in/images/uploads/restaurant/sharpen/2/f/s/p2669-1499666296596317787f36d.jpg?tr=tr:n-medium', 'https://im1.dineout.co.in/images/uploads/restaurant/sharpen/4/e/u/p456-14473237645644687422a28.jpg?tr=tr:n-medium', 'https://im1.dineout.co.in/images/uploads/restaurant/sharpen/2/b/t/p27452-15020105505986dcb6d147f.jpg?tr=tr:n-medium', 'https://im1.dineout.co.in/images/uploads/restaurant/sharpen/3/k/v/p3094-1617661641606b8ec9027d2.JPG?tr=tr:n-medium', 'https://im1.dineout.co.in/images/uploads/restaurant/sharpen/8/k/b/p86792-16062953735fbe1f4d3fb7e.jpg?tr=tr:n-medium', 'https://im1.dineout.co.in/images/uploads/restaurant/sharpen/9/l/q/p971-16946056676501a163bf712.jpg?tr=tr:n-medium']\n",
      "21\n"
     ]
    }
   ],
   "source": [
    "image_url=[]\n",
    "for i in soup.find_all('img',class_=\"no-img\"):\n",
    "    image_url.append(i['data-src'])\n",
    "print(image_url)\n",
    "print(len(image_url))"
   ]
  },
  {
   "cell_type": "code",
   "execution_count": 284,
   "id": "23bd507c",
   "metadata": {},
   "outputs": [],
   "source": [
    "import pandas as pd"
   ]
  },
  {
   "cell_type": "code",
   "execution_count": 285,
   "id": "079074bf",
   "metadata": {},
   "outputs": [],
   "source": [
    "a={'Restaurant_name':restaurant,'cuisine':cuisine,'location':location,'Ratings':Ratings,'Image_url':image_url}"
   ]
  },
  {
   "cell_type": "code",
   "execution_count": 286,
   "id": "16c9d560",
   "metadata": {},
   "outputs": [
    {
     "name": "stdout",
     "output_type": "stream",
     "text": [
      "                             Restaurant_name  ...                                          Image_url\n",
      "0                              The G.T. Road  ...  https://im1.dineout.co.in/images/uploads/resta...\n",
      "1                        My Bar Headquarters  ...  https://im1.dineout.co.in/images/uploads/resta...\n",
      "2                                    Berco's  ...  https://im1.dineout.co.in/images/uploads/resta...\n",
      "3                        Unplugged Courtyard  ...  https://im1.dineout.co.in/images/uploads/resta...\n",
      "4                                     Sandoz  ...  https://im1.dineout.co.in/images/uploads/resta...\n",
      "5                                38 Barracks  ...  https://im1.dineout.co.in/images/uploads/resta...\n",
      "6                          The Junkyard Cafe  ...  https://im1.dineout.co.in/images/uploads/resta...\n",
      "7                                    Tamasha  ...  https://im1.dineout.co.in/images/uploads/resta...\n",
      "8               Yeti - The Himalayan Kitchen  ...  https://im1.dineout.co.in/images/uploads/resta...\n",
      "9                           Ministry Of Beer  ...  https://im1.dineout.co.in/images/uploads/resta...\n",
      "10                                Farzi Cafe  ...  https://im1.dineout.co.in/images/uploads/resta...\n",
      "11                      Connaught Club House  ...  https://im1.dineout.co.in/images/uploads/resta...\n",
      "12                            Openhouse Cafe  ...  https://im1.dineout.co.in/images/uploads/resta...\n",
      "13           Ardor 2.1 Restaurant and Lounge  ...  https://im1.dineout.co.in/images/uploads/resta...\n",
      "14  Desi Villagio - Village Theme Restro Bar  ...  https://im1.dineout.co.in/images/uploads/resta...\n",
      "15                         Wok in the Clouds  ...  https://im1.dineout.co.in/images/uploads/resta...\n",
      "16                               The Embassy  ...  https://im1.dineout.co.in/images/uploads/resta...\n",
      "17                                     Local  ...  https://im1.dineout.co.in/images/uploads/resta...\n",
      "18                                   Zaffran  ...  https://im1.dineout.co.in/images/uploads/resta...\n",
      "19                           Castle Barbeque  ...  https://im1.dineout.co.in/images/uploads/resta...\n",
      "20                              Gin & Juliet  ...  https://im1.dineout.co.in/images/uploads/resta...\n",
      "\n",
      "[21 rows x 5 columns]\n"
     ]
    }
   ],
   "source": [
    "df=pd.DataFrame(a)\n",
    "print(df)"
   ]
  },
  {
   "cell_type": "code",
   "execution_count": null,
   "id": "b0210efb",
   "metadata": {},
   "outputs": [],
   "source": []
  }
 ],
 "metadata": {
  "kernelspec": {
   "display_name": "Python 3 (ipykernel)",
   "language": "python",
   "name": "python3"
  },
  "language_info": {
   "codemirror_mode": {
    "name": "ipython",
    "version": 3
   },
   "file_extension": ".py",
   "mimetype": "text/x-python",
   "name": "python",
   "nbconvert_exporter": "python",
   "pygments_lexer": "ipython3",
   "version": "3.11.5"
  }
 },
 "nbformat": 4,
 "nbformat_minor": 5
}
