{
 "cells": [
  {
   "cell_type": "code",
   "execution_count": null,
   "id": "5c4dfcb0",
   "metadata": {},
   "outputs": [],
   "source": [
    "#Name-Vipul Anand\n",
    "#Batch-DS2312\n",
    "#Assignment-Web Scraping Assignment-2"
   ]
  },
  {
   "cell_type": "code",
   "execution_count": 1,
   "id": "b0ecc8b8",
   "metadata": {},
   "outputs": [],
   "source": [
    "import selenium\n",
    "import pandas as pd\n",
    "from selenium import webdriver\n",
    "import warnings\n",
    "warnings.filterwarnings('ignore')\n",
    "from selenium.webdriver.common.by import By\n",
    "import time"
   ]
  },
  {
   "cell_type": "code",
   "execution_count": 46,
   "id": "2f1693f6",
   "metadata": {},
   "outputs": [],
   "source": [
    "#Question1\n",
    "driver=webdriver.Chrome()\n",
    "driver.get('https://www.shine.com/')"
   ]
  },
  {
   "cell_type": "code",
   "execution_count": 51,
   "id": "c4f758e2",
   "metadata": {},
   "outputs": [],
   "source": [
    "designation=driver.find_element(By.CLASS_NAME,\"form-control  \")"
   ]
  },
  {
   "cell_type": "code",
   "execution_count": 28,
   "id": "a9dc18d1",
   "metadata": {},
   "outputs": [],
   "source": [
    "designation.send_keys('Data Analyst ')"
   ]
  },
  {
   "cell_type": "code",
   "execution_count": 33,
   "id": "e43adb1a",
   "metadata": {},
   "outputs": [],
   "source": [
    "location=driver.find_element(By.XPATH,'/html/body/div/div[4]/div/div[2]/div[2]/div/form/div/div[1]/ul/li[2]/div/input')"
   ]
  },
  {
   "cell_type": "code",
   "execution_count": 35,
   "id": "b4e6864a",
   "metadata": {},
   "outputs": [],
   "source": [
    "location.send_keys('Bangalore')"
   ]
  },
  {
   "cell_type": "code",
   "execution_count": 94,
   "id": "00d432a3",
   "metadata": {},
   "outputs": [],
   "source": [
    "search=driver.find_element(By.XPATH,'/html/body/div/div[4]/div/div[2]/div[2]/div/form/div/div[2]/div/button')"
   ]
  },
  {
   "cell_type": "code",
   "execution_count": 37,
   "id": "acd20c64",
   "metadata": {},
   "outputs": [],
   "source": [
    "search.click()"
   ]
  },
  {
   "cell_type": "code",
   "execution_count": 43,
   "id": "8c0bac1d",
   "metadata": {},
   "outputs": [],
   "source": [
    "job_title=[]\n",
    "job_location=[]\n",
    "company_name=[]\n",
    "experience_requied=[]"
   ]
  },
  {
   "cell_type": "code",
   "execution_count": 39,
   "id": "b37c35ed",
   "metadata": {},
   "outputs": [],
   "source": [
    "title_tags= driver.find_elements(By.XPATH,'//h2[@itemprop=\"name\"]/a')"
   ]
  },
  {
   "cell_type": "code",
   "execution_count": 44,
   "id": "90feb325",
   "metadata": {},
   "outputs": [],
   "source": [
    "a=0\n",
    "for i in title_tags:\n",
    "    title=i.text\n",
    "    if a<=9:\n",
    "        job_title.append(title)\n",
    "    a=a+1\n",
    "    "
   ]
  },
  {
   "cell_type": "code",
   "execution_count": 45,
   "id": "512afc77",
   "metadata": {},
   "outputs": [
    {
     "data": {
      "text/plain": [
       "['Lead Data Analyst',\n",
       " 'Data Analyst',\n",
       " 'Vacancy For Data Analyst',\n",
       " 'Data Management',\n",
       " 'Clinical Data Analyst',\n",
       " 'Data Modeler data',\n",
       " 'Full time Opportunity-Networking Advisor-Cisco Nexus -D ...',\n",
       " 'Data Modeller',\n",
       " 'Data Modeler Bangalore',\n",
       " 'Data Modeler']"
      ]
     },
     "execution_count": 45,
     "metadata": {},
     "output_type": "execute_result"
    }
   ],
   "source": [
    "job_title"
   ]
  },
  {
   "cell_type": "code",
   "execution_count": 62,
   "id": "c48a802c",
   "metadata": {},
   "outputs": [],
   "source": [
    "title_tags=driver.find_elements(By.XPATH,'//div[@class=\" jobCard_jobCard_lists_item__YxRkV jobCard_locationIcon__zrWt2\"]')"
   ]
  },
  {
   "cell_type": "code",
   "execution_count": 66,
   "id": "06b4d099",
   "metadata": {},
   "outputs": [],
   "source": [
    "a=0\n",
    "for i in title_tags:\n",
    "    title=i.text\n",
    "    if a<=9:\n",
    "        job_location.append(title)\n",
    "    a=a+1\n",
    "    "
   ]
  },
  {
   "cell_type": "code",
   "execution_count": 67,
   "id": "090118d3",
   "metadata": {},
   "outputs": [
    {
     "data": {
      "text/plain": [
       "['Bangalore',\n",
       " 'Bangalore\\n+3',\n",
       " 'Bangalore\\n+14',\n",
       " 'Bangalore\\n+18',\n",
       " 'Bangalore\\n+6',\n",
       " 'Bangalore',\n",
       " 'Bangalore\\n+5',\n",
       " 'Bangalore',\n",
       " 'Bangalore',\n",
       " 'Bangalore']"
      ]
     },
     "execution_count": 67,
     "metadata": {},
     "output_type": "execute_result"
    }
   ],
   "source": [
    "job_location"
   ]
  },
  {
   "cell_type": "code",
   "execution_count": 71,
   "id": "a81db71d",
   "metadata": {},
   "outputs": [],
   "source": [
    "title_tags=driver.find_elements(By.XPATH,'//div[@class=\"jobCard_jobCard_cName__mYnow\"]')"
   ]
  },
  {
   "cell_type": "code",
   "execution_count": 72,
   "id": "ea5dd0a5",
   "metadata": {},
   "outputs": [],
   "source": [
    "a=0\n",
    "for i in title_tags:\n",
    "    title=i.text\n",
    "    if a<=9:\n",
    "        company_name.append(title)\n",
    "    a=a+1"
   ]
  },
  {
   "cell_type": "code",
   "execution_count": 73,
   "id": "31da3594",
   "metadata": {},
   "outputs": [
    {
     "data": {
      "text/plain": [
       "['ara resources private limited',\n",
       " 'diraa hr services hiring for mncs',\n",
       " 'yogita staffing solution',\n",
       " 'future solution centre',\n",
       " 'techno endura',\n",
       " 'boyen haddin consulting and technol...',\n",
       " 'ntt data information processing ser...',\n",
       " 'boyen haddin consulting and technol...',\n",
       " 'boyen haddin consulting and technol...',\n",
       " 'boyen haddin consulting and technol...']"
      ]
     },
     "execution_count": 73,
     "metadata": {},
     "output_type": "execute_result"
    }
   ],
   "source": [
    "company_name"
   ]
  },
  {
   "cell_type": "code",
   "execution_count": 74,
   "id": "ad7f5695",
   "metadata": {},
   "outputs": [],
   "source": [
    "title_tags=driver.find_elements(By.XPATH,'//div[@class=\" jobCard_jobCard_lists_item__YxRkV jobCard_jobIcon__3FB1t\"]')"
   ]
  },
  {
   "cell_type": "code",
   "execution_count": 75,
   "id": "500bed83",
   "metadata": {},
   "outputs": [],
   "source": [
    "a=0\n",
    "for i in title_tags:\n",
    "    title=i.text\n",
    "    if a<=9:\n",
    "        experience_requied.append(title)\n",
    "    a=a+1"
   ]
  },
  {
   "cell_type": "code",
   "execution_count": 77,
   "id": "b4e9ae92",
   "metadata": {},
   "outputs": [],
   "source": [
    "df= pd.DataFrame({'job_title':job_title,'job_location':job_location,'company_name':company_name,'experience_requied':experience_requied})"
   ]
  },
  {
   "cell_type": "code",
   "execution_count": 78,
   "id": "88291e8d",
   "metadata": {},
   "outputs": [
    {
     "data": {
      "text/html": [
       "<div>\n",
       "<style scoped>\n",
       "    .dataframe tbody tr th:only-of-type {\n",
       "        vertical-align: middle;\n",
       "    }\n",
       "\n",
       "    .dataframe tbody tr th {\n",
       "        vertical-align: top;\n",
       "    }\n",
       "\n",
       "    .dataframe thead th {\n",
       "        text-align: right;\n",
       "    }\n",
       "</style>\n",
       "<table border=\"1\" class=\"dataframe\">\n",
       "  <thead>\n",
       "    <tr style=\"text-align: right;\">\n",
       "      <th></th>\n",
       "      <th>job_title</th>\n",
       "      <th>job_location</th>\n",
       "      <th>company_name</th>\n",
       "      <th>experience_requied</th>\n",
       "    </tr>\n",
       "  </thead>\n",
       "  <tbody>\n",
       "    <tr>\n",
       "      <th>0</th>\n",
       "      <td>Lead Data Analyst</td>\n",
       "      <td>Bangalore</td>\n",
       "      <td>ara resources private limited</td>\n",
       "      <td>4 to 9 Yrs</td>\n",
       "    </tr>\n",
       "    <tr>\n",
       "      <th>1</th>\n",
       "      <td>Data Analyst</td>\n",
       "      <td>Bangalore\\n+3</td>\n",
       "      <td>diraa hr services hiring for mncs</td>\n",
       "      <td>0 to 1 Yr</td>\n",
       "    </tr>\n",
       "    <tr>\n",
       "      <th>2</th>\n",
       "      <td>Vacancy For Data Analyst</td>\n",
       "      <td>Bangalore\\n+14</td>\n",
       "      <td>yogita staffing solution</td>\n",
       "      <td>0 to 3 Yrs</td>\n",
       "    </tr>\n",
       "    <tr>\n",
       "      <th>3</th>\n",
       "      <td>Data Management</td>\n",
       "      <td>Bangalore\\n+18</td>\n",
       "      <td>future solution centre</td>\n",
       "      <td>15 to &gt;25 Yrs</td>\n",
       "    </tr>\n",
       "    <tr>\n",
       "      <th>4</th>\n",
       "      <td>Clinical Data Analyst</td>\n",
       "      <td>Bangalore\\n+6</td>\n",
       "      <td>techno endura</td>\n",
       "      <td>0 to 1 Yr</td>\n",
       "    </tr>\n",
       "    <tr>\n",
       "      <th>5</th>\n",
       "      <td>Data Modeler data</td>\n",
       "      <td>Bangalore</td>\n",
       "      <td>boyen haddin consulting and technol...</td>\n",
       "      <td>3 to 6 Yrs</td>\n",
       "    </tr>\n",
       "    <tr>\n",
       "      <th>6</th>\n",
       "      <td>Full time Opportunity-Networking Advisor-Cisco...</td>\n",
       "      <td>Bangalore\\n+5</td>\n",
       "      <td>ntt data information processing ser...</td>\n",
       "      <td>10 to 20 Yrs</td>\n",
       "    </tr>\n",
       "    <tr>\n",
       "      <th>7</th>\n",
       "      <td>Data Modeller</td>\n",
       "      <td>Bangalore</td>\n",
       "      <td>boyen haddin consulting and technol...</td>\n",
       "      <td>3 to 6 Yrs</td>\n",
       "    </tr>\n",
       "    <tr>\n",
       "      <th>8</th>\n",
       "      <td>Data Modeler Bangalore</td>\n",
       "      <td>Bangalore</td>\n",
       "      <td>boyen haddin consulting and technol...</td>\n",
       "      <td>3 to 6 Yrs</td>\n",
       "    </tr>\n",
       "    <tr>\n",
       "      <th>9</th>\n",
       "      <td>Data Modeler</td>\n",
       "      <td>Bangalore</td>\n",
       "      <td>boyen haddin consulting and technol...</td>\n",
       "      <td>3 to 6 Yrs</td>\n",
       "    </tr>\n",
       "  </tbody>\n",
       "</table>\n",
       "</div>"
      ],
      "text/plain": [
       "                                           job_title    job_location  \\\n",
       "0                                  Lead Data Analyst       Bangalore   \n",
       "1                                       Data Analyst   Bangalore\\n+3   \n",
       "2                           Vacancy For Data Analyst  Bangalore\\n+14   \n",
       "3                                    Data Management  Bangalore\\n+18   \n",
       "4                              Clinical Data Analyst   Bangalore\\n+6   \n",
       "5                                  Data Modeler data       Bangalore   \n",
       "6  Full time Opportunity-Networking Advisor-Cisco...   Bangalore\\n+5   \n",
       "7                                      Data Modeller       Bangalore   \n",
       "8                             Data Modeler Bangalore       Bangalore   \n",
       "9                                       Data Modeler       Bangalore   \n",
       "\n",
       "                             company_name experience_requied  \n",
       "0           ara resources private limited         4 to 9 Yrs  \n",
       "1       diraa hr services hiring for mncs          0 to 1 Yr  \n",
       "2                yogita staffing solution         0 to 3 Yrs  \n",
       "3                  future solution centre      15 to >25 Yrs  \n",
       "4                           techno endura          0 to 1 Yr  \n",
       "5  boyen haddin consulting and technol...         3 to 6 Yrs  \n",
       "6  ntt data information processing ser...       10 to 20 Yrs  \n",
       "7  boyen haddin consulting and technol...         3 to 6 Yrs  \n",
       "8  boyen haddin consulting and technol...         3 to 6 Yrs  \n",
       "9  boyen haddin consulting and technol...         3 to 6 Yrs  "
      ]
     },
     "execution_count": 78,
     "metadata": {},
     "output_type": "execute_result"
    }
   ],
   "source": [
    "df"
   ]
  },
  {
   "cell_type": "code",
   "execution_count": 79,
   "id": "c17d7cc8",
   "metadata": {},
   "outputs": [],
   "source": [
    "title_tags= driver.find_elements(By.XPATH,'//div[@class=\"more_info_text arrow-box down_arrow arrow-right\"]')"
   ]
  },
  {
   "cell_type": "code",
   "execution_count": 88,
   "id": "b99984f5",
   "metadata": {},
   "outputs": [],
   "source": [
    "#Question2\n",
    "driver=webdriver.Chrome()\n",
    "driver.get('https://www.shine.com/')"
   ]
  },
  {
   "cell_type": "code",
   "execution_count": 89,
   "id": "f5297022",
   "metadata": {},
   "outputs": [],
   "source": [
    "designation=driver.find_element(By.CLASS_NAME,\"form-control  \")"
   ]
  },
  {
   "cell_type": "code",
   "execution_count": 90,
   "id": "c56fc94f",
   "metadata": {},
   "outputs": [],
   "source": [
    "designation.send_keys('Data Scientist ')"
   ]
  },
  {
   "cell_type": "code",
   "execution_count": 92,
   "id": "f807a3ae",
   "metadata": {},
   "outputs": [],
   "source": [
    "location=driver.find_element(By.XPATH,'/html/body/div/div[4]/div/div[2]/div[2]/div/form/div/div[1]/ul/li[2]/div/input')"
   ]
  },
  {
   "cell_type": "code",
   "execution_count": 93,
   "id": "1e2493c2",
   "metadata": {},
   "outputs": [],
   "source": [
    "location.send_keys('Bangalore')"
   ]
  },
  {
   "cell_type": "code",
   "execution_count": 96,
   "id": "82675fbf",
   "metadata": {},
   "outputs": [],
   "source": [
    "search=driver.find_element(By.XPATH,'/html/body/div/div[4]/div/div[2]/div[2]/div/form/div/div[2]/div/button')"
   ]
  },
  {
   "cell_type": "code",
   "execution_count": 97,
   "id": "befb369e",
   "metadata": {},
   "outputs": [],
   "source": [
    "search.click()"
   ]
  },
  {
   "cell_type": "code",
   "execution_count": 98,
   "id": "33545249",
   "metadata": {},
   "outputs": [],
   "source": [
    "job_title=[]\n",
    "job_location=[]\n",
    "company_name=[]\n",
    "experience_requied=[]"
   ]
  },
  {
   "cell_type": "code",
   "execution_count": 99,
   "id": "4cee58f8",
   "metadata": {},
   "outputs": [],
   "source": [
    "title_tags= driver.find_elements(By.XPATH,'//h2[@itemprop=\"name\"]/a')"
   ]
  },
  {
   "cell_type": "code",
   "execution_count": 100,
   "id": "b531f76c",
   "metadata": {},
   "outputs": [],
   "source": [
    "a=0\n",
    "for i in title_tags:\n",
    "    title=i.text\n",
    "    if a<=9:\n",
    "        job_title.append(title)\n",
    "    a=a+1\n",
    "    "
   ]
  },
  {
   "cell_type": "code",
   "execution_count": 101,
   "id": "f09001c3",
   "metadata": {},
   "outputs": [
    {
     "data": {
      "text/plain": [
       "['Data Scientist Recruitment',\n",
       " 'Data Scientist Recruitment',\n",
       " 'Data Scientist',\n",
       " 'Data Scientist',\n",
       " 'Lead Data Scientist/ Principal Data Scientist',\n",
       " 'Senior Data Scientist',\n",
       " 'Vacancy For Data Scientist Fresher and Experience',\n",
       " 'Lead Data Scientist',\n",
       " 'Data Scientist',\n",
       " 'Data Scientist Urgent Vacancy']"
      ]
     },
     "execution_count": 101,
     "metadata": {},
     "output_type": "execute_result"
    }
   ],
   "source": [
    "job_title"
   ]
  },
  {
   "cell_type": "code",
   "execution_count": 102,
   "id": "7fda062b",
   "metadata": {},
   "outputs": [],
   "source": [
    "title_tags=driver.find_elements(By.XPATH,'//div[@class=\" jobCard_jobCard_lists_item__YxRkV jobCard_locationIcon__zrWt2\"]')"
   ]
  },
  {
   "cell_type": "code",
   "execution_count": 103,
   "id": "e5b77f67",
   "metadata": {},
   "outputs": [],
   "source": [
    "a=0\n",
    "for i in title_tags:\n",
    "    title=i.text\n",
    "    if a<=9:\n",
    "        job_location.append(title)\n",
    "    a=a+1\n",
    "    "
   ]
  },
  {
   "cell_type": "code",
   "execution_count": 104,
   "id": "9a51a1f6",
   "metadata": {},
   "outputs": [
    {
     "data": {
      "text/plain": [
       "['Bangalore\\n+15',\n",
       " 'Bangalore\\n+15',\n",
       " 'Bangalore\\n+4',\n",
       " 'Bangalore',\n",
       " 'Bangalore\\n+1',\n",
       " 'Bangalore\\n+1',\n",
       " 'Bangalore\\n+14',\n",
       " 'Bangalore\\n+1',\n",
       " 'Bangalore\\n+7',\n",
       " 'Bangalore\\n+14']"
      ]
     },
     "execution_count": 104,
     "metadata": {},
     "output_type": "execute_result"
    }
   ],
   "source": [
    "job_location"
   ]
  },
  {
   "cell_type": "code",
   "execution_count": 105,
   "id": "7430fec7",
   "metadata": {},
   "outputs": [],
   "source": [
    "title_tags=driver.find_elements(By.XPATH,'//div[@class=\"jobCard_jobCard_cName__mYnow\"]')"
   ]
  },
  {
   "cell_type": "code",
   "execution_count": 106,
   "id": "924984a5",
   "metadata": {},
   "outputs": [],
   "source": [
    "a=0\n",
    "for i in title_tags:\n",
    "    title=i.text\n",
    "    if a<=9:\n",
    "        company_name.append(title)\n",
    "    a=a+1"
   ]
  },
  {
   "cell_type": "code",
   "execution_count": 107,
   "id": "9fbbd58c",
   "metadata": {},
   "outputs": [
    {
     "data": {
      "text/plain": [
       "['renuka interprises',\n",
       " 'renuka interprises',\n",
       " 'acme services private limited',\n",
       " 'ltimindtree limited',\n",
       " 'fractal',\n",
       " 'neostats',\n",
       " 'yogita staffing solution',\n",
       " 'aereo',\n",
       " 'people staffing solutions',\n",
       " 'yogita staffing solution']"
      ]
     },
     "execution_count": 107,
     "metadata": {},
     "output_type": "execute_result"
    }
   ],
   "source": [
    "company_name"
   ]
  },
  {
   "cell_type": "code",
   "execution_count": 108,
   "id": "c38fc1a0",
   "metadata": {},
   "outputs": [],
   "source": [
    "title_tags=driver.find_elements(By.XPATH,'//div[@class=\" jobCard_jobCard_lists_item__YxRkV jobCard_jobIcon__3FB1t\"]')"
   ]
  },
  {
   "cell_type": "code",
   "execution_count": 109,
   "id": "f6e14993",
   "metadata": {},
   "outputs": [],
   "source": [
    "a=0\n",
    "for i in title_tags:\n",
    "    title=i.text\n",
    "    if a<=9:\n",
    "        experience_requied.append(title)\n",
    "    a=a+1"
   ]
  },
  {
   "cell_type": "code",
   "execution_count": 110,
   "id": "7b45b81a",
   "metadata": {},
   "outputs": [],
   "source": [
    "df= pd.DataFrame({'job_title':job_title,'job_location':job_location,'company_name':company_name,'experience_requied':experience_requied})"
   ]
  },
  {
   "cell_type": "code",
   "execution_count": 111,
   "id": "4665b5d3",
   "metadata": {},
   "outputs": [
    {
     "data": {
      "text/html": [
       "<div>\n",
       "<style scoped>\n",
       "    .dataframe tbody tr th:only-of-type {\n",
       "        vertical-align: middle;\n",
       "    }\n",
       "\n",
       "    .dataframe tbody tr th {\n",
       "        vertical-align: top;\n",
       "    }\n",
       "\n",
       "    .dataframe thead th {\n",
       "        text-align: right;\n",
       "    }\n",
       "</style>\n",
       "<table border=\"1\" class=\"dataframe\">\n",
       "  <thead>\n",
       "    <tr style=\"text-align: right;\">\n",
       "      <th></th>\n",
       "      <th>job_title</th>\n",
       "      <th>job_location</th>\n",
       "      <th>company_name</th>\n",
       "      <th>experience_requied</th>\n",
       "    </tr>\n",
       "  </thead>\n",
       "  <tbody>\n",
       "    <tr>\n",
       "      <th>0</th>\n",
       "      <td>Data Scientist Recruitment</td>\n",
       "      <td>Bangalore\\n+15</td>\n",
       "      <td>renuka interprises</td>\n",
       "      <td>0 to 4 Yrs</td>\n",
       "    </tr>\n",
       "    <tr>\n",
       "      <th>1</th>\n",
       "      <td>Data Scientist Recruitment</td>\n",
       "      <td>Bangalore\\n+15</td>\n",
       "      <td>renuka interprises</td>\n",
       "      <td>0 to 4 Yrs</td>\n",
       "    </tr>\n",
       "    <tr>\n",
       "      <th>2</th>\n",
       "      <td>Data Scientist</td>\n",
       "      <td>Bangalore\\n+4</td>\n",
       "      <td>acme services private limited</td>\n",
       "      <td>3 to 5 Yrs</td>\n",
       "    </tr>\n",
       "    <tr>\n",
       "      <th>3</th>\n",
       "      <td>Data Scientist</td>\n",
       "      <td>Bangalore</td>\n",
       "      <td>ltimindtree limited</td>\n",
       "      <td>6 to 8 Yrs</td>\n",
       "    </tr>\n",
       "    <tr>\n",
       "      <th>4</th>\n",
       "      <td>Lead Data Scientist/ Principal Data Scientist</td>\n",
       "      <td>Bangalore\\n+1</td>\n",
       "      <td>fractal</td>\n",
       "      <td>5 to 9 Yrs</td>\n",
       "    </tr>\n",
       "    <tr>\n",
       "      <th>5</th>\n",
       "      <td>Senior Data Scientist</td>\n",
       "      <td>Bangalore\\n+1</td>\n",
       "      <td>neostats</td>\n",
       "      <td>7 to 11 Yrs</td>\n",
       "    </tr>\n",
       "    <tr>\n",
       "      <th>6</th>\n",
       "      <td>Vacancy For Data Scientist Fresher and Experience</td>\n",
       "      <td>Bangalore\\n+14</td>\n",
       "      <td>yogita staffing solution</td>\n",
       "      <td>0 to 3 Yrs</td>\n",
       "    </tr>\n",
       "    <tr>\n",
       "      <th>7</th>\n",
       "      <td>Lead Data Scientist</td>\n",
       "      <td>Bangalore\\n+1</td>\n",
       "      <td>aereo</td>\n",
       "      <td>7 to 10 Yrs</td>\n",
       "    </tr>\n",
       "    <tr>\n",
       "      <th>8</th>\n",
       "      <td>Data Scientist</td>\n",
       "      <td>Bangalore\\n+7</td>\n",
       "      <td>people staffing solutions</td>\n",
       "      <td>4 to 9 Yrs</td>\n",
       "    </tr>\n",
       "    <tr>\n",
       "      <th>9</th>\n",
       "      <td>Data Scientist Urgent Vacancy</td>\n",
       "      <td>Bangalore\\n+14</td>\n",
       "      <td>yogita staffing solution</td>\n",
       "      <td>0 to 3 Yrs</td>\n",
       "    </tr>\n",
       "  </tbody>\n",
       "</table>\n",
       "</div>"
      ],
      "text/plain": [
       "                                           job_title    job_location  \\\n",
       "0                         Data Scientist Recruitment  Bangalore\\n+15   \n",
       "1                         Data Scientist Recruitment  Bangalore\\n+15   \n",
       "2                                     Data Scientist   Bangalore\\n+4   \n",
       "3                                     Data Scientist       Bangalore   \n",
       "4      Lead Data Scientist/ Principal Data Scientist   Bangalore\\n+1   \n",
       "5                              Senior Data Scientist   Bangalore\\n+1   \n",
       "6  Vacancy For Data Scientist Fresher and Experience  Bangalore\\n+14   \n",
       "7                                Lead Data Scientist   Bangalore\\n+1   \n",
       "8                                     Data Scientist   Bangalore\\n+7   \n",
       "9                      Data Scientist Urgent Vacancy  Bangalore\\n+14   \n",
       "\n",
       "                    company_name experience_requied  \n",
       "0             renuka interprises         0 to 4 Yrs  \n",
       "1             renuka interprises         0 to 4 Yrs  \n",
       "2  acme services private limited         3 to 5 Yrs  \n",
       "3            ltimindtree limited         6 to 8 Yrs  \n",
       "4                        fractal         5 to 9 Yrs  \n",
       "5                       neostats        7 to 11 Yrs  \n",
       "6       yogita staffing solution         0 to 3 Yrs  \n",
       "7                          aereo        7 to 10 Yrs  \n",
       "8      people staffing solutions         4 to 9 Yrs  \n",
       "9       yogita staffing solution         0 to 3 Yrs  "
      ]
     },
     "execution_count": 111,
     "metadata": {},
     "output_type": "execute_result"
    }
   ],
   "source": [
    "df"
   ]
  },
  {
   "cell_type": "code",
   "execution_count": 112,
   "id": "7046a441",
   "metadata": {},
   "outputs": [],
   "source": [
    "#Question-3"
   ]
  },
  {
   "cell_type": "code",
   "execution_count": 115,
   "id": "c627a2cb",
   "metadata": {},
   "outputs": [],
   "source": [
    "driver=webdriver.Chrome()\n",
    "driver.get('https://www.shine.com/')"
   ]
  },
  {
   "cell_type": "code",
   "execution_count": 116,
   "id": "2e5efbf3",
   "metadata": {},
   "outputs": [],
   "source": [
    "Designation=driver.find_element(By.CLASS_NAME,\"form-control  \")"
   ]
  },
  {
   "cell_type": "code",
   "execution_count": 117,
   "id": "d521841c",
   "metadata": {},
   "outputs": [],
   "source": [
    "Designation.send_keys('Data Scientist')"
   ]
  },
  {
   "cell_type": "code",
   "execution_count": 120,
   "id": "5ebea292",
   "metadata": {},
   "outputs": [],
   "source": [
    "search=driver.find_element(By.XPATH,'/html/body/div/div[4]/div/div[2]/div[2]/div/form/div/div[2]/div/button')"
   ]
  },
  {
   "cell_type": "code",
   "execution_count": 121,
   "id": "b22c20fc",
   "metadata": {},
   "outputs": [],
   "source": [
    "search.click()"
   ]
  },
  {
   "cell_type": "code",
   "execution_count": 123,
   "id": "ab030b07",
   "metadata": {},
   "outputs": [],
   "source": [
    "location=driver.find_element(By.XPATH,'/html/body/div[1]/div[1]/div[3]/div/div[1]/div/div[2]/div/ul/li[1]/button')"
   ]
  },
  {
   "cell_type": "code",
   "execution_count": 126,
   "id": "8e5f3d9b",
   "metadata": {},
   "outputs": [],
   "source": [
    "location.click()"
   ]
  },
  {
   "cell_type": "code",
   "execution_count": 132,
   "id": "507d8dc3",
   "metadata": {},
   "outputs": [],
   "source": [
    "search_location=driver.find_element(By.XPATH,'/html/body/div[3]/div/div/div/div[3]/div/div/div/ul/li[1]/input')"
   ]
  },
  {
   "cell_type": "code",
   "execution_count": 133,
   "id": "1dfa3590",
   "metadata": {},
   "outputs": [],
   "source": [
    "search_location.send_keys('Delhi/NCR')"
   ]
  },
  {
   "cell_type": "code",
   "execution_count": 134,
   "id": "0346f744",
   "metadata": {},
   "outputs": [],
   "source": [
    "searchc_click= driver.find_element(By.XPATH,'/html/body/div[3]/div/div/div/div[3]/div/div/div/ul/li[2]/span/label')"
   ]
  },
  {
   "cell_type": "code",
   "execution_count": 135,
   "id": "3acb2775",
   "metadata": {},
   "outputs": [],
   "source": [
    "searchc_click.click()"
   ]
  },
  {
   "cell_type": "code",
   "execution_count": 136,
   "id": "326733fc",
   "metadata": {},
   "outputs": [],
   "source": [
    "search_click= driver.find_element(By.XPATH,'/html/body/div[3]/div/div/div/div[4]/button[2]')"
   ]
  },
  {
   "cell_type": "code",
   "execution_count": 137,
   "id": "a430b9a5",
   "metadata": {},
   "outputs": [],
   "source": [
    "search_click.click()"
   ]
  },
  {
   "cell_type": "code",
   "execution_count": 138,
   "id": "d49cf76d",
   "metadata": {},
   "outputs": [],
   "source": [
    "salary=driver.find_element(By.XPATH,'/html/body/div[1]/div[1]/div[3]/div/div/div/div[2]/div/ul/li[3]/button')"
   ]
  },
  {
   "cell_type": "code",
   "execution_count": 139,
   "id": "4a6b5231",
   "metadata": {},
   "outputs": [],
   "source": [
    "salary.click()"
   ]
  },
  {
   "cell_type": "code",
   "execution_count": 140,
   "id": "957d5b12",
   "metadata": {},
   "outputs": [],
   "source": [
    "salary=driver.find_element(By.XPATH,'/html/body/div[3]/div/div/div/div[3]/div/div/div/ul/li[3]/span/label')"
   ]
  },
  {
   "cell_type": "code",
   "execution_count": 141,
   "id": "818323ca",
   "metadata": {},
   "outputs": [],
   "source": [
    "salary.click()"
   ]
  },
  {
   "cell_type": "code",
   "execution_count": 142,
   "id": "74fd4d91",
   "metadata": {},
   "outputs": [],
   "source": [
    "search_click= driver.find_element(By.XPATH,'/html/body/div[3]/div/div/div/div[4]/button[2]')"
   ]
  },
  {
   "cell_type": "code",
   "execution_count": 143,
   "id": "1e5ac68a",
   "metadata": {},
   "outputs": [],
   "source": [
    "search_click.click()"
   ]
  },
  {
   "cell_type": "code",
   "execution_count": 144,
   "id": "ac6908e5",
   "metadata": {},
   "outputs": [],
   "source": [
    "title_tags=driver.find_elements(By.XPATH,'//h2[@itemprop=\"name\"]/a')"
   ]
  },
  {
   "cell_type": "code",
   "execution_count": 145,
   "id": "d67a6f89",
   "metadata": {},
   "outputs": [],
   "source": [
    "job_title=[]\n",
    "job_location=[]\n",
    "company_name=[]\n",
    "experience_requied=[]"
   ]
  },
  {
   "cell_type": "code",
   "execution_count": 146,
   "id": "87d61714",
   "metadata": {},
   "outputs": [],
   "source": [
    "a=0\n",
    "for i in title_tags:\n",
    "    title=i.text\n",
    "    if a<=9:\n",
    "        job_title.append(title)\n",
    "    a=a+1"
   ]
  },
  {
   "cell_type": "code",
   "execution_count": 148,
   "id": "ef6fa3f4",
   "metadata": {},
   "outputs": [],
   "source": [
    "title_tags=driver.find_elements(By.XPATH,'//div[@class=\" jobCard_jobCard_lists_item__YxRkV jobCard_locationIcon__zrWt2\"]')"
   ]
  },
  {
   "cell_type": "code",
   "execution_count": 149,
   "id": "a54dd58d",
   "metadata": {},
   "outputs": [],
   "source": [
    "a=0\n",
    "for i in title_tags:\n",
    "    title=i.text\n",
    "    if a<=9:\n",
    "        job_location.append(title)\n",
    "    a=a+1"
   ]
  },
  {
   "cell_type": "code",
   "execution_count": 151,
   "id": "eb56f01c",
   "metadata": {},
   "outputs": [],
   "source": [
    "title_tags= driver.find_elements(By.XPATH,'//div[@class=\"jobCard_jobCard_cName__mYnow\"]')"
   ]
  },
  {
   "cell_type": "code",
   "execution_count": 152,
   "id": "61812e73",
   "metadata": {},
   "outputs": [],
   "source": [
    "a=0\n",
    "for i in title_tags:\n",
    "    title=i.text\n",
    "    if a<=9:\n",
    "        company_name.append(title)\n",
    "    a=a+1"
   ]
  },
  {
   "cell_type": "code",
   "execution_count": 155,
   "id": "9cce9e1f",
   "metadata": {},
   "outputs": [],
   "source": [
    "title_tags= driver.find_elements(By.XPATH,'//div[@class=\" jobCard_jobCard_lists_item__YxRkV jobCard_jobIcon__3FB1t\"]')"
   ]
  },
  {
   "cell_type": "code",
   "execution_count": 156,
   "id": "15d2d10e",
   "metadata": {},
   "outputs": [],
   "source": [
    "a=0\n",
    "for i in title_tags:\n",
    "    title=i.text\n",
    "    if a<=9:\n",
    "        experience_requied.append(title)\n",
    "    a=a+1"
   ]
  },
  {
   "cell_type": "code",
   "execution_count": 158,
   "id": "ec1da964",
   "metadata": {},
   "outputs": [],
   "source": [
    "df= pd.DataFrame({'job_title':job_title,'job_location':job_location,'company_name':company_name,'experience_requied':experience_requied})"
   ]
  },
  {
   "cell_type": "code",
   "execution_count": 160,
   "id": "a05f78a3",
   "metadata": {},
   "outputs": [
    {
     "data": {
      "text/html": [
       "<div>\n",
       "<style scoped>\n",
       "    .dataframe tbody tr th:only-of-type {\n",
       "        vertical-align: middle;\n",
       "    }\n",
       "\n",
       "    .dataframe tbody tr th {\n",
       "        vertical-align: top;\n",
       "    }\n",
       "\n",
       "    .dataframe thead th {\n",
       "        text-align: right;\n",
       "    }\n",
       "</style>\n",
       "<table border=\"1\" class=\"dataframe\">\n",
       "  <thead>\n",
       "    <tr style=\"text-align: right;\">\n",
       "      <th></th>\n",
       "      <th>job_title</th>\n",
       "      <th>job_location</th>\n",
       "      <th>company_name</th>\n",
       "      <th>experience_requied</th>\n",
       "    </tr>\n",
       "  </thead>\n",
       "  <tbody>\n",
       "    <tr>\n",
       "      <th>0</th>\n",
       "      <td>Data Scientist</td>\n",
       "      <td>Delhi\\n+4</td>\n",
       "      <td>acme services private limited</td>\n",
       "      <td>3 to 5 Yrs</td>\n",
       "    </tr>\n",
       "    <tr>\n",
       "      <th>1</th>\n",
       "      <td>Hiring candidates for Marketing with Fare &amp; Da...</td>\n",
       "      <td>Delhi\\n+2</td>\n",
       "      <td>sharda it services</td>\n",
       "      <td>2 to 5 Yrs</td>\n",
       "    </tr>\n",
       "    <tr>\n",
       "      <th>2</th>\n",
       "      <td>Hiring for Fare &amp; Data Analyst-Travel process</td>\n",
       "      <td>Delhi\\n+2</td>\n",
       "      <td>sharda it services</td>\n",
       "      <td>1 to 6 Yrs</td>\n",
       "    </tr>\n",
       "    <tr>\n",
       "      <th>3</th>\n",
       "      <td>Clinical Data Analyst</td>\n",
       "      <td>Delhi\\n+6</td>\n",
       "      <td>techno endura</td>\n",
       "      <td>0 to 1 Yr</td>\n",
       "    </tr>\n",
       "    <tr>\n",
       "      <th>4</th>\n",
       "      <td>Bioanalytical Research</td>\n",
       "      <td>Delhi\\n+6</td>\n",
       "      <td>techno endura</td>\n",
       "      <td>0 to 1 Yr</td>\n",
       "    </tr>\n",
       "    <tr>\n",
       "      <th>5</th>\n",
       "      <td>Clinical Data Management</td>\n",
       "      <td>Delhi\\n+6</td>\n",
       "      <td>techno endura</td>\n",
       "      <td>0 to 1 Yr</td>\n",
       "    </tr>\n",
       "    <tr>\n",
       "      <th>6</th>\n",
       "      <td>Bioanalytical Research Associates</td>\n",
       "      <td>Delhi\\n+6</td>\n",
       "      <td>techno endura</td>\n",
       "      <td>0 to 1 Yr</td>\n",
       "    </tr>\n",
       "    <tr>\n",
       "      <th>7</th>\n",
       "      <td>Junior Clinical Data Management</td>\n",
       "      <td>Delhi\\n+6</td>\n",
       "      <td>techno endura</td>\n",
       "      <td>0 to 1 Yr</td>\n",
       "    </tr>\n",
       "    <tr>\n",
       "      <th>8</th>\n",
       "      <td>Clinical Analyst Fresher</td>\n",
       "      <td>Delhi\\n+6</td>\n",
       "      <td>techno endura</td>\n",
       "      <td>0 to 1 Yr</td>\n",
       "    </tr>\n",
       "    <tr>\n",
       "      <th>9</th>\n",
       "      <td>Data Engineer</td>\n",
       "      <td>Delhi\\n+9</td>\n",
       "      <td>future solution centre</td>\n",
       "      <td>10 to 20 Yrs</td>\n",
       "    </tr>\n",
       "  </tbody>\n",
       "</table>\n",
       "</div>"
      ],
      "text/plain": [
       "                                           job_title job_location  \\\n",
       "0                                     Data Scientist    Delhi\\n+4   \n",
       "1  Hiring candidates for Marketing with Fare & Da...    Delhi\\n+2   \n",
       "2      Hiring for Fare & Data Analyst-Travel process    Delhi\\n+2   \n",
       "3                              Clinical Data Analyst    Delhi\\n+6   \n",
       "4                             Bioanalytical Research    Delhi\\n+6   \n",
       "5                           Clinical Data Management    Delhi\\n+6   \n",
       "6                  Bioanalytical Research Associates    Delhi\\n+6   \n",
       "7                    Junior Clinical Data Management    Delhi\\n+6   \n",
       "8                           Clinical Analyst Fresher    Delhi\\n+6   \n",
       "9                                      Data Engineer    Delhi\\n+9   \n",
       "\n",
       "                    company_name experience_requied  \n",
       "0  acme services private limited         3 to 5 Yrs  \n",
       "1             sharda it services         2 to 5 Yrs  \n",
       "2             sharda it services         1 to 6 Yrs  \n",
       "3                  techno endura          0 to 1 Yr  \n",
       "4                  techno endura          0 to 1 Yr  \n",
       "5                  techno endura          0 to 1 Yr  \n",
       "6                  techno endura          0 to 1 Yr  \n",
       "7                  techno endura          0 to 1 Yr  \n",
       "8                  techno endura          0 to 1 Yr  \n",
       "9         future solution centre       10 to 20 Yrs  "
      ]
     },
     "execution_count": 160,
     "metadata": {},
     "output_type": "execute_result"
    }
   ],
   "source": [
    "df"
   ]
  },
  {
   "cell_type": "code",
   "execution_count": 2,
   "id": "2dbf292c",
   "metadata": {},
   "outputs": [],
   "source": [
    "#QUESTION-4\n",
    "driver= webdriver.Chrome()\n",
    "driver.get('https://www.flipkart.com')"
   ]
  },
  {
   "cell_type": "code",
   "execution_count": 3,
   "id": "8e4a8880",
   "metadata": {},
   "outputs": [],
   "source": [
    "search=driver.find_element(By.XPATH,'/html/body/div[1]/div/div[1]/div/div/div/div/div[1]/div/div[1]/div/div[1]/div[1]/header/div[1]/div[2]/form/div/div/input')"
   ]
  },
  {
   "cell_type": "code",
   "execution_count": 4,
   "id": "2e9d0a7b",
   "metadata": {},
   "outputs": [],
   "source": [
    "search.send_keys('sunglasses')"
   ]
  },
  {
   "cell_type": "code",
   "execution_count": 5,
   "id": "c88896da",
   "metadata": {},
   "outputs": [],
   "source": [
    "search_click=driver.find_element(By.CLASS_NAME,\"_2iLD__\")"
   ]
  },
  {
   "cell_type": "code",
   "execution_count": 6,
   "id": "14719f65",
   "metadata": {},
   "outputs": [],
   "source": [
    "search_click.click()"
   ]
  },
  {
   "cell_type": "code",
   "execution_count": 24,
   "id": "0aee2ce7",
   "metadata": {},
   "outputs": [],
   "source": [
    "brand=[]\n",
    "product_description=[]\n",
    "price=[]"
   ]
  },
  {
   "cell_type": "code",
   "execution_count": 8,
   "id": "9556c8c3",
   "metadata": {},
   "outputs": [],
   "source": [
    "title_page=driver.find_elements(By.XPATH,'//div[@class=\"_2WkVRV\"]')"
   ]
  },
  {
   "cell_type": "code",
   "execution_count": 25,
   "id": "ea91a3ba",
   "metadata": {},
   "outputs": [],
   "source": [
    "a = 0\n",
    "for _ in range(3):\n",
    "    title_page = driver.find_elements(By.XPATH, '//div[@class=\"_2WkVRV\"]')\n",
    "\n",
    "    for title_element in title_page:\n",
    "        title_text = title_element.text\n",
    "        if a < 100:\n",
    "            brand.append(title_text)\n",
    "        a += 1\n",
    "\n",
    "    next_button = driver.find_element(By.CLASS_NAME, \"_1LKTO3\")\n",
    "    next_button.click()\n",
    "    time.sleep(5)\n"
   ]
  },
  {
   "cell_type": "code",
   "execution_count": 36,
   "id": "ac7da6eb",
   "metadata": {},
   "outputs": [],
   "source": [
    "a = 0\n",
    "for _ in range(3):\n",
    "    title_page = driver.find_elements(By.XPATH, '//div[@style=\"transform: translate3d(0px, 0px, 0px);\"]/a[1]')\n",
    "\n",
    "    for title_element in title_page:\n",
    "        title_text = title_element.text\n",
    "        if a < 100:\n",
    "            product_description.append(title_text)\n",
    "        a += 1\n",
    "\n",
    "    next_button = driver.find_element(By.CLASS_NAME, \"_1LKTO3\")\n",
    "    next_button.click()\n",
    "    time.sleep(5)\n"
   ]
  },
  {
   "cell_type": "code",
   "execution_count": 39,
   "id": "527e51be",
   "metadata": {},
   "outputs": [],
   "source": [
    "a = 0\n",
    "for _ in range(3):\n",
    "    title_page = driver.find_elements(By.XPATH, '//div[@class=\"_30jeq3\"]')\n",
    "\n",
    "    for title_element in title_page:\n",
    "        title_text = title_element.text\n",
    "        if a < 100:\n",
    "            price.append(title_text)\n",
    "        a += 1\n",
    "\n",
    "    next_button = driver.find_element(By.CLASS_NAME, \"_1LKTO3\")\n",
    "    next_button.click()\n",
    "    time.sleep(5)\n"
   ]
  },
  {
   "cell_type": "code",
   "execution_count": 41,
   "id": "e5afe1c8",
   "metadata": {},
   "outputs": [],
   "source": [
    "df=pd.DataFrame({'Brand':brand,'product_description':product_description,'price':price})"
   ]
  },
  {
   "cell_type": "code",
   "execution_count": 42,
   "id": "b3b3f012",
   "metadata": {},
   "outputs": [
    {
     "data": {
      "text/html": [
       "<div>\n",
       "<style scoped>\n",
       "    .dataframe tbody tr th:only-of-type {\n",
       "        vertical-align: middle;\n",
       "    }\n",
       "\n",
       "    .dataframe tbody tr th {\n",
       "        vertical-align: top;\n",
       "    }\n",
       "\n",
       "    .dataframe thead th {\n",
       "        text-align: right;\n",
       "    }\n",
       "</style>\n",
       "<table border=\"1\" class=\"dataframe\">\n",
       "  <thead>\n",
       "    <tr style=\"text-align: right;\">\n",
       "      <th></th>\n",
       "      <th>Brand</th>\n",
       "      <th>product_description</th>\n",
       "      <th>price</th>\n",
       "    </tr>\n",
       "  </thead>\n",
       "  <tbody>\n",
       "    <tr>\n",
       "      <th>0</th>\n",
       "      <td>Eyenaks</td>\n",
       "      <td>UV Protection Rectangular Sunglasses (Free Size)</td>\n",
       "      <td>₹374</td>\n",
       "    </tr>\n",
       "    <tr>\n",
       "      <th>1</th>\n",
       "      <td>GANSTA</td>\n",
       "      <td>Gradient, UV Protection Aviator Sunglasses (57)</td>\n",
       "      <td>₹563</td>\n",
       "    </tr>\n",
       "    <tr>\n",
       "      <th>2</th>\n",
       "      <td>SRPM</td>\n",
       "      <td>UV Protection Wayfarer Sunglasses (50)</td>\n",
       "      <td>₹619</td>\n",
       "    </tr>\n",
       "    <tr>\n",
       "      <th>3</th>\n",
       "      <td>ROADWAY</td>\n",
       "      <td>UV Protection Wayfarer, Sports, Spectacle , Re...</td>\n",
       "      <td>₹199</td>\n",
       "    </tr>\n",
       "    <tr>\n",
       "      <th>4</th>\n",
       "      <td>ROADWAY</td>\n",
       "      <td>UV Protection Retro Square, Wayfarer, Sports S...</td>\n",
       "      <td>₹629</td>\n",
       "    </tr>\n",
       "    <tr>\n",
       "      <th>...</th>\n",
       "      <td>...</td>\n",
       "      <td>...</td>\n",
       "      <td>...</td>\n",
       "    </tr>\n",
       "    <tr>\n",
       "      <th>95</th>\n",
       "      <td>Rich Club</td>\n",
       "      <td>UV Protection Retro Square Sunglasses (54)</td>\n",
       "      <td>₹811</td>\n",
       "    </tr>\n",
       "    <tr>\n",
       "      <th>96</th>\n",
       "      <td>ROYAL SON</td>\n",
       "      <td>Polarized, UV Protection Rectangular Sunglasse...</td>\n",
       "      <td>₹559</td>\n",
       "    </tr>\n",
       "    <tr>\n",
       "      <th>97</th>\n",
       "      <td>Eyewearlabs</td>\n",
       "      <td>Polarized, UV Protection Wayfarer, Retro Squar...</td>\n",
       "      <td>₹474</td>\n",
       "    </tr>\n",
       "    <tr>\n",
       "      <th>98</th>\n",
       "      <td>Netwiz</td>\n",
       "      <td>UV Protection Aviator Sunglasses (Free Size)</td>\n",
       "      <td>₹636</td>\n",
       "    </tr>\n",
       "    <tr>\n",
       "      <th>99</th>\n",
       "      <td>Fastrack</td>\n",
       "      <td>Gradient, UV Protection Wayfarer Sunglasses (F...</td>\n",
       "      <td>₹169</td>\n",
       "    </tr>\n",
       "  </tbody>\n",
       "</table>\n",
       "<p>100 rows × 3 columns</p>\n",
       "</div>"
      ],
      "text/plain": [
       "          Brand                                product_description price\n",
       "0       Eyenaks   UV Protection Rectangular Sunglasses (Free Size)  ₹374\n",
       "1        GANSTA    Gradient, UV Protection Aviator Sunglasses (57)  ₹563\n",
       "2          SRPM             UV Protection Wayfarer Sunglasses (50)  ₹619\n",
       "3       ROADWAY  UV Protection Wayfarer, Sports, Spectacle , Re...  ₹199\n",
       "4       ROADWAY  UV Protection Retro Square, Wayfarer, Sports S...  ₹629\n",
       "..          ...                                                ...   ...\n",
       "95    Rich Club         UV Protection Retro Square Sunglasses (54)  ₹811\n",
       "96    ROYAL SON  Polarized, UV Protection Rectangular Sunglasse...  ₹559\n",
       "97  Eyewearlabs  Polarized, UV Protection Wayfarer, Retro Squar...  ₹474\n",
       "98       Netwiz       UV Protection Aviator Sunglasses (Free Size)  ₹636\n",
       "99     Fastrack  Gradient, UV Protection Wayfarer Sunglasses (F...  ₹169\n",
       "\n",
       "[100 rows x 3 columns]"
      ]
     },
     "execution_count": 42,
     "metadata": {},
     "output_type": "execute_result"
    }
   ],
   "source": [
    "df"
   ]
  },
  {
   "cell_type": "code",
   "execution_count": 43,
   "id": "246286ed",
   "metadata": {},
   "outputs": [],
   "source": [
    "#QUESTION-5\n",
    "driver=webdriver.Chrome()\n",
    "driver.get('https://www.flipkart.com/apple-iphone-11-black-64-gb/product-reviews/itm4e5041ba101fd?pid=MOBFWQ6BXGJCEYNY&lid=LSTMOBFWQ6BXGJCEYNYHWAXCG&marketplace=FLIPKART')"
   ]
  },
  {
   "cell_type": "code",
   "execution_count": 44,
   "id": "848db325",
   "metadata": {},
   "outputs": [],
   "source": [
    "title_page=driver.find_elements(By.XPATH,'//div[@class=\"_3LWZlK _1BLPMq\"]')"
   ]
  },
  {
   "cell_type": "code",
   "execution_count": 47,
   "id": "6a318b13",
   "metadata": {},
   "outputs": [],
   "source": [
    "a=0\n",
    "for i in range(10):\n",
    "    title_page=driver.find_elements(By.XPATH,'//div[@class=\"_3LWZlK _1BLPMq\"]')\n",
    "    for i in title_page:\n",
    "        titles=i.text\n",
    "        if a<100:\n",
    "            rating.append(titles)\n",
    "        a=a+1\n",
    "    next_button=driver.find_element(By.CLASS_NAME,\"_1LKTO3\")\n",
    "    next_button.click() \n",
    "    time.sleep(5)"
   ]
  },
  {
   "cell_type": "code",
   "execution_count": 50,
   "id": "9ac1f692",
   "metadata": {},
   "outputs": [],
   "source": [
    "a=0\n",
    "for i in range(10):\n",
    "    title_page=driver.find_elements(By.XPATH,'//p[@class=\"_2-N8zT\"]')\n",
    "    for i in title_page:\n",
    "        titles=i.text\n",
    "        if a<100:\n",
    "            review_summary.append(titles)\n",
    "        a=a+1\n",
    "    next_button=driver.find_element(By.CLASS_NAME,\"_1LKTO3\")\n",
    "    next_button.click() \n",
    "    time.sleep(3)"
   ]
  },
  {
   "cell_type": "code",
   "execution_count": 51,
   "id": "cd4e6795",
   "metadata": {},
   "outputs": [
    {
     "name": "stdout",
     "output_type": "stream",
     "text": [
      "['Perfect product!', 'Worth every penny', 'Best in the market!', 'Terrific', 'Terrific purchase', 'Classy product', 'Wonderful', 'Awesome', 'Fabulous!', 'Perfect product!', 'Fabulous!', 'Must buy!', 'Brilliant', 'Brilliant', 'Excellent', 'Fabulous!', 'Terrific purchase', 'Must buy!', 'Super!', 'Simply awesome', 'Perfect product!', 'Worth every penny', 'Best in the market!', 'Terrific', 'Terrific purchase', 'Classy product', 'Wonderful', 'Awesome', 'Fabulous!', 'Perfect product!', 'Fabulous!', 'Must buy!', 'Brilliant', 'Brilliant', 'Excellent', 'Fabulous!', 'Terrific purchase', 'Must buy!', 'Super!', 'Simply awesome', 'Perfect product!', 'Worth every penny', 'Best in the market!', 'Terrific', 'Terrific purchase', 'Classy product', 'Wonderful', 'Awesome', 'Fabulous!', 'Perfect product!', 'Fabulous!', 'Must buy!', 'Brilliant', 'Brilliant', 'Excellent', 'Fabulous!', 'Terrific purchase', 'Must buy!', 'Super!', 'Simply awesome', 'Perfect product!', 'Worth every penny', 'Best in the market!', 'Terrific', 'Terrific purchase', 'Classy product', 'Wonderful', 'Awesome', 'Fabulous!', 'Perfect product!', 'Fabulous!', 'Must buy!', 'Brilliant', 'Brilliant', 'Excellent', 'Fabulous!', 'Terrific purchase', 'Must buy!', 'Super!', 'Simply awesome', 'Perfect product!', 'Worth every penny', 'Best in the market!', 'Terrific', 'Terrific purchase', 'Classy product', 'Wonderful', 'Awesome', 'Fabulous!', 'Perfect product!', 'Fabulous!', 'Must buy!', 'Brilliant', 'Brilliant', 'Excellent', 'Fabulous!', 'Terrific purchase', 'Must buy!', 'Super!', 'Simply awesome'] 100\n"
     ]
    }
   ],
   "source": [
    "print(review_summary,len(review_summary))"
   ]
  },
  {
   "cell_type": "code",
   "execution_count": 52,
   "id": "a08a2189",
   "metadata": {},
   "outputs": [],
   "source": [
    "a=0\n",
    "for i in range(10):\n",
    "    title_page=driver.find_elements(By.XPATH,'//div[@class=\"t-ZTKy\"]')\n",
    "    for i in title_page:\n",
    "        titles=i.text\n",
    "        if a<100:\n",
    "            full_review.append(titles)\n",
    "        a=a+1\n",
    "    next_button=driver.find_element(By.CLASS_NAME,\"_1LKTO3\")\n",
    "    next_button.click() \n",
    "    time.sleep(3)"
   ]
  },
  {
   "cell_type": "code",
   "execution_count": 53,
   "id": "4bb033e5",
   "metadata": {},
   "outputs": [
    {
     "name": "stdout",
     "output_type": "stream",
     "text": [
      "['V Good all', 'Feeling awesome after getting the delivery of my phone. Dual speakers makes the sound quality very loud. Amazing!!', 'Good Camera', 'Very very good', 'Value for money 😍', 'Camera is awesome\\nBest battery backup\\nA performer 👌🏻\\nIt will be a real value for money if they provide charger and earphone inbox!', 'This is amazing at all', 'iPhone 11 is a good phone. Not a very big difference between 12 except for the OLED screen and a very minor camera improvement which is you cant make a difference. If you are planning for a iPhone and you have budget you definitely can go for this without second thoughts.\\nNow some people are complaining and giving review 0 or so because there is no charger and headphones, but thats been already mentioned so I assume they are illiterate. Its not that Flipkart is removing them duh. Anyways bee...\\nREAD MORE', 'Super🔥 and good performance 👌❤️', 'Photos super', 'Super🔥 and good performance 👌❤️', 'It’s really awesome', 'Excellent Phone.', 'very good camera quality', 'NYC', 'It’s very good battery life and display and video quality and ther performance of iPhone.....🔥🔥🌈', 'Value for money 🖤🖤', 'Go for iPhone 11 , if confused between iPhone 11 or iPhone 12 mini.Battery Life is enhanced , it worked for complete 2 days without charging it. Explored new features of taking screenshot by clicking on apple logo by Haptic Touch , Portrait mode with stage effect enhanced & slow motion selfie.', 'Good product 👌I love iPhone', 'Really satisfied with the Product I received... It’s totally genuine and the packaging was also really good so if ur planning to buy just go for it.', 'V Good all', 'Feeling awesome after getting the delivery of my phone. Dual speakers makes the sound quality very loud. Amazing!!', 'Good Camera', 'Very very good', 'Value for money 😍', 'Camera is awesome\\nBest battery backup\\nA performer 👌🏻\\nIt will be a real value for money if they provide charger and earphone inbox!', 'This is amazing at all', 'iPhone 11 is a good phone. Not a very big difference between 12 except for the OLED screen and a very minor camera improvement which is you cant make a difference. If you are planning for a iPhone and you have budget you definitely can go for this without second thoughts.\\nNow some people are complaining and giving review 0 or so because there is no charger and headphones, but thats been already mentioned so I assume they are illiterate. Its not that Flipkart is removing them duh. Anyways bee...\\nREAD MORE', 'Super🔥 and good performance 👌❤️', 'Photos super', 'Super🔥 and good performance 👌❤️', 'It’s really awesome', 'Excellent Phone.', 'very good camera quality', 'NYC', 'It’s very good battery life and display and video quality and ther performance of iPhone.....🔥🔥🌈', 'Value for money 🖤🖤', 'Go for iPhone 11 , if confused between iPhone 11 or iPhone 12 mini.Battery Life is enhanced , it worked for complete 2 days without charging it. Explored new features of taking screenshot by clicking on apple logo by Haptic Touch , Portrait mode with stage effect enhanced & slow motion selfie.', 'Good product 👌I love iPhone', 'Really satisfied with the Product I received... It’s totally genuine and the packaging was also really good so if ur planning to buy just go for it.', 'V Good all', 'Feeling awesome after getting the delivery of my phone. Dual speakers makes the sound quality very loud. Amazing!!', 'Good Camera', 'Very very good', 'Value for money 😍', 'Camera is awesome\\nBest battery backup\\nA performer 👌🏻\\nIt will be a real value for money if they provide charger and earphone inbox!', 'This is amazing at all', 'iPhone 11 is a good phone. Not a very big difference between 12 except for the OLED screen and a very minor camera improvement which is you cant make a difference. If you are planning for a iPhone and you have budget you definitely can go for this without second thoughts.\\nNow some people are complaining and giving review 0 or so because there is no charger and headphones, but thats been already mentioned so I assume they are illiterate. Its not that Flipkart is removing them duh. Anyways bee...\\nREAD MORE', 'Super🔥 and good performance 👌❤️', 'Photos super', 'Super🔥 and good performance 👌❤️', 'It’s really awesome', 'Excellent Phone.', 'very good camera quality', 'NYC', 'It’s very good battery life and display and video quality and ther performance of iPhone.....🔥🔥🌈', 'Value for money 🖤🖤', 'Go for iPhone 11 , if confused between iPhone 11 or iPhone 12 mini.Battery Life is enhanced , it worked for complete 2 days without charging it. Explored new features of taking screenshot by clicking on apple logo by Haptic Touch , Portrait mode with stage effect enhanced & slow motion selfie.', 'Good product 👌I love iPhone', 'Really satisfied with the Product I received... It’s totally genuine and the packaging was also really good so if ur planning to buy just go for it.', 'V Good all', 'Feeling awesome after getting the delivery of my phone. Dual speakers makes the sound quality very loud. Amazing!!', 'Good Camera', 'Very very good', 'Value for money 😍', 'Camera is awesome\\nBest battery backup\\nA performer 👌🏻\\nIt will be a real value for money if they provide charger and earphone inbox!', 'This is amazing at all', 'iPhone 11 is a good phone. Not a very big difference between 12 except for the OLED screen and a very minor camera improvement which is you cant make a difference. If you are planning for a iPhone and you have budget you definitely can go for this without second thoughts.\\nNow some people are complaining and giving review 0 or so because there is no charger and headphones, but thats been already mentioned so I assume they are illiterate. Its not that Flipkart is removing them duh. Anyways bee...\\nREAD MORE', 'Super🔥 and good performance 👌❤️', 'Photos super', 'Super🔥 and good performance 👌❤️', 'It’s really awesome', 'Excellent Phone.', 'very good camera quality', 'NYC', 'It’s very good battery life and display and video quality and ther performance of iPhone.....🔥🔥🌈', 'Value for money 🖤🖤', 'Go for iPhone 11 , if confused between iPhone 11 or iPhone 12 mini.Battery Life is enhanced , it worked for complete 2 days without charging it. Explored new features of taking screenshot by clicking on apple logo by Haptic Touch , Portrait mode with stage effect enhanced & slow motion selfie.', 'Good product 👌I love iPhone', 'Really satisfied with the Product I received... It’s totally genuine and the packaging was also really good so if ur planning to buy just go for it.', 'V Good all', 'Feeling awesome after getting the delivery of my phone. Dual speakers makes the sound quality very loud. Amazing!!', 'Good Camera', 'Very very good', 'Value for money 😍', 'Camera is awesome\\nBest battery backup\\nA performer 👌🏻\\nIt will be a real value for money if they provide charger and earphone inbox!', 'This is amazing at all', 'iPhone 11 is a good phone. Not a very big difference between 12 except for the OLED screen and a very minor camera improvement which is you cant make a difference. If you are planning for a iPhone and you have budget you definitely can go for this without second thoughts.\\nNow some people are complaining and giving review 0 or so because there is no charger and headphones, but thats been already mentioned so I assume they are illiterate. Its not that Flipkart is removing them duh. Anyways bee...\\nREAD MORE', 'Super🔥 and good performance 👌❤️', 'Photos super', 'Super🔥 and good performance 👌❤️', 'It’s really awesome', 'Excellent Phone.', 'very good camera quality', 'NYC', 'It’s very good battery life and display and video quality and ther performance of iPhone.....🔥🔥🌈', 'Value for money 🖤🖤', 'Go for iPhone 11 , if confused between iPhone 11 or iPhone 12 mini.Battery Life is enhanced , it worked for complete 2 days without charging it. Explored new features of taking screenshot by clicking on apple logo by Haptic Touch , Portrait mode with stage effect enhanced & slow motion selfie.', 'Good product 👌I love iPhone', 'Really satisfied with the Product I received... It’s totally genuine and the packaging was also really good so if ur planning to buy just go for it.'] 100\n"
     ]
    }
   ],
   "source": [
    "print(full_review,len(full_review))"
   ]
  },
  {
   "cell_type": "code",
   "execution_count": 54,
   "id": "121d04f2",
   "metadata": {},
   "outputs": [],
   "source": [
    "df=pd.DataFrame({'Brand':brand,'Review_summary':review_summary,'Full_review':full_review})"
   ]
  },
  {
   "cell_type": "code",
   "execution_count": 55,
   "id": "849ae839",
   "metadata": {},
   "outputs": [
    {
     "data": {
      "text/html": [
       "<div>\n",
       "<style scoped>\n",
       "    .dataframe tbody tr th:only-of-type {\n",
       "        vertical-align: middle;\n",
       "    }\n",
       "\n",
       "    .dataframe tbody tr th {\n",
       "        vertical-align: top;\n",
       "    }\n",
       "\n",
       "    .dataframe thead th {\n",
       "        text-align: right;\n",
       "    }\n",
       "</style>\n",
       "<table border=\"1\" class=\"dataframe\">\n",
       "  <thead>\n",
       "    <tr style=\"text-align: right;\">\n",
       "      <th></th>\n",
       "      <th>Brand</th>\n",
       "      <th>Review_summary</th>\n",
       "      <th>Full_review</th>\n",
       "    </tr>\n",
       "  </thead>\n",
       "  <tbody>\n",
       "    <tr>\n",
       "      <th>0</th>\n",
       "      <td>Eyenaks</td>\n",
       "      <td>Perfect product!</td>\n",
       "      <td>V Good all</td>\n",
       "    </tr>\n",
       "    <tr>\n",
       "      <th>1</th>\n",
       "      <td>GANSTA</td>\n",
       "      <td>Worth every penny</td>\n",
       "      <td>Feeling awesome after getting the delivery of ...</td>\n",
       "    </tr>\n",
       "    <tr>\n",
       "      <th>2</th>\n",
       "      <td>SRPM</td>\n",
       "      <td>Best in the market!</td>\n",
       "      <td>Good Camera</td>\n",
       "    </tr>\n",
       "    <tr>\n",
       "      <th>3</th>\n",
       "      <td>ROADWAY</td>\n",
       "      <td>Terrific</td>\n",
       "      <td>Very very good</td>\n",
       "    </tr>\n",
       "    <tr>\n",
       "      <th>4</th>\n",
       "      <td>ROADWAY</td>\n",
       "      <td>Terrific purchase</td>\n",
       "      <td>Value for money 😍</td>\n",
       "    </tr>\n",
       "    <tr>\n",
       "      <th>...</th>\n",
       "      <td>...</td>\n",
       "      <td>...</td>\n",
       "      <td>...</td>\n",
       "    </tr>\n",
       "    <tr>\n",
       "      <th>95</th>\n",
       "      <td>Rich Club</td>\n",
       "      <td>Fabulous!</td>\n",
       "      <td>It’s very good battery life and display and vi...</td>\n",
       "    </tr>\n",
       "    <tr>\n",
       "      <th>96</th>\n",
       "      <td>ROYAL SON</td>\n",
       "      <td>Terrific purchase</td>\n",
       "      <td>Value for money 🖤🖤</td>\n",
       "    </tr>\n",
       "    <tr>\n",
       "      <th>97</th>\n",
       "      <td>Eyewearlabs</td>\n",
       "      <td>Must buy!</td>\n",
       "      <td>Go for iPhone 11 , if confused between iPhone ...</td>\n",
       "    </tr>\n",
       "    <tr>\n",
       "      <th>98</th>\n",
       "      <td>Netwiz</td>\n",
       "      <td>Super!</td>\n",
       "      <td>Good product 👌I love iPhone</td>\n",
       "    </tr>\n",
       "    <tr>\n",
       "      <th>99</th>\n",
       "      <td>Fastrack</td>\n",
       "      <td>Simply awesome</td>\n",
       "      <td>Really satisfied with the Product I received.....</td>\n",
       "    </tr>\n",
       "  </tbody>\n",
       "</table>\n",
       "<p>100 rows × 3 columns</p>\n",
       "</div>"
      ],
      "text/plain": [
       "          Brand       Review_summary  \\\n",
       "0       Eyenaks     Perfect product!   \n",
       "1        GANSTA    Worth every penny   \n",
       "2          SRPM  Best in the market!   \n",
       "3       ROADWAY             Terrific   \n",
       "4       ROADWAY    Terrific purchase   \n",
       "..          ...                  ...   \n",
       "95    Rich Club            Fabulous!   \n",
       "96    ROYAL SON    Terrific purchase   \n",
       "97  Eyewearlabs            Must buy!   \n",
       "98       Netwiz               Super!   \n",
       "99     Fastrack       Simply awesome   \n",
       "\n",
       "                                          Full_review  \n",
       "0                                          V Good all  \n",
       "1   Feeling awesome after getting the delivery of ...  \n",
       "2                                         Good Camera  \n",
       "3                                      Very very good  \n",
       "4                                   Value for money 😍  \n",
       "..                                                ...  \n",
       "95  It’s very good battery life and display and vi...  \n",
       "96                                 Value for money 🖤🖤  \n",
       "97  Go for iPhone 11 , if confused between iPhone ...  \n",
       "98                        Good product 👌I love iPhone  \n",
       "99  Really satisfied with the Product I received.....  \n",
       "\n",
       "[100 rows x 3 columns]"
      ]
     },
     "execution_count": 55,
     "metadata": {},
     "output_type": "execute_result"
    }
   ],
   "source": [
    "df"
   ]
  },
  {
   "cell_type": "code",
   "execution_count": 56,
   "id": "a26a1e90",
   "metadata": {},
   "outputs": [],
   "source": [
    "#Question-6"
   ]
  },
  {
   "cell_type": "code",
   "execution_count": 26,
   "id": "ef9749c7",
   "metadata": {},
   "outputs": [],
   "source": [
    "driver=webdriver.Chrome()\n",
    "driver.get('https://www.flipkart.com/')"
   ]
  },
  {
   "cell_type": "code",
   "execution_count": 27,
   "id": "cb13c482",
   "metadata": {},
   "outputs": [],
   "source": [
    "search= driver.find_element(By.XPATH,'/html/body/div[1]/div/div[1]/div/div/div/div/div[1]/div/div[1]/div/div[1]/div[1]/header/div[1]/div[2]/form/div/div/input')"
   ]
  },
  {
   "cell_type": "code",
   "execution_count": 28,
   "id": "39035318",
   "metadata": {},
   "outputs": [],
   "source": [
    "search.send_keys('sneakers')"
   ]
  },
  {
   "cell_type": "code",
   "execution_count": 29,
   "id": "d56845a9",
   "metadata": {},
   "outputs": [],
   "source": [
    "search_click= driver.find_element(By.CLASS_NAME,\"_2iLD__\")"
   ]
  },
  {
   "cell_type": "code",
   "execution_count": 30,
   "id": "250ced75",
   "metadata": {},
   "outputs": [],
   "source": [
    "search_click.click()"
   ]
  },
  {
   "cell_type": "code",
   "execution_count": 31,
   "id": "00ad9ad6",
   "metadata": {},
   "outputs": [],
   "source": [
    "brand=[]\n",
    "product_description=[]\n",
    "price=[]"
   ]
  },
  {
   "cell_type": "code",
   "execution_count": 32,
   "id": "fcab5d05",
   "metadata": {},
   "outputs": [],
   "source": [
    "title_tags=driver.find_elements(By.XPATH,'//div[@class=\"_2WkVRV\"]')"
   ]
  },
  {
   "cell_type": "code",
   "execution_count": 33,
   "id": "44e38a1d",
   "metadata": {},
   "outputs": [],
   "source": [
    "a=0\n",
    "for i in range(3):\n",
    "    title_tags=driver.find_elements(By.XPATH,'//div[@class=\"_2WkVRV\"]')\n",
    "    for i in title_tags:\n",
    "        if a<100:\n",
    "            brand.append(i.text)\n",
    "        a=a+1\n",
    "    next_button=driver.find_element(By.CLASS_NAME,\"_1LKTO3\")\n",
    "    next_button.click()\n",
    "    time.sleep(3)"
   ]
  },
  {
   "cell_type": "code",
   "execution_count": 34,
   "id": "d7681cbf",
   "metadata": {},
   "outputs": [
    {
     "name": "stdout",
     "output_type": "stream",
     "text": [
      "['World Wear Footwear', 'corsac', 'Deals4you', 'URBANBOX', 'RED TAPE', 'RED TAPE', 'aadi', 'VECHLO', 'SPOTWALK', 'RED TAPE', 'Robbie jones', 'Robbie jones', 'RED TAPE', 'BRUTON', 'RED TAPE', 'PUMA', 'corsac', 'HOTSTYLE', 'RED TAPE', 'VYASS', 'kcandy', 'corsac', 'ATOM', 'U.S. POLO ASSN.', 'Layasa', 'RED TAPE', 'Robbie jones', 'corsac', 'PUMA', 'RED TAPE', 'lejano', 'SFR', 'RED TAPE', 'PUMA', 'RED TAPE', 'SPOTWALK', 'aadi', 'aadi', 'UNDER ARMOUR', 'RED TAPE', 'aadi', 'TR', 'RED TAPE', 'PUMA', 'asian', 'CAMPUS', 'Krors', 'WHITE WALKERS', 'PUMA', 'aadi', 'Footox', 'Krors', 'RED TAPE', 'WOODLAND', 'RED TAPE', 'RED TAPE', 'ATOM', 'Fastnslow', 'PUMA', 'Robbie jones', 'Sparx', 'TR', 'kardam&sons', 'PUMA', 'RED TAPE', 'HOTSTYLE', 'aadi', 'aadi', 'RED TAPE', 'RED TAPE', 'SFR', 'aadi', 'aadi', 'REEBOK', 'RED TAPE', 'PUMA', 'ATOM', 'SFR', \"K' Footlance\", 'Robbie jones', 'World Wear Footwear', 'corsac', 'Deals4you', 'URBANBOX', 'RED TAPE', 'RED TAPE', 'aadi', 'VECHLO', 'SPOTWALK', 'RED TAPE', 'Robbie jones', 'Robbie jones', 'RED TAPE', 'BRUTON', 'RED TAPE', 'PUMA', 'corsac', 'HOTSTYLE', 'RED TAPE', 'VYASS'] 100\n"
     ]
    }
   ],
   "source": [
    "print(brand,len(brand))"
   ]
  },
  {
   "cell_type": "code",
   "execution_count": 35,
   "id": "790b8915",
   "metadata": {},
   "outputs": [],
   "source": [
    "a=0\n",
    "for i in range(3):\n",
    "    title_tags=driver.find_elements(By.XPATH,'//div[@class=\"_2B099V\"]/a[1]')\n",
    "    for i in title_tags:\n",
    "        if a<100:\n",
    "            product_description.append(i.text)\n",
    "        a=a+1\n",
    "    next_button=driver.find_element(By.CLASS_NAME,\"_1LKTO3\")\n",
    "    next_button.click()\n",
    "    time.sleep(3)"
   ]
  },
  {
   "cell_type": "code",
   "execution_count": 36,
   "id": "a8ea5379",
   "metadata": {},
   "outputs": [
    {
     "name": "stdout",
     "output_type": "stream",
     "text": [
      "['Trendy Stylish Comfortable & Lightweight, Casual High T...', 'Casual sneaker Height Enhancement shoes Sneakers For Me...', 'Sneakers For Women', 'Trending Stylish Casual Outdoor Sneakers Shoes For Men ...', 'Casual Sneaker Shoes for Men | Soft Cushioned Insole, S...', 'Casual Sneaker Shoes for Men | Soft Cushioned Insole, S...', 'Sneakers For Men', 'Trendy | Sport |Fashion Sneaker | Gym | Running Shoe fo...', 'Sneakers For Men', 'Sneaker Casual Shoes For Men | Soft Cushion Insole, Sli...', 'Casual Sneakers Canvas High Top Boots For Boys And Men ...', 'Sneakers For Men', 'Sneaker Casual Shoes for Men | Soft Cushioned Insole, S...', 'Modern Trendy Shoes Sneakers For Men', 'Casual Sneaker Shoes for Men | Soft Cushioned Insole, S...', 'Shuffle Ultra Sneakers For Men', 'STYLISH MENS BLACK TRENDY SNEAKER FOR MENS Sneakers For...', 'Sports Shoes , Walking Shoes , Gym & Training Shoes And...', 'Casual Sneaker Shoes for Men | Soft Cushioned Insole, S...', 'Casual shoes| Running shoes| walking shoe|sneakers Snea...', 'White Casual Sneakers Sneakers For Men', 'Casual sneaker Height Enhancement shoes Sneakers For Me...', 'Sneakers For Men', 'CLARKIN Sneakers For Men', 'Stylish Casual Sports Shoe Sneakers Sneakers For Women', 'Sneaker Casual Shoes for Men | Soft Cushioned Insole, S...', 'Casual Sneakers White Outdoor Shoes For Boys And Men Sn...', 'White Casual sneaker Height Enhancement shoes Sneakers ...', 'Rungryp Sneakers For Men', 'Casual Sneakers For Men | Comfortable, Shock Absorbant ...', 'Sneakers For Men', 'Sneakers For Men', 'Casual Sneaker Shoes for Men | Soft Cushioned Insole, S...', 'Fire run Sneakers For Men', 'Sneaker Casual Shoes for Men | Soft Cushioned Insole, S...', 'SPOTWALK-205 Trendy Sneakers For Men', 'Lightweight,Comfort,Summer,Trendy,Walking,Outdoor,Styli...', 'Synthetic Leather |Lightweight|Comfort|Summer|Trendy|Wa...', 'Sneakers For Men', 'Lifestyle Sneaker Shoes for Men | Soft Cushioned Insole...', 'Sneakers For Men', 'Casual Sneakers Canvas High Top Boots For Boys And Men ...', 'Sneakers For Men | Comfortable, Shock Absorbant & Slip-...', 'SiennaSoftrideBallerina Sneakers For Women', 'Carnival-02 Mens High Top Casual Chunky Fashion Sneaker...', 'OG-D4 Sneakers For Men', 'Sneakers For Men', 'Sports Shoes , Walking Shoes , Gym & Training Shoes And...', 'Shuffle Ultra Sneakers For Men', 'Sneakers For Men', 'White Casual Sneakers Sneakers For Men', 'Casual Sneakers White Outdoor Shoes For Boys And Men Sn...', \"Sneaker Shoes For Men's - Elevated Comfort, Perfect Cas...\", 'Sneakers For Men', 'Casual Sneaker Shoes for Men | Soft Cushioned Insole, S...', 'Lifestyle Sneaker Shoes for Men | Soft Cushioned Insole...', 'Sneakers For Men', 'Sneakers For Men', 'ST Runner v3 Mesh Sneakers For Men', 'Casual Sneakers Colour Blocked Shoes For Boys And Men S...', 'Lightweight,Comfort,Summer,Trendy,Walking,Outdoor,Styli...', 'Synthetic Leather |Lightweight|Comfort|Summer|Trendy|Wa...', 'kardam&sons luxury fashionable casual sneaker boots Sne...', 'Caven 2.0 Sneakers For Men', 'Sneaker Casual Shoes for Men | Soft Cushioned Insole, S...', 'Designer Sneakers For Men', \"Men's White Synthetic Leather Lightweight , Comfotable ...\", 'Casual Shoes| Caual Sneakers| White shoes| White Sneake...', 'Sneaker Casual Shoes For Men | Soft Cushion Insole, Sli...', 'Casual Sneaker Shoes for Men | Shock Absorbant, Slip Re...', \"Styles Men's Fashion Outdoor Trend High Top Sports Shoe...\", 'Stylish & Trending Outdoor Walking Comfortable Sneakers...', 'Lightweight,Comfort,Summer,Trendy,Walking,Outdoor,Styli...', 'Breeze Glide Sneakers For Men', 'Sneakers For Men', 'DISRIDE Sneakers For Men', 'Sneakers For Men Sneakers For Men', 'Sneakers For Men', 'Sneakers For Men', 'Sneaker Casual Shoes for Men | Soft Cushioned Insole, S...', 'Trendy Stylish Comfortable & Lightweight, Casual High T...', 'Casual sneaker Height Enhancement shoes Sneakers For Me...', 'Sneakers For Women', 'Trending Stylish Casual Outdoor Sneakers Shoes For Men ...', 'Casual Sneaker Shoes for Men | Soft Cushioned Insole, S...', 'Casual Sneaker Shoes for Men | Soft Cushioned Insole, S...', 'Sneakers For Men', 'Trendy | Sport |Fashion Sneaker | Gym | Running Shoe fo...', 'Sneakers For Men', 'Sneaker Casual Shoes For Men | Soft Cushion Insole, Sli...', 'Casual Sneakers Canvas High Top Boots For Boys And Men ...', 'Sneakers For Men', 'Sneaker Casual Shoes for Men | Soft Cushioned Insole, S...', 'Modern Trendy Shoes Sneakers For Men', 'Casual Sneaker Shoes for Men | Soft Cushioned Insole, S...', 'Shuffle Ultra Sneakers For Men', 'STYLISH MENS BLACK TRENDY SNEAKER FOR MENS Sneakers For...', 'Sports Shoes , Walking Shoes , Gym & Training Shoes And...', 'Casual Sneaker Shoes for Men | Soft Cushioned Insole, S...', 'Casual shoes| Running shoes| walking shoe|sneakers Snea...'] 100\n"
     ]
    }
   ],
   "source": [
    "print(product_description,len(product_description))"
   ]
  },
  {
   "cell_type": "code",
   "execution_count": 37,
   "id": "4c7268a8",
   "metadata": {},
   "outputs": [],
   "source": [
    "a=0\n",
    "for i in range(3):\n",
    "    title_tags=driver.find_elements(By.XPATH,'//div[@class=\"_30jeq3\"]')\n",
    "    for i in title_tags:\n",
    "        if a<100:\n",
    "            price.append(i.text)\n",
    "        a=a+1\n",
    "    next_button=driver.find_element(By.CLASS_NAME,\"_1LKTO3\")\n",
    "    next_button.click()\n",
    "    time.sleep(3)"
   ]
  },
  {
   "cell_type": "code",
   "execution_count": 38,
   "id": "7f6d6053",
   "metadata": {},
   "outputs": [
    {
     "name": "stdout",
     "output_type": "stream",
     "text": [
      "['₹430', '₹349', '₹299', '₹299', '₹1,139', '₹1,579', '₹598', '₹449', '₹499', '₹1,079', '₹399', '₹294', '₹1,379', '₹299', '₹1,119', '₹1,949', '₹449', '₹549', '₹1,579', '₹498', '₹430', '₹292', '₹1,088', '₹1,369', '₹389', '₹1,299', '₹299', '₹299', '₹2,349', '₹1,139', '₹446', '₹335', '₹1,299', '₹1,409', '₹1,379', '₹499', '₹498', '₹349', '₹2,879', '₹1,379', '₹598', '₹449', '₹1,099', '₹1,569', '₹1,059', '₹649', '₹399', '₹294', '₹2,199', '₹339', '₹449', '₹549', '₹1,159', '₹1,639', '₹1,299', '₹1,379', '₹430', '₹292', '₹2,114', '₹449', '₹299', '₹299', '₹381', '₹2,819', '₹1,119', '₹288', '₹446', '₹335', '₹1,199', '₹1,119', '₹498', '₹469', '₹249', '₹1,583', '₹1,619', '₹1,203', '₹349', '₹399', '₹299', '₹1,379', '₹430', '₹349', '₹299', '₹299', '₹1,139', '₹1,579', '₹598', '₹449', '₹499', '₹1,079', '₹399', '₹294', '₹1,379', '₹299', '₹1,119', '₹1,949', '₹449', '₹549', '₹1,579', '₹498'] 100\n"
     ]
    }
   ],
   "source": [
    "print(price,len(price))"
   ]
  },
  {
   "cell_type": "code",
   "execution_count": 39,
   "id": "1d420060",
   "metadata": {},
   "outputs": [],
   "source": [
    "df= pd.DataFrame({'Brand':brand,'Product_description':product_description,'Price':price})"
   ]
  },
  {
   "cell_type": "code",
   "execution_count": 40,
   "id": "e8f0e6b9",
   "metadata": {},
   "outputs": [
    {
     "data": {
      "text/html": [
       "<div>\n",
       "<style scoped>\n",
       "    .dataframe tbody tr th:only-of-type {\n",
       "        vertical-align: middle;\n",
       "    }\n",
       "\n",
       "    .dataframe tbody tr th {\n",
       "        vertical-align: top;\n",
       "    }\n",
       "\n",
       "    .dataframe thead th {\n",
       "        text-align: right;\n",
       "    }\n",
       "</style>\n",
       "<table border=\"1\" class=\"dataframe\">\n",
       "  <thead>\n",
       "    <tr style=\"text-align: right;\">\n",
       "      <th></th>\n",
       "      <th>Brand</th>\n",
       "      <th>Product_description</th>\n",
       "      <th>Price</th>\n",
       "    </tr>\n",
       "  </thead>\n",
       "  <tbody>\n",
       "    <tr>\n",
       "      <th>0</th>\n",
       "      <td>World Wear Footwear</td>\n",
       "      <td>Trendy Stylish Comfortable &amp; Lightweight, Casu...</td>\n",
       "      <td>₹430</td>\n",
       "    </tr>\n",
       "    <tr>\n",
       "      <th>1</th>\n",
       "      <td>corsac</td>\n",
       "      <td>Casual sneaker Height Enhancement shoes Sneake...</td>\n",
       "      <td>₹349</td>\n",
       "    </tr>\n",
       "    <tr>\n",
       "      <th>2</th>\n",
       "      <td>Deals4you</td>\n",
       "      <td>Sneakers For Women</td>\n",
       "      <td>₹299</td>\n",
       "    </tr>\n",
       "    <tr>\n",
       "      <th>3</th>\n",
       "      <td>URBANBOX</td>\n",
       "      <td>Trending Stylish Casual Outdoor Sneakers Shoes...</td>\n",
       "      <td>₹299</td>\n",
       "    </tr>\n",
       "    <tr>\n",
       "      <th>4</th>\n",
       "      <td>RED TAPE</td>\n",
       "      <td>Casual Sneaker Shoes for Men | Soft Cushioned ...</td>\n",
       "      <td>₹1,139</td>\n",
       "    </tr>\n",
       "    <tr>\n",
       "      <th>...</th>\n",
       "      <td>...</td>\n",
       "      <td>...</td>\n",
       "      <td>...</td>\n",
       "    </tr>\n",
       "    <tr>\n",
       "      <th>95</th>\n",
       "      <td>PUMA</td>\n",
       "      <td>Shuffle Ultra Sneakers For Men</td>\n",
       "      <td>₹1,949</td>\n",
       "    </tr>\n",
       "    <tr>\n",
       "      <th>96</th>\n",
       "      <td>corsac</td>\n",
       "      <td>STYLISH MENS BLACK TRENDY SNEAKER FOR MENS Sne...</td>\n",
       "      <td>₹449</td>\n",
       "    </tr>\n",
       "    <tr>\n",
       "      <th>97</th>\n",
       "      <td>HOTSTYLE</td>\n",
       "      <td>Sports Shoes , Walking Shoes , Gym &amp; Training ...</td>\n",
       "      <td>₹549</td>\n",
       "    </tr>\n",
       "    <tr>\n",
       "      <th>98</th>\n",
       "      <td>RED TAPE</td>\n",
       "      <td>Casual Sneaker Shoes for Men | Soft Cushioned ...</td>\n",
       "      <td>₹1,579</td>\n",
       "    </tr>\n",
       "    <tr>\n",
       "      <th>99</th>\n",
       "      <td>VYASS</td>\n",
       "      <td>Casual shoes| Running shoes| walking shoe|snea...</td>\n",
       "      <td>₹498</td>\n",
       "    </tr>\n",
       "  </tbody>\n",
       "</table>\n",
       "<p>100 rows × 3 columns</p>\n",
       "</div>"
      ],
      "text/plain": [
       "                  Brand                                Product_description  \\\n",
       "0   World Wear Footwear  Trendy Stylish Comfortable & Lightweight, Casu...   \n",
       "1                corsac  Casual sneaker Height Enhancement shoes Sneake...   \n",
       "2             Deals4you                                 Sneakers For Women   \n",
       "3              URBANBOX  Trending Stylish Casual Outdoor Sneakers Shoes...   \n",
       "4              RED TAPE  Casual Sneaker Shoes for Men | Soft Cushioned ...   \n",
       "..                  ...                                                ...   \n",
       "95                 PUMA                     Shuffle Ultra Sneakers For Men   \n",
       "96               corsac  STYLISH MENS BLACK TRENDY SNEAKER FOR MENS Sne...   \n",
       "97             HOTSTYLE  Sports Shoes , Walking Shoes , Gym & Training ...   \n",
       "98             RED TAPE  Casual Sneaker Shoes for Men | Soft Cushioned ...   \n",
       "99                VYASS  Casual shoes| Running shoes| walking shoe|snea...   \n",
       "\n",
       "     Price  \n",
       "0     ₹430  \n",
       "1     ₹349  \n",
       "2     ₹299  \n",
       "3     ₹299  \n",
       "4   ₹1,139  \n",
       "..     ...  \n",
       "95  ₹1,949  \n",
       "96    ₹449  \n",
       "97    ₹549  \n",
       "98  ₹1,579  \n",
       "99    ₹498  \n",
       "\n",
       "[100 rows x 3 columns]"
      ]
     },
     "execution_count": 40,
     "metadata": {},
     "output_type": "execute_result"
    }
   ],
   "source": [
    "df"
   ]
  },
  {
   "cell_type": "code",
   "execution_count": 41,
   "id": "7a22a846",
   "metadata": {},
   "outputs": [],
   "source": [
    "#Question-7"
   ]
  },
  {
   "cell_type": "code",
   "execution_count": 43,
   "id": "b1652290",
   "metadata": {},
   "outputs": [],
   "source": [
    "driver=webdriver.Chrome()\n",
    "driver.get('https://www.amazon.in/')"
   ]
  },
  {
   "cell_type": "code",
   "execution_count": 44,
   "id": "a21a3bca",
   "metadata": {},
   "outputs": [],
   "source": [
    "search=driver.find_element(By.XPATH,'/html/body/div[1]/header/div/div[1]/div[2]/div/form/div[2]/div[1]/input')"
   ]
  },
  {
   "cell_type": "code",
   "execution_count": 45,
   "id": "3890d0e5",
   "metadata": {},
   "outputs": [],
   "source": [
    "search.send_keys('laptop')"
   ]
  },
  {
   "cell_type": "code",
   "execution_count": 47,
   "id": "e899b186",
   "metadata": {},
   "outputs": [],
   "source": [
    "search_click=driver.find_element(By.XPATH,\"/html/body/div[1]/header/div/div[1]/div[2]/div/form/div[3]/div/span/input\")"
   ]
  },
  {
   "cell_type": "code",
   "execution_count": 49,
   "id": "bd3b2503",
   "metadata": {},
   "outputs": [],
   "source": [
    "search_click.click()"
   ]
  },
  {
   "cell_type": "code",
   "execution_count": 50,
   "id": "02c22b7e",
   "metadata": {},
   "outputs": [],
   "source": [
    "intel_i7=driver.find_element(By.XPATH,'/html/body/div[1]/div[1]/div[1]/div[2]/div/div[3]/span/div[1]/div/div/div[6]/ul[19]/span/span[10]/li/span/a/span')"
   ]
  },
  {
   "cell_type": "code",
   "execution_count": 51,
   "id": "45c5cdf7",
   "metadata": {},
   "outputs": [],
   "source": [
    "intel_i7.click()"
   ]
  },
  {
   "cell_type": "code",
   "execution_count": 52,
   "id": "e100c592",
   "metadata": {},
   "outputs": [],
   "source": [
    "title=[]\n",
    "ratings=[]\n",
    "price=[]"
   ]
  },
  {
   "cell_type": "code",
   "execution_count": 53,
   "id": "5e5d9dc0",
   "metadata": {},
   "outputs": [
    {
     "name": "stdout",
     "output_type": "stream",
     "text": [
      "['ZEBRONICS NBC 5S Intel Core i7 12th Gen 1255 Laptop (16 GB RAM 3200MHz/ 512 GB M.2 SATA SSD/Windows 11 Home) 15.6” 1080p,Dolby Atmos,Type C Port,Fingerprint Sensor, 38.5Wh Battery (Midnight Blue)', 'MSI Modern 14, Intel 12th Gen. i7-1255U, 36CM FHD 60Hz Laptop (16GB/512GB NVMe SSD/Windows 11 Home/Intel Iris Xe Graphics/Classic Black/1.4Kg), C12M-459IN', 'MSI CreatorPro M16, Intel 13th Gen. i7-13700H, 41CM QHD+ 60Hz Creator Laptop (16GB/1TB NVMe SSD/Windows 11 Pro/NVIDIA RTX A1000, GDDR6 6GB/Core Black/2.29Kg), B13VI-1273IN', 'Acer Travelmate Business Laptop Intel Core i7-11th Gen (Windows 11 Home/16 GB Ram/1TB SSD/Intel Iris Xe Graphics/14.0 IPS Display/Backlit Keyboard/Fingerprint Sensor) TMP214-53', 'MSI Modern 14, Intel 12th Gen. i7-1255U, 36CM FHD 60Hz Laptop (16GB/512GB NVMe SSD/Windows 11 Home/Intel Iris Xe Graphics/Classic Black/1.4Kg), C12M-459IN', 'Lenovo IdeaPad Slim 3 Intel Core i7 12th Gen 15.6 inch (39.62cm) FHD Thin & Light Laptop (16GB/512GB SSD/Windows 11/Office 2021/3months Game Pass/Arctic Grey/1.63Kg), 82RK011EIN', 'Samsung Galaxy Book3 Core i7 13th Gen 1355U - (16 GB/512 GB SSD/Windows 11 Home) Galaxy Book3 Thin and Light Laptop  (15.6 Inch, Silver, 1.58 Kg, with MS Office)', 'HP Pavilion 14 12th Gen Intel Core i7 16GB SDRAM/1TB SSD 14 inch(35.6cm) FHD,IPS,Micro-Edge Display/Intel Iris Xe Graphics/B&O/Win 11/Alexa Built-in/Backlit KB/FPR/MSO 2021/Natural Silver,14-dv2015TU', 'ASUS Vivobook 15, Intel Core i7-12650H 12th Gen, 15.6\" (39.62 cm) FHD, Thin and Light Laptop (16GB/512GB/Win11/Office 2021/Blue/1.7 kg), X1502ZA-EJ741WS', 'HP Victus Gaming Laptop, 12th Gen Intel Core i7-12650H, 4GB RTX 3050 GPU, 15.6-inch (39.6 cm), 75W TGP, FHD, IPS, 144Hz, 16GB DDR4, 512GB SSD, Backlit KB, B&O (MSO, Blue, 2.37 kg), fa0188TX'] 10\n"
     ]
    }
   ],
   "source": [
    "a=0\n",
    "title_tags=driver.find_elements(By.XPATH,'//h2[@class=\"a-size-mini a-spacing-none a-color-base s-line-clamp-2\"]')\n",
    "for i in title_tags:\n",
    "    if a<10:\n",
    "        title.append(i.text)\n",
    "    a=a+1\n",
    "print(title,len(title))"
   ]
  },
  {
   "cell_type": "code",
   "execution_count": 74,
   "id": "abd2152b",
   "metadata": {},
   "outputs": [
    {
     "name": "stdout",
     "output_type": "stream",
     "text": [
      "132\n"
     ]
    }
   ],
   "source": [
    "Rating=[]\n",
    "titles_tags=driver.find_elements(By.XPATH,'//div[@class=\"a-row a-size-small\"]/span[1]')\n",
    "for i in title_tags:\n",
    "    Rating.append(i.get_attribute('aria-label'))\n",
    "    a=a+1\n",
    "print(a)\n"
   ]
  },
  {
   "cell_type": "code",
   "execution_count": 76,
   "id": "e671a5fa",
   "metadata": {},
   "outputs": [
    {
     "name": "stdout",
     "output_type": "stream",
     "text": [
      "['3.9 out of 5 stars', '90', '4.1 out of 5 stars', '70', '5.0 out of 5 stars', '1', '4.1 out of 5 stars', '70', '4.0 out of 5 stars', '438', '4.4 out of 5 stars', '187', '4.3 out of 5 stars', '211', '4.0 out of 5 stars', '143', '4.0 out of 5 stars', '438', '4.3 out of 5 stars', '68', '4.2 out of 5 stars', '443', '3.9 out of 5 stars', '420', '4.1 out of 5 stars', '328', '4.4 out of 5 stars', '187', '3.1 out of 5 stars', '4', '3.3 out of 5 stars', '42', '4.0 out of 5 stars', '143', '2.9 out of 5 stars', '3', '3.7 out of 5 stars', '23', '4.0 out of 5 stars', '1,056', '3.7 out of 5 stars', '23', '3.9 out of 5 stars', '22', '4.1 out of 5 stars', '7', '3.5 out of 5 stars', '27', '4.2 out of 5 stars', '12', '4.6 out of 5 stars', '3', '4.0 out of 5 stars', '29', '3.7 out of 5 stars', '31', '4.2 out of 5 stars', '5', '4.3 out of 5 stars', '211', '4.3 out of 5 stars', '68', '3.6 out of 5 stars', '8', '3.1 out of 5 stars', '4'] 66\n"
     ]
    }
   ],
   "source": [
    "print(Rating,len(Rating))"
   ]
  },
  {
   "cell_type": "code",
   "execution_count": 89,
   "id": "7f1dcf05",
   "metadata": {},
   "outputs": [],
   "source": [
    "a=0\n",
    "for i in range(0,66,2):\n",
    "    if a<10:\n",
    "        ratings.append(Rating[i])\n",
    "    a=a+1"
   ]
  },
  {
   "cell_type": "code",
   "execution_count": 91,
   "id": "151e0a6a",
   "metadata": {},
   "outputs": [
    {
     "name": "stdout",
     "output_type": "stream",
     "text": [
      "['3.9 out of 5 stars', '4.1 out of 5 stars', '5.0 out of 5 stars', '4.1 out of 5 stars', '4.0 out of 5 stars', '4.4 out of 5 stars', '4.3 out of 5 stars', '4.0 out of 5 stars', '4.0 out of 5 stars', '4.3 out of 5 stars'] 10\n"
     ]
    }
   ],
   "source": [
    "print(ratings,len(ratings))"
   ]
  },
  {
   "cell_type": "code",
   "execution_count": 92,
   "id": "73103986",
   "metadata": {},
   "outputs": [
    {
     "name": "stdout",
     "output_type": "stream",
     "text": [
      "['₹46,990', '₹49,990', '₹1,50,802', '₹49,990', '₹49,990', '₹1,17,990', '₹62,990', '₹81,990', '₹77,490', '₹64,990'] 10\n"
     ]
    }
   ],
   "source": [
    "a=0\n",
    "title_tags=driver.find_elements(By.XPATH,'//a[@class=\"a-link-normal s-no-hover s-underline-text s-underline-link-text s-link-style a-text-normal\"]/span')\n",
    "for i in title_tags:\n",
    "    if a<10:\n",
    "        price.append(i.text)\n",
    "    a=a+1\n",
    "print(price,len(price))"
   ]
  },
  {
   "cell_type": "code",
   "execution_count": 93,
   "id": "a454c94c",
   "metadata": {},
   "outputs": [
    {
     "data": {
      "text/html": [
       "<div>\n",
       "<style scoped>\n",
       "    .dataframe tbody tr th:only-of-type {\n",
       "        vertical-align: middle;\n",
       "    }\n",
       "\n",
       "    .dataframe tbody tr th {\n",
       "        vertical-align: top;\n",
       "    }\n",
       "\n",
       "    .dataframe thead th {\n",
       "        text-align: right;\n",
       "    }\n",
       "</style>\n",
       "<table border=\"1\" class=\"dataframe\">\n",
       "  <thead>\n",
       "    <tr style=\"text-align: right;\">\n",
       "      <th></th>\n",
       "      <th>Title</th>\n",
       "      <th>Rating</th>\n",
       "      <th>Price</th>\n",
       "    </tr>\n",
       "  </thead>\n",
       "  <tbody>\n",
       "    <tr>\n",
       "      <th>0</th>\n",
       "      <td>ZEBRONICS NBC 5S Intel Core i7 12th Gen 1255 L...</td>\n",
       "      <td>3.9 out of 5 stars</td>\n",
       "      <td>₹46,990</td>\n",
       "    </tr>\n",
       "    <tr>\n",
       "      <th>1</th>\n",
       "      <td>MSI Modern 14, Intel 12th Gen. i7-1255U, 36CM ...</td>\n",
       "      <td>4.1 out of 5 stars</td>\n",
       "      <td>₹49,990</td>\n",
       "    </tr>\n",
       "    <tr>\n",
       "      <th>2</th>\n",
       "      <td>MSI CreatorPro M16, Intel 13th Gen. i7-13700H,...</td>\n",
       "      <td>5.0 out of 5 stars</td>\n",
       "      <td>₹1,50,802</td>\n",
       "    </tr>\n",
       "    <tr>\n",
       "      <th>3</th>\n",
       "      <td>Acer Travelmate Business Laptop Intel Core i7-...</td>\n",
       "      <td>4.1 out of 5 stars</td>\n",
       "      <td>₹49,990</td>\n",
       "    </tr>\n",
       "    <tr>\n",
       "      <th>4</th>\n",
       "      <td>MSI Modern 14, Intel 12th Gen. i7-1255U, 36CM ...</td>\n",
       "      <td>4.0 out of 5 stars</td>\n",
       "      <td>₹49,990</td>\n",
       "    </tr>\n",
       "    <tr>\n",
       "      <th>5</th>\n",
       "      <td>Lenovo IdeaPad Slim 3 Intel Core i7 12th Gen 1...</td>\n",
       "      <td>4.4 out of 5 stars</td>\n",
       "      <td>₹1,17,990</td>\n",
       "    </tr>\n",
       "    <tr>\n",
       "      <th>6</th>\n",
       "      <td>Samsung Galaxy Book3 Core i7 13th Gen 1355U - ...</td>\n",
       "      <td>4.3 out of 5 stars</td>\n",
       "      <td>₹62,990</td>\n",
       "    </tr>\n",
       "    <tr>\n",
       "      <th>7</th>\n",
       "      <td>HP Pavilion 14 12th Gen Intel Core i7 16GB SDR...</td>\n",
       "      <td>4.0 out of 5 stars</td>\n",
       "      <td>₹81,990</td>\n",
       "    </tr>\n",
       "    <tr>\n",
       "      <th>8</th>\n",
       "      <td>ASUS Vivobook 15, Intel Core i7-12650H 12th Ge...</td>\n",
       "      <td>4.0 out of 5 stars</td>\n",
       "      <td>₹77,490</td>\n",
       "    </tr>\n",
       "    <tr>\n",
       "      <th>9</th>\n",
       "      <td>HP Victus Gaming Laptop, 12th Gen Intel Core i...</td>\n",
       "      <td>4.3 out of 5 stars</td>\n",
       "      <td>₹64,990</td>\n",
       "    </tr>\n",
       "  </tbody>\n",
       "</table>\n",
       "</div>"
      ],
      "text/plain": [
       "                                               Title              Rating  \\\n",
       "0  ZEBRONICS NBC 5S Intel Core i7 12th Gen 1255 L...  3.9 out of 5 stars   \n",
       "1  MSI Modern 14, Intel 12th Gen. i7-1255U, 36CM ...  4.1 out of 5 stars   \n",
       "2  MSI CreatorPro M16, Intel 13th Gen. i7-13700H,...  5.0 out of 5 stars   \n",
       "3  Acer Travelmate Business Laptop Intel Core i7-...  4.1 out of 5 stars   \n",
       "4  MSI Modern 14, Intel 12th Gen. i7-1255U, 36CM ...  4.0 out of 5 stars   \n",
       "5  Lenovo IdeaPad Slim 3 Intel Core i7 12th Gen 1...  4.4 out of 5 stars   \n",
       "6  Samsung Galaxy Book3 Core i7 13th Gen 1355U - ...  4.3 out of 5 stars   \n",
       "7  HP Pavilion 14 12th Gen Intel Core i7 16GB SDR...  4.0 out of 5 stars   \n",
       "8  ASUS Vivobook 15, Intel Core i7-12650H 12th Ge...  4.0 out of 5 stars   \n",
       "9  HP Victus Gaming Laptop, 12th Gen Intel Core i...  4.3 out of 5 stars   \n",
       "\n",
       "       Price  \n",
       "0    ₹46,990  \n",
       "1    ₹49,990  \n",
       "2  ₹1,50,802  \n",
       "3    ₹49,990  \n",
       "4    ₹49,990  \n",
       "5  ₹1,17,990  \n",
       "6    ₹62,990  \n",
       "7    ₹81,990  \n",
       "8    ₹77,490  \n",
       "9    ₹64,990  "
      ]
     },
     "execution_count": 93,
     "metadata": {},
     "output_type": "execute_result"
    }
   ],
   "source": [
    "df=pd.DataFrame({'Title':title,'Rating':ratings,'Price':price})\n",
    "df"
   ]
  },
  {
   "cell_type": "code",
   "execution_count": 94,
   "id": "4b333ac9",
   "metadata": {},
   "outputs": [],
   "source": [
    "#Question-8"
   ]
  },
  {
   "cell_type": "code",
   "execution_count": 95,
   "id": "07e3b31a",
   "metadata": {},
   "outputs": [],
   "source": [
    "driver=webdriver.Chrome()\n",
    "driver.get('https://www.azquotes.com/')"
   ]
  },
  {
   "cell_type": "code",
   "execution_count": 96,
   "id": "291a1b8f",
   "metadata": {},
   "outputs": [],
   "source": [
    "top_quotes=driver.find_element(By.XPATH,'/html/body/div[1]/div[1]/div[1]/div/div[3]/ul/li[5]/a')"
   ]
  },
  {
   "cell_type": "code",
   "execution_count": 97,
   "id": "06e60562",
   "metadata": {},
   "outputs": [],
   "source": [
    "top_quotes.click()"
   ]
  },
  {
   "cell_type": "code",
   "execution_count": 98,
   "id": "7426d190",
   "metadata": {},
   "outputs": [],
   "source": [
    "quote=[]\n",
    "author=[]\n",
    "type_of_quotes=[]"
   ]
  },
  {
   "cell_type": "code",
   "execution_count": 101,
   "id": "1868043a",
   "metadata": {},
   "outputs": [
    {
     "name": "stdout",
     "output_type": "stream",
     "text": [
      "['The essence of strategy is choosing what not to do.', 'One cannot and must not try to erase the past merely because it does not fit the present.', 'Patriotism means to stand by the country. It does not mean to stand by the president.', 'Death is something inevitable. When a man has done what he considers to be his duty to his people and his country, he can rest in peace. I believe I have made that effort and that is, therefore, why I will sleep for the eternity.', 'You have to love a nation that celebrates its independence every July 4, not with a parade of guns, tanks, and soldiers who file by the White House in a show of strength and muscle, but with family picnics where kids throw Frisbees, the potato salad gets iffy, and the flies die from happiness. You may think you have overeaten, but it is patriotism.', 'Be more concerned with your character than your reputation, because your character is what you really are, while your reputation is merely what others think you are.', 'Weak people revenge. Strong people forgive. Intelligent People Ignore.', \"A mind is like a parachute. It doesn't work if it is not open.\", 'Never be afraid to raise your voice for honesty and truth and compassion against injustice and lying and greed. If people all over the world...would do this, it would change the earth.', 'There are three kinds of men. The one that learns by reading. The few who learn by observation. The rest of them have to pee on the electric fence for themselves.', \"A strong nation, like a strong person, can afford to be gentle, firm, thoughtful, and restrained. It can afford to extend a helping hand to others. It's a weak nation, like a weak person, that must behave with bluster and boasting and rashness and other signs of insecurity.\", 'The difference between stupidity and genius is that genius has its limits.', 'We the people are the rightful masters of both Congress and the courts, not to overthrow the Constitution but to overthrow the men who pervert the Constitution.', 'With or without religion, you would have good people doing good things and evil people doing evil things. But for good people to do evil things, that takes religion.', 'Human kindness has never weakened the stamina or softened the fiber of a free people. A nation does not have to be cruel to be tough.', 'A person who never made a mistake never tried anything new.', 'My mission in life is not merely to survive, but to thrive; and to do so with some passion, some compassion, some humor, and some style', 'Life is short, Break the Rules. Forgive quickly, Kiss slowly. Love truly. Laugh uncontrollably And never regret ANYTHING That makes you smile.', 'This country will not be a good place for any of us to live in unless we make it a good place for all of us to live in.', 'In a world filled with hate, we must still dare to hope. In a world filled with anger, we must still dare to comfort. In a world filled with despair, we must still dare to dream. And in a world filled with distrust, we must still dare to believe.', 'Darkness cannot drive out darkness; only light can do that. Hate cannot drive out hate; only love can do that.', 'To be a Christian means to forgive the inexcusable because God has forgiven the inexcusable in you.', 'A man who is good enough to shed his blood for the country is good enough to be given a square deal afterwards.', 'Kindness is the language which the deaf can hear and the blind can see.', 'Most folks are as happy as they make up their minds to be.', 'A happy marriage is the union of two good forgivers.', 'I believe in Christianity as I believe that the sun has risen: not only because I see it, but because by it I see everything else.', 'Politics is the art of looking for trouble, finding it everywhere, diagnosing it incorrectly and applying the wrong remedies.', \"I believe in everything until it's disproved. So I believe in fairies, the myths, dragons. It all exists, even if it's in your mind. Who's to say that dreams and nightmares aren't as real as the here and now?\", 'At the end of your life, you will never regret not having passed one more test, not winning one more verdict or not closing one more deal. You will regret time not spent with a husband, a friend, a child, or a parent.', 'I never think of the future - it comes soon enough.', \"Our greatest fear should not be of failure but of succeeding at things in life that don't really matter.\", 'Failure is simply the opportunity to begin again, this time more intelligently.', 'Music expresses that which cannot be put into words.', 'Good actions are a guard against the blows of adversity.', 'Positive thinking will let you do everything better than negative thinking will.', \"You have enemies? Good. That means you've stood up for something, sometime in your life.\", \"You don't have to be great to start, but you have to start to be great\", 'Let every nation know, whether it wishes us well or ill, that we shall pay any price, bear any burden, meet any hardship, support any friend, oppose any foe to assure the survival and the success of liberty.', \"If you want total security, go to prison. There you're fed, clothed, given medical care and so on. The only thing lacking... is freedom.\", 'Socialism is a philosophy of failure, the creed of ignorance, and the gospel of envy, its inherent virtue is the equal sharing of misery.', 'It is the supreme art of the teacher to awaken joy in creative expression and knowledge.', \"Once you replace negative thoughts with positive ones, you'll start having positive results.\", \"You build on failure. You use it as a stepping stone. Close the door on the past. You don't try to forget the mistakes, but you don't dwell on it. You don't let it have any of your energy, or any of your time, or any of your space.\", 'All my life through, the new sights of Nature made me rejoice like a child.', \"I've learned that people will forget what you said, people will forget what you did, but people will never forget how you made them feel.\", 'Marriage is not a ritual or an end. It is a long, intricate, intimate dance together and nothing matters more than your own sense of balance and your choice of partner.', 'When obstacles arise, you change your direction to reach your goal; you do not change your decision to get there.', 'Time you enjoy wasting, was not wasted.', 'The next time some academics tell you how important diversity is, ask how many Republicans there are in their sociology department.', 'Faith is not the belief that God will do what you want. It is the belief that God will do what is right.', \"If you can't fly then run, if you can't run then walk, if you can't walk then crawl, but whatever you do you have to keep moving forward.\", 'It is hard to imagine a more stupid or more dangerous way of making decisions than by putting those decisions in the hands of people who pay no price for being wrong.', 'I say that the most liberating thing about beauty is realizing that you are the beholder.', 'The ultimate measure of a man is not where he stands in moments of comfort and convenience, but where he stands at times of challenge and controversy.', 'The soldier, above all other people, prays for peace, for he must suffer and bear the deepest wounds and scars of war.', 'A true leader has the confidence to stand alone, the courage to make tough decisions, and the compassion to listen to the needs of others. He does not set out to be a leader, but becomes one by the equality of his actions and the integrity of his intent.', 'I am a Soldier, I fight where I am told, and I win where I fight.', \"Trying to do the Lord's work in your own strength is the most confusing, exhausting, and tedious of all work. But when you are filled with the Holy Spirit, then the ministry of Jesus just flows out of you.\", \"Sports for me is when a guy walks off the court, and you really can't tell whether he won or lost, when he carries himself with pride either way.\", 'Expect the best. Prepare for the worst. Capitalize on what comes.', 'I became insane, with long intervals of horrible sanity.', 'Failure is a detour, not a dead-end street.', 'I am not a product of my circumstances. I am a product of my decisions.', 'You can cut all the flowers but you cannot keep spring from coming.', \"Life doesn't run away from nobody. Life runs at people.\", 'In order to succeed, your desire for success should be greater than your fear of failure.', \"It's difficult to think anything but pleasant thoughts while eating a homegrown tomato.\", 'Too many of us are not living our dreams because we are living our fears.', 'If the only prayer you ever say in your entire life is thank you, it will be enough.', \"It's just a job. Grass grows, birds fly, waves pound the sand. I beat people up.\", 'A man must be big enough to admit his mistakes, smart enough to profit from them, and strong enough to correct them.', 'Our greatest weakness lies in giving up. The most certain way to succeed is always to try just one more time.', 'This is one small step for a man, one giant leap for mankind.', \"It has been said, 'time heals all wounds.' I do not agree. The wounds remain. In time, the mind, protecting its sanity, covers them with scar tissue and the pain lessens. But it is never gone.\", \"I have held many things in my hands, and I have lost them all; but whatever I have placed in God's hands, that I still possess.\", \"Welfare's purpose should be to eliminate, as far as possible, the need for its own existence.\", 'Each time, before you intercede, be quiet first, and worship God in His glory. Think of what He can do, and how He delights to hear the prayers of His redeemed people. Think of your place and privilege in Christ, and expect great things!', \"Failure is not the opposite of success; it's part of success.\", 'No one has ever become poor by giving.', 'It is not my ability, but my response to God’s ability, that counts.', 'No one is born hating another person because of the color of his skin, or his background, or his religion. People must learn to hate, and if they can learn to hate, they can be taught to love, for love comes more naturally to the human heart than its opposite.', 'No matter what people tell you, words and ideas can change the world.', 'A man should never neglect his family for business.', 'Those who dare to fail miserably can achieve greatly.', 'The two most important days in your life are the day you are born and the day you find out why.', 'We must be global Christians with a global vision because our God is a global God.', 'With everything that has happened to you, you can either feel sorry for yourself or treat what has happened as a gift. Everything is either an opportunity to grow or an obstacle to keep you from growing. You get to choose.', 'Don’t let the noise of others’ opinions drown out your own inner voice.', 'History, despite its wrenching pain, cannot be unlived, but if faced with courage, need not be lived again.', \"How old would you be if you didn't know how old you are?\", 'Leadership is a privilege to better the lives of others. It is not an opportunity to satisfy personal greed.', 'If you have good thoughts they will shine out of your face like sunbeams and you will always look lovely.', 'Never cut a tree down in the wintertime. Never make a negative decision in the low time. Never make your most important decisions when you are in your worst moods. Wait. Be patient. The storm will pass. The spring will come.', 'An optimist stays up until midnight to see the new year in. A pessimist stays up to make sure the old year leaves.', 'When the going gets weird, the weird turn pro.', \"When a train goes through a tunnel and it gets dark, you don't throw away the ticket and jump off. You sit still and trust the engineer.\", 'If you think you are too small to make a difference, try sleeping with a mosquito.', \"God doesn't require us to succeed, he only requires that you try.\", 'Change your thoughts and you change your world.', 'Can words describe the fragrance of the very breath of spring?', 'Faith is to believe what you do not see; the reward of this faith is to see what you believe.', 'When everything seems to be going against you, remember that the airplane takes off against the wind, not with it.', 'I have found that if you love life, life will love you back.', 'To disarm the people... was the best and most effectual way to enslave them.', 'Today a reader, tomorrow a leader.', \"A dream doesn't become reality through magic; it takes sweat, determination and hard work.\", 'Whoever would overthrow the liberty of a nation must begin by subduing the freeness of speech.', \"It's better to be a lion for a day than a sheep all your life.\", 'Resolution One: I will live for God. Resolution Two: If no one else does, I still will.', 'Tell me and I forget. Teach me and I remember. Involve me and I learn.', 'Fear is the main source of superstition, and one of the main sources of cruelty. To conquer fear is the beginning of wisdom.', 'Do not be embarrassed by your failures, learn from them and start again.', 'Everyone should be respected as an individual, but no one idolized.', \"Our worst days are never so bad that you are beyond the reach of God's grace. And your best days are never so good that you are beyond the need of God's grace.\", 'The more you like yourself, the less you are like anyone else, which makes you unique.', 'If there is no struggle, there is no progress.', 'If more of us valued food and cheer and song above hoarded gold, it would be a merrier world.', 'Success consists of going from failure to failure without loss of enthusiasm.', \"Don't aim for success if you want it; just do what you love and believe in, and it will come naturally.\", \"You know why there's a Second Amendment? In case the government fails to follow the first one.\", 'Nothing will work unless you do.', 'There are no secrets to success. It is the result of preparation, hard work, and learning from failure.', 'The hunger for love is much more difficult to remove than the hunger for bread.', 'Love yourself. It is important to stay positive because beauty comes from the inside out.', \"Life's most persistent and urgent question is, 'What are you doing for others?'\", 'Be faithful in small things because it is in them that your strength lies.', 'There is no greater happiness for a man than approaching a door at the end of a day knowing someone on the other side of that door is waiting for the sound of his footsteps.', 'Underlying most arguments against the free market is a lack of belief in freedom itself.', 'I hear and I forget. I see and I remember. I do and I understand.', \"It happens to everyone as they grow up. You find out who you are and what you want, and then you realize that people you've known forever don't see things the way you do. So you keep the wonderful memories, but find yourself moving on.\", 'I have a dream that my four little children will one day live in a nation where they will not be judged by the color of their skin, but by the content of their character.', 'An intelligent hell would be better than a stupid paradise.', 'Never worry about numbers. Help one person at a time and always start with the person nearest you.', 'Run when you can, walk if you have to, crawl if you must; just never give up.', 'If you want others to be happy, practice compassion. If you want to be happy, practice compassion.', \"You are responsible for your life. You can't keep blaming somebody else for your dysfunction. Life is really about moving on.\", \"Don't limit yourself. Many people limit themselves to what they think they can do. You can go as far as your mind lets you. What you believe, remember, you can achieve.\", 'When we lose one blessing, another is often most unexpectedly given in its place.', 'I only regret that I have but one life to lose for my country.', 'The only place success comes before work is in the dictionary.', 'Music was my refuge. I could crawl into the space between the notes and curl my back to loneliness.', 'The greatest enemy to human souls is the self-righteous spirit which makes men look to themselves for salvation.', 'My religion is very simple. My religion is kindness.', 'The Marines I have seen around the world have the cleanest bodies, the filthiest minds, the highest morale, and the lowest morals of any group of animals I have ever seen. Thank God for the United States Marine Corps!', 'With God in charge, I believe everything will work out for the best in the end.', 'A government that robs Peter to pay Paul can always depend on the support of Paul.', \"We can't help everyone, but everyone can help someone.\", \"Tolerance implies no lack of commitment to one's own beliefs. Rather it condemns the oppression or persecution of others.\", 'Worry does not empty tomorrow of its sorrow. It empties today of its strength.', 'Luck is predictable; the harder you work, the luckier you get.', 'Beware of false knowledge; it is more dangerous than ignorance.', 'A successful man is one who can lay a firm foundation with the bricks others have thrown at him.', 'There is no substitute for hard work.', \"When you have a dream, you've got to grab it and never let go.\", 'Whoever said the pen is mightier than the sword obviously never encountered automatic weapons.', 'He is happiest, be he king or peasant, who finds peace in his home.', 'The greatest discovery of all time is that a person can change his future by merely changing his attitude.', 'The size of your success is measured by the strength of your desire; the size of your dream; and how you handle disappointment along the way.', \"The dog is a gentleman; I hope to go to his heaven not man's.\", \"Don't judge each day by the harvest you reap but by the seeds that you plant.\", 'I can be changed by what happens to me. But I refuse to be reduced by it.', 'To acquire knowledge, one must study; but to acquire wisdom, one must observe.', 'No person is your friend who demands your silence, or denies your right to grow.', \"If you can't make it good, at least make it look good.\", 'Love begins by taking care of the closest ones - the ones at home.', 'Our death is not an end if we can live on in our children and the younger generation. For they are us; our bodies are only wilted leaves on the tree of life.', 'All great change in America begins at the dinner table.', 'Winning takes talent; to repeat takes character.', \"Humility is not thinking less of yourself, it's thinking of yourself less.\", 'You are always a student, never a master. You have to keep moving forward.', \"That's the real trouble with the world, too many people grow up.\", 'If we want to find safe alternatives to obstetrics, we must rediscover midwifery. To rediscover midwifery is the same as giving back childbirth to women. And imagine the future if surgical teams were at the service of the midwives and the women instead of controlling them.', 'Women are made to be loved, not understood.', \"Don't wait. The time will never be just right.\", 'One of the greatest diseases is to be nobody to anybody.', 'Real loss is only possible when you love something more than you love yourself.', 'Opportunity is missed by most people because it is dressed in overalls and looks like work.', \"A mother's love for her child is like nothing else in the world. It knows no law, no pity, it dares all things and crushes down remorselessly all that stands in its path.\", 'When a woman becomes her own best friend life is easier.', 'One of the most tragic things I know about human nature is that all of us tend to put off living. We are all dreaming of some magical rose garden over the horizon instead of enjoying the roses that are blooming outside our windows today.', 'If your actions inspire others to dream more, learn more, do more and become more, you are a leader.', 'Children learn more from what you are than what you teach.', 'Optimism is a happiness magnet. If you stay positive, good things and good people will be drawn to you.', \"We cannot be both the world's leading champion of peace and the world's leading supplier of the weapons of war.\", \"Life isn't about finding yourself. Life is about creating yourself.\", 'The only thing worse than being blind is having sight but no vision.', \"I'd rather attempt to do something great and fail than to attempt to do nothing and succeed.\", 'Keep your dreams alive. Understand to achieve anything requires faith and belief in yourself, vision, hard work, determination, and dedication. Remember all things are possible for those who believe.', 'Whatever you want in life, other people are going to want it too. Believe in yourself enough to accept the idea that you have an equal right to it.', 'Even if I knew that tomorrow the world would go to pieces, I would still plant my apple tree.', 'Disciplining yourself to do what you know is right and important, although difficult, is the highroad to pride, self-esteem, and personal satisfaction.', 'All great achievements require time.', 'Success is not the key to happiness. Happiness is the key to success. If you love what you are doing, you will be successful.', 'When one door closes, another opens; but we often look so long and so regretfully upon the closed door that we do not see the one which has opened for us.', 'Discipline is the bridge between goals and accomplishment.', \"Don't find fault, find a remedy.\", \"I used to think the worst thing in life was to end up all alone. It's not. The worst thing in life is to end up with people who make you feel all alone.\", \"Friends and good manners will carry you where money won't go.\", 'If you want to make a permanent change, stop focusing on the size of your problems and start focusing on the size of you!', 'Courage is the price that life exacts for granting peace.', 'The worst evils which mankind has ever had to endure were inflicted by bad governments.', 'The moment we begin to fear the opinions of others and hesitate to tell the truth that is in us, and from motives of policy are silent when we should speak, the divine floods of light and life no longer flow into our souls.', 'Trust yourself, you know more than you think you do.', 'Some people want it to happen, some wish it would happen, others make it happen.', 'High achievement always takes place in the framework of high expectation.', 'The body is your temple. Keep it pure and clean for the soul to reside in.', 'Be like a duck. Calm on the surface, but always paddling like the dickens underneath.', 'Tears shed for self are tears of weakness, but tears shed for others are a sign of strength.', 'Success is neither magical nor mysterious. Success is the natural consequence of consistently applying the basic fundamentals.', 'It is wise to direct your anger towards problems - not people; to focus your energies on answers - not excuses.', 'If we did all the things we are capable of doing, we would literally astound ourselves.', 'Love is our true destiny. We do not find the meaning of life by ourselves alone - we find it with another.', 'I ask, sir, what is the militia? It is the whole people except for a few public officials.', \"As long as there's pasta and Chinese food in the world, I'm okay.\", 'The few who do are the envy of the many who only watch.', \"Don't brood. Get on with living and loving. You don't have forever.\", \"Tricks and treachery are the practice of fools, that don't have brains enough to be honest.\", 'The Marines have landed and the situation is well in hand.', \"Life is one big road with lots of signs,\\nSo when you riding through the ruts,\\nDon't you complicate your mind\\nFlee from hate, mischief and jealousy\\nDon't bury your thoughts; put your vision to reality.\", 'There is always some madness in love. But there is also always some reason in madness.', 'For peace of mind, we need to resign as general manager of the universe.', 'I am free, no matter what rules surround me. If I find them tolerable, I tolerate them; if I find them too obnoxious, I break them. I am free because I know that I alone am morally responsible for everything I do.', 'Only put off until tomorrow what you are willing to die having left undone.', 'The will to win, the desire to succeed, the urge to reach your full potential... these are the keys that will unlock the door to personal excellence.', 'Difficulties are meant to rouse, not discourage. The human spirit is to grow strong by conflict.', \"It's very hard in the beginning to understand that the whole idea is not to beat the other runners. Eventually you learn that the competition is against the little voice inside you that wants you to quit.\", 'A well-developed sense of humor is the pole that adds balance to your steps as you walk the tightrope of life.', 'We relish news of our heroes, forgetting that we are extraordinary to somebody too.', 'It takes less time to do a thing right, than it does to explain why you did it wrong.', \"It isn't the mountain ahead that wears you out; it's the grain of sand in your shoe.\", 'Empty your mind, be formless. Shapeless, like water. If you put water into a cup, it becomes the cup. You put water into a bottle and it becomes the bottle. You put it in a teapot it becomes the teapot. Now, water can flow or it can crash. Be water, my friend.', 'The longer we dwell on our misfortunes, the greater is their power to harm us', \"Sometimes I've believed as many as six impossible things before breakfast.\", 'Do not fear mistakes. There are none.', 'Expose yourself to your deepest fear; after that, fear has no power, and the fear of freedom shrinks and vanishes. You are free.', 'Anger is an acid that can do more harm to the vessel in which it is stored than to anything on which it is poured.', 'Failure is success if we learn from it.', 'You are here to enable the divine purpose of the Universe to unfold. That is how important you are!', 'People like us, who believe in physics, know that the distinction between past, present, and future is only a stubbornly persistent illusion.', 'I still need Marines who can shoot and salute. But I need Marines who can fix jet engines and man sophisticated radar sets, as well.', \"You can't expect to hit the jackpot if you don't put a few nickels in the machine.\", 'One of the penalties for refusing to participate in politics is that you end up being governed by your inferiors.', 'It is what we know already that often prevents us from learning.', 'The only limit to our realization of tomorrow will be our doubts of today.', \"I've learned that making a 'living' is not the same thing as 'making a life'.\", 'The spirit, the will to win, and the will to excel are the things that endure. These qualities are so much more important than the events that occur.', 'When I started counting my blessings, my whole life turned around.', 'Every time you smile at someone, it is an action of love, a gift to that person, a beautiful thing.', 'Ninety-nine percent of the failures come from people who have the habit of making excuses.', 'Everything comes to us that belongs to us if we create the capacity to receive it.', \"What doesn't kill you makes you smaller\", 'The difficulties you meet will resolve themselves as you advance. Proceed, and light will dawn, and shine with increasing clearness on your path.', \"It's not what's happening to you now or what has happened in your past that determines who you become. Rather, it's your decisions about what to focus on, what things mean to you, and what you're going to do about them that will determine your ultimate destiny.\", 'Live your life and forget your age.', 'We may not be able to prepare the future for our children, but we can at least prepare our children for the future.', 'Men occasionally stumble over the truth, but most of them pick themselves up and hurry off as if nothing had happened.', \"That's been one of my mantras - focus and simplicity. Simple can be harder than complex: You have to work hard to get your thinking clean to make it simple. But it's worth it in the end because once you get there, you can move mountains.\", 'The trouble with most of us is that we would rather be ruined by praise than saved by criticism.', 'The smallest deed is better than the greatest intention.', \"Only two things are infinite, the universe and human stupidity, and I'm not sure about the former.\", 'A nation of sheep will beget a government of wolves.', \"Nothing else can quite substitute for a few well-chosen,\\nwell-timed, sincere words of praise.\\nThey're absolutely free and worth a fortune\", \"There is nothing in a caterpillar that tells you it's going to be a butterfly.\", \"A charming woman... doesn't follow the crowd. She is herself.\", \"You don't understand anything until you learn it more than one way.\", 'Doubt yourself and you doubt everything you see. Judge yourself and you see judges everywhere. But if you listen to the sound of your own voice, you can rise above doubt and judgment. And you can see forever.', \"Find the good. It's all around you. Find it, showcase it and you'll start believing in it.\", 'Happiness in marriage is entirely a matter of chance.', 'The difference between a mountain and a molehill is your perspective.', 'It is best to act with confidence, no matter how little right you have to it.', \"People usually consider walking on water or in thin air a miracle. But I think the real miracle is not to walk either on water or in thin air, but to walk on earth. Every day we are engaged in a miracle which we don't even recognize: a blue sky, white clouds, green leaves, the black, curious eyes of a child -- our own two eyes. All is a miracle.\", 'Freedom means the opportunity to be what we never thought we would be.', 'For it was not into my ear you whispered, but into my heart. It was not my lips you kissed, but my soul.', 'I will love the light for it shows me the way, yet I will endure the darkness because it shows me the stars.', \"If you run, you are a runner. It doesn't matter how fast or how far. It doesn't matter if today is your first day or if you've been running for twenty years. There is no test to pass, no license to earn, no membership card to get. You just run.\", \"The world is a dangerous place to live; not because of the people who are evil, but because of the people who don't do anything about it.\", 'The deepest principle in human nature is the craving to be appreciated.', \"About all you can do in life is be who you are. Some people will love you for you. Most will love you for what you can do for them, and some won't like you at all.\", 'To find out what one is fitted to do, and to secure an opportunity to do it, is the key to happiness.', 'Forgiveness says you are given another chance to make a new beginning.', 'What is success? I think it is a mixture of having a flair for the thing that you are doing; knowing that it is not enough, that you have got to have hard work and a certain sense of purpose.', 'The past has no power over the present moment.', \"Do not let your fire go out, spark by irreplaceable spark in the hopeless swamps of the not-quite, the not-yet, and the not-at-all. Do not let the hero in your soul perish in lonely frustration for the life you deserved and have never been able to reach. The world you desire can be won. It exists.. it is real.. it is possible.. it's yours.\", 'No person was ever honored for what he received. Honor has been the reward for what he gave.', 'Love yourself-accept yourself-forgive yourself-and be good to yourself, because without you the rest of us are without a source of many wonderful things.', 'Wherever you are, and whatever you do, be in love.', 'Whenever you find yourself on the side of the majority, it is time to pause and reflect.', 'And those who were seen dancing were thought to be insane by those who could not hear the music.', \"I love things that age well - things that don't date, that stand the test of time and that become living examples of the absolute best.\", 'Better be wise by the misfortunes of others than by your own.', 'The person, be it gentleman or lady, who has not pleasure in a good novel, must be intolerably stupid.', \"The opposite of love is not hate, it's indifference. The opposite of art is not ugliness, it's indifference. The opposite of faith is not heresy, it's indifference. And the opposite of life is not death, it's indifference.\", 'Curiosity is one of the most permanent and certain characteristics of a vigorous intellect.', 'Leaders must be close enough to relate to others, but far enough ahead to motivate them.', 'Regret for the things we did can be tempered by time; it is regret for the things we did not do that is inconsolable.', 'America... just a nation of two hundred million used car salesmen with all the money we need to buy guns and no qualms about killing anybody else in the world who tries to make us uncomfortable.', 'For every disciplined effort there is a multiple reward.', \"The spiritual journey is individual, highly personal. It can't be organized or regulated. It isn't true that everyone should follow one path. Listen to your own truth.\", 'The mind is not a vessel to be filled but a fire to be kindled.', 'Courage is the price that life exacts for granting peace.', 'The worst evils which mankind has ever had to endure were inflicted by bad governments.', 'The moment we begin to fear the opinions of others and hesitate to tell the truth that is in us, and from motives of policy are silent when we should speak, the divine floods of light and life no longer flow into our souls.', 'Trust yourself, you know more than you think you do.', 'Some people want it to happen, some wish it would happen, others make it happen.', 'High achievement always takes place in the framework of high expectation.', 'The body is your temple. Keep it pure and clean for the soul to reside in.', 'Be like a duck. Calm on the surface, but always paddling like the dickens underneath.', 'Tears shed for self are tears of weakness, but tears shed for others are a sign of strength.', 'Success is neither magical nor mysterious. Success is the natural consequence of consistently applying the basic fundamentals.', 'It is wise to direct your anger towards problems - not people; to focus your energies on answers - not excuses.', 'If we did all the things we are capable of doing, we would literally astound ourselves.', 'Love is our true destiny. We do not find the meaning of life by ourselves alone - we find it with another.', 'I ask, sir, what is the militia? It is the whole people except for a few public officials.', \"As long as there's pasta and Chinese food in the world, I'm okay.\", 'The few who do are the envy of the many who only watch.', \"Don't brood. Get on with living and loving. You don't have forever.\", \"Tricks and treachery are the practice of fools, that don't have brains enough to be honest.\", 'The Marines have landed and the situation is well in hand.', \"Life is one big road with lots of signs,\\nSo when you riding through the ruts,\\nDon't you complicate your mind\\nFlee from hate, mischief and jealousy\\nDon't bury your thoughts; put your vision to reality.\", 'There is always some madness in love. But there is also always some reason in madness.', 'For peace of mind, we need to resign as general manager of the universe.', 'I am free, no matter what rules surround me. If I find them tolerable, I tolerate them; if I find them too obnoxious, I break them. I am free because I know that I alone am morally responsible for everything I do.', 'Only put off until tomorrow what you are willing to die having left undone.', 'The will to win, the desire to succeed, the urge to reach your full potential... these are the keys that will unlock the door to personal excellence.', 'Difficulties are meant to rouse, not discourage. The human spirit is to grow strong by conflict.', \"It's very hard in the beginning to understand that the whole idea is not to beat the other runners. Eventually you learn that the competition is against the little voice inside you that wants you to quit.\", 'A well-developed sense of humor is the pole that adds balance to your steps as you walk the tightrope of life.', 'We relish news of our heroes, forgetting that we are extraordinary to somebody too.', 'It takes less time to do a thing right, than it does to explain why you did it wrong.', \"It isn't the mountain ahead that wears you out; it's the grain of sand in your shoe.\", 'Empty your mind, be formless. Shapeless, like water. If you put water into a cup, it becomes the cup. You put water into a bottle and it becomes the bottle. You put it in a teapot it becomes the teapot. Now, water can flow or it can crash. Be water, my friend.', 'The longer we dwell on our misfortunes, the greater is their power to harm us', \"Sometimes I've believed as many as six impossible things before breakfast.\", 'Do not fear mistakes. There are none.', 'Expose yourself to your deepest fear; after that, fear has no power, and the fear of freedom shrinks and vanishes. You are free.', 'Anger is an acid that can do more harm to the vessel in which it is stored than to anything on which it is poured.', 'Failure is success if we learn from it.', 'You are here to enable the divine purpose of the Universe to unfold. That is how important you are!', 'People like us, who believe in physics, know that the distinction between past, present, and future is only a stubbornly persistent illusion.', 'I still need Marines who can shoot and salute. But I need Marines who can fix jet engines and man sophisticated radar sets, as well.', \"You can't expect to hit the jackpot if you don't put a few nickels in the machine.\", 'One of the penalties for refusing to participate in politics is that you end up being governed by your inferiors.', 'It is what we know already that often prevents us from learning.', 'The only limit to our realization of tomorrow will be our doubts of today.', \"I've learned that making a 'living' is not the same thing as 'making a life'.\", 'The spirit, the will to win, and the will to excel are the things that endure. These qualities are so much more important than the events that occur.', 'When I started counting my blessings, my whole life turned around.', 'Every time you smile at someone, it is an action of love, a gift to that person, a beautiful thing.', 'Ninety-nine percent of the failures come from people who have the habit of making excuses.', 'Everything comes to us that belongs to us if we create the capacity to receive it.', \"What doesn't kill you makes you smaller\", 'The difficulties you meet will resolve themselves as you advance. Proceed, and light will dawn, and shine with increasing clearness on your path.', \"It's not what's happening to you now or what has happened in your past that determines who you become. Rather, it's your decisions about what to focus on, what things mean to you, and what you're going to do about them that will determine your ultimate destiny.\", 'Live your life and forget your age.', 'We may not be able to prepare the future for our children, but we can at least prepare our children for the future.', 'Men occasionally stumble over the truth, but most of them pick themselves up and hurry off as if nothing had happened.', \"That's been one of my mantras - focus and simplicity. Simple can be harder than complex: You have to work hard to get your thinking clean to make it simple. But it's worth it in the end because once you get there, you can move mountains.\", 'The trouble with most of us is that we would rather be ruined by praise than saved by criticism.', 'The smallest deed is better than the greatest intention.', \"Only two things are infinite, the universe and human stupidity, and I'm not sure about the former.\", 'A nation of sheep will beget a government of wolves.', \"Nothing else can quite substitute for a few well-chosen,\\nwell-timed, sincere words of praise.\\nThey're absolutely free and worth a fortune\", \"There is nothing in a caterpillar that tells you it's going to be a butterfly.\", \"A charming woman... doesn't follow the crowd. She is herself.\", \"You don't understand anything until you learn it more than one way.\", 'Doubt yourself and you doubt everything you see. Judge yourself and you see judges everywhere. But if you listen to the sound of your own voice, you can rise above doubt and judgment. And you can see forever.', \"Find the good. It's all around you. Find it, showcase it and you'll start believing in it.\", 'Happiness in marriage is entirely a matter of chance.', 'The difference between a mountain and a molehill is your perspective.', 'It is best to act with confidence, no matter how little right you have to it.', \"People usually consider walking on water or in thin air a miracle. But I think the real miracle is not to walk either on water or in thin air, but to walk on earth. Every day we are engaged in a miracle which we don't even recognize: a blue sky, white clouds, green leaves, the black, curious eyes of a child -- our own two eyes. All is a miracle.\", 'Freedom means the opportunity to be what we never thought we would be.', 'For it was not into my ear you whispered, but into my heart. It was not my lips you kissed, but my soul.', 'I will love the light for it shows me the way, yet I will endure the darkness because it shows me the stars.', \"If you run, you are a runner. It doesn't matter how fast or how far. It doesn't matter if today is your first day or if you've been running for twenty years. There is no test to pass, no license to earn, no membership card to get. You just run.\", \"The world is a dangerous place to live; not because of the people who are evil, but because of the people who don't do anything about it.\", 'The deepest principle in human nature is the craving to be appreciated.', \"About all you can do in life is be who you are. Some people will love you for you. Most will love you for what you can do for them, and some won't like you at all.\", 'To find out what one is fitted to do, and to secure an opportunity to do it, is the key to happiness.', 'Forgiveness says you are given another chance to make a new beginning.', 'What is success? I think it is a mixture of having a flair for the thing that you are doing; knowing that it is not enough, that you have got to have hard work and a certain sense of purpose.', 'The past has no power over the present moment.', \"Do not let your fire go out, spark by irreplaceable spark in the hopeless swamps of the not-quite, the not-yet, and the not-at-all. Do not let the hero in your soul perish in lonely frustration for the life you deserved and have never been able to reach. The world you desire can be won. It exists.. it is real.. it is possible.. it's yours.\", 'No person was ever honored for what he received. Honor has been the reward for what he gave.', 'Love yourself-accept yourself-forgive yourself-and be good to yourself, because without you the rest of us are without a source of many wonderful things.', 'Wherever you are, and whatever you do, be in love.', 'Whenever you find yourself on the side of the majority, it is time to pause and reflect.', 'And those who were seen dancing were thought to be insane by those who could not hear the music.', \"I love things that age well - things that don't date, that stand the test of time and that become living examples of the absolute best.\", 'Better be wise by the misfortunes of others than by your own.', 'The person, be it gentleman or lady, who has not pleasure in a good novel, must be intolerably stupid.', \"The opposite of love is not hate, it's indifference. The opposite of art is not ugliness, it's indifference. The opposite of faith is not heresy, it's indifference. And the opposite of life is not death, it's indifference.\", 'Curiosity is one of the most permanent and certain characteristics of a vigorous intellect.', 'Leaders must be close enough to relate to others, but far enough ahead to motivate them.', 'Regret for the things we did can be tempered by time; it is regret for the things we did not do that is inconsolable.', 'America... just a nation of two hundred million used car salesmen with all the money we need to buy guns and no qualms about killing anybody else in the world who tries to make us uncomfortable.', 'For every disciplined effort there is a multiple reward.', \"The spiritual journey is individual, highly personal. It can't be organized or regulated. It isn't true that everyone should follow one path. Listen to your own truth.\", 'The mind is not a vessel to be filled but a fire to be kindled.', 'Courage is the price that life exacts for granting peace.', 'The worst evils which mankind has ever had to endure were inflicted by bad governments.', 'The moment we begin to fear the opinions of others and hesitate to tell the truth that is in us, and from motives of policy are silent when we should speak, the divine floods of light and life no longer flow into our souls.', 'Trust yourself, you know more than you think you do.', 'Some people want it to happen, some wish it would happen, others make it happen.', 'High achievement always takes place in the framework of high expectation.', 'The body is your temple. Keep it pure and clean for the soul to reside in.', 'Be like a duck. Calm on the surface, but always paddling like the dickens underneath.', 'Tears shed for self are tears of weakness, but tears shed for others are a sign of strength.', 'Success is neither magical nor mysterious. Success is the natural consequence of consistently applying the basic fundamentals.', 'It is wise to direct your anger towards problems - not people; to focus your energies on answers - not excuses.', 'If we did all the things we are capable of doing, we would literally astound ourselves.', 'Love is our true destiny. We do not find the meaning of life by ourselves alone - we find it with another.', 'I ask, sir, what is the militia? It is the whole people except for a few public officials.', \"As long as there's pasta and Chinese food in the world, I'm okay.\", 'The few who do are the envy of the many who only watch.', \"Don't brood. Get on with living and loving. You don't have forever.\", \"Tricks and treachery are the practice of fools, that don't have brains enough to be honest.\", 'The Marines have landed and the situation is well in hand.', \"Life is one big road with lots of signs,\\nSo when you riding through the ruts,\\nDon't you complicate your mind\\nFlee from hate, mischief and jealousy\\nDon't bury your thoughts; put your vision to reality.\", 'There is always some madness in love. But there is also always some reason in madness.', 'For peace of mind, we need to resign as general manager of the universe.', 'I am free, no matter what rules surround me. If I find them tolerable, I tolerate them; if I find them too obnoxious, I break them. I am free because I know that I alone am morally responsible for everything I do.', 'Only put off until tomorrow what you are willing to die having left undone.', 'The will to win, the desire to succeed, the urge to reach your full potential... these are the keys that will unlock the door to personal excellence.', 'Difficulties are meant to rouse, not discourage. The human spirit is to grow strong by conflict.', \"It's very hard in the beginning to understand that the whole idea is not to beat the other runners. Eventually you learn that the competition is against the little voice inside you that wants you to quit.\", 'A well-developed sense of humor is the pole that adds balance to your steps as you walk the tightrope of life.', 'We relish news of our heroes, forgetting that we are extraordinary to somebody too.', 'It takes less time to do a thing right, than it does to explain why you did it wrong.', \"It isn't the mountain ahead that wears you out; it's the grain of sand in your shoe.\", 'Empty your mind, be formless. Shapeless, like water. If you put water into a cup, it becomes the cup. You put water into a bottle and it becomes the bottle. You put it in a teapot it becomes the teapot. Now, water can flow or it can crash. Be water, my friend.', 'The longer we dwell on our misfortunes, the greater is their power to harm us', \"Sometimes I've believed as many as six impossible things before breakfast.\", 'Do not fear mistakes. There are none.', 'Expose yourself to your deepest fear; after that, fear has no power, and the fear of freedom shrinks and vanishes. You are free.', 'Anger is an acid that can do more harm to the vessel in which it is stored than to anything on which it is poured.', 'Failure is success if we learn from it.', 'You are here to enable the divine purpose of the Universe to unfold. That is how important you are!', 'People like us, who believe in physics, know that the distinction between past, present, and future is only a stubbornly persistent illusion.', 'I still need Marines who can shoot and salute. But I need Marines who can fix jet engines and man sophisticated radar sets, as well.', \"You can't expect to hit the jackpot if you don't put a few nickels in the machine.\", 'One of the penalties for refusing to participate in politics is that you end up being governed by your inferiors.', 'It is what we know already that often prevents us from learning.', 'The only limit to our realization of tomorrow will be our doubts of today.', \"I've learned that making a 'living' is not the same thing as 'making a life'.\", 'The spirit, the will to win, and the will to excel are the things that endure. These qualities are so much more important than the events that occur.', 'When I started counting my blessings, my whole life turned around.', 'Every time you smile at someone, it is an action of love, a gift to that person, a beautiful thing.', 'Ninety-nine percent of the failures come from people who have the habit of making excuses.', 'Everything comes to us that belongs to us if we create the capacity to receive it.', \"What doesn't kill you makes you smaller\", 'The difficulties you meet will resolve themselves as you advance. Proceed, and light will dawn, and shine with increasing clearness on your path.', \"It's not what's happening to you now or what has happened in your past that determines who you become. Rather, it's your decisions about what to focus on, what things mean to you, and what you're going to do about them that will determine your ultimate destiny.\", 'Live your life and forget your age.', 'We may not be able to prepare the future for our children, but we can at least prepare our children for the future.', 'Men occasionally stumble over the truth, but most of them pick themselves up and hurry off as if nothing had happened.', \"That's been one of my mantras - focus and simplicity. Simple can be harder than complex: You have to work hard to get your thinking clean to make it simple. But it's worth it in the end because once you get there, you can move mountains.\", 'The trouble with most of us is that we would rather be ruined by praise than saved by criticism.', 'The smallest deed is better than the greatest intention.', \"Only two things are infinite, the universe and human stupidity, and I'm not sure about the former.\", 'A nation of sheep will beget a government of wolves.', \"Nothing else can quite substitute for a few well-chosen,\\nwell-timed, sincere words of praise.\\nThey're absolutely free and worth a fortune\", \"There is nothing in a caterpillar that tells you it's going to be a butterfly.\", \"A charming woman... doesn't follow the crowd. She is herself.\", \"You don't understand anything until you learn it more than one way.\", 'Doubt yourself and you doubt everything you see. Judge yourself and you see judges everywhere. But if you listen to the sound of your own voice, you can rise above doubt and judgment. And you can see forever.', \"Find the good. It's all around you. Find it, showcase it and you'll start believing in it.\", 'Happiness in marriage is entirely a matter of chance.', 'The difference between a mountain and a molehill is your perspective.', 'It is best to act with confidence, no matter how little right you have to it.', \"People usually consider walking on water or in thin air a miracle. But I think the real miracle is not to walk either on water or in thin air, but to walk on earth. Every day we are engaged in a miracle which we don't even recognize: a blue sky, white clouds, green leaves, the black, curious eyes of a child -- our own two eyes. All is a miracle.\", 'Freedom means the opportunity to be what we never thought we would be.', 'For it was not into my ear you whispered, but into my heart. It was not my lips you kissed, but my soul.', 'I will love the light for it shows me the way, yet I will endure the darkness because it shows me the stars.', \"If you run, you are a runner. It doesn't matter how fast or how far. It doesn't matter if today is your first day or if you've been running for twenty years. There is no test to pass, no license to earn, no membership card to get. You just run.\", \"The world is a dangerous place to live; not because of the people who are evil, but because of the people who don't do anything about it.\", 'The deepest principle in human nature is the craving to be appreciated.', \"About all you can do in life is be who you are. Some people will love you for you. Most will love you for what you can do for them, and some won't like you at all.\", 'To find out what one is fitted to do, and to secure an opportunity to do it, is the key to happiness.', 'Forgiveness says you are given another chance to make a new beginning.', 'What is success? I think it is a mixture of having a flair for the thing that you are doing; knowing that it is not enough, that you have got to have hard work and a certain sense of purpose.', 'The past has no power over the present moment.', \"Do not let your fire go out, spark by irreplaceable spark in the hopeless swamps of the not-quite, the not-yet, and the not-at-all. Do not let the hero in your soul perish in lonely frustration for the life you deserved and have never been able to reach. The world you desire can be won. It exists.. it is real.. it is possible.. it's yours.\", 'No person was ever honored for what he received. Honor has been the reward for what he gave.', 'Love yourself-accept yourself-forgive yourself-and be good to yourself, because without you the rest of us are without a source of many wonderful things.', 'Wherever you are, and whatever you do, be in love.', 'Whenever you find yourself on the side of the majority, it is time to pause and reflect.', 'And those who were seen dancing were thought to be insane by those who could not hear the music.', \"I love things that age well - things that don't date, that stand the test of time and that become living examples of the absolute best.\", 'Better be wise by the misfortunes of others than by your own.', 'The person, be it gentleman or lady, who has not pleasure in a good novel, must be intolerably stupid.', \"The opposite of love is not hate, it's indifference. The opposite of art is not ugliness, it's indifference. The opposite of faith is not heresy, it's indifference. And the opposite of life is not death, it's indifference.\", 'Curiosity is one of the most permanent and certain characteristics of a vigorous intellect.', 'Leaders must be close enough to relate to others, but far enough ahead to motivate them.', 'Regret for the things we did can be tempered by time; it is regret for the things we did not do that is inconsolable.', 'America... just a nation of two hundred million used car salesmen with all the money we need to buy guns and no qualms about killing anybody else in the world who tries to make us uncomfortable.', 'For every disciplined effort there is a multiple reward.', \"The spiritual journey is individual, highly personal. It can't be organized or regulated. It isn't true that everyone should follow one path. Listen to your own truth.\", 'The mind is not a vessel to be filled but a fire to be kindled.', 'Courage is the price that life exacts for granting peace.', 'The worst evils which mankind has ever had to endure were inflicted by bad governments.', 'The moment we begin to fear the opinions of others and hesitate to tell the truth that is in us, and from motives of policy are silent when we should speak, the divine floods of light and life no longer flow into our souls.', 'Trust yourself, you know more than you think you do.', 'Some people want it to happen, some wish it would happen, others make it happen.', 'High achievement always takes place in the framework of high expectation.', 'The body is your temple. Keep it pure and clean for the soul to reside in.', 'Be like a duck. Calm on the surface, but always paddling like the dickens underneath.', 'Tears shed for self are tears of weakness, but tears shed for others are a sign of strength.', 'Success is neither magical nor mysterious. Success is the natural consequence of consistently applying the basic fundamentals.', 'It is wise to direct your anger towards problems - not people; to focus your energies on answers - not excuses.', 'If we did all the things we are capable of doing, we would literally astound ourselves.', 'Love is our true destiny. We do not find the meaning of life by ourselves alone - we find it with another.', 'I ask, sir, what is the militia? It is the whole people except for a few public officials.', \"As long as there's pasta and Chinese food in the world, I'm okay.\", 'The few who do are the envy of the many who only watch.', \"Don't brood. Get on with living and loving. You don't have forever.\", \"Tricks and treachery are the practice of fools, that don't have brains enough to be honest.\", 'The Marines have landed and the situation is well in hand.', \"Life is one big road with lots of signs,\\nSo when you riding through the ruts,\\nDon't you complicate your mind\\nFlee from hate, mischief and jealousy\\nDon't bury your thoughts; put your vision to reality.\", 'There is always some madness in love. But there is also always some reason in madness.', 'For peace of mind, we need to resign as general manager of the universe.', 'I am free, no matter what rules surround me. If I find them tolerable, I tolerate them; if I find them too obnoxious, I break them. I am free because I know that I alone am morally responsible for everything I do.', 'Only put off until tomorrow what you are willing to die having left undone.', 'The will to win, the desire to succeed, the urge to reach your full potential... these are the keys that will unlock the door to personal excellence.', 'Difficulties are meant to rouse, not discourage. The human spirit is to grow strong by conflict.', \"It's very hard in the beginning to understand that the whole idea is not to beat the other runners. Eventually you learn that the competition is against the little voice inside you that wants you to quit.\", 'A well-developed sense of humor is the pole that adds balance to your steps as you walk the tightrope of life.', 'We relish news of our heroes, forgetting that we are extraordinary to somebody too.', 'It takes less time to do a thing right, than it does to explain why you did it wrong.', \"It isn't the mountain ahead that wears you out; it's the grain of sand in your shoe.\", 'Empty your mind, be formless. Shapeless, like water. If you put water into a cup, it becomes the cup. You put water into a bottle and it becomes the bottle. You put it in a teapot it becomes the teapot. Now, water can flow or it can crash. Be water, my friend.', 'The longer we dwell on our misfortunes, the greater is their power to harm us', \"Sometimes I've believed as many as six impossible things before breakfast.\", 'Do not fear mistakes. There are none.', 'Expose yourself to your deepest fear; after that, fear has no power, and the fear of freedom shrinks and vanishes. You are free.', 'Anger is an acid that can do more harm to the vessel in which it is stored than to anything on which it is poured.', 'Failure is success if we learn from it.', 'You are here to enable the divine purpose of the Universe to unfold. That is how important you are!', 'People like us, who believe in physics, know that the distinction between past, present, and future is only a stubbornly persistent illusion.', 'I still need Marines who can shoot and salute. But I need Marines who can fix jet engines and man sophisticated radar sets, as well.', \"You can't expect to hit the jackpot if you don't put a few nickels in the machine.\", 'One of the penalties for refusing to participate in politics is that you end up being governed by your inferiors.', 'It is what we know already that often prevents us from learning.', 'The only limit to our realization of tomorrow will be our doubts of today.', \"I've learned that making a 'living' is not the same thing as 'making a life'.\", 'The spirit, the will to win, and the will to excel are the things that endure. These qualities are so much more important than the events that occur.', 'When I started counting my blessings, my whole life turned around.', 'Every time you smile at someone, it is an action of love, a gift to that person, a beautiful thing.', 'Ninety-nine percent of the failures come from people who have the habit of making excuses.', 'Everything comes to us that belongs to us if we create the capacity to receive it.', \"What doesn't kill you makes you smaller\", 'The difficulties you meet will resolve themselves as you advance. Proceed, and light will dawn, and shine with increasing clearness on your path.', \"It's not what's happening to you now or what has happened in your past that determines who you become. Rather, it's your decisions about what to focus on, what things mean to you, and what you're going to do about them that will determine your ultimate destiny.\", 'Live your life and forget your age.', 'We may not be able to prepare the future for our children, but we can at least prepare our children for the future.', 'Men occasionally stumble over the truth, but most of them pick themselves up and hurry off as if nothing had happened.', \"That's been one of my mantras - focus and simplicity. Simple can be harder than complex: You have to work hard to get your thinking clean to make it simple. But it's worth it in the end because once you get there, you can move mountains.\", 'The trouble with most of us is that we would rather be ruined by praise than saved by criticism.', 'The smallest deed is better than the greatest intention.', \"Only two things are infinite, the universe and human stupidity, and I'm not sure about the former.\", 'A nation of sheep will beget a government of wolves.', \"Nothing else can quite substitute for a few well-chosen,\\nwell-timed, sincere words of praise.\\nThey're absolutely free and worth a fortune\", \"There is nothing in a caterpillar that tells you it's going to be a butterfly.\", \"A charming woman... doesn't follow the crowd. She is herself.\", \"You don't understand anything until you learn it more than one way.\", 'Doubt yourself and you doubt everything you see. Judge yourself and you see judges everywhere. But if you listen to the sound of your own voice, you can rise above doubt and judgment. And you can see forever.', \"Find the good. It's all around you. Find it, showcase it and you'll start believing in it.\", 'Happiness in marriage is entirely a matter of chance.', 'The difference between a mountain and a molehill is your perspective.', 'It is best to act with confidence, no matter how little right you have to it.', \"People usually consider walking on water or in thin air a miracle. But I think the real miracle is not to walk either on water or in thin air, but to walk on earth. Every day we are engaged in a miracle which we don't even recognize: a blue sky, white clouds, green leaves, the black, curious eyes of a child -- our own two eyes. All is a miracle.\", 'Freedom means the opportunity to be what we never thought we would be.', 'For it was not into my ear you whispered, but into my heart. It was not my lips you kissed, but my soul.', 'I will love the light for it shows me the way, yet I will endure the darkness because it shows me the stars.', \"If you run, you are a runner. It doesn't matter how fast or how far. It doesn't matter if today is your first day or if you've been running for twenty years. There is no test to pass, no license to earn, no membership card to get. You just run.\", \"The world is a dangerous place to live; not because of the people who are evil, but because of the people who don't do anything about it.\", 'The deepest principle in human nature is the craving to be appreciated.', \"About all you can do in life is be who you are. Some people will love you for you. Most will love you for what you can do for them, and some won't like you at all.\", 'To find out what one is fitted to do, and to secure an opportunity to do it, is the key to happiness.', 'Forgiveness says you are given another chance to make a new beginning.', 'What is success? I think it is a mixture of having a flair for the thing that you are doing; knowing that it is not enough, that you have got to have hard work and a certain sense of purpose.', 'The past has no power over the present moment.', \"Do not let your fire go out, spark by irreplaceable spark in the hopeless swamps of the not-quite, the not-yet, and the not-at-all. Do not let the hero in your soul perish in lonely frustration for the life you deserved and have never been able to reach. The world you desire can be won. It exists.. it is real.. it is possible.. it's yours.\", 'No person was ever honored for what he received. Honor has been the reward for what he gave.', 'Love yourself-accept yourself-forgive yourself-and be good to yourself, because without you the rest of us are without a source of many wonderful things.', 'Wherever you are, and whatever you do, be in love.', 'Whenever you find yourself on the side of the majority, it is time to pause and reflect.', 'And those who were seen dancing were thought to be insane by those who could not hear the music.', \"I love things that age well - things that don't date, that stand the test of time and that become living examples of the absolute best.\", 'Better be wise by the misfortunes of others than by your own.', 'The person, be it gentleman or lady, who has not pleasure in a good novel, must be intolerably stupid.', \"The opposite of love is not hate, it's indifference. The opposite of art is not ugliness, it's indifference. The opposite of faith is not heresy, it's indifference. And the opposite of life is not death, it's indifference.\", 'Curiosity is one of the most permanent and certain characteristics of a vigorous intellect.', 'Leaders must be close enough to relate to others, but far enough ahead to motivate them.', 'Regret for the things we did can be tempered by time; it is regret for the things we did not do that is inconsolable.', 'America... just a nation of two hundred million used car salesmen with all the money we need to buy guns and no qualms about killing anybody else in the world who tries to make us uncomfortable.', 'For every disciplined effort there is a multiple reward.', \"The spiritual journey is individual, highly personal. It can't be organized or regulated. It isn't true that everyone should follow one path. Listen to your own truth.\", 'The mind is not a vessel to be filled but a fire to be kindled.', 'Courage is the price that life exacts for granting peace.', 'The worst evils which mankind has ever had to endure were inflicted by bad governments.', 'The moment we begin to fear the opinions of others and hesitate to tell the truth that is in us, and from motives of policy are silent when we should speak, the divine floods of light and life no longer flow into our souls.', 'Trust yourself, you know more than you think you do.', 'Some people want it to happen, some wish it would happen, others make it happen.', 'High achievement always takes place in the framework of high expectation.', 'The body is your temple. Keep it pure and clean for the soul to reside in.', 'Be like a duck. Calm on the surface, but always paddling like the dickens underneath.', 'Tears shed for self are tears of weakness, but tears shed for others are a sign of strength.', 'Success is neither magical nor mysterious. Success is the natural consequence of consistently applying the basic fundamentals.', 'It is wise to direct your anger towards problems - not people; to focus your energies on answers - not excuses.', 'If we did all the things we are capable of doing, we would literally astound ourselves.', 'Love is our true destiny. We do not find the meaning of life by ourselves alone - we find it with another.', 'I ask, sir, what is the militia? It is the whole people except for a few public officials.', \"As long as there's pasta and Chinese food in the world, I'm okay.\", 'The few who do are the envy of the many who only watch.', \"Don't brood. Get on with living and loving. You don't have forever.\", \"Tricks and treachery are the practice of fools, that don't have brains enough to be honest.\", 'The Marines have landed and the situation is well in hand.', \"Life is one big road with lots of signs,\\nSo when you riding through the ruts,\\nDon't you complicate your mind\\nFlee from hate, mischief and jealousy\\nDon't bury your thoughts; put your vision to reality.\", 'There is always some madness in love. But there is also always some reason in madness.', 'For peace of mind, we need to resign as general manager of the universe.', 'I am free, no matter what rules surround me. If I find them tolerable, I tolerate them; if I find them too obnoxious, I break them. I am free because I know that I alone am morally responsible for everything I do.', 'Only put off until tomorrow what you are willing to die having left undone.', 'The will to win, the desire to succeed, the urge to reach your full potential... these are the keys that will unlock the door to personal excellence.', 'Difficulties are meant to rouse, not discourage. The human spirit is to grow strong by conflict.', \"It's very hard in the beginning to understand that the whole idea is not to beat the other runners. Eventually you learn that the competition is against the little voice inside you that wants you to quit.\", 'A well-developed sense of humor is the pole that adds balance to your steps as you walk the tightrope of life.', 'We relish news of our heroes, forgetting that we are extraordinary to somebody too.', 'It takes less time to do a thing right, than it does to explain why you did it wrong.', \"It isn't the mountain ahead that wears you out; it's the grain of sand in your shoe.\", 'Empty your mind, be formless. Shapeless, like water. If you put water into a cup, it becomes the cup. You put water into a bottle and it becomes the bottle. You put it in a teapot it becomes the teapot. Now, water can flow or it can crash. Be water, my friend.', 'The longer we dwell on our misfortunes, the greater is their power to harm us', \"Sometimes I've believed as many as six impossible things before breakfast.\", 'Do not fear mistakes. There are none.', 'Expose yourself to your deepest fear; after that, fear has no power, and the fear of freedom shrinks and vanishes. You are free.', 'Anger is an acid that can do more harm to the vessel in which it is stored than to anything on which it is poured.', 'Failure is success if we learn from it.', 'You are here to enable the divine purpose of the Universe to unfold. That is how important you are!', 'People like us, who believe in physics, know that the distinction between past, present, and future is only a stubbornly persistent illusion.', 'I still need Marines who can shoot and salute. But I need Marines who can fix jet engines and man sophisticated radar sets, as well.', \"You can't expect to hit the jackpot if you don't put a few nickels in the machine.\", 'One of the penalties for refusing to participate in politics is that you end up being governed by your inferiors.', 'It is what we know already that often prevents us from learning.', 'The only limit to our realization of tomorrow will be our doubts of today.', \"I've learned that making a 'living' is not the same thing as 'making a life'.\", 'The spirit, the will to win, and the will to excel are the things that endure. These qualities are so much more important than the events that occur.', 'When I started counting my blessings, my whole life turned around.', 'Every time you smile at someone, it is an action of love, a gift to that person, a beautiful thing.', 'Ninety-nine percent of the failures come from people who have the habit of making excuses.', 'Everything comes to us that belongs to us if we create the capacity to receive it.', \"What doesn't kill you makes you smaller\", 'The difficulties you meet will resolve themselves as you advance. Proceed, and light will dawn, and shine with increasing clearness on your path.', \"It's not what's happening to you now or what has happened in your past that determines who you become. Rather, it's your decisions about what to focus on, what things mean to you, and what you're going to do about them that will determine your ultimate destiny.\", 'Live your life and forget your age.', 'We may not be able to prepare the future for our children, but we can at least prepare our children for the future.', 'Men occasionally stumble over the truth, but most of them pick themselves up and hurry off as if nothing had happened.', \"That's been one of my mantras - focus and simplicity. Simple can be harder than complex: You have to work hard to get your thinking clean to make it simple. But it's worth it in the end because once you get there, you can move mountains.\", 'The trouble with most of us is that we would rather be ruined by praise than saved by criticism.', 'The smallest deed is better than the greatest intention.', \"Only two things are infinite, the universe and human stupidity, and I'm not sure about the former.\", 'A nation of sheep will beget a government of wolves.', \"Nothing else can quite substitute for a few well-chosen,\\nwell-timed, sincere words of praise.\\nThey're absolutely free and worth a fortune\", \"There is nothing in a caterpillar that tells you it's going to be a butterfly.\", \"A charming woman... doesn't follow the crowd. She is herself.\", \"You don't understand anything until you learn it more than one way.\", 'Doubt yourself and you doubt everything you see. Judge yourself and you see judges everywhere. But if you listen to the sound of your own voice, you can rise above doubt and judgment. And you can see forever.', \"Find the good. It's all around you. Find it, showcase it and you'll start believing in it.\", 'Happiness in marriage is entirely a matter of chance.', 'The difference between a mountain and a molehill is your perspective.', 'It is best to act with confidence, no matter how little right you have to it.', \"People usually consider walking on water or in thin air a miracle. But I think the real miracle is not to walk either on water or in thin air, but to walk on earth. Every day we are engaged in a miracle which we don't even recognize: a blue sky, white clouds, green leaves, the black, curious eyes of a child -- our own two eyes. All is a miracle.\", 'Freedom means the opportunity to be what we never thought we would be.', 'For it was not into my ear you whispered, but into my heart. It was not my lips you kissed, but my soul.', 'I will love the light for it shows me the way, yet I will endure the darkness because it shows me the stars.', \"If you run, you are a runner. It doesn't matter how fast or how far. It doesn't matter if today is your first day or if you've been running for twenty years. There is no test to pass, no license to earn, no membership card to get. You just run.\", \"The world is a dangerous place to live; not because of the people who are evil, but because of the people who don't do anything about it.\", 'The deepest principle in human nature is the craving to be appreciated.', \"About all you can do in life is be who you are. Some people will love you for you. Most will love you for what you can do for them, and some won't like you at all.\", 'To find out what one is fitted to do, and to secure an opportunity to do it, is the key to happiness.', 'Forgiveness says you are given another chance to make a new beginning.', 'What is success? I think it is a mixture of having a flair for the thing that you are doing; knowing that it is not enough, that you have got to have hard work and a certain sense of purpose.', 'The past has no power over the present moment.', \"Do not let your fire go out, spark by irreplaceable spark in the hopeless swamps of the not-quite, the not-yet, and the not-at-all. Do not let the hero in your soul perish in lonely frustration for the life you deserved and have never been able to reach. The world you desire can be won. It exists.. it is real.. it is possible.. it's yours.\", 'No person was ever honored for what he received. Honor has been the reward for what he gave.', 'Love yourself-accept yourself-forgive yourself-and be good to yourself, because without you the rest of us are without a source of many wonderful things.', 'Wherever you are, and whatever you do, be in love.', 'Whenever you find yourself on the side of the majority, it is time to pause and reflect.', 'And those who were seen dancing were thought to be insane by those who could not hear the music.', \"I love things that age well - things that don't date, that stand the test of time and that become living examples of the absolute best.\", 'Better be wise by the misfortunes of others than by your own.', 'The person, be it gentleman or lady, who has not pleasure in a good novel, must be intolerably stupid.', \"The opposite of love is not hate, it's indifference. The opposite of art is not ugliness, it's indifference. The opposite of faith is not heresy, it's indifference. And the opposite of life is not death, it's indifference.\", 'Curiosity is one of the most permanent and certain characteristics of a vigorous intellect.', 'Leaders must be close enough to relate to others, but far enough ahead to motivate them.', 'Regret for the things we did can be tempered by time; it is regret for the things we did not do that is inconsolable.', 'America... just a nation of two hundred million used car salesmen with all the money we need to buy guns and no qualms about killing anybody else in the world who tries to make us uncomfortable.', 'For every disciplined effort there is a multiple reward.', \"The spiritual journey is individual, highly personal. It can't be organized or regulated. It isn't true that everyone should follow one path. Listen to your own truth.\", 'The mind is not a vessel to be filled but a fire to be kindled.', 'Courage is the price that life exacts for granting peace.', 'The worst evils which mankind has ever had to endure were inflicted by bad governments.', 'The moment we begin to fear the opinions of others and hesitate to tell the truth that is in us, and from motives of policy are silent when we should speak, the divine floods of light and life no longer flow into our souls.', 'Trust yourself, you know more than you think you do.', 'Some people want it to happen, some wish it would happen, others make it happen.', 'High achievement always takes place in the framework of high expectation.', 'The body is your temple. Keep it pure and clean for the soul to reside in.', 'Be like a duck. Calm on the surface, but always paddling like the dickens underneath.', 'Tears shed for self are tears of weakness, but tears shed for others are a sign of strength.', 'Success is neither magical nor mysterious. Success is the natural consequence of consistently applying the basic fundamentals.', 'It is wise to direct your anger towards problems - not people; to focus your energies on answers - not excuses.', 'If we did all the things we are capable of doing, we would literally astound ourselves.', 'Love is our true destiny. We do not find the meaning of life by ourselves alone - we find it with another.', 'I ask, sir, what is the militia? It is the whole people except for a few public officials.', \"As long as there's pasta and Chinese food in the world, I'm okay.\", 'The few who do are the envy of the many who only watch.', \"Don't brood. Get on with living and loving. You don't have forever.\", \"Tricks and treachery are the practice of fools, that don't have brains enough to be honest.\", 'The Marines have landed and the situation is well in hand.', \"Life is one big road with lots of signs,\\nSo when you riding through the ruts,\\nDon't you complicate your mind\\nFlee from hate, mischief and jealousy\\nDon't bury your thoughts; put your vision to reality.\", 'There is always some madness in love. But there is also always some reason in madness.', 'For peace of mind, we need to resign as general manager of the universe.', 'I am free, no matter what rules surround me. If I find them tolerable, I tolerate them; if I find them too obnoxious, I break them. I am free because I know that I alone am morally responsible for everything I do.', 'Only put off until tomorrow what you are willing to die having left undone.', 'The will to win, the desire to succeed, the urge to reach your full potential... these are the keys that will unlock the door to personal excellence.', 'Difficulties are meant to rouse, not discourage. The human spirit is to grow strong by conflict.', \"It's very hard in the beginning to understand that the whole idea is not to beat the other runners. Eventually you learn that the competition is against the little voice inside you that wants you to quit.\", 'A well-developed sense of humor is the pole that adds balance to your steps as you walk the tightrope of life.', 'We relish news of our heroes, forgetting that we are extraordinary to somebody too.', 'It takes less time to do a thing right, than it does to explain why you did it wrong.', \"It isn't the mountain ahead that wears you out; it's the grain of sand in your shoe.\", 'Empty your mind, be formless. Shapeless, like water. If you put water into a cup, it becomes the cup. You put water into a bottle and it becomes the bottle. You put it in a teapot it becomes the teapot. Now, water can flow or it can crash. Be water, my friend.', 'The longer we dwell on our misfortunes, the greater is their power to harm us', \"Sometimes I've believed as many as six impossible things before breakfast.\", 'Do not fear mistakes. There are none.', 'Expose yourself to your deepest fear; after that, fear has no power, and the fear of freedom shrinks and vanishes. You are free.', 'Anger is an acid that can do more harm to the vessel in which it is stored than to anything on which it is poured.', 'Failure is success if we learn from it.', 'You are here to enable the divine purpose of the Universe to unfold. That is how important you are!', 'People like us, who believe in physics, know that the distinction between past, present, and future is only a stubbornly persistent illusion.', 'I still need Marines who can shoot and salute. But I need Marines who can fix jet engines and man sophisticated radar sets, as well.', \"You can't expect to hit the jackpot if you don't put a few nickels in the machine.\", 'One of the penalties for refusing to participate in politics is that you end up being governed by your inferiors.', 'It is what we know already that often prevents us from learning.', 'The only limit to our realization of tomorrow will be our doubts of today.', \"I've learned that making a 'living' is not the same thing as 'making a life'.\", 'The spirit, the will to win, and the will to excel are the things that endure. These qualities are so much more important than the events that occur.', 'When I started counting my blessings, my whole life turned around.', 'Every time you smile at someone, it is an action of love, a gift to that person, a beautiful thing.', 'Ninety-nine percent of the failures come from people who have the habit of making excuses.', 'Everything comes to us that belongs to us if we create the capacity to receive it.', \"What doesn't kill you makes you smaller\", 'The difficulties you meet will resolve themselves as you advance. Proceed, and light will dawn, and shine with increasing clearness on your path.', \"It's not what's happening to you now or what has happened in your past that determines who you become. Rather, it's your decisions about what to focus on, what things mean to you, and what you're going to do about them that will determine your ultimate destiny.\", 'Live your life and forget your age.', 'We may not be able to prepare the future for our children, but we can at least prepare our children for the future.', 'Men occasionally stumble over the truth, but most of them pick themselves up and hurry off as if nothing had happened.', \"That's been one of my mantras - focus and simplicity. Simple can be harder than complex: You have to work hard to get your thinking clean to make it simple. But it's worth it in the end because once you get there, you can move mountains.\", 'The trouble with most of us is that we would rather be ruined by praise than saved by criticism.', 'The smallest deed is better than the greatest intention.', \"Only two things are infinite, the universe and human stupidity, and I'm not sure about the former.\", 'A nation of sheep will beget a government of wolves.', \"Nothing else can quite substitute for a few well-chosen,\\nwell-timed, sincere words of praise.\\nThey're absolutely free and worth a fortune\", \"There is nothing in a caterpillar that tells you it's going to be a butterfly.\", \"A charming woman... doesn't follow the crowd. She is herself.\", \"You don't understand anything until you learn it more than one way.\", 'Doubt yourself and you doubt everything you see. Judge yourself and you see judges everywhere. But if you listen to the sound of your own voice, you can rise above doubt and judgment. And you can see forever.', \"Find the good. It's all around you. Find it, showcase it and you'll start believing in it.\", 'Happiness in marriage is entirely a matter of chance.', 'The difference between a mountain and a molehill is your perspective.', 'It is best to act with confidence, no matter how little right you have to it.', \"People usually consider walking on water or in thin air a miracle. But I think the real miracle is not to walk either on water or in thin air, but to walk on earth. Every day we are engaged in a miracle which we don't even recognize: a blue sky, white clouds, green leaves, the black, curious eyes of a child -- our own two eyes. All is a miracle.\", 'Freedom means the opportunity to be what we never thought we would be.', 'For it was not into my ear you whispered, but into my heart. It was not my lips you kissed, but my soul.', 'I will love the light for it shows me the way, yet I will endure the darkness because it shows me the stars.', \"If you run, you are a runner. It doesn't matter how fast or how far. It doesn't matter if today is your first day or if you've been running for twenty years. There is no test to pass, no license to earn, no membership card to get. You just run.\", \"The world is a dangerous place to live; not because of the people who are evil, but because of the people who don't do anything about it.\", 'The deepest principle in human nature is the craving to be appreciated.', \"About all you can do in life is be who you are. Some people will love you for you. Most will love you for what you can do for them, and some won't like you at all.\", 'To find out what one is fitted to do, and to secure an opportunity to do it, is the key to happiness.', 'Forgiveness says you are given another chance to make a new beginning.', 'What is success? I think it is a mixture of having a flair for the thing that you are doing; knowing that it is not enough, that you have got to have hard work and a certain sense of purpose.', 'The past has no power over the present moment.', \"Do not let your fire go out, spark by irreplaceable spark in the hopeless swamps of the not-quite, the not-yet, and the not-at-all. Do not let the hero in your soul perish in lonely frustration for the life you deserved and have never been able to reach. The world you desire can be won. It exists.. it is real.. it is possible.. it's yours.\", 'No person was ever honored for what he received. Honor has been the reward for what he gave.', 'Love yourself-accept yourself-forgive yourself-and be good to yourself, because without you the rest of us are without a source of many wonderful things.', 'Wherever you are, and whatever you do, be in love.', 'Whenever you find yourself on the side of the majority, it is time to pause and reflect.', 'And those who were seen dancing were thought to be insane by those who could not hear the music.', \"I love things that age well - things that don't date, that stand the test of time and that become living examples of the absolute best.\", 'Better be wise by the misfortunes of others than by your own.', 'The person, be it gentleman or lady, who has not pleasure in a good novel, must be intolerably stupid.', \"The opposite of love is not hate, it's indifference. The opposite of art is not ugliness, it's indifference. The opposite of faith is not heresy, it's indifference. And the opposite of life is not death, it's indifference.\", 'Curiosity is one of the most permanent and certain characteristics of a vigorous intellect.', 'Leaders must be close enough to relate to others, but far enough ahead to motivate them.', 'Regret for the things we did can be tempered by time; it is regret for the things we did not do that is inconsolable.', 'America... just a nation of two hundred million used car salesmen with all the money we need to buy guns and no qualms about killing anybody else in the world who tries to make us uncomfortable.', 'For every disciplined effort there is a multiple reward.', \"The spiritual journey is individual, highly personal. It can't be organized or regulated. It isn't true that everyone should follow one path. Listen to your own truth.\", 'The mind is not a vessel to be filled but a fire to be kindled.', 'Courage is the price that life exacts for granting peace.', 'The worst evils which mankind has ever had to endure were inflicted by bad governments.', 'The moment we begin to fear the opinions of others and hesitate to tell the truth that is in us, and from motives of policy are silent when we should speak, the divine floods of light and life no longer flow into our souls.', 'Trust yourself, you know more than you think you do.', 'Some people want it to happen, some wish it would happen, others make it happen.', 'High achievement always takes place in the framework of high expectation.', 'The body is your temple. Keep it pure and clean for the soul to reside in.', 'Be like a duck. Calm on the surface, but always paddling like the dickens underneath.', 'Tears shed for self are tears of weakness, but tears shed for others are a sign of strength.', 'Success is neither magical nor mysterious. Success is the natural consequence of consistently applying the basic fundamentals.', 'It is wise to direct your anger towards problems - not people; to focus your energies on answers - not excuses.', 'If we did all the things we are capable of doing, we would literally astound ourselves.', 'Love is our true destiny. We do not find the meaning of life by ourselves alone - we find it with another.', 'I ask, sir, what is the militia? It is the whole people except for a few public officials.', \"As long as there's pasta and Chinese food in the world, I'm okay.\", 'The few who do are the envy of the many who only watch.', \"Don't brood. Get on with living and loving. You don't have forever.\", \"Tricks and treachery are the practice of fools, that don't have brains enough to be honest.\", 'The Marines have landed and the situation is well in hand.', \"Life is one big road with lots of signs,\\nSo when you riding through the ruts,\\nDon't you complicate your mind\\nFlee from hate, mischief and jealousy\\nDon't bury your thoughts; put your vision to reality.\", 'There is always some madness in love. But there is also always some reason in madness.', 'For peace of mind, we need to resign as general manager of the universe.', 'I am free, no matter what rules surround me. If I find them tolerable, I tolerate them; if I find them too obnoxious, I break them. I am free because I know that I alone am morally responsible for everything I do.', 'Only put off until tomorrow what you are willing to die having left undone.', 'The will to win, the desire to succeed, the urge to reach your full potential... these are the keys that will unlock the door to personal excellence.', 'Difficulties are meant to rouse, not discourage. The human spirit is to grow strong by conflict.', \"It's very hard in the beginning to understand that the whole idea is not to beat the other runners. Eventually you learn that the competition is against the little voice inside you that wants you to quit.\", 'A well-developed sense of humor is the pole that adds balance to your steps as you walk the tightrope of life.', 'We relish news of our heroes, forgetting that we are extraordinary to somebody too.', 'It takes less time to do a thing right, than it does to explain why you did it wrong.', \"It isn't the mountain ahead that wears you out; it's the grain of sand in your shoe.\", 'Empty your mind, be formless. Shapeless, like water. If you put water into a cup, it becomes the cup. You put water into a bottle and it becomes the bottle. You put it in a teapot it becomes the teapot. Now, water can flow or it can crash. Be water, my friend.', 'The longer we dwell on our misfortunes, the greater is their power to harm us', \"Sometimes I've believed as many as six impossible things before breakfast.\", 'Do not fear mistakes. There are none.', 'Expose yourself to your deepest fear; after that, fear has no power, and the fear of freedom shrinks and vanishes. You are free.', 'Anger is an acid that can do more harm to the vessel in which it is stored than to anything on which it is poured.', 'Failure is success if we learn from it.', 'You are here to enable the divine purpose of the Universe to unfold. That is how important you are!', 'People like us, who believe in physics, know that the distinction between past, present, and future is only a stubbornly persistent illusion.', 'I still need Marines who can shoot and salute. But I need Marines who can fix jet engines and man sophisticated radar sets, as well.', \"You can't expect to hit the jackpot if you don't put a few nickels in the machine.\", 'One of the penalties for refusing to participate in politics is that you end up being governed by your inferiors.', 'It is what we know already that often prevents us from learning.', 'The only limit to our realization of tomorrow will be our doubts of today.', \"I've learned that making a 'living' is not the same thing as 'making a life'.\", 'The spirit, the will to win, and the will to excel are the things that endure. These qualities are so much more important than the events that occur.', 'When I started counting my blessings, my whole life turned around.', 'Every time you smile at someone, it is an action of love, a gift to that person, a beautiful thing.', 'Ninety-nine percent of the failures come from people who have the habit of making excuses.', 'Everything comes to us that belongs to us if we create the capacity to receive it.', \"What doesn't kill you makes you smaller\", 'The difficulties you meet will resolve themselves as you advance. Proceed, and light will dawn, and shine with increasing clearness on your path.', \"It's not what's happening to you now or what has happened in your past that determines who you become. Rather, it's your decisions about what to focus on, what things mean to you, and what you're going to do about them that will determine your ultimate destiny.\", 'Live your life and forget your age.', 'We may not be able to prepare the future for our children, but we can at least prepare our children for the future.', 'Men occasionally stumble over the truth, but most of them pick themselves up and hurry off as if nothing had happened.', \"That's been one of my mantras - focus and simplicity. Simple can be harder than complex: You have to work hard to get your thinking clean to make it simple. But it's worth it in the end because once you get there, you can move mountains.\", 'The trouble with most of us is that we would rather be ruined by praise than saved by criticism.', 'The smallest deed is better than the greatest intention.', \"Only two things are infinite, the universe and human stupidity, and I'm not sure about the former.\", 'A nation of sheep will beget a government of wolves.', \"Nothing else can quite substitute for a few well-chosen,\\nwell-timed, sincere words of praise.\\nThey're absolutely free and worth a fortune\", \"There is nothing in a caterpillar that tells you it's going to be a butterfly.\", \"A charming woman... doesn't follow the crowd. She is herself.\", \"You don't understand anything until you learn it more than one way.\", 'Doubt yourself and you doubt everything you see. Judge yourself and you see judges everywhere. But if you listen to the sound of your own voice, you can rise above doubt and judgment. And you can see forever.', \"Find the good. It's all around you. Find it, showcase it and you'll start believing in it.\", 'Happiness in marriage is entirely a matter of chance.', 'The difference between a mountain and a molehill is your perspective.', 'It is best to act with confidence, no matter how little right you have to it.', \"People usually consider walking on water or in thin air a miracle. But I think the real miracle is not to walk either on water or in thin air, but to walk on earth. Every day we are engaged in a miracle which we don't even recognize: a blue sky, white clouds, green leaves, the black, curious eyes of a child -- our own two eyes. All is a miracle.\", 'Freedom means the opportunity to be what we never thought we would be.', 'For it was not into my ear you whispered, but into my heart. It was not my lips you kissed, but my soul.', 'I will love the light for it shows me the way, yet I will endure the darkness because it shows me the stars.', \"If you run, you are a runner. It doesn't matter how fast or how far. It doesn't matter if today is your first day or if you've been running for twenty years. There is no test to pass, no license to earn, no membership card to get. You just run.\", \"The world is a dangerous place to live; not because of the people who are evil, but because of the people who don't do anything about it.\", 'The deepest principle in human nature is the craving to be appreciated.', \"About all you can do in life is be who you are. Some people will love you for you. Most will love you for what you can do for them, and some won't like you at all.\", 'To find out what one is fitted to do, and to secure an opportunity to do it, is the key to happiness.', 'Forgiveness says you are given another chance to make a new beginning.', 'What is success? I think it is a mixture of having a flair for the thing that you are doing; knowing that it is not enough, that you have got to have hard work and a certain sense of purpose.', 'The past has no power over the present moment.', \"Do not let your fire go out, spark by irreplaceable spark in the hopeless swamps of the not-quite, the not-yet, and the not-at-all. Do not let the hero in your soul perish in lonely frustration for the life you deserved and have never been able to reach. The world you desire can be won. It exists.. it is real.. it is possible.. it's yours.\", 'No person was ever honored for what he received. Honor has been the reward for what he gave.', 'Love yourself-accept yourself-forgive yourself-and be good to yourself, because without you the rest of us are without a source of many wonderful things.', 'Wherever you are, and whatever you do, be in love.', 'Whenever you find yourself on the side of the majority, it is time to pause and reflect.', 'And those who were seen dancing were thought to be insane by those who could not hear the music.', \"I love things that age well - things that don't date, that stand the test of time and that become living examples of the absolute best.\", 'Better be wise by the misfortunes of others than by your own.', 'The person, be it gentleman or lady, who has not pleasure in a good novel, must be intolerably stupid.', \"The opposite of love is not hate, it's indifference. The opposite of art is not ugliness, it's indifference. The opposite of faith is not heresy, it's indifference. And the opposite of life is not death, it's indifference.\", 'Curiosity is one of the most permanent and certain characteristics of a vigorous intellect.', 'Leaders must be close enough to relate to others, but far enough ahead to motivate them.', 'Regret for the things we did can be tempered by time; it is regret for the things we did not do that is inconsolable.', 'America... just a nation of two hundred million used car salesmen with all the money we need to buy guns and no qualms about killing anybody else in the world who tries to make us uncomfortable.', 'For every disciplined effort there is a multiple reward.', \"The spiritual journey is individual, highly personal. It can't be organized or regulated. It isn't true that everyone should follow one path. Listen to your own truth.\", 'The mind is not a vessel to be filled but a fire to be kindled.', 'Courage is the price that life exacts for granting peace.', 'The worst evils which mankind has ever had to endure were inflicted by bad governments.', 'The moment we begin to fear the opinions of others and hesitate to tell the truth that is in us, and from motives of policy are silent when we should speak, the divine floods of light and life no longer flow into our souls.', 'Trust yourself, you know more than you think you do.', 'Some people want it to happen, some wish it would happen, others make it happen.', 'High achievement always takes place in the framework of high expectation.', 'The body is your temple. Keep it pure and clean for the soul to reside in.', 'Be like a duck. Calm on the surface, but always paddling like the dickens underneath.', 'Tears shed for self are tears of weakness, but tears shed for others are a sign of strength.', 'Success is neither magical nor mysterious. Success is the natural consequence of consistently applying the basic fundamentals.', 'It is wise to direct your anger towards problems - not people; to focus your energies on answers - not excuses.', 'If we did all the things we are capable of doing, we would literally astound ourselves.', 'Love is our true destiny. We do not find the meaning of life by ourselves alone - we find it with another.', 'I ask, sir, what is the militia? It is the whole people except for a few public officials.', \"As long as there's pasta and Chinese food in the world, I'm okay.\", 'The few who do are the envy of the many who only watch.', \"Don't brood. Get on with living and loving. You don't have forever.\", \"Tricks and treachery are the practice of fools, that don't have brains enough to be honest.\", 'The Marines have landed and the situation is well in hand.', \"Life is one big road with lots of signs,\\nSo when you riding through the ruts,\\nDon't you complicate your mind\\nFlee from hate, mischief and jealousy\\nDon't bury your thoughts; put your vision to reality.\", 'There is always some madness in love. But there is also always some reason in madness.', 'For peace of mind, we need to resign as general manager of the universe.', 'I am free, no matter what rules surround me. If I find them tolerable, I tolerate them; if I find them too obnoxious, I break them. I am free because I know that I alone am morally responsible for everything I do.', 'Only put off until tomorrow what you are willing to die having left undone.', 'The will to win, the desire to succeed, the urge to reach your full potential... these are the keys that will unlock the door to personal excellence.', 'Difficulties are meant to rouse, not discourage. The human spirit is to grow strong by conflict.', \"It's very hard in the beginning to understand that the whole idea is not to beat the other runners. Eventually you learn that the competition is against the little voice inside you that wants you to quit.\", 'A well-developed sense of humor is the pole that adds balance to your steps as you walk the tightrope of life.', 'We relish news of our heroes, forgetting that we are extraordinary to somebody too.', 'It takes less time to do a thing right, than it does to explain why you did it wrong.', \"It isn't the mountain ahead that wears you out; it's the grain of sand in your shoe.\", 'Empty your mind, be formless. Shapeless, like water. If you put water into a cup, it becomes the cup. You put water into a bottle and it becomes the bottle. You put it in a teapot it becomes the teapot. Now, water can flow or it can crash. Be water, my friend.', 'The longer we dwell on our misfortunes, the greater is their power to harm us', \"Sometimes I've believed as many as six impossible things before breakfast.\", 'Do not fear mistakes. There are none.', 'Expose yourself to your deepest fear; after that, fear has no power, and the fear of freedom shrinks and vanishes. You are free.', 'Anger is an acid that can do more harm to the vessel in which it is stored than to anything on which it is poured.', 'Failure is success if we learn from it.', 'You are here to enable the divine purpose of the Universe to unfold. That is how important you are!', 'People like us, who believe in physics, know that the distinction between past, present, and future is only a stubbornly persistent illusion.', 'I still need Marines who can shoot and salute. But I need Marines who can fix jet engines and man sophisticated radar sets, as well.', \"You can't expect to hit the jackpot if you don't put a few nickels in the machine.\", 'One of the penalties for refusing to participate in politics is that you end up being governed by your inferiors.', 'It is what we know already that often prevents us from learning.', 'The only limit to our realization of tomorrow will be our doubts of today.', \"I've learned that making a 'living' is not the same thing as 'making a life'.\", 'The spirit, the will to win, and the will to excel are the things that endure. These qualities are so much more important than the events that occur.', 'When I started counting my blessings, my whole life turned around.', 'Every time you smile at someone, it is an action of love, a gift to that person, a beautiful thing.', 'Ninety-nine percent of the failures come from people who have the habit of making excuses.', 'Everything comes to us that belongs to us if we create the capacity to receive it.', \"What doesn't kill you makes you smaller\", 'The difficulties you meet will resolve themselves as you advance. Proceed, and light will dawn, and shine with increasing clearness on your path.', \"It's not what's happening to you now or what has happened in your past that determines who you become. Rather, it's your decisions about what to focus on, what things mean to you, and what you're going to do about them that will determine your ultimate destiny.\", 'Live your life and forget your age.', 'We may not be able to prepare the future for our children, but we can at least prepare our children for the future.', 'Men occasionally stumble over the truth, but most of them pick themselves up and hurry off as if nothing had happened.', \"That's been one of my mantras - focus and simplicity. Simple can be harder than complex: You have to work hard to get your thinking clean to make it simple. But it's worth it in the end because once you get there, you can move mountains.\", 'The trouble with most of us is that we would rather be ruined by praise than saved by criticism.', 'The smallest deed is better than the greatest intention.', \"Only two things are infinite, the universe and human stupidity, and I'm not sure about the former.\", 'A nation of sheep will beget a government of wolves.', \"Nothing else can quite substitute for a few well-chosen,\\nwell-timed, sincere words of praise.\\nThey're absolutely free and worth a fortune\", \"There is nothing in a caterpillar that tells you it's going to be a butterfly.\", \"A charming woman... doesn't follow the crowd. She is herself.\", \"You don't understand anything until you learn it more than one way.\", 'Doubt yourself and you doubt everything you see. Judge yourself and you see judges everywhere. But if you listen to the sound of your own voice, you can rise above doubt and judgment. And you can see forever.', \"Find the good. It's all around you. Find it, showcase it and you'll start believing in it.\", 'Happiness in marriage is entirely a matter of chance.', 'The difference between a mountain and a molehill is your perspective.', 'It is best to act with confidence, no matter how little right you have to it.', \"People usually consider walking on water or in thin air a miracle. But I think the real miracle is not to walk either on water or in thin air, but to walk on earth. Every day we are engaged in a miracle which we don't even recognize: a blue sky, white clouds, green leaves, the black, curious eyes of a child -- our own two eyes. All is a miracle.\", 'Freedom means the opportunity to be what we never thought we would be.', 'For it was not into my ear you whispered, but into my heart. It was not my lips you kissed, but my soul.', 'I will love the light for it shows me the way, yet I will endure the darkness because it shows me the stars.', \"If you run, you are a runner. It doesn't matter how fast or how far. It doesn't matter if today is your first day or if you've been running for twenty years. There is no test to pass, no license to earn, no membership card to get. You just run.\", \"The world is a dangerous place to live; not because of the people who are evil, but because of the people who don't do anything about it.\", 'The deepest principle in human nature is the craving to be appreciated.', \"About all you can do in life is be who you are. Some people will love you for you. Most will love you for what you can do for them, and some won't like you at all.\", 'To find out what one is fitted to do, and to secure an opportunity to do it, is the key to happiness.', 'Forgiveness says you are given another chance to make a new beginning.', 'What is success? I think it is a mixture of having a flair for the thing that you are doing; knowing that it is not enough, that you have got to have hard work and a certain sense of purpose.', 'The past has no power over the present moment.', \"Do not let your fire go out, spark by irreplaceable spark in the hopeless swamps of the not-quite, the not-yet, and the not-at-all. Do not let the hero in your soul perish in lonely frustration for the life you deserved and have never been able to reach. The world you desire can be won. It exists.. it is real.. it is possible.. it's yours.\", 'No person was ever honored for what he received. Honor has been the reward for what he gave.', 'Love yourself-accept yourself-forgive yourself-and be good to yourself, because without you the rest of us are without a source of many wonderful things.', 'Wherever you are, and whatever you do, be in love.', 'Whenever you find yourself on the side of the majority, it is time to pause and reflect.', 'And those who were seen dancing were thought to be insane by those who could not hear the music.', \"I love things that age well - things that don't date, that stand the test of time and that become living examples of the absolute best.\", 'Better be wise by the misfortunes of others than by your own.', 'The person, be it gentleman or lady, who has not pleasure in a good novel, must be intolerably stupid.', \"The opposite of love is not hate, it's indifference. The opposite of art is not ugliness, it's indifference. The opposite of faith is not heresy, it's indifference. And the opposite of life is not death, it's indifference.\", 'Curiosity is one of the most permanent and certain characteristics of a vigorous intellect.', 'Leaders must be close enough to relate to others, but far enough ahead to motivate them.', 'Regret for the things we did can be tempered by time; it is regret for the things we did not do that is inconsolable.', 'America... just a nation of two hundred million used car salesmen with all the money we need to buy guns and no qualms about killing anybody else in the world who tries to make us uncomfortable.', 'For every disciplined effort there is a multiple reward.', \"The spiritual journey is individual, highly personal. It can't be organized or regulated. It isn't true that everyone should follow one path. Listen to your own truth.\", 'The mind is not a vessel to be filled but a fire to be kindled.'] 1000\n"
     ]
    }
   ],
   "source": [
    "a=0\n",
    "for i in range(10):\n",
    "    title_tags=driver.find_elements(By.XPATH,'//a[@class=\"title\"]')\n",
    "    for i in title_tags:\n",
    "        if a<1000:\n",
    "            quote.append(i.text)\n",
    "    next_button=driver.find_element(By.XPATH,'/html/body/div[1]/div[2]/div/div/div/div[1]/div/div[3]/li[12]/a')\n",
    "    next_button.click()\n",
    "print(quote,len(quote))"
   ]
  },
  {
   "cell_type": "code",
   "execution_count": 102,
   "id": "4341d618",
   "metadata": {},
   "outputs": [
    {
     "name": "stdout",
     "output_type": "stream",
     "text": [
      "['Michael Porter', 'Golda Meir', 'Theodore Roosevelt', 'Nelson Mandela', 'Erma Bombeck', 'John Wooden', 'Albert Einstein', 'Frank Zappa', 'William Faulkner', 'Will Rogers', 'Jimmy Carter', 'Albert Einstein', 'Abraham Lincoln', 'Steven Weinberg', 'Franklin D. Roosevelt', 'Albert Einstein', 'Maya Angelou', 'Mark Twain', 'Theodore Roosevelt', 'Michael Jackson', 'Martin Luther King, Jr.', 'C. S. Lewis', 'Theodore Roosevelt', 'Mark Twain', 'Abraham Lincoln', 'Ruth Graham', 'C. S. Lewis', 'Groucho Marx', 'John Lennon', 'Barbara Bush', 'Albert Einstein', 'Francis Chan', 'Henry Ford', 'Victor Hugo', 'Abu Bakr', 'Zig Ziglar', 'Winston Churchill', 'Zig Ziglar', 'John F. Kennedy', 'Dwight D. Eisenhower', 'Winston Churchill', 'Albert Einstein', 'Willie Nelson', 'Johnny Cash', 'Marie Curie', 'Maya Angelou', 'Amy Bloom', 'Zig Ziglar', 'John Lennon', 'Thomas Sowell', 'Max Lucado', 'Martin Luther King, Jr.', 'Thomas Sowell', 'Salma Hayek', 'Martin Luther King, Jr.', 'Douglas MacArthur', 'Douglas MacArthur', 'George S. Patton', 'Corrie Ten Boom', 'Jim Courier', 'Zig Ziglar', 'Edgar Allan Poe', 'Zig Ziglar', 'Stephen Covey', 'Pablo Neruda', 'Joe Frazier', 'Bill Cosby', 'Lewis Grizzard', 'Les Brown', 'Meister Eckhart', 'Muhammad Ali', 'John C. Maxwell', 'Thomas A. Edison', 'Neil Armstrong', 'Rose Kennedy', 'Martin Luther', 'Ronald Reagan', 'Andrew Murray', 'Arianna Huffington', 'Anne Frank', 'Corrie Ten Boom', 'Nelson Mandela', 'Robin Williams', 'Walt Disney', 'John F. Kennedy', 'Mark Twain', 'John Stott', 'Wayne Dyer', 'Steve Jobs', 'Maya Angelou', 'Satchel Paige', 'Mwai Kibaki', 'Roald Dahl', 'Robert H. Schuller', 'Bill Vaughan', 'Hunter S. Thompson', 'Corrie Ten Boom', 'Dalai Lama', 'Mother Teresa', 'Norman Vincent Peale', 'Neltje Blanchan', 'Saint Augustine', 'Henry Ford', 'Arthur Rubinstein', 'George Mason', 'Margaret Fuller', 'Colin Powell', 'Benjamin Franklin', 'Elizabeth Kenny', 'Jonathan Edwards', 'Xunzi', 'Bertrand Russell', 'Richard Branson', 'Albert Einstein', 'Jerry Bridges', 'Walt Disney', 'Frederick Douglass', 'J. R. R. Tolkien', 'Winston Churchill', 'David Frost', 'Rush Limbaugh', 'Maya Angelou', 'Colin Powell', 'Mother Teresa', 'Jenn Proske', 'Martin Luther King, Jr.', 'Mother Teresa', 'Ronald Reagan', 'Milton Friedman', 'Confucius', 'Nicholas Sparks', 'Martin Luther King, Jr.', 'Victor Hugo', 'Mother Teresa', 'Dean Karnazes', 'Dalai Lama', 'Oprah Winfrey', 'Mary Kay Ash', 'C. S. Lewis', 'Nathan Hale', 'Vince Lombardi', 'Maya Angelou', 'Charles Spurgeon', 'Dalai Lama', 'Eleanor Roosevelt', 'Henry Ford', 'George Bernard Shaw', 'Ronald Reagan', 'John F. Kennedy', 'Corrie Ten Boom', 'Brian Tracy', 'George Bernard Shaw', 'David Brinkley', 'Thomas A. Edison', 'Carol Burnett', 'Douglas MacArthur', 'Johann Wolfgang von Goethe', 'Oprah Winfrey', 'Robert Kiyosaki', 'Mark Twain', 'Robert Louis Stevenson', 'Maya Angelou', 'Marilyn vos Savant', 'Alice Walker', 'Bill Gates', 'Mother Teresa', 'Albert Einstein', 'Ronald Reagan', 'John Wooden', 'C. S. Lewis', 'Conrad Hall', 'Walt Disney', 'Michel Odent', 'Oscar Wilde', 'Napoleon Hill', 'Mother Teresa', 'Robin Williams', 'Thomas A. Edison', 'Agatha Christie', 'Diane von Furstenberg', 'Dale Carnegie', 'John Quincy Adams', 'W. E. B. Du Bois', 'Mary Lou Retton', 'Jimmy Carter', 'George Bernard Shaw', 'Helen Keller', 'Robert H. Schuller', 'Gail Devers', 'Diane Sawyer', 'Martin Luther', 'Margaret Thatcher', 'Maya Angelou', 'Albert Schweitzer', 'Alexander Graham Bell', 'Jim Rohn', 'Henry Ford', 'Robin Williams', 'Margaret Walker', 'T. Harv Eker', 'Amelia Earhart', 'Ludwig von Mises', 'Elizabeth Cady Stanton', 'Benjamin Spock', 'Michael Jordan', 'Charles Kettering', 'B.K.S. Iyengar', 'Michael Caine', 'Billy Graham', 'Jim Rohn', 'William Arthur Ward', 'Thomas A. Edison', 'Thomas Merton', 'George Mason', 'Michael Chang', 'Jim Rohn', 'Leo Buscaglia', 'Benjamin Franklin', 'Richard Harding Davis', 'Bob Marley', 'Friedrich Nietzsche', 'Larry Eisenberg', 'Robert A. Heinlein', 'Pablo Picasso', 'Confucius', 'William Ellery Channing', 'George A. Sheehan', 'William Arthur Ward', 'Helen Hayes', 'Henry Wadsworth Longfellow', 'Robert W. Service', 'Bruce Lee', 'Voltaire', 'Lewis Carroll', 'Miles Davis', 'Jim Morrison', 'Mark Twain', 'Malcolm Forbes', 'Eckhart Tolle', 'Albert Einstein', 'Robert E. Cushman, Jr.', 'Flip Wilson', 'Plato', 'Claude Bernard', 'Franklin D. Roosevelt', 'Maya Angelou', 'Vince Lombardi', 'Willie Nelson', 'Mother Teresa', 'George Washington Carver', 'Rabindranath Tagore', 'Mario', 'Jim Rohn', 'Tony Robbins', 'Norman Vincent Peale', 'Franklin D. Roosevelt', 'Winston Churchill', 'Steve Jobs', 'Norman Vincent Peale', 'John Burroughs', 'Albert Einstein', 'Edward R. Murrow', 'Sam Walton', 'R. Buckminster Fuller', 'Loretta Young', 'Marvin Minsky', 'Nancy Lopez', 'Jesse Owens', 'Jane Austen', 'Al Neuharth', 'Lillian Hellman', 'Nhat Hanh', 'Daniel J. Boorstin', 'Judy Garland', 'Og Mandino', 'John Bingham', 'Albert Einstein', 'William James', 'Rita Mae Brown', 'John Dewey', 'Desmond Tutu', 'Margaret Thatcher', 'Eckhart Tolle', 'Ayn Rand', 'Calvin Coolidge', 'Leo Buscaglia', 'Rumi', 'Mark Twain', 'Friedrich Nietzsche', 'Giorgio Armani', 'Aesop', 'Jane Austen', 'Elie Wiesel', 'Samuel Johnson', 'John C. Maxwell', 'Sydney J. Harris', 'Hunter S. Thompson', 'Jim Rohn', 'Ram Dass', 'Plutarch', 'Amelia Earhart', 'Ludwig von Mises', 'Elizabeth Cady Stanton', 'Benjamin Spock', 'Michael Jordan', 'Charles Kettering', 'B.K.S. Iyengar', 'Michael Caine', 'Billy Graham', 'Jim Rohn', 'William Arthur Ward', 'Thomas A. Edison', 'Thomas Merton', 'George Mason', 'Michael Chang', 'Jim Rohn', 'Leo Buscaglia', 'Benjamin Franklin', 'Richard Harding Davis', 'Bob Marley', 'Friedrich Nietzsche', 'Larry Eisenberg', 'Robert A. Heinlein', 'Pablo Picasso', 'Confucius', 'William Ellery Channing', 'George A. Sheehan', 'William Arthur Ward', 'Helen Hayes', 'Henry Wadsworth Longfellow', 'Robert W. Service', 'Bruce Lee', 'Voltaire', 'Lewis Carroll', 'Miles Davis', 'Jim Morrison', 'Mark Twain', 'Malcolm Forbes', 'Eckhart Tolle', 'Albert Einstein', 'Robert E. Cushman, Jr.', 'Flip Wilson', 'Plato', 'Claude Bernard', 'Franklin D. Roosevelt', 'Maya Angelou', 'Vince Lombardi', 'Willie Nelson', 'Mother Teresa', 'George Washington Carver', 'Rabindranath Tagore', 'Mario', 'Jim Rohn', 'Tony Robbins', 'Norman Vincent Peale', 'Franklin D. Roosevelt', 'Winston Churchill', 'Steve Jobs', 'Norman Vincent Peale', 'John Burroughs', 'Albert Einstein', 'Edward R. Murrow', 'Sam Walton', 'R. Buckminster Fuller', 'Loretta Young', 'Marvin Minsky', 'Nancy Lopez', 'Jesse Owens', 'Jane Austen', 'Al Neuharth', 'Lillian Hellman', 'Nhat Hanh', 'Daniel J. Boorstin', 'Judy Garland', 'Og Mandino', 'John Bingham', 'Albert Einstein', 'William James', 'Rita Mae Brown', 'John Dewey', 'Desmond Tutu', 'Margaret Thatcher', 'Eckhart Tolle', 'Ayn Rand', 'Calvin Coolidge', 'Leo Buscaglia', 'Rumi', 'Mark Twain', 'Friedrich Nietzsche', 'Giorgio Armani', 'Aesop', 'Jane Austen', 'Elie Wiesel', 'Samuel Johnson', 'John C. Maxwell', 'Sydney J. Harris', 'Hunter S. Thompson', 'Jim Rohn', 'Ram Dass', 'Plutarch', 'Amelia Earhart', 'Ludwig von Mises', 'Elizabeth Cady Stanton', 'Benjamin Spock', 'Michael Jordan', 'Charles Kettering', 'B.K.S. Iyengar', 'Michael Caine', 'Billy Graham', 'Jim Rohn', 'William Arthur Ward', 'Thomas A. Edison', 'Thomas Merton', 'George Mason', 'Michael Chang', 'Jim Rohn', 'Leo Buscaglia', 'Benjamin Franklin', 'Richard Harding Davis', 'Bob Marley', 'Friedrich Nietzsche', 'Larry Eisenberg', 'Robert A. Heinlein', 'Pablo Picasso', 'Confucius', 'William Ellery Channing', 'George A. Sheehan', 'William Arthur Ward', 'Helen Hayes', 'Henry Wadsworth Longfellow', 'Robert W. Service', 'Bruce Lee', 'Voltaire', 'Lewis Carroll', 'Miles Davis', 'Jim Morrison', 'Mark Twain', 'Malcolm Forbes', 'Eckhart Tolle', 'Albert Einstein', 'Robert E. Cushman, Jr.', 'Flip Wilson', 'Plato', 'Claude Bernard', 'Franklin D. Roosevelt', 'Maya Angelou', 'Vince Lombardi', 'Willie Nelson', 'Mother Teresa', 'George Washington Carver', 'Rabindranath Tagore', 'Mario', 'Jim Rohn', 'Tony Robbins', 'Norman Vincent Peale', 'Franklin D. Roosevelt', 'Winston Churchill', 'Steve Jobs', 'Norman Vincent Peale', 'John Burroughs', 'Albert Einstein', 'Edward R. Murrow', 'Sam Walton', 'R. Buckminster Fuller', 'Loretta Young', 'Marvin Minsky', 'Nancy Lopez', 'Jesse Owens', 'Jane Austen', 'Al Neuharth', 'Lillian Hellman', 'Nhat Hanh', 'Daniel J. Boorstin', 'Judy Garland', 'Og Mandino', 'John Bingham', 'Albert Einstein', 'William James', 'Rita Mae Brown', 'John Dewey', 'Desmond Tutu', 'Margaret Thatcher', 'Eckhart Tolle', 'Ayn Rand', 'Calvin Coolidge', 'Leo Buscaglia', 'Rumi', 'Mark Twain', 'Friedrich Nietzsche', 'Giorgio Armani', 'Aesop', 'Jane Austen', 'Elie Wiesel', 'Samuel Johnson', 'John C. Maxwell', 'Sydney J. Harris', 'Hunter S. Thompson', 'Jim Rohn', 'Ram Dass', 'Plutarch', 'Amelia Earhart', 'Ludwig von Mises', 'Elizabeth Cady Stanton', 'Benjamin Spock', 'Michael Jordan', 'Charles Kettering', 'B.K.S. Iyengar', 'Michael Caine', 'Billy Graham', 'Jim Rohn', 'William Arthur Ward', 'Thomas A. Edison', 'Thomas Merton', 'George Mason', 'Michael Chang', 'Jim Rohn', 'Leo Buscaglia', 'Benjamin Franklin', 'Richard Harding Davis', 'Bob Marley', 'Friedrich Nietzsche', 'Larry Eisenberg', 'Robert A. Heinlein', 'Pablo Picasso', 'Confucius', 'William Ellery Channing', 'George A. Sheehan', 'William Arthur Ward', 'Helen Hayes', 'Henry Wadsworth Longfellow', 'Robert W. Service', 'Bruce Lee', 'Voltaire', 'Lewis Carroll', 'Miles Davis', 'Jim Morrison', 'Mark Twain', 'Malcolm Forbes', 'Eckhart Tolle', 'Albert Einstein', 'Robert E. Cushman, Jr.', 'Flip Wilson', 'Plato', 'Claude Bernard', 'Franklin D. Roosevelt', 'Maya Angelou', 'Vince Lombardi', 'Willie Nelson', 'Mother Teresa', 'George Washington Carver', 'Rabindranath Tagore', 'Mario', 'Jim Rohn', 'Tony Robbins', 'Norman Vincent Peale', 'Franklin D. Roosevelt', 'Winston Churchill', 'Steve Jobs', 'Norman Vincent Peale', 'John Burroughs', 'Albert Einstein', 'Edward R. Murrow', 'Sam Walton', 'R. Buckminster Fuller', 'Loretta Young', 'Marvin Minsky', 'Nancy Lopez', 'Jesse Owens', 'Jane Austen', 'Al Neuharth', 'Lillian Hellman', 'Nhat Hanh', 'Daniel J. Boorstin', 'Judy Garland', 'Og Mandino', 'John Bingham', 'Albert Einstein', 'William James', 'Rita Mae Brown', 'John Dewey', 'Desmond Tutu', 'Margaret Thatcher', 'Eckhart Tolle', 'Ayn Rand', 'Calvin Coolidge', 'Leo Buscaglia', 'Rumi', 'Mark Twain', 'Friedrich Nietzsche', 'Giorgio Armani', 'Aesop', 'Jane Austen', 'Elie Wiesel', 'Samuel Johnson', 'John C. Maxwell', 'Sydney J. Harris', 'Hunter S. Thompson', 'Jim Rohn', 'Ram Dass', 'Plutarch', 'Amelia Earhart', 'Ludwig von Mises', 'Elizabeth Cady Stanton', 'Benjamin Spock', 'Michael Jordan', 'Charles Kettering', 'B.K.S. Iyengar', 'Michael Caine', 'Billy Graham', 'Jim Rohn', 'William Arthur Ward', 'Thomas A. Edison', 'Thomas Merton', 'George Mason', 'Michael Chang', 'Jim Rohn', 'Leo Buscaglia', 'Benjamin Franklin', 'Richard Harding Davis', 'Bob Marley', 'Friedrich Nietzsche', 'Larry Eisenberg', 'Robert A. Heinlein', 'Pablo Picasso', 'Confucius', 'William Ellery Channing', 'George A. Sheehan', 'William Arthur Ward', 'Helen Hayes', 'Henry Wadsworth Longfellow', 'Robert W. Service', 'Bruce Lee', 'Voltaire', 'Lewis Carroll', 'Miles Davis', 'Jim Morrison', 'Mark Twain', 'Malcolm Forbes', 'Eckhart Tolle', 'Albert Einstein', 'Robert E. Cushman, Jr.', 'Flip Wilson', 'Plato', 'Claude Bernard', 'Franklin D. Roosevelt', 'Maya Angelou', 'Vince Lombardi', 'Willie Nelson', 'Mother Teresa', 'George Washington Carver', 'Rabindranath Tagore', 'Mario', 'Jim Rohn', 'Tony Robbins', 'Norman Vincent Peale', 'Franklin D. Roosevelt', 'Winston Churchill', 'Steve Jobs', 'Norman Vincent Peale', 'John Burroughs', 'Albert Einstein', 'Edward R. Murrow', 'Sam Walton', 'R. Buckminster Fuller', 'Loretta Young', 'Marvin Minsky', 'Nancy Lopez', 'Jesse Owens', 'Jane Austen', 'Al Neuharth', 'Lillian Hellman', 'Nhat Hanh', 'Daniel J. Boorstin', 'Judy Garland', 'Og Mandino', 'John Bingham', 'Albert Einstein', 'William James', 'Rita Mae Brown', 'John Dewey', 'Desmond Tutu', 'Margaret Thatcher', 'Eckhart Tolle', 'Ayn Rand', 'Calvin Coolidge', 'Leo Buscaglia', 'Rumi', 'Mark Twain', 'Friedrich Nietzsche', 'Giorgio Armani', 'Aesop', 'Jane Austen', 'Elie Wiesel', 'Samuel Johnson', 'John C. Maxwell', 'Sydney J. Harris', 'Hunter S. Thompson', 'Jim Rohn', 'Ram Dass', 'Plutarch', 'Amelia Earhart', 'Ludwig von Mises', 'Elizabeth Cady Stanton', 'Benjamin Spock', 'Michael Jordan', 'Charles Kettering', 'B.K.S. Iyengar', 'Michael Caine', 'Billy Graham', 'Jim Rohn', 'William Arthur Ward', 'Thomas A. Edison', 'Thomas Merton', 'George Mason', 'Michael Chang', 'Jim Rohn', 'Leo Buscaglia', 'Benjamin Franklin', 'Richard Harding Davis', 'Bob Marley', 'Friedrich Nietzsche', 'Larry Eisenberg', 'Robert A. Heinlein', 'Pablo Picasso', 'Confucius', 'William Ellery Channing', 'George A. Sheehan', 'William Arthur Ward', 'Helen Hayes', 'Henry Wadsworth Longfellow', 'Robert W. Service', 'Bruce Lee', 'Voltaire', 'Lewis Carroll', 'Miles Davis', 'Jim Morrison', 'Mark Twain', 'Malcolm Forbes', 'Eckhart Tolle', 'Albert Einstein', 'Robert E. Cushman, Jr.', 'Flip Wilson', 'Plato', 'Claude Bernard', 'Franklin D. Roosevelt', 'Maya Angelou', 'Vince Lombardi', 'Willie Nelson', 'Mother Teresa', 'George Washington Carver', 'Rabindranath Tagore', 'Mario', 'Jim Rohn', 'Tony Robbins', 'Norman Vincent Peale', 'Franklin D. Roosevelt', 'Winston Churchill', 'Steve Jobs', 'Norman Vincent Peale', 'John Burroughs', 'Albert Einstein', 'Edward R. Murrow', 'Sam Walton', 'R. Buckminster Fuller', 'Loretta Young', 'Marvin Minsky', 'Nancy Lopez', 'Jesse Owens', 'Jane Austen', 'Al Neuharth', 'Lillian Hellman', 'Nhat Hanh', 'Daniel J. Boorstin', 'Judy Garland', 'Og Mandino', 'John Bingham', 'Albert Einstein', 'William James', 'Rita Mae Brown', 'John Dewey', 'Desmond Tutu', 'Margaret Thatcher', 'Eckhart Tolle', 'Ayn Rand', 'Calvin Coolidge', 'Leo Buscaglia', 'Rumi', 'Mark Twain', 'Friedrich Nietzsche', 'Giorgio Armani', 'Aesop', 'Jane Austen', 'Elie Wiesel', 'Samuel Johnson', 'John C. Maxwell', 'Sydney J. Harris', 'Hunter S. Thompson', 'Jim Rohn', 'Ram Dass', 'Plutarch', 'Amelia Earhart', 'Ludwig von Mises', 'Elizabeth Cady Stanton', 'Benjamin Spock', 'Michael Jordan', 'Charles Kettering', 'B.K.S. Iyengar', 'Michael Caine', 'Billy Graham', 'Jim Rohn', 'William Arthur Ward', 'Thomas A. Edison', 'Thomas Merton', 'George Mason', 'Michael Chang', 'Jim Rohn', 'Leo Buscaglia', 'Benjamin Franklin', 'Richard Harding Davis', 'Bob Marley', 'Friedrich Nietzsche', 'Larry Eisenberg', 'Robert A. Heinlein', 'Pablo Picasso', 'Confucius', 'William Ellery Channing', 'George A. Sheehan', 'William Arthur Ward', 'Helen Hayes', 'Henry Wadsworth Longfellow', 'Robert W. Service', 'Bruce Lee', 'Voltaire', 'Lewis Carroll', 'Miles Davis', 'Jim Morrison', 'Mark Twain', 'Malcolm Forbes', 'Eckhart Tolle', 'Albert Einstein', 'Robert E. Cushman, Jr.', 'Flip Wilson', 'Plato', 'Claude Bernard', 'Franklin D. Roosevelt', 'Maya Angelou', 'Vince Lombardi', 'Willie Nelson', 'Mother Teresa', 'George Washington Carver', 'Rabindranath Tagore', 'Mario', 'Jim Rohn', 'Tony Robbins', 'Norman Vincent Peale', 'Franklin D. Roosevelt', 'Winston Churchill', 'Steve Jobs', 'Norman Vincent Peale', 'John Burroughs', 'Albert Einstein', 'Edward R. Murrow', 'Sam Walton', 'R. Buckminster Fuller', 'Loretta Young', 'Marvin Minsky', 'Nancy Lopez', 'Jesse Owens', 'Jane Austen', 'Al Neuharth', 'Lillian Hellman', 'Nhat Hanh', 'Daniel J. Boorstin', 'Judy Garland', 'Og Mandino', 'John Bingham', 'Albert Einstein', 'William James', 'Rita Mae Brown', 'John Dewey', 'Desmond Tutu', 'Margaret Thatcher', 'Eckhart Tolle', 'Ayn Rand', 'Calvin Coolidge', 'Leo Buscaglia', 'Rumi', 'Mark Twain', 'Friedrich Nietzsche', 'Giorgio Armani', 'Aesop', 'Jane Austen', 'Elie Wiesel', 'Samuel Johnson', 'John C. Maxwell', 'Sydney J. Harris', 'Hunter S. Thompson', 'Jim Rohn', 'Ram Dass', 'Plutarch', 'Amelia Earhart', 'Ludwig von Mises', 'Elizabeth Cady Stanton', 'Benjamin Spock', 'Michael Jordan', 'Charles Kettering', 'B.K.S. Iyengar', 'Michael Caine', 'Billy Graham', 'Jim Rohn', 'William Arthur Ward', 'Thomas A. Edison', 'Thomas Merton', 'George Mason', 'Michael Chang', 'Jim Rohn', 'Leo Buscaglia', 'Benjamin Franklin', 'Richard Harding Davis', 'Bob Marley', 'Friedrich Nietzsche', 'Larry Eisenberg', 'Robert A. Heinlein', 'Pablo Picasso', 'Confucius', 'William Ellery Channing', 'George A. Sheehan', 'William Arthur Ward', 'Helen Hayes', 'Henry Wadsworth Longfellow', 'Robert W. Service', 'Bruce Lee', 'Voltaire', 'Lewis Carroll', 'Miles Davis', 'Jim Morrison', 'Mark Twain', 'Malcolm Forbes', 'Eckhart Tolle', 'Albert Einstein', 'Robert E. Cushman, Jr.', 'Flip Wilson', 'Plato', 'Claude Bernard', 'Franklin D. Roosevelt', 'Maya Angelou', 'Vince Lombardi', 'Willie Nelson', 'Mother Teresa', 'George Washington Carver', 'Rabindranath Tagore', 'Mario', 'Jim Rohn', 'Tony Robbins', 'Norman Vincent Peale', 'Franklin D. Roosevelt', 'Winston Churchill', 'Steve Jobs', 'Norman Vincent Peale', 'John Burroughs', 'Albert Einstein', 'Edward R. Murrow', 'Sam Walton', 'R. Buckminster Fuller', 'Loretta Young', 'Marvin Minsky', 'Nancy Lopez', 'Jesse Owens', 'Jane Austen', 'Al Neuharth', 'Lillian Hellman', 'Nhat Hanh', 'Daniel J. Boorstin', 'Judy Garland', 'Og Mandino', 'John Bingham', 'Albert Einstein', 'William James', 'Rita Mae Brown', 'John Dewey', 'Desmond Tutu', 'Margaret Thatcher', 'Eckhart Tolle', 'Ayn Rand', 'Calvin Coolidge', 'Leo Buscaglia', 'Rumi', 'Mark Twain', 'Friedrich Nietzsche', 'Giorgio Armani', 'Aesop', 'Jane Austen', 'Elie Wiesel', 'Samuel Johnson', 'John C. Maxwell', 'Sydney J. Harris', 'Hunter S. Thompson', 'Jim Rohn', 'Ram Dass', 'Plutarch'] 1000\n"
     ]
    }
   ],
   "source": [
    "a=0\n",
    "for i in range(10):\n",
    "    title_tags=driver.find_elements(By.XPATH,'//div[@class=\"author\"]')\n",
    "    for i in title_tags:\n",
    "        if a<1000:\n",
    "            author.append(i.text)\n",
    "    next_button=driver.find_element(By.XPATH,'/html/body/div[1]/div[2]/div/div/div/div[1]/div/div[3]/li[12]/a')\n",
    "    next_button.click()\n",
    "    time.sleep(2)\n",
    "print(author,len(author))"
   ]
  },
  {
   "cell_type": "code",
   "execution_count": 103,
   "id": "d297592d",
   "metadata": {},
   "outputs": [
    {
     "name": "stdout",
     "output_type": "stream",
     "text": [
      "['Essence, Deep Thought, Transcendentalism', 'Inspiration, Past, Trying', 'Country, Peace, War', 'Inspirational, Motivational, Death', '4th Of July, Food, Patriotic', 'Inspirational, Success, Basketball', 'Strong, Revenge, Intelligent', 'Inspirational, Teacher, Religious', 'Truth, Honesty, Lying', 'Funny, Reading, Learning', 'Strong, Thoughtful, Compassion', 'Love, Funny, Life', 'Freedom, Men, Democracies Have', 'God, Religious, Atheist', 'Respect, Kindness, Character', 'Inspirational, Motivational, Change', 'Inspirational, Life, Inspiring', 'Love, Inspirational, Life', 'Inspiring, Country, 4th Of July', 'Inspirational, Dream, Hate', 'Love, Inspirational, Life', 'Forgiveness, God, Christian', 'Country, Men, Squares', 'Inspirational, Relationship, Positive', 'Inspirational, Motivational, Positive', 'Love, Friendship, Relationship', 'Faith, God, Christian', 'Art, Freedom, Political Will', 'Inspirational, Life, Faith', 'Inspirational, Life, Meaningful', 'Happiness, Time, Clever', 'Inspirational, Inspiring, Success', 'Love, Inspirational, Life', 'Music, Sound And Music, Musical Life', 'Adversity, Blow, Action', 'Positive, Thinking Of You, Attitude', 'Inspirational, Funny, Life', 'Inspirational, Life, Motivational', 'Inspirational, Memorial Day, Freedom', 'Freedom, Patriotic, Vaccines', 'Philosophy, Ignorance, Democratic Socialism', 'Inspirational, Dance, Education', 'Life, Change, Positive', 'Life, Bullying, Mistake', 'Life, Nature, Children', 'Inspirational, Life, Motivational', 'Marriage, Love You, Long', 'Inspirational, Motivational, Success', 'Love, Inspirational, Life', 'Diversity, Important, Liberty', 'Inspirational, God, Faith', 'Inspirational, Motivational, Inspiring', 'Business, Stupid, Government', 'Beauty, Love Yourself, Your Beautiful', 'Inspirational, Life, Motivational', 'Peace, Military, War', 'Inspirational, Leadership, Confidence', 'Motivational, Military, War', 'Christian, Jesus, Confusing', 'Inspirational, Success, Sports', 'Inspirational, Motivational, Success', 'Inspirational, Life, Clever', 'Inspirational, Death, Failure', 'Inspirational, Life, Motivational', 'Inspiring, Hope, Spring', 'Motivational, Running, People', 'Inspirational, Motivational, Positive', 'Summer, Food, Garden', 'Inspirational, Life, Motivational', 'Inspirational, Life, Thank You', 'Funny, Sports, Jobs', 'Being Strong, Wisdom, Stay Strong', 'Inspirational, Motivational, Positive', 'Motivational, Positive, Moon', 'Time, Pain, Get Well', 'Life, God, Christian', 'President, Needs, Purpose', 'God, Faith, Christian', 'Women, Failure, Successful', 'Inspirational, Morning, Kindness', 'Hiding Place, Ability, Baby Boom', 'Love, Inspirational, Life', 'Inspirational, Change, Philosophy', 'Inspirational, Family, Inspiring', 'Inspirational, Success, Courage', 'Inspirational, Life, Motivational', 'Christian, Vision, Missionary', 'Inspirational, Positive, Regret', 'Love, Inspirational, Life', 'Inspirational, Life, Encouragement', 'Happy Birthday, Baseball, Fun', 'Leadership, Power, Opportunity', 'Inspirational, Life, Positive', 'Inspirational, Encouraging, Patience', 'New Year, Fun, New Beginnings', 'Music, Sports, Hunting', 'Trust, Encouraging, Uplifting', 'Inspirational, Funny, Change', 'Success, God, Mother', 'Inspirational, Motivational, Change', 'Spring, April, Fragrance', 'Inspirational, Faith, Spiritual', 'Inspirational, Motivational, Positive', 'Love, Inspirational, Life', 'Strength, Peace, Gun', 'Inspirational, Happiness, Leadership', 'Motivational, Dream, Determination', 'Freedom, Independent, Science', 'Life, Being Strong, Wisdom', 'Happy, God, New Year', 'Inspiring, Leadership, Teacher', 'Inspirational, Motivational, Fear', 'Inspirational, Success, Business', 'Inspirational, Respect, Idols', 'God, Bridges, Grace', 'Inspirational, Life, Self Esteem', 'Inspirational, Change, Moving On', 'Life, Change, Happiness', 'Inspirational, Life, Motivational', 'Love, Success, Encouraging', 'Government, Gun Control, Second Amendment', 'Inspirational, Motivational, Moving On', 'Inspirational, Life, Motivational', 'Love, Life, Positive', 'Love, Loving Yourself, Stay Positive', 'Inspirational, Life, Motivational', 'Inspirational, Life, Motivational', 'Love, Marriage, Wedding', 'Freedom, Liberty, Libertarian', 'Inspirational, Motivational, Positive', 'Moving On, Growing Up, Memories', 'Dream, Kings, Children', 'Art, Philosophy, Crazy', 'Self Esteem, Helping Others, Numbers', 'Inspirational, Motivational, Sports', 'Inspirational, Happiness, Happy', 'Happiness, Moving On, Letting Go', 'Inspirational, Motivational, Success', 'Inspirational, Blessed, Blessing', 'Inspirational, Life, Country', 'Inspirational, Funny, Life', 'Inspirational, Music, Lonely', 'Men, Self, Soul', 'Inspirational, Success, God', 'Thank You, Military, Marine', 'Trust, God, Confidence', 'Inspirational, Funny, Witty', 'Inspirational, Motivational, Inspiring', 'Motivational, Commitment, Tolerance', 'Inspirational, Life, Motivational', 'Motivational, Perseverance, Work', 'Ignorance, Knowledge, Hunting', 'Inspirational, Motivational, Positive', 'Motivational, Perseverance, Morning', 'Inspirational, Success, Letting Go', 'Military, Army, Warfare', 'Happiness, Being Happy, Peace', 'Inspirational, Change, Positive', 'Strength, Inspiring, Dream', 'Dog, Men, Animal', 'Inspirational, Life, Motivational', 'Inspirational, Motivational, Change', 'Inspirational, Leadership, Wise', 'Friendship, Fake Friends, Memorable', 'Inspirational, Money, Business', 'Love, Marriage, Home', 'Life, Death, Wisdom', 'Change, America, Presidential', 'Basketball, Motivational Sports, Character', 'Inspirational, Inspiring, Christian', 'Inspirational, Education, Moving', 'Inspirational, Children, Growing Up', 'Inspiring, Children, Team', 'Love, Funny, Sarcastic', 'Inspirational, Motivational, Change', 'Inspirational, Relationship, Inspiring', 'Death, Philosophy, Real', 'Funny, Life, Motivational', 'Love, Birthday, Family', 'Life, Friendship, Best Friend', 'Inspirational, Life, Motivational', 'Inspirational, Life, Motivational', 'Teacher, Peace, Children', 'Inspirational, Life, Positive', 'Peace, War, Memorable', 'Inspirational, Life, Motivational', 'Inspirational, Women, Sight', 'Motivational, Success, Encouragement', 'Motivational, Faith, Sports', 'Positive, Inspiring, Success', 'Inspirational, Faith, Hope', 'Love, Inspirational, Motivational', 'Success, Encouraging, Patience', 'Love, Inspirational, Motivational', 'Love, Inspirational, Life', 'Inspirational, Life, Motivational', 'Inspirational, Motivational, Positive', 'Love, Life, Lonely', 'Love, Inspirational, Friendship', 'Inspirational, Change, Inspiring', 'Inspirational, Life, Success', 'Peace, War, Government', 'Life, Strength, Courage', 'Positive, Family, Trust', 'Inspirational, Life, Motivational', 'Inspirational, Motivational, Teacher', 'Success, Spiritual, Wisdom', 'Inspiring, Encouragement, Bad Day', 'Strength, Christian, Self', 'Life, Motivational, Success', 'Inspirational, Success, Basketball', 'Inspirational, Motivational, Positive', 'Love, Valentines Day, Fate', 'Gun, People, Second Amendment', 'Long, Chinese, World', 'Inspirational, Greatness, Envy', 'Love, Inspiring, Positivity', 'Practice, Political, Deception', 'Military, Marine, Hands', 'Inspirational, Life, Motivational', 'Love, Life, Crush', 'Inspirational, Motivational, Peace', 'Inspirational, Freedom, Responsibility', 'Inspirational, Life, Motivational', 'Inspirational, Positive, Success', 'Inspirational, God, Stay Strong', 'Motivational, Running, Ideas', 'Inspirational, Life, Happiness', 'Sports, Hero, News', 'Inspirational, Funny, Positive', 'Anger, Adversity, Climbing', 'Inspirational, Inspiring, Friends', 'Motivational, Inspiration, Adversity', 'Children, Creativity, Ignorance', 'Life, Music, Beautiful', 'Inspirational, Positive, Freedom', 'Inspirational, Life, Bullying', 'Inspirational, Motivational, Success', 'Inspirational, Inspiring, Beauty', 'Witty, Attitude, Freedom', 'Military, Marine, Men', 'Motivational, Success, Positivity', 'Plato, War, Government', 'Inspirational, Educational, Learning', 'Inspirational, Motivational, Success', 'Inspirational, Life, Second Chance', 'Motivational, Sports, Football', 'Thanksgiving, Thankful, Gratitude', 'Love, Happiness, Smile', 'Inspirational, Motivational, Badass', 'Life, Inspiring, Encouragement', 'Funny, Humorous, Character', 'Moving On, Famous Inspirational, Greatness', 'Motivational, Happiness, Mean', 'Life, Birthday, Inspiring', 'Children, Educational, Future', 'Inspirational, Funny, Life', 'Change, Inspiring, Life Changing', 'Inspirational, Integrity, Yoga', 'Inspirational, Positive, Wisdom', 'Funny, Hilarious, Education', 'Sheep, Government, Political', 'Leadership, Appreciation, Team Building', 'Inspirational, Change, Success', 'Empowerment, Crowds, Empowering Women', 'Education, Learning, Knowledge', 'Fear, Positivity, Doubting Everything', 'Inspirational, Motivational, Sports', 'Happiness, Inspiring, Happy', 'Funny, Attitude, Climbing', 'Confidence, Littles, Matter', 'Motivational, Buddhist, Children', 'Mean, Opportunity, Nerd', 'Love, Funny, Romantic', 'Inspirational, Positive, Stars', 'Running, Years, Tests', 'Peace, Integrity, Patriotic', 'Inspirational, Motivational, Relationship', 'Love, Life, Being Yourself', 'Happiness, Work, Opportunity', 'Inspiring, Forgiveness, New Beginnings', 'Motivational, Success, Work', 'Positive, Wisdom, Philosophical', 'Inspirational, Life, Motivational', 'Life, Leadership, Motivational Sports', 'Love, Confidence, Forgiving', 'Spiritual, Sufi, Wherever You Are', 'Inspirational, Motivational, Change', 'Inspirational, Life, Music', 'Artist, Age, Example', 'Inspirational, Motivational, Wise', 'Inspirational, Funny, Stupid', 'Love, Inspirational, Life', 'Education, Curiosity, Genius', 'Motivational, Inspiring, Leadership', 'Love, Inspirational, Motivational', 'Gun, Two, Qualms About', 'Inspirational, Greatness, Best Effort', 'Spiritual, Truth, Yoga', 'Inspirational, Leadership, Education', 'Inspirational, Life, Success', 'Peace, War, Government', 'Life, Strength, Courage', 'Positive, Family, Trust', 'Inspirational, Life, Motivational', 'Inspirational, Motivational, Teacher', 'Success, Spiritual, Wisdom', 'Inspiring, Encouragement, Bad Day', 'Strength, Christian, Self', 'Life, Motivational, Success', 'Inspirational, Success, Basketball', 'Inspirational, Motivational, Positive', 'Love, Valentines Day, Fate', 'Gun, People, Second Amendment', 'Long, Chinese, World', 'Inspirational, Greatness, Envy', 'Love, Inspiring, Positivity', 'Practice, Political, Deception', 'Military, Marine, Hands', 'Inspirational, Life, Motivational', 'Love, Life, Crush', 'Inspirational, Motivational, Peace', 'Inspirational, Freedom, Responsibility', 'Inspirational, Life, Motivational', 'Inspirational, Positive, Success', 'Inspirational, God, Stay Strong', 'Motivational, Running, Ideas', 'Inspirational, Life, Happiness', 'Sports, Hero, News', 'Inspirational, Funny, Positive', 'Anger, Adversity, Climbing', 'Inspirational, Inspiring, Friends', 'Motivational, Inspiration, Adversity', 'Children, Creativity, Ignorance', 'Life, Music, Beautiful', 'Inspirational, Positive, Freedom', 'Inspirational, Life, Bullying', 'Inspirational, Motivational, Success', 'Inspirational, Inspiring, Beauty', 'Witty, Attitude, Freedom', 'Military, Marine, Men', 'Motivational, Success, Positivity', 'Plato, War, Government', 'Inspirational, Educational, Learning', 'Inspirational, Motivational, Success', 'Inspirational, Life, Second Chance', 'Motivational, Sports, Football', 'Thanksgiving, Thankful, Gratitude', 'Love, Happiness, Smile', 'Inspirational, Motivational, Badass', 'Life, Inspiring, Encouragement', 'Funny, Humorous, Character', 'Moving On, Famous Inspirational, Greatness', 'Motivational, Happiness, Mean', 'Life, Birthday, Inspiring', 'Children, Educational, Future', 'Inspirational, Funny, Life', 'Change, Inspiring, Life Changing', 'Inspirational, Integrity, Yoga', 'Inspirational, Positive, Wisdom', 'Funny, Hilarious, Education', 'Sheep, Government, Political', 'Leadership, Appreciation, Team Building', 'Inspirational, Change, Success', 'Empowerment, Crowds, Empowering Women', 'Education, Learning, Knowledge', 'Fear, Positivity, Doubting Everything', 'Inspirational, Motivational, Sports', 'Happiness, Inspiring, Happy', 'Funny, Attitude, Climbing', 'Confidence, Littles, Matter', 'Motivational, Buddhist, Children', 'Mean, Opportunity, Nerd', 'Love, Funny, Romantic', 'Inspirational, Positive, Stars', 'Running, Years, Tests', 'Peace, Integrity, Patriotic', 'Inspirational, Motivational, Relationship', 'Love, Life, Being Yourself', 'Happiness, Work, Opportunity', 'Inspiring, Forgiveness, New Beginnings', 'Motivational, Success, Work', 'Positive, Wisdom, Philosophical', 'Inspirational, Life, Motivational', 'Life, Leadership, Motivational Sports', 'Love, Confidence, Forgiving', 'Spiritual, Sufi, Wherever You Are', 'Inspirational, Motivational, Change', 'Inspirational, Life, Music', 'Artist, Age, Example', 'Inspirational, Motivational, Wise', 'Inspirational, Funny, Stupid', 'Love, Inspirational, Life', 'Education, Curiosity, Genius', 'Motivational, Inspiring, Leadership', 'Love, Inspirational, Motivational', 'Gun, Two, Qualms About', 'Inspirational, Greatness, Best Effort', 'Spiritual, Truth, Yoga', 'Inspirational, Leadership, Education', 'Inspirational, Life, Success', 'Peace, War, Government', 'Life, Strength, Courage', 'Positive, Family, Trust', 'Inspirational, Life, Motivational', 'Inspirational, Motivational, Teacher', 'Success, Spiritual, Wisdom', 'Inspiring, Encouragement, Bad Day', 'Strength, Christian, Self', 'Life, Motivational, Success', 'Inspirational, Success, Basketball', 'Inspirational, Motivational, Positive', 'Love, Valentines Day, Fate', 'Gun, People, Second Amendment', 'Long, Chinese, World', 'Inspirational, Greatness, Envy', 'Love, Inspiring, Positivity', 'Practice, Political, Deception', 'Military, Marine, Hands', 'Inspirational, Life, Motivational', 'Love, Life, Crush', 'Inspirational, Motivational, Peace', 'Inspirational, Freedom, Responsibility', 'Inspirational, Life, Motivational', 'Inspirational, Positive, Success', 'Inspirational, God, Stay Strong', 'Motivational, Running, Ideas', 'Inspirational, Life, Happiness', 'Sports, Hero, News', 'Inspirational, Funny, Positive', 'Anger, Adversity, Climbing', 'Inspirational, Inspiring, Friends', 'Motivational, Inspiration, Adversity', 'Children, Creativity, Ignorance', 'Life, Music, Beautiful', 'Inspirational, Positive, Freedom', 'Inspirational, Life, Bullying', 'Inspirational, Motivational, Success', 'Inspirational, Inspiring, Beauty', 'Witty, Attitude, Freedom', 'Military, Marine, Men', 'Motivational, Success, Positivity', 'Plato, War, Government', 'Inspirational, Educational, Learning', 'Inspirational, Motivational, Success', 'Inspirational, Life, Second Chance', 'Motivational, Sports, Football', 'Thanksgiving, Thankful, Gratitude', 'Love, Happiness, Smile', 'Inspirational, Motivational, Badass', 'Life, Inspiring, Encouragement', 'Funny, Humorous, Character', 'Moving On, Famous Inspirational, Greatness', 'Motivational, Happiness, Mean', 'Life, Birthday, Inspiring', 'Children, Educational, Future', 'Inspirational, Funny, Life', 'Change, Inspiring, Life Changing', 'Inspirational, Integrity, Yoga', 'Inspirational, Positive, Wisdom', 'Funny, Hilarious, Education', 'Sheep, Government, Political', 'Leadership, Appreciation, Team Building', 'Inspirational, Change, Success', 'Empowerment, Crowds, Empowering Women', 'Education, Learning, Knowledge', 'Fear, Positivity, Doubting Everything', 'Inspirational, Motivational, Sports', 'Happiness, Inspiring, Happy', 'Funny, Attitude, Climbing', 'Confidence, Littles, Matter', 'Motivational, Buddhist, Children', 'Mean, Opportunity, Nerd', 'Love, Funny, Romantic', 'Inspirational, Positive, Stars', 'Running, Years, Tests', 'Peace, Integrity, Patriotic', 'Inspirational, Motivational, Relationship', 'Love, Life, Being Yourself', 'Happiness, Work, Opportunity', 'Inspiring, Forgiveness, New Beginnings', 'Motivational, Success, Work', 'Positive, Wisdom, Philosophical', 'Inspirational, Life, Motivational', 'Life, Leadership, Motivational Sports', 'Love, Confidence, Forgiving', 'Spiritual, Sufi, Wherever You Are', 'Inspirational, Motivational, Change', 'Inspirational, Life, Music', 'Artist, Age, Example', 'Inspirational, Motivational, Wise', 'Inspirational, Funny, Stupid', 'Love, Inspirational, Life', 'Education, Curiosity, Genius', 'Motivational, Inspiring, Leadership', 'Love, Inspirational, Motivational', 'Gun, Two, Qualms About', 'Inspirational, Greatness, Best Effort', 'Spiritual, Truth, Yoga', 'Inspirational, Leadership, Education', 'Inspirational, Life, Success', 'Peace, War, Government', 'Life, Strength, Courage', 'Positive, Family, Trust', 'Inspirational, Life, Motivational', 'Inspirational, Motivational, Teacher', 'Success, Spiritual, Wisdom', 'Inspiring, Encouragement, Bad Day', 'Strength, Christian, Self', 'Life, Motivational, Success', 'Inspirational, Success, Basketball', 'Inspirational, Motivational, Positive', 'Love, Valentines Day, Fate', 'Gun, People, Second Amendment', 'Long, Chinese, World', 'Inspirational, Greatness, Envy', 'Love, Inspiring, Positivity', 'Practice, Political, Deception', 'Military, Marine, Hands', 'Inspirational, Life, Motivational', 'Love, Life, Crush', 'Inspirational, Motivational, Peace', 'Inspirational, Freedom, Responsibility', 'Inspirational, Life, Motivational', 'Inspirational, Positive, Success', 'Inspirational, God, Stay Strong', 'Motivational, Running, Ideas', 'Inspirational, Life, Happiness', 'Sports, Hero, News', 'Inspirational, Funny, Positive', 'Anger, Adversity, Climbing', 'Inspirational, Inspiring, Friends', 'Motivational, Inspiration, Adversity', 'Children, Creativity, Ignorance', 'Life, Music, Beautiful', 'Inspirational, Positive, Freedom', 'Inspirational, Life, Bullying', 'Inspirational, Motivational, Success', 'Inspirational, Inspiring, Beauty', 'Witty, Attitude, Freedom', 'Military, Marine, Men', 'Motivational, Success, Positivity', 'Plato, War, Government', 'Inspirational, Educational, Learning', 'Inspirational, Motivational, Success', 'Inspirational, Life, Second Chance', 'Motivational, Sports, Football', 'Thanksgiving, Thankful, Gratitude', 'Love, Happiness, Smile', 'Inspirational, Motivational, Badass', 'Life, Inspiring, Encouragement', 'Funny, Humorous, Character', 'Moving On, Famous Inspirational, Greatness', 'Motivational, Happiness, Mean', 'Life, Birthday, Inspiring', 'Children, Educational, Future', 'Inspirational, Funny, Life', 'Change, Inspiring, Life Changing', 'Inspirational, Integrity, Yoga', 'Inspirational, Positive, Wisdom', 'Funny, Hilarious, Education', 'Sheep, Government, Political', 'Leadership, Appreciation, Team Building', 'Inspirational, Change, Success', 'Empowerment, Crowds, Empowering Women', 'Education, Learning, Knowledge', 'Fear, Positivity, Doubting Everything', 'Inspirational, Motivational, Sports', 'Happiness, Inspiring, Happy', 'Funny, Attitude, Climbing', 'Confidence, Littles, Matter', 'Motivational, Buddhist, Children', 'Mean, Opportunity, Nerd', 'Love, Funny, Romantic', 'Inspirational, Positive, Stars', 'Running, Years, Tests', 'Peace, Integrity, Patriotic', 'Inspirational, Motivational, Relationship', 'Love, Life, Being Yourself', 'Happiness, Work, Opportunity', 'Inspiring, Forgiveness, New Beginnings', 'Motivational, Success, Work', 'Positive, Wisdom, Philosophical', 'Inspirational, Life, Motivational', 'Life, Leadership, Motivational Sports', 'Love, Confidence, Forgiving', 'Spiritual, Sufi, Wherever You Are', 'Inspirational, Motivational, Change', 'Inspirational, Life, Music', 'Artist, Age, Example', 'Inspirational, Motivational, Wise', 'Inspirational, Funny, Stupid', 'Love, Inspirational, Life', 'Education, Curiosity, Genius', 'Motivational, Inspiring, Leadership', 'Love, Inspirational, Motivational', 'Gun, Two, Qualms About', 'Inspirational, Greatness, Best Effort', 'Spiritual, Truth, Yoga', 'Inspirational, Leadership, Education', 'Inspirational, Life, Success', 'Peace, War, Government', 'Life, Strength, Courage', 'Positive, Family, Trust', 'Inspirational, Life, Motivational', 'Inspirational, Motivational, Teacher', 'Success, Spiritual, Wisdom', 'Inspiring, Encouragement, Bad Day', 'Strength, Christian, Self', 'Life, Motivational, Success', 'Inspirational, Success, Basketball', 'Inspirational, Motivational, Positive', 'Love, Valentines Day, Fate', 'Gun, People, Second Amendment', 'Long, Chinese, World', 'Inspirational, Greatness, Envy', 'Love, Inspiring, Positivity', 'Practice, Political, Deception', 'Military, Marine, Hands', 'Inspirational, Life, Motivational', 'Love, Life, Crush', 'Inspirational, Motivational, Peace', 'Inspirational, Freedom, Responsibility', 'Inspirational, Life, Motivational', 'Inspirational, Positive, Success', 'Inspirational, God, Stay Strong', 'Motivational, Running, Ideas', 'Inspirational, Life, Happiness', 'Sports, Hero, News', 'Inspirational, Funny, Positive', 'Anger, Adversity, Climbing', 'Inspirational, Inspiring, Friends', 'Motivational, Inspiration, Adversity', 'Children, Creativity, Ignorance', 'Life, Music, Beautiful', 'Inspirational, Positive, Freedom', 'Inspirational, Life, Bullying', 'Inspirational, Motivational, Success', 'Inspirational, Inspiring, Beauty', 'Witty, Attitude, Freedom', 'Military, Marine, Men', 'Motivational, Success, Positivity', 'Plato, War, Government', 'Inspirational, Educational, Learning', 'Inspirational, Motivational, Success', 'Inspirational, Life, Second Chance', 'Motivational, Sports, Football', 'Thanksgiving, Thankful, Gratitude', 'Love, Happiness, Smile', 'Inspirational, Motivational, Badass', 'Life, Inspiring, Encouragement', 'Funny, Humorous, Character', 'Moving On, Famous Inspirational, Greatness', 'Motivational, Happiness, Mean', 'Life, Birthday, Inspiring', 'Children, Educational, Future', 'Inspirational, Funny, Life', 'Change, Inspiring, Life Changing', 'Inspirational, Integrity, Yoga', 'Inspirational, Positive, Wisdom', 'Funny, Hilarious, Education', 'Sheep, Government, Political', 'Leadership, Appreciation, Team Building', 'Inspirational, Change, Success', 'Empowerment, Crowds, Empowering Women', 'Education, Learning, Knowledge', 'Fear, Positivity, Doubting Everything', 'Inspirational, Motivational, Sports', 'Happiness, Inspiring, Happy', 'Funny, Attitude, Climbing', 'Confidence, Littles, Matter', 'Motivational, Buddhist, Children', 'Mean, Opportunity, Nerd', 'Love, Funny, Romantic', 'Inspirational, Positive, Stars', 'Running, Years, Tests', 'Peace, Integrity, Patriotic', 'Inspirational, Motivational, Relationship', 'Love, Life, Being Yourself', 'Happiness, Work, Opportunity', 'Inspiring, Forgiveness, New Beginnings', 'Motivational, Success, Work', 'Positive, Wisdom, Philosophical', 'Inspirational, Life, Motivational', 'Life, Leadership, Motivational Sports', 'Love, Confidence, Forgiving', 'Spiritual, Sufi, Wherever You Are', 'Inspirational, Motivational, Change', 'Inspirational, Life, Music', 'Artist, Age, Example', 'Inspirational, Motivational, Wise', 'Inspirational, Funny, Stupid', 'Love, Inspirational, Life', 'Education, Curiosity, Genius', 'Motivational, Inspiring, Leadership', 'Love, Inspirational, Motivational', 'Gun, Two, Qualms About', 'Inspirational, Greatness, Best Effort', 'Spiritual, Truth, Yoga', 'Inspirational, Leadership, Education', 'Inspirational, Life, Success', 'Peace, War, Government', 'Life, Strength, Courage', 'Positive, Family, Trust', 'Inspirational, Life, Motivational', 'Inspirational, Motivational, Teacher', 'Success, Spiritual, Wisdom', 'Inspiring, Encouragement, Bad Day', 'Strength, Christian, Self', 'Life, Motivational, Success', 'Inspirational, Success, Basketball', 'Inspirational, Motivational, Positive', 'Love, Valentines Day, Fate', 'Gun, People, Second Amendment', 'Long, Chinese, World', 'Inspirational, Greatness, Envy', 'Love, Inspiring, Positivity', 'Practice, Political, Deception', 'Military, Marine, Hands', 'Inspirational, Life, Motivational', 'Love, Life, Crush', 'Inspirational, Motivational, Peace', 'Inspirational, Freedom, Responsibility', 'Inspirational, Life, Motivational', 'Inspirational, Positive, Success', 'Inspirational, God, Stay Strong', 'Motivational, Running, Ideas', 'Inspirational, Life, Happiness', 'Sports, Hero, News', 'Inspirational, Funny, Positive', 'Anger, Adversity, Climbing', 'Inspirational, Inspiring, Friends', 'Motivational, Inspiration, Adversity', 'Children, Creativity, Ignorance', 'Life, Music, Beautiful', 'Inspirational, Positive, Freedom', 'Inspirational, Life, Bullying', 'Inspirational, Motivational, Success', 'Inspirational, Inspiring, Beauty', 'Witty, Attitude, Freedom', 'Military, Marine, Men', 'Motivational, Success, Positivity', 'Plato, War, Government', 'Inspirational, Educational, Learning', 'Inspirational, Motivational, Success', 'Inspirational, Life, Second Chance', 'Motivational, Sports, Football', 'Thanksgiving, Thankful, Gratitude', 'Love, Happiness, Smile', 'Inspirational, Motivational, Badass', 'Life, Inspiring, Encouragement', 'Funny, Humorous, Character', 'Moving On, Famous Inspirational, Greatness', 'Motivational, Happiness, Mean', 'Life, Birthday, Inspiring', 'Children, Educational, Future', 'Inspirational, Funny, Life', 'Change, Inspiring, Life Changing', 'Inspirational, Integrity, Yoga', 'Inspirational, Positive, Wisdom', 'Funny, Hilarious, Education', 'Sheep, Government, Political', 'Leadership, Appreciation, Team Building', 'Inspirational, Change, Success', 'Empowerment, Crowds, Empowering Women', 'Education, Learning, Knowledge', 'Fear, Positivity, Doubting Everything', 'Inspirational, Motivational, Sports', 'Happiness, Inspiring, Happy', 'Funny, Attitude, Climbing', 'Confidence, Littles, Matter', 'Motivational, Buddhist, Children', 'Mean, Opportunity, Nerd', 'Love, Funny, Romantic', 'Inspirational, Positive, Stars', 'Running, Years, Tests', 'Peace, Integrity, Patriotic', 'Inspirational, Motivational, Relationship', 'Love, Life, Being Yourself', 'Happiness, Work, Opportunity', 'Inspiring, Forgiveness, New Beginnings', 'Motivational, Success, Work', 'Positive, Wisdom, Philosophical', 'Inspirational, Life, Motivational', 'Life, Leadership, Motivational Sports', 'Love, Confidence, Forgiving', 'Spiritual, Sufi, Wherever You Are', 'Inspirational, Motivational, Change', 'Inspirational, Life, Music', 'Artist, Age, Example', 'Inspirational, Motivational, Wise', 'Inspirational, Funny, Stupid', 'Love, Inspirational, Life', 'Education, Curiosity, Genius', 'Motivational, Inspiring, Leadership', 'Love, Inspirational, Motivational', 'Gun, Two, Qualms About', 'Inspirational, Greatness, Best Effort', 'Spiritual, Truth, Yoga', 'Inspirational, Leadership, Education', 'Inspirational, Life, Success', 'Peace, War, Government', 'Life, Strength, Courage', 'Positive, Family, Trust', 'Inspirational, Life, Motivational', 'Inspirational, Motivational, Teacher', 'Success, Spiritual, Wisdom', 'Inspiring, Encouragement, Bad Day', 'Strength, Christian, Self', 'Life, Motivational, Success', 'Inspirational, Success, Basketball', 'Inspirational, Motivational, Positive', 'Love, Valentines Day, Fate', 'Gun, People, Second Amendment', 'Long, Chinese, World', 'Inspirational, Greatness, Envy', 'Love, Inspiring, Positivity', 'Practice, Political, Deception', 'Military, Marine, Hands', 'Inspirational, Life, Motivational', 'Love, Life, Crush', 'Inspirational, Motivational, Peace', 'Inspirational, Freedom, Responsibility', 'Inspirational, Life, Motivational', 'Inspirational, Positive, Success', 'Inspirational, God, Stay Strong', 'Motivational, Running, Ideas', 'Inspirational, Life, Happiness', 'Sports, Hero, News', 'Inspirational, Funny, Positive', 'Anger, Adversity, Climbing', 'Inspirational, Inspiring, Friends', 'Motivational, Inspiration, Adversity', 'Children, Creativity, Ignorance', 'Life, Music, Beautiful', 'Inspirational, Positive, Freedom', 'Inspirational, Life, Bullying', 'Inspirational, Motivational, Success', 'Inspirational, Inspiring, Beauty', 'Witty, Attitude, Freedom', 'Military, Marine, Men', 'Motivational, Success, Positivity', 'Plato, War, Government', 'Inspirational, Educational, Learning', 'Inspirational, Motivational, Success', 'Inspirational, Life, Second Chance', 'Motivational, Sports, Football', 'Thanksgiving, Thankful, Gratitude', 'Love, Happiness, Smile', 'Inspirational, Motivational, Badass', 'Life, Inspiring, Encouragement', 'Funny, Humorous, Character', 'Moving On, Famous Inspirational, Greatness', 'Motivational, Happiness, Mean', 'Life, Birthday, Inspiring', 'Children, Educational, Future', 'Inspirational, Funny, Life', 'Change, Inspiring, Life Changing', 'Inspirational, Integrity, Yoga', 'Inspirational, Positive, Wisdom', 'Funny, Hilarious, Education', 'Sheep, Government, Political', 'Leadership, Appreciation, Team Building', 'Inspirational, Change, Success', 'Empowerment, Crowds, Empowering Women', 'Education, Learning, Knowledge', 'Fear, Positivity, Doubting Everything', 'Inspirational, Motivational, Sports', 'Happiness, Inspiring, Happy', 'Funny, Attitude, Climbing', 'Confidence, Littles, Matter', 'Motivational, Buddhist, Children', 'Mean, Opportunity, Nerd', 'Love, Funny, Romantic', 'Inspirational, Positive, Stars', 'Running, Years, Tests', 'Peace, Integrity, Patriotic', 'Inspirational, Motivational, Relationship', 'Love, Life, Being Yourself', 'Happiness, Work, Opportunity', 'Inspiring, Forgiveness, New Beginnings', 'Motivational, Success, Work', 'Positive, Wisdom, Philosophical', 'Inspirational, Life, Motivational', 'Life, Leadership, Motivational Sports', 'Love, Confidence, Forgiving', 'Spiritual, Sufi, Wherever You Are', 'Inspirational, Motivational, Change', 'Inspirational, Life, Music', 'Artist, Age, Example', 'Inspirational, Motivational, Wise', 'Inspirational, Funny, Stupid', 'Love, Inspirational, Life', 'Education, Curiosity, Genius', 'Motivational, Inspiring, Leadership', 'Love, Inspirational, Motivational', 'Gun, Two, Qualms About', 'Inspirational, Greatness, Best Effort', 'Spiritual, Truth, Yoga', 'Inspirational, Leadership, Education', 'Inspirational, Life, Success', 'Peace, War, Government', 'Life, Strength, Courage', 'Positive, Family, Trust', 'Inspirational, Life, Motivational', 'Inspirational, Motivational, Teacher', 'Success, Spiritual, Wisdom', 'Inspiring, Encouragement, Bad Day', 'Strength, Christian, Self', 'Life, Motivational, Success', 'Inspirational, Success, Basketball', 'Inspirational, Motivational, Positive', 'Love, Valentines Day, Fate', 'Gun, People, Second Amendment', 'Long, Chinese, World', 'Inspirational, Greatness, Envy', 'Love, Inspiring, Positivity', 'Practice, Political, Deception', 'Military, Marine, Hands', 'Inspirational, Life, Motivational', 'Love, Life, Crush', 'Inspirational, Motivational, Peace', 'Inspirational, Freedom, Responsibility', 'Inspirational, Life, Motivational', 'Inspirational, Positive, Success', 'Inspirational, God, Stay Strong', 'Motivational, Running, Ideas', 'Inspirational, Life, Happiness', 'Sports, Hero, News', 'Inspirational, Funny, Positive', 'Anger, Adversity, Climbing', 'Inspirational, Inspiring, Friends', 'Motivational, Inspiration, Adversity', 'Children, Creativity, Ignorance', 'Life, Music, Beautiful', 'Inspirational, Positive, Freedom', 'Inspirational, Life, Bullying', 'Inspirational, Motivational, Success', 'Inspirational, Inspiring, Beauty', 'Witty, Attitude, Freedom', 'Military, Marine, Men', 'Motivational, Success, Positivity', 'Plato, War, Government', 'Inspirational, Educational, Learning', 'Inspirational, Motivational, Success', 'Inspirational, Life, Second Chance', 'Motivational, Sports, Football', 'Thanksgiving, Thankful, Gratitude', 'Love, Happiness, Smile', 'Inspirational, Motivational, Badass', 'Life, Inspiring, Encouragement', 'Funny, Humorous, Character', 'Moving On, Famous Inspirational, Greatness', 'Motivational, Happiness, Mean', 'Life, Birthday, Inspiring', 'Children, Educational, Future', 'Inspirational, Funny, Life', 'Change, Inspiring, Life Changing', 'Inspirational, Integrity, Yoga', 'Inspirational, Positive, Wisdom', 'Funny, Hilarious, Education', 'Sheep, Government, Political', 'Leadership, Appreciation, Team Building', 'Inspirational, Change, Success', 'Empowerment, Crowds, Empowering Women', 'Education, Learning, Knowledge', 'Fear, Positivity, Doubting Everything', 'Inspirational, Motivational, Sports', 'Happiness, Inspiring, Happy', 'Funny, Attitude, Climbing', 'Confidence, Littles, Matter', 'Motivational, Buddhist, Children', 'Mean, Opportunity, Nerd', 'Love, Funny, Romantic', 'Inspirational, Positive, Stars', 'Running, Years, Tests', 'Peace, Integrity, Patriotic', 'Inspirational, Motivational, Relationship', 'Love, Life, Being Yourself', 'Happiness, Work, Opportunity', 'Inspiring, Forgiveness, New Beginnings', 'Motivational, Success, Work', 'Positive, Wisdom, Philosophical', 'Inspirational, Life, Motivational', 'Life, Leadership, Motivational Sports', 'Love, Confidence, Forgiving', 'Spiritual, Sufi, Wherever You Are', 'Inspirational, Motivational, Change', 'Inspirational, Life, Music', 'Artist, Age, Example', 'Inspirational, Motivational, Wise', 'Inspirational, Funny, Stupid', 'Love, Inspirational, Life', 'Education, Curiosity, Genius', 'Motivational, Inspiring, Leadership', 'Love, Inspirational, Motivational', 'Gun, Two, Qualms About', 'Inspirational, Greatness, Best Effort', 'Spiritual, Truth, Yoga', 'Inspirational, Leadership, Education'] 1000\n"
     ]
    }
   ],
   "source": [
    "a=0\n",
    "for i in range(10):\n",
    "    title_tags=driver.find_elements(By.XPATH,'//div[@class=\"tags\"]')\n",
    "    for i in title_tags:\n",
    "        if a<1000:\n",
    "            type_of_quotes.append(i.text)\n",
    "    next_button=driver.find_element(By.XPATH,'/html/body/div[1]/div[2]/div/div/div/div[1]/div/div[3]/li[12]/a')\n",
    "    next_button.click()\n",
    "    time.sleep(2)\n",
    "print(type_of_quotes,len(type_of_quotes))"
   ]
  },
  {
   "cell_type": "code",
   "execution_count": 104,
   "id": "ccf2f6a4",
   "metadata": {},
   "outputs": [
    {
     "data": {
      "text/html": [
       "<div>\n",
       "<style scoped>\n",
       "    .dataframe tbody tr th:only-of-type {\n",
       "        vertical-align: middle;\n",
       "    }\n",
       "\n",
       "    .dataframe tbody tr th {\n",
       "        vertical-align: top;\n",
       "    }\n",
       "\n",
       "    .dataframe thead th {\n",
       "        text-align: right;\n",
       "    }\n",
       "</style>\n",
       "<table border=\"1\" class=\"dataframe\">\n",
       "  <thead>\n",
       "    <tr style=\"text-align: right;\">\n",
       "      <th></th>\n",
       "      <th>Quote</th>\n",
       "      <th>Author</th>\n",
       "      <th>Type Of Quote</th>\n",
       "    </tr>\n",
       "  </thead>\n",
       "  <tbody>\n",
       "    <tr>\n",
       "      <th>0</th>\n",
       "      <td>The essence of strategy is choosing what not t...</td>\n",
       "      <td>Michael Porter</td>\n",
       "      <td>Essence, Deep Thought, Transcendentalism</td>\n",
       "    </tr>\n",
       "    <tr>\n",
       "      <th>1</th>\n",
       "      <td>One cannot and must not try to erase the past ...</td>\n",
       "      <td>Golda Meir</td>\n",
       "      <td>Inspiration, Past, Trying</td>\n",
       "    </tr>\n",
       "    <tr>\n",
       "      <th>2</th>\n",
       "      <td>Patriotism means to stand by the country. It d...</td>\n",
       "      <td>Theodore Roosevelt</td>\n",
       "      <td>Country, Peace, War</td>\n",
       "    </tr>\n",
       "    <tr>\n",
       "      <th>3</th>\n",
       "      <td>Death is something inevitable. When a man has ...</td>\n",
       "      <td>Nelson Mandela</td>\n",
       "      <td>Inspirational, Motivational, Death</td>\n",
       "    </tr>\n",
       "    <tr>\n",
       "      <th>4</th>\n",
       "      <td>You have to love a nation that celebrates its ...</td>\n",
       "      <td>Erma Bombeck</td>\n",
       "      <td>4th Of July, Food, Patriotic</td>\n",
       "    </tr>\n",
       "    <tr>\n",
       "      <th>...</th>\n",
       "      <td>...</td>\n",
       "      <td>...</td>\n",
       "      <td>...</td>\n",
       "    </tr>\n",
       "    <tr>\n",
       "      <th>995</th>\n",
       "      <td>Regret for the things we did can be tempered b...</td>\n",
       "      <td>Sydney J. Harris</td>\n",
       "      <td>Love, Inspirational, Motivational</td>\n",
       "    </tr>\n",
       "    <tr>\n",
       "      <th>996</th>\n",
       "      <td>America... just a nation of two hundred millio...</td>\n",
       "      <td>Hunter S. Thompson</td>\n",
       "      <td>Gun, Two, Qualms About</td>\n",
       "    </tr>\n",
       "    <tr>\n",
       "      <th>997</th>\n",
       "      <td>For every disciplined effort there is a multip...</td>\n",
       "      <td>Jim Rohn</td>\n",
       "      <td>Inspirational, Greatness, Best Effort</td>\n",
       "    </tr>\n",
       "    <tr>\n",
       "      <th>998</th>\n",
       "      <td>The spiritual journey is individual, highly pe...</td>\n",
       "      <td>Ram Dass</td>\n",
       "      <td>Spiritual, Truth, Yoga</td>\n",
       "    </tr>\n",
       "    <tr>\n",
       "      <th>999</th>\n",
       "      <td>The mind is not a vessel to be filled but a fi...</td>\n",
       "      <td>Plutarch</td>\n",
       "      <td>Inspirational, Leadership, Education</td>\n",
       "    </tr>\n",
       "  </tbody>\n",
       "</table>\n",
       "<p>1000 rows × 3 columns</p>\n",
       "</div>"
      ],
      "text/plain": [
       "                                                 Quote              Author  \\\n",
       "0    The essence of strategy is choosing what not t...      Michael Porter   \n",
       "1    One cannot and must not try to erase the past ...          Golda Meir   \n",
       "2    Patriotism means to stand by the country. It d...  Theodore Roosevelt   \n",
       "3    Death is something inevitable. When a man has ...      Nelson Mandela   \n",
       "4    You have to love a nation that celebrates its ...        Erma Bombeck   \n",
       "..                                                 ...                 ...   \n",
       "995  Regret for the things we did can be tempered b...    Sydney J. Harris   \n",
       "996  America... just a nation of two hundred millio...  Hunter S. Thompson   \n",
       "997  For every disciplined effort there is a multip...            Jim Rohn   \n",
       "998  The spiritual journey is individual, highly pe...            Ram Dass   \n",
       "999  The mind is not a vessel to be filled but a fi...            Plutarch   \n",
       "\n",
       "                                Type Of Quote  \n",
       "0    Essence, Deep Thought, Transcendentalism  \n",
       "1                   Inspiration, Past, Trying  \n",
       "2                         Country, Peace, War  \n",
       "3          Inspirational, Motivational, Death  \n",
       "4                4th Of July, Food, Patriotic  \n",
       "..                                        ...  \n",
       "995         Love, Inspirational, Motivational  \n",
       "996                    Gun, Two, Qualms About  \n",
       "997     Inspirational, Greatness, Best Effort  \n",
       "998                    Spiritual, Truth, Yoga  \n",
       "999      Inspirational, Leadership, Education  \n",
       "\n",
       "[1000 rows x 3 columns]"
      ]
     },
     "execution_count": 104,
     "metadata": {},
     "output_type": "execute_result"
    }
   ],
   "source": [
    "df= pd.DataFrame({'Quote':quote,'Author':author,'Type Of Quote':type_of_quotes})\n",
    "df"
   ]
  },
  {
   "cell_type": "code",
   "execution_count": 105,
   "id": "06716800",
   "metadata": {},
   "outputs": [],
   "source": [
    "#Question-9"
   ]
  },
  {
   "cell_type": "code",
   "execution_count": 173,
   "id": "616188f7",
   "metadata": {},
   "outputs": [],
   "source": [
    "driver=webdriver.Chrome()\n",
    "driver.get('https://www.jagranjosh.com/')"
   ]
  },
  {
   "cell_type": "code",
   "execution_count": 174,
   "id": "2d19b87b",
   "metadata": {},
   "outputs": [],
   "source": [
    "gk=driver.find_element(By.XPATH,'/html/body/div/header/nav/div/div/div[3]/ul/li[3]/a')\n",
    "gk.click()"
   ]
  },
  {
   "cell_type": "code",
   "execution_count": 175,
   "id": "af5c0bcf",
   "metadata": {},
   "outputs": [],
   "source": [
    "#we have to go to india gk to get the pm list\n",
    "#we will use to website to get there\n",
    "a=driver.find_element(By.XPATH,'/html/body/div[1]/div[8]/section[5]/div[1]/h2/a').get_attribute('href')\n",
    "#This is the website of the india gk page\n",
    "driver= webdriver.Chrome()\n",
    "driver.get(a)"
   ]
  },
  {
   "cell_type": "code",
   "execution_count": 176,
   "id": "81f339df",
   "metadata": {},
   "outputs": [],
   "source": [
    "india_pm=driver.find_element(By.XPATH,'/html/body/div[1]/main/div[1]/div[1]/section[2]/div/ul/li[10]/article/h3/a')\n",
    "india_pm.click()"
   ]
  },
  {
   "cell_type": "code",
   "execution_count": 179,
   "id": "0cfca8d1",
   "metadata": {},
   "outputs": [],
   "source": [
    "name=[]\n",
    "bord_dead=[]\n",
    "term_of_office=[]\n",
    "remarks=[]"
   ]
  },
  {
   "cell_type": "code",
   "execution_count": 180,
   "id": "b49daa68",
   "metadata": {},
   "outputs": [],
   "source": [
    "title_tags=driver.find_elements(By.XPATH,'//div[@class=\"TableData\"]/table/tbody/tr/td[3]')"
   ]
  },
  {
   "cell_type": "code",
   "execution_count": 181,
   "id": "b5254ba6",
   "metadata": {},
   "outputs": [],
   "source": [
    "for i in title_tags:\n",
    "    bord_dead.append(i.text)"
   ]
  },
  {
   "cell_type": "code",
   "execution_count": 182,
   "id": "0fdfba10",
   "metadata": {},
   "outputs": [
    {
     "name": "stdout",
     "output_type": "stream",
     "text": [
      "['(1889–1964)', '(1898-1998)', '(1904–1966)', '(1898-1998)', '(1917–1984)', '(1896–1995)', '(1902–1987)', '(1917–1984)', '(1944–1991)', '(1931–2008)', '(1927–2007)', '(1921–2004)', '(1924- 2018)', '(born 1933)', '(1919–2012)', '(1924-2018)', '(born 1932)', '(born 1950)', '(born 1950)'] 19\n"
     ]
    }
   ],
   "source": [
    "print(bord_dead,len(bord_dead))"
   ]
  },
  {
   "cell_type": "code",
   "execution_count": 183,
   "id": "4a81a4fd",
   "metadata": {},
   "outputs": [],
   "source": [
    "title_tags=driver.find_elements(By.XPATH,'//div[@class=\"TableData\"]/table/tbody/tr/td[4]')"
   ]
  },
  {
   "cell_type": "code",
   "execution_count": 184,
   "id": "55606a82",
   "metadata": {},
   "outputs": [
    {
     "name": "stdout",
     "output_type": "stream",
     "text": [
      "['15 August 1947 to 27 May 1964\\n16 years, 286 days', '27 May 1964 to 9 June 1964,\\n13 days', '9 June 1964 to 11 January 1966\\n1 year, 216 days', '11 January 1966 to 24 January 1966\\n13 days', '24 January 1966 to 24 March 1977\\n11 years, 59 days', '24 March 1977 to  28 July 1979 \\n2 year, 126 days', '28 July 1979 to 14 January 1980\\n170 days', '14 January 1980 to 31 October 1984\\n4 years, 291 days', '31 October 1984 to 2 December 1989\\n5 years, 32 days', '2 December 1989 to 10 November 1990\\n343 days', '10 November 1990 to 21 June 1991\\n223 days', '21 June 1991 to 16 May 1996\\n4 years, 330 days', '16 May 1996 to 1 June 1996\\n16 days', '1 June 1996 to 21 April 1997\\n324 days', '21 April 1997 to 19 March 1998 \\n332 days', '19 March 1998 to 22 May 2004 \\n6 years, 64 days', '22 May 2004 to 26 May 2014   \\n10 years, 4 days', '26 May 2014 - 2019', '30 May 2019- Incumbent'] 19\n"
     ]
    }
   ],
   "source": [
    "for i in title_tags:\n",
    "    term_of_office.append(i.text)\n",
    "print(term_of_office,len(term_of_office))"
   ]
  },
  {
   "cell_type": "code",
   "execution_count": 185,
   "id": "c7a6ef6c",
   "metadata": {},
   "outputs": [],
   "source": [
    "title_tags=driver.find_elements(By.XPATH,'//div[@class=\"TableData\"]/table/tbody/tr/td[5]')"
   ]
  },
  {
   "cell_type": "code",
   "execution_count": 186,
   "id": "8829ce72",
   "metadata": {},
   "outputs": [
    {
     "name": "stdout",
     "output_type": "stream",
     "text": [
      "['The first prime minister of India and the longest-serving PM of India, the first to die in office.', 'First acting PM of India', \"He has given the slogan of 'Jai Jawan Jai Kisan' during the Indo-Pak war of 1965\", '-', 'First female Prime Minister of India', 'Oldest to become PM (81 years old) and first to resign from office', 'Only PM who did not face the Parliament', 'The first lady who served as PM for the second term', 'Youngest to become PM (40 years old)', 'First PM to step down after a vote of no confidence', 'He belongs to  Samajwadi Janata Party', 'First PM from South India', 'PM for shortest tenure', 'He belongs to  Janata Dal', '------', ' The first non-congress PM who completed a full term as PM', ' First Sikh PM', '4th Prime Minister of India who served two consecutive tenures', 'First non-congress PM with two consecutive tenures'] 19\n"
     ]
    }
   ],
   "source": [
    "for i in title_tags:\n",
    "    remarks.append(i.text)\n",
    "print(remarks,len(remarks))"
   ]
  },
  {
   "cell_type": "code",
   "execution_count": 187,
   "id": "7738ce4b",
   "metadata": {},
   "outputs": [],
   "source": [
    "title_tags=driver.find_elements(By.XPATH,'//div[@class=\"TableData\"]/table/tbody/tr/td[2]/div')"
   ]
  },
  {
   "cell_type": "code",
   "execution_count": 188,
   "id": "86f62d40",
   "metadata": {},
   "outputs": [
    {
     "name": "stdout",
     "output_type": "stream",
     "text": [
      "['Jawahar Lal Nehru', 'Gulzarilal Nanda (Acting)', 'Lal Bahadur Shastri', 'Gulzari Lal Nanda  (Acting)', 'Indira Gandhi', 'Morarji Desai', 'Charan Singh', 'Indira Gandhi', 'Rajiv Gandhi', 'V. P. Singh', 'Chandra Shekhar', 'P. V. Narasimha Rao', 'Atal Bihari Vajpayee', 'H. D. Deve Gowda', 'Inder Kumar Gujral', 'Atal Bihari Vajpayee', 'Manmohan Singh', 'Narendra Modi', 'Narendra Modi'] 19\n"
     ]
    }
   ],
   "source": [
    "for i in title_tags:\n",
    "    name.append(i.text)\n",
    "print(name,len(name))"
   ]
  },
  {
   "cell_type": "code",
   "execution_count": 189,
   "id": "f7ceae97",
   "metadata": {},
   "outputs": [
    {
     "data": {
      "text/html": [
       "<div>\n",
       "<style scoped>\n",
       "    .dataframe tbody tr th:only-of-type {\n",
       "        vertical-align: middle;\n",
       "    }\n",
       "\n",
       "    .dataframe tbody tr th {\n",
       "        vertical-align: top;\n",
       "    }\n",
       "\n",
       "    .dataframe thead th {\n",
       "        text-align: right;\n",
       "    }\n",
       "</style>\n",
       "<table border=\"1\" class=\"dataframe\">\n",
       "  <thead>\n",
       "    <tr style=\"text-align: right;\">\n",
       "      <th></th>\n",
       "      <th>Name</th>\n",
       "      <th>Born Dead</th>\n",
       "      <th>Term Of Office</th>\n",
       "      <th>Remarks</th>\n",
       "    </tr>\n",
       "  </thead>\n",
       "  <tbody>\n",
       "    <tr>\n",
       "      <th>0</th>\n",
       "      <td>Jawahar Lal Nehru</td>\n",
       "      <td>(1889–1964)</td>\n",
       "      <td>15 August 1947 to 27 May 1964\\n16 years, 286 days</td>\n",
       "      <td>The first prime minister of India and the long...</td>\n",
       "    </tr>\n",
       "    <tr>\n",
       "      <th>1</th>\n",
       "      <td>Gulzarilal Nanda (Acting)</td>\n",
       "      <td>(1898-1998)</td>\n",
       "      <td>27 May 1964 to 9 June 1964,\\n13 days</td>\n",
       "      <td>First acting PM of India</td>\n",
       "    </tr>\n",
       "    <tr>\n",
       "      <th>2</th>\n",
       "      <td>Lal Bahadur Shastri</td>\n",
       "      <td>(1904–1966)</td>\n",
       "      <td>9 June 1964 to 11 January 1966\\n1 year, 216 days</td>\n",
       "      <td>He has given the slogan of 'Jai Jawan Jai Kisa...</td>\n",
       "    </tr>\n",
       "    <tr>\n",
       "      <th>3</th>\n",
       "      <td>Gulzari Lal Nanda  (Acting)</td>\n",
       "      <td>(1898-1998)</td>\n",
       "      <td>11 January 1966 to 24 January 1966\\n13 days</td>\n",
       "      <td>-</td>\n",
       "    </tr>\n",
       "    <tr>\n",
       "      <th>4</th>\n",
       "      <td>Indira Gandhi</td>\n",
       "      <td>(1917–1984)</td>\n",
       "      <td>24 January 1966 to 24 March 1977\\n11 years, 59...</td>\n",
       "      <td>First female Prime Minister of India</td>\n",
       "    </tr>\n",
       "    <tr>\n",
       "      <th>5</th>\n",
       "      <td>Morarji Desai</td>\n",
       "      <td>(1896–1995)</td>\n",
       "      <td>24 March 1977 to  28 July 1979 \\n2 year, 126 days</td>\n",
       "      <td>Oldest to become PM (81 years old) and first t...</td>\n",
       "    </tr>\n",
       "    <tr>\n",
       "      <th>6</th>\n",
       "      <td>Charan Singh</td>\n",
       "      <td>(1902–1987)</td>\n",
       "      <td>28 July 1979 to 14 January 1980\\n170 days</td>\n",
       "      <td>Only PM who did not face the Parliament</td>\n",
       "    </tr>\n",
       "    <tr>\n",
       "      <th>7</th>\n",
       "      <td>Indira Gandhi</td>\n",
       "      <td>(1917–1984)</td>\n",
       "      <td>14 January 1980 to 31 October 1984\\n4 years, 2...</td>\n",
       "      <td>The first lady who served as PM for the second...</td>\n",
       "    </tr>\n",
       "    <tr>\n",
       "      <th>8</th>\n",
       "      <td>Rajiv Gandhi</td>\n",
       "      <td>(1944–1991)</td>\n",
       "      <td>31 October 1984 to 2 December 1989\\n5 years, 3...</td>\n",
       "      <td>Youngest to become PM (40 years old)</td>\n",
       "    </tr>\n",
       "    <tr>\n",
       "      <th>9</th>\n",
       "      <td>V. P. Singh</td>\n",
       "      <td>(1931–2008)</td>\n",
       "      <td>2 December 1989 to 10 November 1990\\n343 days</td>\n",
       "      <td>First PM to step down after a vote of no confi...</td>\n",
       "    </tr>\n",
       "    <tr>\n",
       "      <th>10</th>\n",
       "      <td>Chandra Shekhar</td>\n",
       "      <td>(1927–2007)</td>\n",
       "      <td>10 November 1990 to 21 June 1991\\n223 days</td>\n",
       "      <td>He belongs to  Samajwadi Janata Party</td>\n",
       "    </tr>\n",
       "    <tr>\n",
       "      <th>11</th>\n",
       "      <td>P. V. Narasimha Rao</td>\n",
       "      <td>(1921–2004)</td>\n",
       "      <td>21 June 1991 to 16 May 1996\\n4 years, 330 days</td>\n",
       "      <td>First PM from South India</td>\n",
       "    </tr>\n",
       "    <tr>\n",
       "      <th>12</th>\n",
       "      <td>Atal Bihari Vajpayee</td>\n",
       "      <td>(1924- 2018)</td>\n",
       "      <td>16 May 1996 to 1 June 1996\\n16 days</td>\n",
       "      <td>PM for shortest tenure</td>\n",
       "    </tr>\n",
       "    <tr>\n",
       "      <th>13</th>\n",
       "      <td>H. D. Deve Gowda</td>\n",
       "      <td>(born 1933)</td>\n",
       "      <td>1 June 1996 to 21 April 1997\\n324 days</td>\n",
       "      <td>He belongs to  Janata Dal</td>\n",
       "    </tr>\n",
       "    <tr>\n",
       "      <th>14</th>\n",
       "      <td>Inder Kumar Gujral</td>\n",
       "      <td>(1919–2012)</td>\n",
       "      <td>21 April 1997 to 19 March 1998 \\n332 days</td>\n",
       "      <td>------</td>\n",
       "    </tr>\n",
       "    <tr>\n",
       "      <th>15</th>\n",
       "      <td>Atal Bihari Vajpayee</td>\n",
       "      <td>(1924-2018)</td>\n",
       "      <td>19 March 1998 to 22 May 2004 \\n6 years, 64 days</td>\n",
       "      <td>The first non-congress PM who completed a ful...</td>\n",
       "    </tr>\n",
       "    <tr>\n",
       "      <th>16</th>\n",
       "      <td>Manmohan Singh</td>\n",
       "      <td>(born 1932)</td>\n",
       "      <td>22 May 2004 to 26 May 2014   \\n10 years, 4 days</td>\n",
       "      <td>First Sikh PM</td>\n",
       "    </tr>\n",
       "    <tr>\n",
       "      <th>17</th>\n",
       "      <td>Narendra Modi</td>\n",
       "      <td>(born 1950)</td>\n",
       "      <td>26 May 2014 - 2019</td>\n",
       "      <td>4th Prime Minister of India who served two con...</td>\n",
       "    </tr>\n",
       "    <tr>\n",
       "      <th>18</th>\n",
       "      <td>Narendra Modi</td>\n",
       "      <td>(born 1950)</td>\n",
       "      <td>30 May 2019- Incumbent</td>\n",
       "      <td>First non-congress PM with two consecutive ten...</td>\n",
       "    </tr>\n",
       "  </tbody>\n",
       "</table>\n",
       "</div>"
      ],
      "text/plain": [
       "                           Name     Born Dead  \\\n",
       "0             Jawahar Lal Nehru   (1889–1964)   \n",
       "1     Gulzarilal Nanda (Acting)   (1898-1998)   \n",
       "2           Lal Bahadur Shastri   (1904–1966)   \n",
       "3   Gulzari Lal Nanda  (Acting)   (1898-1998)   \n",
       "4                 Indira Gandhi   (1917–1984)   \n",
       "5                 Morarji Desai   (1896–1995)   \n",
       "6                  Charan Singh   (1902–1987)   \n",
       "7                 Indira Gandhi   (1917–1984)   \n",
       "8                  Rajiv Gandhi   (1944–1991)   \n",
       "9                   V. P. Singh   (1931–2008)   \n",
       "10              Chandra Shekhar   (1927–2007)   \n",
       "11          P. V. Narasimha Rao   (1921–2004)   \n",
       "12         Atal Bihari Vajpayee  (1924- 2018)   \n",
       "13             H. D. Deve Gowda   (born 1933)   \n",
       "14           Inder Kumar Gujral   (1919–2012)   \n",
       "15         Atal Bihari Vajpayee   (1924-2018)   \n",
       "16               Manmohan Singh   (born 1932)   \n",
       "17                Narendra Modi   (born 1950)   \n",
       "18                Narendra Modi   (born 1950)   \n",
       "\n",
       "                                       Term Of Office  \\\n",
       "0   15 August 1947 to 27 May 1964\\n16 years, 286 days   \n",
       "1                27 May 1964 to 9 June 1964,\\n13 days   \n",
       "2    9 June 1964 to 11 January 1966\\n1 year, 216 days   \n",
       "3         11 January 1966 to 24 January 1966\\n13 days   \n",
       "4   24 January 1966 to 24 March 1977\\n11 years, 59...   \n",
       "5   24 March 1977 to  28 July 1979 \\n2 year, 126 days   \n",
       "6           28 July 1979 to 14 January 1980\\n170 days   \n",
       "7   14 January 1980 to 31 October 1984\\n4 years, 2...   \n",
       "8   31 October 1984 to 2 December 1989\\n5 years, 3...   \n",
       "9       2 December 1989 to 10 November 1990\\n343 days   \n",
       "10         10 November 1990 to 21 June 1991\\n223 days   \n",
       "11     21 June 1991 to 16 May 1996\\n4 years, 330 days   \n",
       "12                16 May 1996 to 1 June 1996\\n16 days   \n",
       "13             1 June 1996 to 21 April 1997\\n324 days   \n",
       "14          21 April 1997 to 19 March 1998 \\n332 days   \n",
       "15    19 March 1998 to 22 May 2004 \\n6 years, 64 days   \n",
       "16    22 May 2004 to 26 May 2014   \\n10 years, 4 days   \n",
       "17                                 26 May 2014 - 2019   \n",
       "18                             30 May 2019- Incumbent   \n",
       "\n",
       "                                              Remarks  \n",
       "0   The first prime minister of India and the long...  \n",
       "1                            First acting PM of India  \n",
       "2   He has given the slogan of 'Jai Jawan Jai Kisa...  \n",
       "3                                                   -  \n",
       "4                First female Prime Minister of India  \n",
       "5   Oldest to become PM (81 years old) and first t...  \n",
       "6             Only PM who did not face the Parliament  \n",
       "7   The first lady who served as PM for the second...  \n",
       "8                Youngest to become PM (40 years old)  \n",
       "9   First PM to step down after a vote of no confi...  \n",
       "10              He belongs to  Samajwadi Janata Party  \n",
       "11                          First PM from South India  \n",
       "12                             PM for shortest tenure  \n",
       "13                          He belongs to  Janata Dal  \n",
       "14                                             ------  \n",
       "15   The first non-congress PM who completed a ful...  \n",
       "16                                      First Sikh PM  \n",
       "17  4th Prime Minister of India who served two con...  \n",
       "18  First non-congress PM with two consecutive ten...  "
      ]
     },
     "execution_count": 189,
     "metadata": {},
     "output_type": "execute_result"
    }
   ],
   "source": [
    "df= pd.DataFrame({'Name':name,'Born Dead':bord_dead,'Term Of Office':term_of_office,'Remarks':remarks})\n",
    "df"
   ]
  },
  {
   "cell_type": "code",
   "execution_count": 191,
   "id": "05fd4399",
   "metadata": {},
   "outputs": [
    {
     "data": {
      "text/html": [
       "<div>\n",
       "<style scoped>\n",
       "    .dataframe tbody tr th:only-of-type {\n",
       "        vertical-align: middle;\n",
       "    }\n",
       "\n",
       "    .dataframe tbody tr th {\n",
       "        vertical-align: top;\n",
       "    }\n",
       "\n",
       "    .dataframe thead th {\n",
       "        text-align: right;\n",
       "    }\n",
       "</style>\n",
       "<table border=\"1\" class=\"dataframe\">\n",
       "  <thead>\n",
       "    <tr style=\"text-align: right;\">\n",
       "      <th></th>\n",
       "      <th>Name</th>\n",
       "      <th>Born Dead</th>\n",
       "      <th>Term Of Office</th>\n",
       "      <th>Remarks</th>\n",
       "    </tr>\n",
       "  </thead>\n",
       "  <tbody>\n",
       "    <tr>\n",
       "      <th>0</th>\n",
       "      <td>Jawahar Lal Nehru</td>\n",
       "      <td>(1889–1964)</td>\n",
       "      <td>15 August 1947 to 27 May 1964\\n16 years, 286 days</td>\n",
       "      <td>The first prime minister of India and the long...</td>\n",
       "    </tr>\n",
       "    <tr>\n",
       "      <th>1</th>\n",
       "      <td>Gulzarilal Nanda (Acting)</td>\n",
       "      <td>(1898-1998)</td>\n",
       "      <td>27 May 1964 to 9 June 1964,\\n13 days</td>\n",
       "      <td>First acting PM of India</td>\n",
       "    </tr>\n",
       "    <tr>\n",
       "      <th>2</th>\n",
       "      <td>Lal Bahadur Shastri</td>\n",
       "      <td>(1904–1966)</td>\n",
       "      <td>9 June 1964 to 11 January 1966\\n1 year, 216 days</td>\n",
       "      <td>He has given the slogan of 'Jai Jawan Jai Kisa...</td>\n",
       "    </tr>\n",
       "    <tr>\n",
       "      <th>3</th>\n",
       "      <td>Gulzari Lal Nanda  (Acting)</td>\n",
       "      <td>(1898-1998)</td>\n",
       "      <td>11 January 1966 to 24 January 1966\\n13 days</td>\n",
       "      <td>-</td>\n",
       "    </tr>\n",
       "    <tr>\n",
       "      <th>4</th>\n",
       "      <td>Indira Gandhi</td>\n",
       "      <td>(1917–1984)</td>\n",
       "      <td>24 January 1966 to 24 March 1977\\n11 years, 59...</td>\n",
       "      <td>First female Prime Minister of India</td>\n",
       "    </tr>\n",
       "    <tr>\n",
       "      <th>5</th>\n",
       "      <td>Morarji Desai</td>\n",
       "      <td>(1896–1995)</td>\n",
       "      <td>24 March 1977 to  28 July 1979 \\n2 year, 126 days</td>\n",
       "      <td>Oldest to become PM (81 years old) and first t...</td>\n",
       "    </tr>\n",
       "    <tr>\n",
       "      <th>6</th>\n",
       "      <td>Charan Singh</td>\n",
       "      <td>(1902–1987)</td>\n",
       "      <td>28 July 1979 to 14 January 1980\\n170 days</td>\n",
       "      <td>Only PM who did not face the Parliament</td>\n",
       "    </tr>\n",
       "    <tr>\n",
       "      <th>7</th>\n",
       "      <td>Indira Gandhi</td>\n",
       "      <td>(1917–1984)</td>\n",
       "      <td>14 January 1980 to 31 October 1984\\n4 years, 2...</td>\n",
       "      <td>The first lady who served as PM for the second...</td>\n",
       "    </tr>\n",
       "    <tr>\n",
       "      <th>8</th>\n",
       "      <td>Rajiv Gandhi</td>\n",
       "      <td>(1944–1991)</td>\n",
       "      <td>31 October 1984 to 2 December 1989\\n5 years, 3...</td>\n",
       "      <td>Youngest to become PM (40 years old)</td>\n",
       "    </tr>\n",
       "    <tr>\n",
       "      <th>9</th>\n",
       "      <td>V. P. Singh</td>\n",
       "      <td>(1931–2008)</td>\n",
       "      <td>2 December 1989 to 10 November 1990\\n343 days</td>\n",
       "      <td>First PM to step down after a vote of no confi...</td>\n",
       "    </tr>\n",
       "    <tr>\n",
       "      <th>10</th>\n",
       "      <td>Chandra Shekhar</td>\n",
       "      <td>(1927–2007)</td>\n",
       "      <td>10 November 1990 to 21 June 1991\\n223 days</td>\n",
       "      <td>He belongs to  Samajwadi Janata Party</td>\n",
       "    </tr>\n",
       "    <tr>\n",
       "      <th>11</th>\n",
       "      <td>P. V. Narasimha Rao</td>\n",
       "      <td>(1921–2004)</td>\n",
       "      <td>21 June 1991 to 16 May 1996\\n4 years, 330 days</td>\n",
       "      <td>First PM from South India</td>\n",
       "    </tr>\n",
       "    <tr>\n",
       "      <th>12</th>\n",
       "      <td>Atal Bihari Vajpayee</td>\n",
       "      <td>(1924- 2018)</td>\n",
       "      <td>16 May 1996 to 1 June 1996\\n16 days</td>\n",
       "      <td>PM for shortest tenure</td>\n",
       "    </tr>\n",
       "    <tr>\n",
       "      <th>13</th>\n",
       "      <td>H. D. Deve Gowda</td>\n",
       "      <td>(born 1933)</td>\n",
       "      <td>1 June 1996 to 21 April 1997\\n324 days</td>\n",
       "      <td>He belongs to  Janata Dal</td>\n",
       "    </tr>\n",
       "    <tr>\n",
       "      <th>14</th>\n",
       "      <td>Inder Kumar Gujral</td>\n",
       "      <td>(1919–2012)</td>\n",
       "      <td>21 April 1997 to 19 March 1998 \\n332 days</td>\n",
       "      <td>------</td>\n",
       "    </tr>\n",
       "    <tr>\n",
       "      <th>15</th>\n",
       "      <td>Atal Bihari Vajpayee</td>\n",
       "      <td>(1924-2018)</td>\n",
       "      <td>19 March 1998 to 22 May 2004 \\n6 years, 64 days</td>\n",
       "      <td>The first non-congress PM who completed a ful...</td>\n",
       "    </tr>\n",
       "    <tr>\n",
       "      <th>16</th>\n",
       "      <td>Manmohan Singh</td>\n",
       "      <td>(born 1932)</td>\n",
       "      <td>22 May 2004 to 26 May 2014   \\n10 years, 4 days</td>\n",
       "      <td>First Sikh PM</td>\n",
       "    </tr>\n",
       "    <tr>\n",
       "      <th>17</th>\n",
       "      <td>Narendra Modi</td>\n",
       "      <td>(born 1950)</td>\n",
       "      <td>26 May 2014 - 2019</td>\n",
       "      <td>4th Prime Minister of India who served two con...</td>\n",
       "    </tr>\n",
       "    <tr>\n",
       "      <th>18</th>\n",
       "      <td>Narendra Modi</td>\n",
       "      <td>(born 1950)</td>\n",
       "      <td>30 May 2019- Incumbent</td>\n",
       "      <td>First non-congress PM with two consecutive ten...</td>\n",
       "    </tr>\n",
       "  </tbody>\n",
       "</table>\n",
       "</div>"
      ],
      "text/plain": [
       "                           Name     Born Dead  \\\n",
       "0             Jawahar Lal Nehru   (1889–1964)   \n",
       "1     Gulzarilal Nanda (Acting)   (1898-1998)   \n",
       "2           Lal Bahadur Shastri   (1904–1966)   \n",
       "3   Gulzari Lal Nanda  (Acting)   (1898-1998)   \n",
       "4                 Indira Gandhi   (1917–1984)   \n",
       "5                 Morarji Desai   (1896–1995)   \n",
       "6                  Charan Singh   (1902–1987)   \n",
       "7                 Indira Gandhi   (1917–1984)   \n",
       "8                  Rajiv Gandhi   (1944–1991)   \n",
       "9                   V. P. Singh   (1931–2008)   \n",
       "10              Chandra Shekhar   (1927–2007)   \n",
       "11          P. V. Narasimha Rao   (1921–2004)   \n",
       "12         Atal Bihari Vajpayee  (1924- 2018)   \n",
       "13             H. D. Deve Gowda   (born 1933)   \n",
       "14           Inder Kumar Gujral   (1919–2012)   \n",
       "15         Atal Bihari Vajpayee   (1924-2018)   \n",
       "16               Manmohan Singh   (born 1932)   \n",
       "17                Narendra Modi   (born 1950)   \n",
       "18                Narendra Modi   (born 1950)   \n",
       "\n",
       "                                       Term Of Office  \\\n",
       "0   15 August 1947 to 27 May 1964\\n16 years, 286 days   \n",
       "1                27 May 1964 to 9 June 1964,\\n13 days   \n",
       "2    9 June 1964 to 11 January 1966\\n1 year, 216 days   \n",
       "3         11 January 1966 to 24 January 1966\\n13 days   \n",
       "4   24 January 1966 to 24 March 1977\\n11 years, 59...   \n",
       "5   24 March 1977 to  28 July 1979 \\n2 year, 126 days   \n",
       "6           28 July 1979 to 14 January 1980\\n170 days   \n",
       "7   14 January 1980 to 31 October 1984\\n4 years, 2...   \n",
       "8   31 October 1984 to 2 December 1989\\n5 years, 3...   \n",
       "9       2 December 1989 to 10 November 1990\\n343 days   \n",
       "10         10 November 1990 to 21 June 1991\\n223 days   \n",
       "11     21 June 1991 to 16 May 1996\\n4 years, 330 days   \n",
       "12                16 May 1996 to 1 June 1996\\n16 days   \n",
       "13             1 June 1996 to 21 April 1997\\n324 days   \n",
       "14          21 April 1997 to 19 March 1998 \\n332 days   \n",
       "15    19 March 1998 to 22 May 2004 \\n6 years, 64 days   \n",
       "16    22 May 2004 to 26 May 2014   \\n10 years, 4 days   \n",
       "17                                 26 May 2014 - 2019   \n",
       "18                             30 May 2019- Incumbent   \n",
       "\n",
       "                                              Remarks  \n",
       "0   The first prime minister of India and the long...  \n",
       "1                            First acting PM of India  \n",
       "2   He has given the slogan of 'Jai Jawan Jai Kisa...  \n",
       "3                                                   -  \n",
       "4                First female Prime Minister of India  \n",
       "5   Oldest to become PM (81 years old) and first t...  \n",
       "6             Only PM who did not face the Parliament  \n",
       "7   The first lady who served as PM for the second...  \n",
       "8                Youngest to become PM (40 years old)  \n",
       "9   First PM to step down after a vote of no confi...  \n",
       "10              He belongs to  Samajwadi Janata Party  \n",
       "11                          First PM from South India  \n",
       "12                             PM for shortest tenure  \n",
       "13                          He belongs to  Janata Dal  \n",
       "14                                             ------  \n",
       "15   The first non-congress PM who completed a ful...  \n",
       "16                                      First Sikh PM  \n",
       "17  4th Prime Minister of India who served two con...  \n",
       "18  First non-congress PM with two consecutive ten...  "
      ]
     },
     "execution_count": 191,
     "metadata": {},
     "output_type": "execute_result"
    }
   ],
   "source": [
    "df"
   ]
  },
  {
   "cell_type": "code",
   "execution_count": 192,
   "id": "efddad09",
   "metadata": {},
   "outputs": [],
   "source": [
    "#Question-10"
   ]
  },
  {
   "cell_type": "code",
   "execution_count": 2,
   "id": "0896f7ee",
   "metadata": {},
   "outputs": [],
   "source": [
    "driver=webdriver.Chrome()\n",
    "driver.get('https://www.motor1.com/')"
   ]
  },
  {
   "cell_type": "code",
   "execution_count": 3,
   "id": "9e339e2d",
   "metadata": {},
   "outputs": [],
   "source": [
    "search_box=driver.find_element(By.XPATH,'/html/body/div[10]/div[2]/div/div/div[3]/div/div/div/form/input')"
   ]
  },
  {
   "cell_type": "code",
   "execution_count": 4,
   "id": "ce2c05dc",
   "metadata": {},
   "outputs": [],
   "source": [
    "search_box.send_keys('50 most expensive cars in the world')"
   ]
  },
  {
   "cell_type": "code",
   "execution_count": 5,
   "id": "0e254321",
   "metadata": {},
   "outputs": [],
   "source": [
    "search_click=driver.find_element(By.XPATH,'/html/body/div[10]/div[2]/div/div/div[3]/div/div/div/form/button[1]')"
   ]
  },
  {
   "cell_type": "code",
   "execution_count": 6,
   "id": "89bc490f",
   "metadata": {},
   "outputs": [],
   "source": [
    "search_click.click()"
   ]
  },
  {
   "cell_type": "code",
   "execution_count": 7,
   "id": "cf73eaa4",
   "metadata": {},
   "outputs": [],
   "source": [
    "most_expensive_car=driver.find_element(By.XPATH,'/html/body/div[10]/div[9]/div/div[1]/div/div/div[1]/div/div[1]/h3/a')"
   ]
  },
  {
   "cell_type": "code",
   "execution_count": 9,
   "id": "cfbed3ea",
   "metadata": {},
   "outputs": [],
   "source": [
    "most_expensive_car.click()"
   ]
  },
  {
   "cell_type": "code",
   "execution_count": 10,
   "id": "63fb266a",
   "metadata": {},
   "outputs": [],
   "source": [
    "title_tags=driver.find_elements(By.XPATH,'//h3[@class=\"subheader\"]')"
   ]
  },
  {
   "cell_type": "code",
   "execution_count": 11,
   "id": "1f9eaf89",
   "metadata": {},
   "outputs": [],
   "source": [
    "Car_name=[]\n",
    "price=[]"
   ]
  },
  {
   "cell_type": "code",
   "execution_count": 12,
   "id": "e47d592d",
   "metadata": {},
   "outputs": [],
   "source": [
    "for i in title_tags:\n",
    "    Car_name.append(i.text)"
   ]
  },
  {
   "cell_type": "code",
   "execution_count": 13,
   "id": "d1ed51fa",
   "metadata": {},
   "outputs": [
    {
     "name": "stdout",
     "output_type": "stream",
     "text": [
      "['Aston Martin Valour', 'McLaren Elva', 'Czinger 21C', 'Ferrari Monza', 'Gordon Murray T.33', 'Koenigsegg Gemera', 'Zenvo TSR-S', 'Hennessey Venom F5', 'Bentley Bacalar', 'Hispano Suiza Carmen Boulogne', 'Bentley Mulliner Batur', 'Deus Vayanne', 'SSC Tuatara', 'Lotus Evija', 'Aston Martin Vulcan', 'Delage D12', 'Ferrari Daytona SP3', 'McLaren Speedtail', 'Rimac Nevera', 'Pagani Utopia', 'Pininfarina Battista', 'Gordon Murray T.50', 'Lamborghini Countach', 'Mercedes-AMG Project One', 'Zenvo Aurora', 'Aston Martin Victor', 'Hennessey Venom F5 Roadster', 'Koenigsegg Jesko', 'Aston Martin Valkyrie', 'W Motors Lykan Hypersport', 'McLaren Solus', 'Lamborghini Sian', 'Koenigsegg CC850', 'Bugatti Chiron Super Sport 300+', 'Lamborghini Veneno', 'Bugatti Bolide', 'Pininfarina B95 Speedster', 'Bugatti Mistral', 'Pagani Huayra Imola', 'Bugatti Divo', 'SP Automotive Chaos', 'Pagani Codalunga', '777 Hypercar', 'Mercedes-Maybach Exelero', 'Bugatti Centodieci', 'Bugatti Chiron Profilée', 'Rolls-Royce Sweptail', 'Bugatti La Voiture Noire', 'Rolls-Royce Boat Tail*', 'Rolls-Royce La Rose Noire Droptail', 'Most Expensive Cars In The World'] 51\n"
     ]
    }
   ],
   "source": [
    "print(Car_name,len(Car_name))"
   ]
  },
  {
   "cell_type": "code",
   "execution_count": 14,
   "id": "e8ba5e08",
   "metadata": {},
   "outputs": [],
   "source": [
    "title_tags=driver.find_elements(By.XPATH,'//div[@class=\"postContent content-wrapper\"]/div/p/strong')"
   ]
  },
  {
   "cell_type": "code",
   "execution_count": 15,
   "id": "aeb8a2df",
   "metadata": {},
   "outputs": [
    {
     "name": "stdout",
     "output_type": "stream",
     "text": [
      "['Price: $1.5 Million', 'Price: $1.7 Million', 'Price: $1.7 Million', 'Price: $1.7 Million', 'Price: $1.7 Million', 'Price: $1.7 Million', 'Price: $1.7 Million', 'Price: $1.8 Million', 'Price: $1.9 Million', 'Price: $1.9 Million', 'Price: $2.0 Million', 'Price: $2.0 Million', 'Price: $2.0 Million', 'Price: $2.1 Million', 'Price: $2.3 Million', 'Price: $2.3 Million', 'Price: $2.3 Million', 'Price: $2.3 Million', 'Price: $2.4 Million', 'Price: $2.5 Million', 'Price: $2.5 Million', 'Price: $2.6 Million', 'Price: $2.6 Million', 'Price: $2.7 Million', 'Price: $2.8 Million', 'Price: $3.0 Million', '$3.0 Million', 'Price: $3.0 Million', 'Price: $3.2 Million', 'Price: $3.4 Million', '$3.5 Million', 'Price: $3.6 million', 'Price: $3.7 Million', 'Price: $3.9 Million', 'Price: $4.5 Million', 'Price: $4.7 Million', 'Price: $4.8 Million', 'Price: $5.0 Million', 'Price: $5.4 Million', 'Price: $5.8 Million', 'Price: $6.4 Million', 'Price: $7.4 Million', 'Price: $7.5 Million', 'Price: $8.0 Million', 'Price: $9.0 Million', 'Price: $10.8 Million', 'Price: $12.8 Million', 'Price: $13.4 Million', 'Price: $28.0 Million (est.)', 'Price: $30 Million (est.)'] 50\n"
     ]
    }
   ],
   "source": [
    "for i in title_tags:\n",
    "    price.append(i.text)\n",
    "print(price,len(price))"
   ]
  },
  {
   "cell_type": "code",
   "execution_count": 19,
   "id": "c9e613f5",
   "metadata": {},
   "outputs": [],
   "source": [
    "#in the car name we have got an extra extry \n",
    "#so we must remove it\n",
    "Car_name.remove('Most Expensive Cars In The World')"
   ]
  },
  {
   "cell_type": "code",
   "execution_count": 20,
   "id": "7b2f9c69",
   "metadata": {},
   "outputs": [
    {
     "name": "stdout",
     "output_type": "stream",
     "text": [
      "['Aston Martin Valour', 'McLaren Elva', 'Czinger 21C', 'Ferrari Monza', 'Gordon Murray T.33', 'Koenigsegg Gemera', 'Zenvo TSR-S', 'Hennessey Venom F5', 'Bentley Bacalar', 'Hispano Suiza Carmen Boulogne', 'Bentley Mulliner Batur', 'Deus Vayanne', 'SSC Tuatara', 'Lotus Evija', 'Aston Martin Vulcan', 'Delage D12', 'Ferrari Daytona SP3', 'McLaren Speedtail', 'Rimac Nevera', 'Pagani Utopia', 'Pininfarina Battista', 'Gordon Murray T.50', 'Lamborghini Countach', 'Mercedes-AMG Project One', 'Zenvo Aurora', 'Aston Martin Victor', 'Hennessey Venom F5 Roadster', 'Koenigsegg Jesko', 'Aston Martin Valkyrie', 'W Motors Lykan Hypersport', 'McLaren Solus', 'Lamborghini Sian', 'Koenigsegg CC850', 'Bugatti Chiron Super Sport 300+', 'Lamborghini Veneno', 'Bugatti Bolide', 'Pininfarina B95 Speedster', 'Bugatti Mistral', 'Pagani Huayra Imola', 'Bugatti Divo', 'SP Automotive Chaos', 'Pagani Codalunga', '777 Hypercar', 'Mercedes-Maybach Exelero', 'Bugatti Centodieci', 'Bugatti Chiron Profilée', 'Rolls-Royce Sweptail', 'Bugatti La Voiture Noire', 'Rolls-Royce Boat Tail*', 'Rolls-Royce La Rose Noire Droptail'] 50\n"
     ]
    }
   ],
   "source": [
    "print(Car_name,len(Car_name))"
   ]
  },
  {
   "cell_type": "code",
   "execution_count": 21,
   "id": "f10e8e62",
   "metadata": {},
   "outputs": [
    {
     "data": {
      "text/html": [
       "<div>\n",
       "<style scoped>\n",
       "    .dataframe tbody tr th:only-of-type {\n",
       "        vertical-align: middle;\n",
       "    }\n",
       "\n",
       "    .dataframe tbody tr th {\n",
       "        vertical-align: top;\n",
       "    }\n",
       "\n",
       "    .dataframe thead th {\n",
       "        text-align: right;\n",
       "    }\n",
       "</style>\n",
       "<table border=\"1\" class=\"dataframe\">\n",
       "  <thead>\n",
       "    <tr style=\"text-align: right;\">\n",
       "      <th></th>\n",
       "      <th>Car Name</th>\n",
       "      <th>Price</th>\n",
       "    </tr>\n",
       "  </thead>\n",
       "  <tbody>\n",
       "    <tr>\n",
       "      <th>0</th>\n",
       "      <td>Aston Martin Valour</td>\n",
       "      <td>Price: $1.5 Million</td>\n",
       "    </tr>\n",
       "    <tr>\n",
       "      <th>1</th>\n",
       "      <td>McLaren Elva</td>\n",
       "      <td>Price: $1.7 Million</td>\n",
       "    </tr>\n",
       "    <tr>\n",
       "      <th>2</th>\n",
       "      <td>Czinger 21C</td>\n",
       "      <td>Price: $1.7 Million</td>\n",
       "    </tr>\n",
       "    <tr>\n",
       "      <th>3</th>\n",
       "      <td>Ferrari Monza</td>\n",
       "      <td>Price: $1.7 Million</td>\n",
       "    </tr>\n",
       "    <tr>\n",
       "      <th>4</th>\n",
       "      <td>Gordon Murray T.33</td>\n",
       "      <td>Price: $1.7 Million</td>\n",
       "    </tr>\n",
       "    <tr>\n",
       "      <th>5</th>\n",
       "      <td>Koenigsegg Gemera</td>\n",
       "      <td>Price: $1.7 Million</td>\n",
       "    </tr>\n",
       "    <tr>\n",
       "      <th>6</th>\n",
       "      <td>Zenvo TSR-S</td>\n",
       "      <td>Price: $1.7 Million</td>\n",
       "    </tr>\n",
       "    <tr>\n",
       "      <th>7</th>\n",
       "      <td>Hennessey Venom F5</td>\n",
       "      <td>Price: $1.8 Million</td>\n",
       "    </tr>\n",
       "    <tr>\n",
       "      <th>8</th>\n",
       "      <td>Bentley Bacalar</td>\n",
       "      <td>Price: $1.9 Million</td>\n",
       "    </tr>\n",
       "    <tr>\n",
       "      <th>9</th>\n",
       "      <td>Hispano Suiza Carmen Boulogne</td>\n",
       "      <td>Price: $1.9 Million</td>\n",
       "    </tr>\n",
       "    <tr>\n",
       "      <th>10</th>\n",
       "      <td>Bentley Mulliner Batur</td>\n",
       "      <td>Price: $2.0 Million</td>\n",
       "    </tr>\n",
       "    <tr>\n",
       "      <th>11</th>\n",
       "      <td>Deus Vayanne</td>\n",
       "      <td>Price: $2.0 Million</td>\n",
       "    </tr>\n",
       "    <tr>\n",
       "      <th>12</th>\n",
       "      <td>SSC Tuatara</td>\n",
       "      <td>Price: $2.0 Million</td>\n",
       "    </tr>\n",
       "    <tr>\n",
       "      <th>13</th>\n",
       "      <td>Lotus Evija</td>\n",
       "      <td>Price: $2.1 Million</td>\n",
       "    </tr>\n",
       "    <tr>\n",
       "      <th>14</th>\n",
       "      <td>Aston Martin Vulcan</td>\n",
       "      <td>Price: $2.3 Million</td>\n",
       "    </tr>\n",
       "    <tr>\n",
       "      <th>15</th>\n",
       "      <td>Delage D12</td>\n",
       "      <td>Price: $2.3 Million</td>\n",
       "    </tr>\n",
       "    <tr>\n",
       "      <th>16</th>\n",
       "      <td>Ferrari Daytona SP3</td>\n",
       "      <td>Price: $2.3 Million</td>\n",
       "    </tr>\n",
       "    <tr>\n",
       "      <th>17</th>\n",
       "      <td>McLaren Speedtail</td>\n",
       "      <td>Price: $2.3 Million</td>\n",
       "    </tr>\n",
       "    <tr>\n",
       "      <th>18</th>\n",
       "      <td>Rimac Nevera</td>\n",
       "      <td>Price: $2.4 Million</td>\n",
       "    </tr>\n",
       "    <tr>\n",
       "      <th>19</th>\n",
       "      <td>Pagani Utopia</td>\n",
       "      <td>Price: $2.5 Million</td>\n",
       "    </tr>\n",
       "    <tr>\n",
       "      <th>20</th>\n",
       "      <td>Pininfarina Battista</td>\n",
       "      <td>Price: $2.5 Million</td>\n",
       "    </tr>\n",
       "    <tr>\n",
       "      <th>21</th>\n",
       "      <td>Gordon Murray T.50</td>\n",
       "      <td>Price: $2.6 Million</td>\n",
       "    </tr>\n",
       "    <tr>\n",
       "      <th>22</th>\n",
       "      <td>Lamborghini Countach</td>\n",
       "      <td>Price: $2.6 Million</td>\n",
       "    </tr>\n",
       "    <tr>\n",
       "      <th>23</th>\n",
       "      <td>Mercedes-AMG Project One</td>\n",
       "      <td>Price: $2.7 Million</td>\n",
       "    </tr>\n",
       "    <tr>\n",
       "      <th>24</th>\n",
       "      <td>Zenvo Aurora</td>\n",
       "      <td>Price: $2.8 Million</td>\n",
       "    </tr>\n",
       "    <tr>\n",
       "      <th>25</th>\n",
       "      <td>Aston Martin Victor</td>\n",
       "      <td>Price: $3.0 Million</td>\n",
       "    </tr>\n",
       "    <tr>\n",
       "      <th>26</th>\n",
       "      <td>Hennessey Venom F5 Roadster</td>\n",
       "      <td>$3.0 Million</td>\n",
       "    </tr>\n",
       "    <tr>\n",
       "      <th>27</th>\n",
       "      <td>Koenigsegg Jesko</td>\n",
       "      <td>Price: $3.0 Million</td>\n",
       "    </tr>\n",
       "    <tr>\n",
       "      <th>28</th>\n",
       "      <td>Aston Martin Valkyrie</td>\n",
       "      <td>Price: $3.2 Million</td>\n",
       "    </tr>\n",
       "    <tr>\n",
       "      <th>29</th>\n",
       "      <td>W Motors Lykan Hypersport</td>\n",
       "      <td>Price: $3.4 Million</td>\n",
       "    </tr>\n",
       "    <tr>\n",
       "      <th>30</th>\n",
       "      <td>McLaren Solus</td>\n",
       "      <td>$3.5 Million</td>\n",
       "    </tr>\n",
       "    <tr>\n",
       "      <th>31</th>\n",
       "      <td>Lamborghini Sian</td>\n",
       "      <td>Price: $3.6 million</td>\n",
       "    </tr>\n",
       "    <tr>\n",
       "      <th>32</th>\n",
       "      <td>Koenigsegg CC850</td>\n",
       "      <td>Price: $3.7 Million</td>\n",
       "    </tr>\n",
       "    <tr>\n",
       "      <th>33</th>\n",
       "      <td>Bugatti Chiron Super Sport 300+</td>\n",
       "      <td>Price: $3.9 Million</td>\n",
       "    </tr>\n",
       "    <tr>\n",
       "      <th>34</th>\n",
       "      <td>Lamborghini Veneno</td>\n",
       "      <td>Price: $4.5 Million</td>\n",
       "    </tr>\n",
       "    <tr>\n",
       "      <th>35</th>\n",
       "      <td>Bugatti Bolide</td>\n",
       "      <td>Price: $4.7 Million</td>\n",
       "    </tr>\n",
       "    <tr>\n",
       "      <th>36</th>\n",
       "      <td>Pininfarina B95 Speedster</td>\n",
       "      <td>Price: $4.8 Million</td>\n",
       "    </tr>\n",
       "    <tr>\n",
       "      <th>37</th>\n",
       "      <td>Bugatti Mistral</td>\n",
       "      <td>Price: $5.0 Million</td>\n",
       "    </tr>\n",
       "    <tr>\n",
       "      <th>38</th>\n",
       "      <td>Pagani Huayra Imola</td>\n",
       "      <td>Price: $5.4 Million</td>\n",
       "    </tr>\n",
       "    <tr>\n",
       "      <th>39</th>\n",
       "      <td>Bugatti Divo</td>\n",
       "      <td>Price: $5.8 Million</td>\n",
       "    </tr>\n",
       "    <tr>\n",
       "      <th>40</th>\n",
       "      <td>SP Automotive Chaos</td>\n",
       "      <td>Price: $6.4 Million</td>\n",
       "    </tr>\n",
       "    <tr>\n",
       "      <th>41</th>\n",
       "      <td>Pagani Codalunga</td>\n",
       "      <td>Price: $7.4 Million</td>\n",
       "    </tr>\n",
       "    <tr>\n",
       "      <th>42</th>\n",
       "      <td>777 Hypercar</td>\n",
       "      <td>Price: $7.5 Million</td>\n",
       "    </tr>\n",
       "    <tr>\n",
       "      <th>43</th>\n",
       "      <td>Mercedes-Maybach Exelero</td>\n",
       "      <td>Price: $8.0 Million</td>\n",
       "    </tr>\n",
       "    <tr>\n",
       "      <th>44</th>\n",
       "      <td>Bugatti Centodieci</td>\n",
       "      <td>Price: $9.0 Million</td>\n",
       "    </tr>\n",
       "    <tr>\n",
       "      <th>45</th>\n",
       "      <td>Bugatti Chiron Profilée</td>\n",
       "      <td>Price: $10.8 Million</td>\n",
       "    </tr>\n",
       "    <tr>\n",
       "      <th>46</th>\n",
       "      <td>Rolls-Royce Sweptail</td>\n",
       "      <td>Price: $12.8 Million</td>\n",
       "    </tr>\n",
       "    <tr>\n",
       "      <th>47</th>\n",
       "      <td>Bugatti La Voiture Noire</td>\n",
       "      <td>Price: $13.4 Million</td>\n",
       "    </tr>\n",
       "    <tr>\n",
       "      <th>48</th>\n",
       "      <td>Rolls-Royce Boat Tail*</td>\n",
       "      <td>Price: $28.0 Million (est.)</td>\n",
       "    </tr>\n",
       "    <tr>\n",
       "      <th>49</th>\n",
       "      <td>Rolls-Royce La Rose Noire Droptail</td>\n",
       "      <td>Price: $30 Million (est.)</td>\n",
       "    </tr>\n",
       "  </tbody>\n",
       "</table>\n",
       "</div>"
      ],
      "text/plain": [
       "                              Car Name                        Price\n",
       "0                  Aston Martin Valour          Price: $1.5 Million\n",
       "1                         McLaren Elva          Price: $1.7 Million\n",
       "2                          Czinger 21C          Price: $1.7 Million\n",
       "3                        Ferrari Monza          Price: $1.7 Million\n",
       "4                   Gordon Murray T.33          Price: $1.7 Million\n",
       "5                    Koenigsegg Gemera          Price: $1.7 Million\n",
       "6                          Zenvo TSR-S          Price: $1.7 Million\n",
       "7                   Hennessey Venom F5          Price: $1.8 Million\n",
       "8                      Bentley Bacalar          Price: $1.9 Million\n",
       "9        Hispano Suiza Carmen Boulogne          Price: $1.9 Million\n",
       "10              Bentley Mulliner Batur          Price: $2.0 Million\n",
       "11                        Deus Vayanne          Price: $2.0 Million\n",
       "12                         SSC Tuatara          Price: $2.0 Million\n",
       "13                         Lotus Evija          Price: $2.1 Million\n",
       "14                 Aston Martin Vulcan          Price: $2.3 Million\n",
       "15                          Delage D12          Price: $2.3 Million\n",
       "16                 Ferrari Daytona SP3          Price: $2.3 Million\n",
       "17                   McLaren Speedtail          Price: $2.3 Million\n",
       "18                        Rimac Nevera          Price: $2.4 Million\n",
       "19                       Pagani Utopia          Price: $2.5 Million\n",
       "20                Pininfarina Battista          Price: $2.5 Million\n",
       "21                  Gordon Murray T.50          Price: $2.6 Million\n",
       "22                Lamborghini Countach          Price: $2.6 Million\n",
       "23            Mercedes-AMG Project One          Price: $2.7 Million\n",
       "24                        Zenvo Aurora          Price: $2.8 Million\n",
       "25                 Aston Martin Victor          Price: $3.0 Million\n",
       "26         Hennessey Venom F5 Roadster                 $3.0 Million\n",
       "27                    Koenigsegg Jesko          Price: $3.0 Million\n",
       "28               Aston Martin Valkyrie          Price: $3.2 Million\n",
       "29           W Motors Lykan Hypersport          Price: $3.4 Million\n",
       "30                       McLaren Solus                 $3.5 Million\n",
       "31                    Lamborghini Sian          Price: $3.6 million\n",
       "32                    Koenigsegg CC850          Price: $3.7 Million\n",
       "33     Bugatti Chiron Super Sport 300+          Price: $3.9 Million\n",
       "34                  Lamborghini Veneno          Price: $4.5 Million\n",
       "35                      Bugatti Bolide          Price: $4.7 Million\n",
       "36           Pininfarina B95 Speedster          Price: $4.8 Million\n",
       "37                     Bugatti Mistral          Price: $5.0 Million\n",
       "38                 Pagani Huayra Imola          Price: $5.4 Million\n",
       "39                        Bugatti Divo          Price: $5.8 Million\n",
       "40                 SP Automotive Chaos          Price: $6.4 Million\n",
       "41                    Pagani Codalunga          Price: $7.4 Million\n",
       "42                        777 Hypercar          Price: $7.5 Million\n",
       "43            Mercedes-Maybach Exelero          Price: $8.0 Million\n",
       "44                  Bugatti Centodieci          Price: $9.0 Million\n",
       "45             Bugatti Chiron Profilée         Price: $10.8 Million\n",
       "46                Rolls-Royce Sweptail         Price: $12.8 Million\n",
       "47            Bugatti La Voiture Noire         Price: $13.4 Million\n",
       "48              Rolls-Royce Boat Tail*  Price: $28.0 Million (est.)\n",
       "49  Rolls-Royce La Rose Noire Droptail    Price: $30 Million (est.)"
      ]
     },
     "execution_count": 21,
     "metadata": {},
     "output_type": "execute_result"
    }
   ],
   "source": [
    "df=pd.DataFrame({'Car Name':Car_name,'Price':price})\n",
    "df"
   ]
  },
  {
   "cell_type": "code",
   "execution_count": 22,
   "id": "9b59ed6b",
   "metadata": {},
   "outputs": [],
   "source": [
    "#let us do it by another method\n",
    "title_tags=driver.find_elements(By.XPATH,'//div[@class=\"postContent content-wrapper\"]/div/ul/li')"
   ]
  },
  {
   "cell_type": "code",
   "execution_count": 30,
   "id": "23a8189a",
   "metadata": {},
   "outputs": [],
   "source": [
    "cars=[]\n",
    "for i in title_tags:\n",
    "    cars.append(i.text)"
   ]
  },
  {
   "cell_type": "code",
   "execution_count": 31,
   "id": "ba2b9a2e",
   "metadata": {},
   "outputs": [
    {
     "name": "stdout",
     "output_type": "stream",
     "text": [
      "['Aston Martin Valour - $1.5 Million', 'Mclaren Elva - $1.7 Million', 'Czinger 21C - $1.7 Million', 'Ferrari Monza - $1.7 Million', 'Gordon Murray T.33 - $1.7 Million', 'Koenigsegg Gemera - $1.7 Million', 'McLaren Elva - $1.7 Million', 'Zenvo TSR-S - $1.7 Million', 'Hennessey Venom F5 - $1.8 Million', 'Bentley Bacalar - $1.9 Million', 'Hispano Suiza Carmen Boulogne: $1.9 Million', 'Bentley Mulliner Batur: $2.0 Million', 'Deus Vayanne: $2.0 Million', 'SSC Tuatara - $2.0 Million', 'Lotus Evija - $2.1 Million', 'Aston Martin Vulcan - $2.3 Million', 'Delage D12 - $2.3 Million', 'Ferrari Daytona SP3 - $2.3 Million', 'McLaren Speedtail - $2.3 Million', 'Rimac Nevera - $2.4 Million', 'Pagani Utopia: $2.5 Million', 'Pininfarina Battista - $2.5 Million', 'Gordon Murray T.50 - $2.6 Million', 'Lamborghini Countach - $2.6 Million', 'Mercedes-AMG Project One - $2.7 Million', 'Zenvo Aurora - $2.8 Million', 'Aston Martin Victor - $3.0 Million', 'Hennessey Venom F5 Roadster: $3.0 Million', 'Koenigsegg Jesko - $3.0 Million', 'Aston Martin Valkyrie - $3.2 Million', 'W Motors Lykan Hypersport - $3.4 Million', 'McLaren Solus: $3.5 Million', 'Lamborghini Sian - $3.6 million', 'Koenigsegg CC850: $3.7 Million', 'Bugatti Chiron Super Sport 300+ - $3.9 Million', 'Lamborghini Veneno - $4.5 Million', 'Bugatti Bolide - $4.7 Million', 'Pininfarina B95 Speedster - $4.8 Million', 'Bugatti Mistral: $5.0 Million', 'Pagani Huayra Imola – $5.4 Million', 'Bugatti Divo - $5.8 Million', 'SP Automotive Chaos - $6.4 Million', 'Pagani Codalunga: $7.4 Million', '777 Hypercar - $7.5 Million', 'Mercedes-Maybach Exelero - $8.0 Million', 'Bugatti Centodieci - $9.0 Million', 'Rolls-Royce Sweptail - $12.8 Million', 'Bugatti La Voiture Noire - $13.4 Million', 'Rolls-Royce Boat Tail - $28.0 Million*', 'Rolls-Royce La Rose Noire Droptail - $30.0 Million*'] 50\n"
     ]
    }
   ],
   "source": [
    "print(cars,len(cars))"
   ]
  },
  {
   "cell_type": "code",
   "execution_count": 37,
   "id": "9b3655df",
   "metadata": {},
   "outputs": [
    {
     "name": "stdout",
     "output_type": "stream",
     "text": [
      "['Aston Martin Valour - $1.5 Million', 'Mclaren Elva - $1.7 Million', 'Czinger 21C - $1.7 Million', 'Ferrari Monza - $1.7 Million', 'Gordon Murray T.33 - $1.7 Million', 'Koenigsegg Gemera - $1.7 Million', 'McLaren Elva - $1.7 Million', 'Zenvo TSR-S - $1.7 Million', 'Hennessey Venom F5 - $1.8 Million', 'Bentley Bacalar - $1.9 Million', 'Hispano Suiza Carmen Boulogne: $1.9 Million', 'Bentley Mulliner Batur: $2.0 Million', 'Deus Vayanne: $2.0 Million', 'SSC Tuatara - $2.0 Million', 'Lotus Evija - $2.1 Million', 'Aston Martin Vulcan - $2.3 Million', 'Delage D12 - $2.3 Million', 'Ferrari Daytona SP3 - $2.3 Million', 'McLaren Speedtail - $2.3 Million', 'Rimac Nevera - $2.4 Million', 'Pagani Utopia: $2.5 Million', 'Pininfarina Battista - $2.5 Million', 'Gordon Murray T.50 - $2.6 Million', 'Lamborghini Countach - $2.6 Million', 'Mercedes-AMG Project One - $2.7 Million', 'Zenvo Aurora - $2.8 Million', 'Aston Martin Victor - $3.0 Million', 'Hennessey Venom F5 Roadster: $3.0 Million', 'Koenigsegg Jesko - $3.0 Million', 'Aston Martin Valkyrie - $3.2 Million', 'W Motors Lykan Hypersport - $3.4 Million', 'McLaren Solus: $3.5 Million', 'Lamborghini Sian - $3.6 million', 'Koenigsegg CC850: $3.7 Million', 'Bugatti Chiron Super Sport 300+ - $3.9 Million', 'Lamborghini Veneno - $4.5 Million', 'Bugatti Bolide - $4.7 Million', 'Pininfarina B95 Speedster - $4.8 Million', 'Bugatti Mistral: $5.0 Million', 'Pagani Huayra Imola – $5.4 Million', 'Bugatti Divo - $5.8 Million', 'SP Automotive Chaos - $6.4 Million', 'Pagani Codalunga: $7.4 Million', '777 Hypercar - $7.5 Million', 'Mercedes-Maybach Exelero - $8.0 Million', 'Bugatti Centodieci - $9.0 Million', 'Rolls-Royce Sweptail - $12.8 Million', 'Bugatti La Voiture Noire - $13.4 Million', 'Rolls-Royce Boat Tail - $28.0 Million*', 'Rolls-Royce La Rose Noire Droptail - $30.0 Million*']\n"
     ]
    }
   ],
   "source": [
    "print(cars)\n",
    "#in this  list we got both the name and this price in same list"
   ]
  },
  {
   "cell_type": "code",
   "execution_count": 44,
   "id": "18b74bea",
   "metadata": {},
   "outputs": [],
   "source": [
    "df=pd.DataFrame(cars, columns=['Car Name and Price'])"
   ]
  },
  {
   "cell_type": "code",
   "execution_count": 45,
   "id": "8a3d7bd0",
   "metadata": {},
   "outputs": [
    {
     "data": {
      "text/html": [
       "<div>\n",
       "<style scoped>\n",
       "    .dataframe tbody tr th:only-of-type {\n",
       "        vertical-align: middle;\n",
       "    }\n",
       "\n",
       "    .dataframe tbody tr th {\n",
       "        vertical-align: top;\n",
       "    }\n",
       "\n",
       "    .dataframe thead th {\n",
       "        text-align: right;\n",
       "    }\n",
       "</style>\n",
       "<table border=\"1\" class=\"dataframe\">\n",
       "  <thead>\n",
       "    <tr style=\"text-align: right;\">\n",
       "      <th></th>\n",
       "      <th>Car Name and Price</th>\n",
       "    </tr>\n",
       "  </thead>\n",
       "  <tbody>\n",
       "    <tr>\n",
       "      <th>0</th>\n",
       "      <td>Aston Martin Valour - $1.5 Million</td>\n",
       "    </tr>\n",
       "    <tr>\n",
       "      <th>1</th>\n",
       "      <td>Mclaren Elva - $1.7 Million</td>\n",
       "    </tr>\n",
       "    <tr>\n",
       "      <th>2</th>\n",
       "      <td>Czinger 21C - $1.7 Million</td>\n",
       "    </tr>\n",
       "    <tr>\n",
       "      <th>3</th>\n",
       "      <td>Ferrari Monza - $1.7 Million</td>\n",
       "    </tr>\n",
       "    <tr>\n",
       "      <th>4</th>\n",
       "      <td>Gordon Murray T.33 - $1.7 Million</td>\n",
       "    </tr>\n",
       "    <tr>\n",
       "      <th>5</th>\n",
       "      <td>Koenigsegg Gemera - $1.7 Million</td>\n",
       "    </tr>\n",
       "    <tr>\n",
       "      <th>6</th>\n",
       "      <td>McLaren Elva - $1.7 Million</td>\n",
       "    </tr>\n",
       "    <tr>\n",
       "      <th>7</th>\n",
       "      <td>Zenvo TSR-S - $1.7 Million</td>\n",
       "    </tr>\n",
       "    <tr>\n",
       "      <th>8</th>\n",
       "      <td>Hennessey Venom F5 - $1.8 Million</td>\n",
       "    </tr>\n",
       "    <tr>\n",
       "      <th>9</th>\n",
       "      <td>Bentley Bacalar - $1.9 Million</td>\n",
       "    </tr>\n",
       "    <tr>\n",
       "      <th>10</th>\n",
       "      <td>Hispano Suiza Carmen Boulogne: $1.9 Million</td>\n",
       "    </tr>\n",
       "    <tr>\n",
       "      <th>11</th>\n",
       "      <td>Bentley Mulliner Batur: $2.0 Million</td>\n",
       "    </tr>\n",
       "    <tr>\n",
       "      <th>12</th>\n",
       "      <td>Deus Vayanne: $2.0 Million</td>\n",
       "    </tr>\n",
       "    <tr>\n",
       "      <th>13</th>\n",
       "      <td>SSC Tuatara - $2.0 Million</td>\n",
       "    </tr>\n",
       "    <tr>\n",
       "      <th>14</th>\n",
       "      <td>Lotus Evija - $2.1 Million</td>\n",
       "    </tr>\n",
       "    <tr>\n",
       "      <th>15</th>\n",
       "      <td>Aston Martin Vulcan - $2.3 Million</td>\n",
       "    </tr>\n",
       "    <tr>\n",
       "      <th>16</th>\n",
       "      <td>Delage D12 - $2.3 Million</td>\n",
       "    </tr>\n",
       "    <tr>\n",
       "      <th>17</th>\n",
       "      <td>Ferrari Daytona SP3 - $2.3 Million</td>\n",
       "    </tr>\n",
       "    <tr>\n",
       "      <th>18</th>\n",
       "      <td>McLaren Speedtail - $2.3 Million</td>\n",
       "    </tr>\n",
       "    <tr>\n",
       "      <th>19</th>\n",
       "      <td>Rimac Nevera - $2.4 Million</td>\n",
       "    </tr>\n",
       "    <tr>\n",
       "      <th>20</th>\n",
       "      <td>Pagani Utopia: $2.5 Million</td>\n",
       "    </tr>\n",
       "    <tr>\n",
       "      <th>21</th>\n",
       "      <td>Pininfarina Battista - $2.5 Million</td>\n",
       "    </tr>\n",
       "    <tr>\n",
       "      <th>22</th>\n",
       "      <td>Gordon Murray T.50 - $2.6 Million</td>\n",
       "    </tr>\n",
       "    <tr>\n",
       "      <th>23</th>\n",
       "      <td>Lamborghini Countach - $2.6 Million</td>\n",
       "    </tr>\n",
       "    <tr>\n",
       "      <th>24</th>\n",
       "      <td>Mercedes-AMG Project One - $2.7 Million</td>\n",
       "    </tr>\n",
       "    <tr>\n",
       "      <th>25</th>\n",
       "      <td>Zenvo Aurora - $2.8 Million</td>\n",
       "    </tr>\n",
       "    <tr>\n",
       "      <th>26</th>\n",
       "      <td>Aston Martin Victor - $3.0 Million</td>\n",
       "    </tr>\n",
       "    <tr>\n",
       "      <th>27</th>\n",
       "      <td>Hennessey Venom F5 Roadster: $3.0 Million</td>\n",
       "    </tr>\n",
       "    <tr>\n",
       "      <th>28</th>\n",
       "      <td>Koenigsegg Jesko - $3.0 Million</td>\n",
       "    </tr>\n",
       "    <tr>\n",
       "      <th>29</th>\n",
       "      <td>Aston Martin Valkyrie - $3.2 Million</td>\n",
       "    </tr>\n",
       "    <tr>\n",
       "      <th>30</th>\n",
       "      <td>W Motors Lykan Hypersport - $3.4 Million</td>\n",
       "    </tr>\n",
       "    <tr>\n",
       "      <th>31</th>\n",
       "      <td>McLaren Solus: $3.5 Million</td>\n",
       "    </tr>\n",
       "    <tr>\n",
       "      <th>32</th>\n",
       "      <td>Lamborghini Sian - $3.6 million</td>\n",
       "    </tr>\n",
       "    <tr>\n",
       "      <th>33</th>\n",
       "      <td>Koenigsegg CC850: $3.7 Million</td>\n",
       "    </tr>\n",
       "    <tr>\n",
       "      <th>34</th>\n",
       "      <td>Bugatti Chiron Super Sport 300+ - $3.9 Million</td>\n",
       "    </tr>\n",
       "    <tr>\n",
       "      <th>35</th>\n",
       "      <td>Lamborghini Veneno - $4.5 Million</td>\n",
       "    </tr>\n",
       "    <tr>\n",
       "      <th>36</th>\n",
       "      <td>Bugatti Bolide - $4.7 Million</td>\n",
       "    </tr>\n",
       "    <tr>\n",
       "      <th>37</th>\n",
       "      <td>Pininfarina B95 Speedster - $4.8 Million</td>\n",
       "    </tr>\n",
       "    <tr>\n",
       "      <th>38</th>\n",
       "      <td>Bugatti Mistral: $5.0 Million</td>\n",
       "    </tr>\n",
       "    <tr>\n",
       "      <th>39</th>\n",
       "      <td>Pagani Huayra Imola – $5.4 Million</td>\n",
       "    </tr>\n",
       "    <tr>\n",
       "      <th>40</th>\n",
       "      <td>Bugatti Divo - $5.8 Million</td>\n",
       "    </tr>\n",
       "    <tr>\n",
       "      <th>41</th>\n",
       "      <td>SP Automotive Chaos - $6.4 Million</td>\n",
       "    </tr>\n",
       "    <tr>\n",
       "      <th>42</th>\n",
       "      <td>Pagani Codalunga: $7.4 Million</td>\n",
       "    </tr>\n",
       "    <tr>\n",
       "      <th>43</th>\n",
       "      <td>777 Hypercar - $7.5 Million</td>\n",
       "    </tr>\n",
       "    <tr>\n",
       "      <th>44</th>\n",
       "      <td>Mercedes-Maybach Exelero - $8.0 Million</td>\n",
       "    </tr>\n",
       "    <tr>\n",
       "      <th>45</th>\n",
       "      <td>Bugatti Centodieci - $9.0 Million</td>\n",
       "    </tr>\n",
       "    <tr>\n",
       "      <th>46</th>\n",
       "      <td>Rolls-Royce Sweptail - $12.8 Million</td>\n",
       "    </tr>\n",
       "    <tr>\n",
       "      <th>47</th>\n",
       "      <td>Bugatti La Voiture Noire - $13.4 Million</td>\n",
       "    </tr>\n",
       "    <tr>\n",
       "      <th>48</th>\n",
       "      <td>Rolls-Royce Boat Tail - $28.0 Million*</td>\n",
       "    </tr>\n",
       "    <tr>\n",
       "      <th>49</th>\n",
       "      <td>Rolls-Royce La Rose Noire Droptail - $30.0 Mil...</td>\n",
       "    </tr>\n",
       "  </tbody>\n",
       "</table>\n",
       "</div>"
      ],
      "text/plain": [
       "                                   Car Name and Price\n",
       "0                  Aston Martin Valour - $1.5 Million\n",
       "1                         Mclaren Elva - $1.7 Million\n",
       "2                          Czinger 21C - $1.7 Million\n",
       "3                        Ferrari Monza - $1.7 Million\n",
       "4                   Gordon Murray T.33 - $1.7 Million\n",
       "5                    Koenigsegg Gemera - $1.7 Million\n",
       "6                         McLaren Elva - $1.7 Million\n",
       "7                          Zenvo TSR-S - $1.7 Million\n",
       "8                   Hennessey Venom F5 - $1.8 Million\n",
       "9                      Bentley Bacalar - $1.9 Million\n",
       "10        Hispano Suiza Carmen Boulogne: $1.9 Million\n",
       "11               Bentley Mulliner Batur: $2.0 Million\n",
       "12                         Deus Vayanne: $2.0 Million\n",
       "13                         SSC Tuatara - $2.0 Million\n",
       "14                         Lotus Evija - $2.1 Million\n",
       "15                 Aston Martin Vulcan - $2.3 Million\n",
       "16                          Delage D12 - $2.3 Million\n",
       "17                 Ferrari Daytona SP3 - $2.3 Million\n",
       "18                   McLaren Speedtail - $2.3 Million\n",
       "19                        Rimac Nevera - $2.4 Million\n",
       "20                        Pagani Utopia: $2.5 Million\n",
       "21                Pininfarina Battista - $2.5 Million\n",
       "22                  Gordon Murray T.50 - $2.6 Million\n",
       "23                Lamborghini Countach - $2.6 Million\n",
       "24            Mercedes-AMG Project One - $2.7 Million\n",
       "25                        Zenvo Aurora - $2.8 Million\n",
       "26                 Aston Martin Victor - $3.0 Million\n",
       "27          Hennessey Venom F5 Roadster: $3.0 Million\n",
       "28                    Koenigsegg Jesko - $3.0 Million\n",
       "29               Aston Martin Valkyrie - $3.2 Million\n",
       "30           W Motors Lykan Hypersport - $3.4 Million\n",
       "31                        McLaren Solus: $3.5 Million\n",
       "32                    Lamborghini Sian - $3.6 million\n",
       "33                     Koenigsegg CC850: $3.7 Million\n",
       "34     Bugatti Chiron Super Sport 300+ - $3.9 Million\n",
       "35                  Lamborghini Veneno - $4.5 Million\n",
       "36                      Bugatti Bolide - $4.7 Million\n",
       "37           Pininfarina B95 Speedster - $4.8 Million\n",
       "38                      Bugatti Mistral: $5.0 Million\n",
       "39                 Pagani Huayra Imola – $5.4 Million\n",
       "40                        Bugatti Divo - $5.8 Million\n",
       "41                 SP Automotive Chaos - $6.4 Million\n",
       "42                     Pagani Codalunga: $7.4 Million\n",
       "43                        777 Hypercar - $7.5 Million\n",
       "44            Mercedes-Maybach Exelero - $8.0 Million\n",
       "45                  Bugatti Centodieci - $9.0 Million\n",
       "46               Rolls-Royce Sweptail - $12.8 Million\n",
       "47           Bugatti La Voiture Noire - $13.4 Million\n",
       "48             Rolls-Royce Boat Tail - $28.0 Million*\n",
       "49  Rolls-Royce La Rose Noire Droptail - $30.0 Mil..."
      ]
     },
     "execution_count": 45,
     "metadata": {},
     "output_type": "execute_result"
    }
   ],
   "source": [
    "df"
   ]
  },
  {
   "cell_type": "code",
   "execution_count": null,
   "id": "bb559c2e",
   "metadata": {},
   "outputs": [],
   "source": []
  },
  {
   "cell_type": "code",
   "execution_count": null,
   "id": "6cc910ca",
   "metadata": {},
   "outputs": [],
   "source": []
  },
  {
   "cell_type": "code",
   "execution_count": null,
   "id": "c2ea3989",
   "metadata": {},
   "outputs": [],
   "source": []
  },
  {
   "cell_type": "code",
   "execution_count": null,
   "id": "ce725cbc",
   "metadata": {},
   "outputs": [],
   "source": []
  },
  {
   "cell_type": "code",
   "execution_count": null,
   "id": "0e367991",
   "metadata": {},
   "outputs": [],
   "source": []
  },
  {
   "cell_type": "code",
   "execution_count": null,
   "id": "141b4638",
   "metadata": {},
   "outputs": [],
   "source": []
  },
  {
   "cell_type": "code",
   "execution_count": null,
   "id": "548ff2c3",
   "metadata": {},
   "outputs": [],
   "source": []
  },
  {
   "cell_type": "code",
   "execution_count": null,
   "id": "32b9d66a",
   "metadata": {},
   "outputs": [],
   "source": []
  },
  {
   "cell_type": "code",
   "execution_count": null,
   "id": "db8e6948",
   "metadata": {},
   "outputs": [],
   "source": []
  },
  {
   "cell_type": "code",
   "execution_count": null,
   "id": "74c8e0d9",
   "metadata": {},
   "outputs": [],
   "source": []
  },
  {
   "cell_type": "code",
   "execution_count": null,
   "id": "d48f4778",
   "metadata": {},
   "outputs": [],
   "source": []
  },
  {
   "cell_type": "code",
   "execution_count": null,
   "id": "b37160a5",
   "metadata": {},
   "outputs": [],
   "source": []
  },
  {
   "cell_type": "code",
   "execution_count": null,
   "id": "a80707d4",
   "metadata": {},
   "outputs": [],
   "source": []
  },
  {
   "cell_type": "code",
   "execution_count": null,
   "id": "c75f803b",
   "metadata": {},
   "outputs": [],
   "source": []
  },
  {
   "cell_type": "code",
   "execution_count": null,
   "id": "4cc011c4",
   "metadata": {},
   "outputs": [],
   "source": []
  }
 ],
 "metadata": {
  "kernelspec": {
   "display_name": "Python 3 (ipykernel)",
   "language": "python",
   "name": "python3"
  },
  "language_info": {
   "codemirror_mode": {
    "name": "ipython",
    "version": 3
   },
   "file_extension": ".py",
   "mimetype": "text/x-python",
   "name": "python",
   "nbconvert_exporter": "python",
   "pygments_lexer": "ipython3",
   "version": "3.11.5"
  }
 },
 "nbformat": 4,
 "nbformat_minor": 5
}
