{
 "cells": [
  {
   "cell_type": "code",
   "execution_count": 2,
   "id": "b9834566",
   "metadata": {},
   "outputs": [],
   "source": [
    "#Name-Vipul Anand\n",
    "#Project ID-DS2312\n",
    "#Assignment-Restaurant Food Cost"
   ]
  },
  {
   "cell_type": "code",
   "execution_count": 32,
   "id": "725c2639",
   "metadata": {},
   "outputs": [],
   "source": [
    "import pandas as pd\n",
    "import numpy as np\n",
    "import seaborn as sns\n",
    "import matplotlib.pyplot as plt\n",
    "%matplotlib inline\n",
    "import warnings\n",
    "warnings.filterwarnings('ignore')"
   ]
  },
  {
   "cell_type": "code",
   "execution_count": 33,
   "id": "d534f27d",
   "metadata": {},
   "outputs": [],
   "source": [
    "data_train=pd.read_excel(\"C:\\\\Users\\\\vipul\\\\Downloads\\\\Data_Train (2).xlsx\",sheet_name='Sheet1') #The training dataset\n",
    "data_test=pd.read_excel(\"C:\\\\Users\\\\vipul\\\\Downloads\\\\Data_Test.xlsx\",sheet_name='Sheet1') #The test dataset"
   ]
  },
  {
   "cell_type": "code",
   "execution_count": 34,
   "id": "390b8b05",
   "metadata": {},
   "outputs": [
    {
     "data": {
      "text/html": [
       "<div>\n",
       "<style scoped>\n",
       "    .dataframe tbody tr th:only-of-type {\n",
       "        vertical-align: middle;\n",
       "    }\n",
       "\n",
       "    .dataframe tbody tr th {\n",
       "        vertical-align: top;\n",
       "    }\n",
       "\n",
       "    .dataframe thead th {\n",
       "        text-align: right;\n",
       "    }\n",
       "</style>\n",
       "<table border=\"1\" class=\"dataframe\">\n",
       "  <thead>\n",
       "    <tr style=\"text-align: right;\">\n",
       "      <th></th>\n",
       "      <th>TITLE</th>\n",
       "      <th>RESTAURANT_ID</th>\n",
       "      <th>CUISINES</th>\n",
       "      <th>TIME</th>\n",
       "      <th>CITY</th>\n",
       "      <th>LOCALITY</th>\n",
       "      <th>RATING</th>\n",
       "      <th>VOTES</th>\n",
       "      <th>COST</th>\n",
       "    </tr>\n",
       "  </thead>\n",
       "  <tbody>\n",
       "    <tr>\n",
       "      <th>0</th>\n",
       "      <td>CASUAL DINING</td>\n",
       "      <td>9438</td>\n",
       "      <td>Malwani, Goan, North Indian</td>\n",
       "      <td>11am – 4pm, 7:30pm – 11:30pm (Mon-Sun)</td>\n",
       "      <td>Thane</td>\n",
       "      <td>Dombivali East</td>\n",
       "      <td>3.6</td>\n",
       "      <td>49 votes</td>\n",
       "      <td>1200</td>\n",
       "    </tr>\n",
       "    <tr>\n",
       "      <th>1</th>\n",
       "      <td>CASUAL DINING,BAR</td>\n",
       "      <td>13198</td>\n",
       "      <td>Asian, Modern Indian, Japanese</td>\n",
       "      <td>6pm – 11pm (Mon-Sun)</td>\n",
       "      <td>Chennai</td>\n",
       "      <td>Ramapuram</td>\n",
       "      <td>4.2</td>\n",
       "      <td>30 votes</td>\n",
       "      <td>1500</td>\n",
       "    </tr>\n",
       "    <tr>\n",
       "      <th>2</th>\n",
       "      <td>CASUAL DINING</td>\n",
       "      <td>10915</td>\n",
       "      <td>North Indian, Chinese, Biryani, Hyderabadi</td>\n",
       "      <td>11am – 3:30pm, 7pm – 11pm (Mon-Sun)</td>\n",
       "      <td>Chennai</td>\n",
       "      <td>Saligramam</td>\n",
       "      <td>3.8</td>\n",
       "      <td>221 votes</td>\n",
       "      <td>800</td>\n",
       "    </tr>\n",
       "    <tr>\n",
       "      <th>3</th>\n",
       "      <td>QUICK BITES</td>\n",
       "      <td>6346</td>\n",
       "      <td>Tibetan, Chinese</td>\n",
       "      <td>11:30am – 1am (Mon-Sun)</td>\n",
       "      <td>Mumbai</td>\n",
       "      <td>Bandra West</td>\n",
       "      <td>4.1</td>\n",
       "      <td>24 votes</td>\n",
       "      <td>800</td>\n",
       "    </tr>\n",
       "    <tr>\n",
       "      <th>4</th>\n",
       "      <td>DESSERT PARLOR</td>\n",
       "      <td>15387</td>\n",
       "      <td>Desserts</td>\n",
       "      <td>11am – 1am (Mon-Sun)</td>\n",
       "      <td>Mumbai</td>\n",
       "      <td>Lower Parel</td>\n",
       "      <td>3.8</td>\n",
       "      <td>165 votes</td>\n",
       "      <td>300</td>\n",
       "    </tr>\n",
       "  </tbody>\n",
       "</table>\n",
       "</div>"
      ],
      "text/plain": [
       "               TITLE  RESTAURANT_ID  \\\n",
       "0      CASUAL DINING           9438   \n",
       "1  CASUAL DINING,BAR          13198   \n",
       "2      CASUAL DINING          10915   \n",
       "3        QUICK BITES           6346   \n",
       "4     DESSERT PARLOR          15387   \n",
       "\n",
       "                                     CUISINES  \\\n",
       "0                 Malwani, Goan, North Indian   \n",
       "1              Asian, Modern Indian, Japanese   \n",
       "2  North Indian, Chinese, Biryani, Hyderabadi   \n",
       "3                            Tibetan, Chinese   \n",
       "4                                    Desserts   \n",
       "\n",
       "                                     TIME     CITY        LOCALITY RATING  \\\n",
       "0  11am – 4pm, 7:30pm – 11:30pm (Mon-Sun)    Thane  Dombivali East    3.6   \n",
       "1                    6pm – 11pm (Mon-Sun)  Chennai       Ramapuram    4.2   \n",
       "2     11am – 3:30pm, 7pm – 11pm (Mon-Sun)  Chennai      Saligramam    3.8   \n",
       "3                 11:30am – 1am (Mon-Sun)   Mumbai     Bandra West    4.1   \n",
       "4                    11am – 1am (Mon-Sun)   Mumbai     Lower Parel    3.8   \n",
       "\n",
       "       VOTES  COST  \n",
       "0   49 votes  1200  \n",
       "1   30 votes  1500  \n",
       "2  221 votes   800  \n",
       "3   24 votes   800  \n",
       "4  165 votes   300  "
      ]
     },
     "execution_count": 34,
     "metadata": {},
     "output_type": "execute_result"
    }
   ],
   "source": [
    "#The train dataset\n",
    "data_train.head()"
   ]
  },
  {
   "cell_type": "code",
   "execution_count": 35,
   "id": "0da9ecab",
   "metadata": {},
   "outputs": [
    {
     "data": {
      "text/html": [
       "<div>\n",
       "<style scoped>\n",
       "    .dataframe tbody tr th:only-of-type {\n",
       "        vertical-align: middle;\n",
       "    }\n",
       "\n",
       "    .dataframe tbody tr th {\n",
       "        vertical-align: top;\n",
       "    }\n",
       "\n",
       "    .dataframe thead th {\n",
       "        text-align: right;\n",
       "    }\n",
       "</style>\n",
       "<table border=\"1\" class=\"dataframe\">\n",
       "  <thead>\n",
       "    <tr style=\"text-align: right;\">\n",
       "      <th></th>\n",
       "      <th>TITLE</th>\n",
       "      <th>RESTAURANT_ID</th>\n",
       "      <th>CUISINES</th>\n",
       "      <th>TIME</th>\n",
       "      <th>CITY</th>\n",
       "      <th>LOCALITY</th>\n",
       "      <th>RATING</th>\n",
       "      <th>VOTES</th>\n",
       "    </tr>\n",
       "  </thead>\n",
       "  <tbody>\n",
       "    <tr>\n",
       "      <th>0</th>\n",
       "      <td>CASUAL DINING</td>\n",
       "      <td>4085</td>\n",
       "      <td>North Indian, Chinese, Mughlai, Kebab</td>\n",
       "      <td>12noon – 12midnight (Mon-Sun)</td>\n",
       "      <td>Noida</td>\n",
       "      <td>Sector 18</td>\n",
       "      <td>4.3</td>\n",
       "      <td>564 votes</td>\n",
       "    </tr>\n",
       "    <tr>\n",
       "      <th>1</th>\n",
       "      <td>QUICK BITES</td>\n",
       "      <td>12680</td>\n",
       "      <td>South Indian, Fast Food, Pizza, North Indian</td>\n",
       "      <td>7am – 12:30AM (Mon-Sun)</td>\n",
       "      <td>Mumbai</td>\n",
       "      <td>Grant Road</td>\n",
       "      <td>4.2</td>\n",
       "      <td>61 votes</td>\n",
       "    </tr>\n",
       "    <tr>\n",
       "      <th>2</th>\n",
       "      <td>CASUAL DINING</td>\n",
       "      <td>1411</td>\n",
       "      <td>North Indian, Seafood, Biryani, Chinese</td>\n",
       "      <td>11am – 11:30pm (Mon-Sun)</td>\n",
       "      <td>Mumbai</td>\n",
       "      <td>Marine Lines</td>\n",
       "      <td>3.8</td>\n",
       "      <td>350 votes</td>\n",
       "    </tr>\n",
       "    <tr>\n",
       "      <th>3</th>\n",
       "      <td>NaN</td>\n",
       "      <td>204</td>\n",
       "      <td>Biryani</td>\n",
       "      <td>9am – 10pm (Mon, Wed, Thu, Fri, Sat, Sun), 10:...</td>\n",
       "      <td>Faridabad</td>\n",
       "      <td>NIT</td>\n",
       "      <td>3.8</td>\n",
       "      <td>1445 votes</td>\n",
       "    </tr>\n",
       "    <tr>\n",
       "      <th>4</th>\n",
       "      <td>QUICK BITES</td>\n",
       "      <td>13453</td>\n",
       "      <td>South Indian, Kerala</td>\n",
       "      <td>11am – 10pm (Mon-Sun)</td>\n",
       "      <td>Kochi</td>\n",
       "      <td>Kaloor</td>\n",
       "      <td>3.6</td>\n",
       "      <td>23 votes</td>\n",
       "    </tr>\n",
       "  </tbody>\n",
       "</table>\n",
       "</div>"
      ],
      "text/plain": [
       "           TITLE  RESTAURANT_ID                                      CUISINES  \\\n",
       "0  CASUAL DINING           4085         North Indian, Chinese, Mughlai, Kebab   \n",
       "1    QUICK BITES          12680  South Indian, Fast Food, Pizza, North Indian   \n",
       "2  CASUAL DINING           1411       North Indian, Seafood, Biryani, Chinese   \n",
       "3            NaN            204                                       Biryani   \n",
       "4    QUICK BITES          13453                          South Indian, Kerala   \n",
       "\n",
       "                                                TIME       CITY      LOCALITY  \\\n",
       "0                      12noon – 12midnight (Mon-Sun)      Noida     Sector 18   \n",
       "1                            7am – 12:30AM (Mon-Sun)     Mumbai    Grant Road   \n",
       "2                           11am – 11:30pm (Mon-Sun)     Mumbai  Marine Lines   \n",
       "3  9am – 10pm (Mon, Wed, Thu, Fri, Sat, Sun), 10:...  Faridabad           NIT   \n",
       "4                              11am – 10pm (Mon-Sun)      Kochi        Kaloor   \n",
       "\n",
       "  RATING       VOTES  \n",
       "0    4.3   564 votes  \n",
       "1    4.2    61 votes  \n",
       "2    3.8   350 votes  \n",
       "3    3.8  1445 votes  \n",
       "4    3.6    23 votes  "
      ]
     },
     "execution_count": 35,
     "metadata": {},
     "output_type": "execute_result"
    }
   ],
   "source": [
    "data_test.head()"
   ]
  },
  {
   "cell_type": "code",
   "execution_count": 7,
   "id": "ee5bef71",
   "metadata": {},
   "outputs": [],
   "source": [
    "#here we can clearly see that the restaurant id is unique column and has all unique values so we must delete this in both datasets"
   ]
  },
  {
   "cell_type": "code",
   "execution_count": 36,
   "id": "0e39849f",
   "metadata": {},
   "outputs": [
    {
     "data": {
      "text/plain": [
       "RESTAURANT_ID\n",
       "7264     8\n",
       "4634     7\n",
       "9910     6\n",
       "11971    5\n",
       "12747    5\n",
       "        ..\n",
       "9069     1\n",
       "6573     1\n",
       "7430     1\n",
       "6381     1\n",
       "6134     1\n",
       "Name: count, Length: 11892, dtype: int64"
      ]
     },
     "execution_count": 36,
     "metadata": {},
     "output_type": "execute_result"
    }
   ],
   "source": [
    "data_train['RESTAURANT_ID'].value_counts()"
   ]
  },
  {
   "cell_type": "code",
   "execution_count": 37,
   "id": "af69c998",
   "metadata": {},
   "outputs": [],
   "source": [
    "data_train.drop(columns='RESTAURANT_ID',inplace=True) #dropiing the resturant id from the train dataset\n",
    "data_test.drop(columns='RESTAURANT_ID',inplace=True) #Droping the resutant id from the test dataset"
   ]
  },
  {
   "cell_type": "code",
   "execution_count": 38,
   "id": "73bb2f53",
   "metadata": {},
   "outputs": [
    {
     "data": {
      "text/html": [
       "<div>\n",
       "<style scoped>\n",
       "    .dataframe tbody tr th:only-of-type {\n",
       "        vertical-align: middle;\n",
       "    }\n",
       "\n",
       "    .dataframe tbody tr th {\n",
       "        vertical-align: top;\n",
       "    }\n",
       "\n",
       "    .dataframe thead th {\n",
       "        text-align: right;\n",
       "    }\n",
       "</style>\n",
       "<table border=\"1\" class=\"dataframe\">\n",
       "  <thead>\n",
       "    <tr style=\"text-align: right;\">\n",
       "      <th></th>\n",
       "      <th>TITLE</th>\n",
       "      <th>CUISINES</th>\n",
       "      <th>TIME</th>\n",
       "      <th>CITY</th>\n",
       "      <th>LOCALITY</th>\n",
       "      <th>RATING</th>\n",
       "      <th>VOTES</th>\n",
       "      <th>COST</th>\n",
       "    </tr>\n",
       "  </thead>\n",
       "  <tbody>\n",
       "    <tr>\n",
       "      <th>0</th>\n",
       "      <td>CASUAL DINING</td>\n",
       "      <td>Malwani, Goan, North Indian</td>\n",
       "      <td>11am – 4pm, 7:30pm – 11:30pm (Mon-Sun)</td>\n",
       "      <td>Thane</td>\n",
       "      <td>Dombivali East</td>\n",
       "      <td>3.6</td>\n",
       "      <td>49 votes</td>\n",
       "      <td>1200</td>\n",
       "    </tr>\n",
       "    <tr>\n",
       "      <th>1</th>\n",
       "      <td>CASUAL DINING,BAR</td>\n",
       "      <td>Asian, Modern Indian, Japanese</td>\n",
       "      <td>6pm – 11pm (Mon-Sun)</td>\n",
       "      <td>Chennai</td>\n",
       "      <td>Ramapuram</td>\n",
       "      <td>4.2</td>\n",
       "      <td>30 votes</td>\n",
       "      <td>1500</td>\n",
       "    </tr>\n",
       "    <tr>\n",
       "      <th>2</th>\n",
       "      <td>CASUAL DINING</td>\n",
       "      <td>North Indian, Chinese, Biryani, Hyderabadi</td>\n",
       "      <td>11am – 3:30pm, 7pm – 11pm (Mon-Sun)</td>\n",
       "      <td>Chennai</td>\n",
       "      <td>Saligramam</td>\n",
       "      <td>3.8</td>\n",
       "      <td>221 votes</td>\n",
       "      <td>800</td>\n",
       "    </tr>\n",
       "    <tr>\n",
       "      <th>3</th>\n",
       "      <td>QUICK BITES</td>\n",
       "      <td>Tibetan, Chinese</td>\n",
       "      <td>11:30am – 1am (Mon-Sun)</td>\n",
       "      <td>Mumbai</td>\n",
       "      <td>Bandra West</td>\n",
       "      <td>4.1</td>\n",
       "      <td>24 votes</td>\n",
       "      <td>800</td>\n",
       "    </tr>\n",
       "    <tr>\n",
       "      <th>4</th>\n",
       "      <td>DESSERT PARLOR</td>\n",
       "      <td>Desserts</td>\n",
       "      <td>11am – 1am (Mon-Sun)</td>\n",
       "      <td>Mumbai</td>\n",
       "      <td>Lower Parel</td>\n",
       "      <td>3.8</td>\n",
       "      <td>165 votes</td>\n",
       "      <td>300</td>\n",
       "    </tr>\n",
       "  </tbody>\n",
       "</table>\n",
       "</div>"
      ],
      "text/plain": [
       "               TITLE                                    CUISINES  \\\n",
       "0      CASUAL DINING                 Malwani, Goan, North Indian   \n",
       "1  CASUAL DINING,BAR              Asian, Modern Indian, Japanese   \n",
       "2      CASUAL DINING  North Indian, Chinese, Biryani, Hyderabadi   \n",
       "3        QUICK BITES                            Tibetan, Chinese   \n",
       "4     DESSERT PARLOR                                    Desserts   \n",
       "\n",
       "                                     TIME     CITY        LOCALITY RATING  \\\n",
       "0  11am – 4pm, 7:30pm – 11:30pm (Mon-Sun)    Thane  Dombivali East    3.6   \n",
       "1                    6pm – 11pm (Mon-Sun)  Chennai       Ramapuram    4.2   \n",
       "2     11am – 3:30pm, 7pm – 11pm (Mon-Sun)  Chennai      Saligramam    3.8   \n",
       "3                 11:30am – 1am (Mon-Sun)   Mumbai     Bandra West    4.1   \n",
       "4                    11am – 1am (Mon-Sun)   Mumbai     Lower Parel    3.8   \n",
       "\n",
       "       VOTES  COST  \n",
       "0   49 votes  1200  \n",
       "1   30 votes  1500  \n",
       "2  221 votes   800  \n",
       "3   24 votes   800  \n",
       "4  165 votes   300  "
      ]
     },
     "execution_count": 38,
     "metadata": {},
     "output_type": "execute_result"
    }
   ],
   "source": [
    "data_train.head()"
   ]
  },
  {
   "cell_type": "code",
   "execution_count": 39,
   "id": "4161a28e",
   "metadata": {},
   "outputs": [
    {
     "data": {
      "text/plain": [
       "RATING\n",
       "3.9    1238\n",
       "3.8    1190\n",
       "4.0    1099\n",
       "3.7    1086\n",
       "3.6     951\n",
       "4.1     936\n",
       "3.5     771\n",
       "4.2     723\n",
       "NEW     707\n",
       "3.4     575\n",
       "4.3     556\n",
       "-       495\n",
       "3.3     365\n",
       "4.4     362\n",
       "3.2     266\n",
       "4.5     199\n",
       "2.9     186\n",
       "3.1     186\n",
       "3.0     170\n",
       "2.8     146\n",
       "4.6     141\n",
       "2.7      89\n",
       "4.7      69\n",
       "2.6      61\n",
       "2.5      35\n",
       "4.8      32\n",
       "4.9      22\n",
       "2.4      15\n",
       "2.3      10\n",
       "2.1       3\n",
       "2.0       2\n",
       "2.2       2\n",
       "Name: count, dtype: int64"
      ]
     },
     "execution_count": 39,
     "metadata": {},
     "output_type": "execute_result"
    }
   ],
   "source": [
    "#Now let us first do the preprocessing of the Rating column\n",
    "data_train['RATING'].value_counts()"
   ]
  },
  {
   "cell_type": "code",
   "execution_count": 40,
   "id": "3a5ccb3f",
   "metadata": {},
   "outputs": [],
   "source": [
    "#so here we can see that it has new and - values so we must remove it after that we can proceed with the preprocessing\n",
    "data_train['RATING']=data_train['RATING'].replace(['NEW','-'],np.nan)\n",
    "data_test['RATING']=data_train['RATING'].replace(['NEW','-'],np.nan)"
   ]
  },
  {
   "cell_type": "code",
   "execution_count": 41,
   "id": "b935ae07",
   "metadata": {},
   "outputs": [
    {
     "data": {
      "text/plain": [
       "RATING\n",
       "3.9    1238\n",
       "3.8    1190\n",
       "4.0    1099\n",
       "3.7    1086\n",
       "3.6     951\n",
       "4.1     936\n",
       "3.5     771\n",
       "4.2     723\n",
       "3.4     575\n",
       "4.3     556\n",
       "3.3     365\n",
       "4.4     362\n",
       "3.2     266\n",
       "4.5     199\n",
       "2.9     186\n",
       "3.1     186\n",
       "3.0     170\n",
       "2.8     146\n",
       "4.6     141\n",
       "2.7      89\n",
       "4.7      69\n",
       "2.6      61\n",
       "2.5      35\n",
       "4.8      32\n",
       "4.9      22\n",
       "2.4      15\n",
       "2.3      10\n",
       "2.1       3\n",
       "2.0       2\n",
       "2.2       2\n",
       "Name: count, dtype: int64"
      ]
     },
     "execution_count": 41,
     "metadata": {},
     "output_type": "execute_result"
    }
   ],
   "source": [
    "data_train['RATING'].value_counts()"
   ]
  },
  {
   "cell_type": "code",
   "execution_count": 42,
   "id": "4fc061d7",
   "metadata": {},
   "outputs": [],
   "source": [
    "#Now we have to treat the null values which we have created\n",
    "data_train['RATING']=data_train['RATING'].astype('float')\n",
    "data_test['RATING']=data_test['RATING'].astype('float')"
   ]
  },
  {
   "cell_type": "code",
   "execution_count": 43,
   "id": "cb1caff9",
   "metadata": {},
   "outputs": [],
   "source": [
    "data_train['RATING']=data_train['RATING'].fillna(value=data_train['RATING'].mean())#The train dataset\n",
    "data_test['RATING']=data_test['RATING'].fillna(value=data_test['RATING'].mean()) #the test dataset"
   ]
  },
  {
   "cell_type": "code",
   "execution_count": 44,
   "id": "6db53042",
   "metadata": {},
   "outputs": [
    {
     "data": {
      "text/plain": [
       "0"
      ]
     },
     "execution_count": 44,
     "metadata": {},
     "output_type": "execute_result"
    }
   ],
   "source": [
    "data_train['RATING'].isna().sum()"
   ]
  },
  {
   "cell_type": "code",
   "execution_count": 45,
   "id": "2059cdd7",
   "metadata": {},
   "outputs": [
    {
     "data": {
      "text/plain": [
       "0"
      ]
     },
     "execution_count": 45,
     "metadata": {},
     "output_type": "execute_result"
    }
   ],
   "source": [
    "data_test['RATING'].isna().sum()"
   ]
  },
  {
   "cell_type": "code",
   "execution_count": 33,
   "id": "0c0332c3",
   "metadata": {},
   "outputs": [],
   "source": [
    "#so we have succesfully treated all the null values"
   ]
  },
  {
   "cell_type": "code",
   "execution_count": 46,
   "id": "681658e2",
   "metadata": {},
   "outputs": [
    {
     "data": {
      "text/html": [
       "<div>\n",
       "<style scoped>\n",
       "    .dataframe tbody tr th:only-of-type {\n",
       "        vertical-align: middle;\n",
       "    }\n",
       "\n",
       "    .dataframe tbody tr th {\n",
       "        vertical-align: top;\n",
       "    }\n",
       "\n",
       "    .dataframe thead th {\n",
       "        text-align: right;\n",
       "    }\n",
       "</style>\n",
       "<table border=\"1\" class=\"dataframe\">\n",
       "  <thead>\n",
       "    <tr style=\"text-align: right;\">\n",
       "      <th></th>\n",
       "      <th>TITLE</th>\n",
       "      <th>CUISINES</th>\n",
       "      <th>TIME</th>\n",
       "      <th>CITY</th>\n",
       "      <th>LOCALITY</th>\n",
       "      <th>RATING</th>\n",
       "      <th>VOTES</th>\n",
       "      <th>COST</th>\n",
       "    </tr>\n",
       "  </thead>\n",
       "  <tbody>\n",
       "    <tr>\n",
       "      <th>0</th>\n",
       "      <td>CASUAL DINING</td>\n",
       "      <td>Malwani, Goan, North Indian</td>\n",
       "      <td>11am – 4pm, 7:30pm – 11:30pm (Mon-Sun)</td>\n",
       "      <td>Thane</td>\n",
       "      <td>Dombivali East</td>\n",
       "      <td>3.6</td>\n",
       "      <td>49 votes</td>\n",
       "      <td>1200</td>\n",
       "    </tr>\n",
       "    <tr>\n",
       "      <th>1</th>\n",
       "      <td>CASUAL DINING,BAR</td>\n",
       "      <td>Asian, Modern Indian, Japanese</td>\n",
       "      <td>6pm – 11pm (Mon-Sun)</td>\n",
       "      <td>Chennai</td>\n",
       "      <td>Ramapuram</td>\n",
       "      <td>4.2</td>\n",
       "      <td>30 votes</td>\n",
       "      <td>1500</td>\n",
       "    </tr>\n",
       "    <tr>\n",
       "      <th>2</th>\n",
       "      <td>CASUAL DINING</td>\n",
       "      <td>North Indian, Chinese, Biryani, Hyderabadi</td>\n",
       "      <td>11am – 3:30pm, 7pm – 11pm (Mon-Sun)</td>\n",
       "      <td>Chennai</td>\n",
       "      <td>Saligramam</td>\n",
       "      <td>3.8</td>\n",
       "      <td>221 votes</td>\n",
       "      <td>800</td>\n",
       "    </tr>\n",
       "    <tr>\n",
       "      <th>3</th>\n",
       "      <td>QUICK BITES</td>\n",
       "      <td>Tibetan, Chinese</td>\n",
       "      <td>11:30am – 1am (Mon-Sun)</td>\n",
       "      <td>Mumbai</td>\n",
       "      <td>Bandra West</td>\n",
       "      <td>4.1</td>\n",
       "      <td>24 votes</td>\n",
       "      <td>800</td>\n",
       "    </tr>\n",
       "    <tr>\n",
       "      <th>4</th>\n",
       "      <td>DESSERT PARLOR</td>\n",
       "      <td>Desserts</td>\n",
       "      <td>11am – 1am (Mon-Sun)</td>\n",
       "      <td>Mumbai</td>\n",
       "      <td>Lower Parel</td>\n",
       "      <td>3.8</td>\n",
       "      <td>165 votes</td>\n",
       "      <td>300</td>\n",
       "    </tr>\n",
       "  </tbody>\n",
       "</table>\n",
       "</div>"
      ],
      "text/plain": [
       "               TITLE                                    CUISINES  \\\n",
       "0      CASUAL DINING                 Malwani, Goan, North Indian   \n",
       "1  CASUAL DINING,BAR              Asian, Modern Indian, Japanese   \n",
       "2      CASUAL DINING  North Indian, Chinese, Biryani, Hyderabadi   \n",
       "3        QUICK BITES                            Tibetan, Chinese   \n",
       "4     DESSERT PARLOR                                    Desserts   \n",
       "\n",
       "                                     TIME     CITY        LOCALITY  RATING  \\\n",
       "0  11am – 4pm, 7:30pm – 11:30pm (Mon-Sun)    Thane  Dombivali East     3.6   \n",
       "1                    6pm – 11pm (Mon-Sun)  Chennai       Ramapuram     4.2   \n",
       "2     11am – 3:30pm, 7pm – 11pm (Mon-Sun)  Chennai      Saligramam     3.8   \n",
       "3                 11:30am – 1am (Mon-Sun)   Mumbai     Bandra West     4.1   \n",
       "4                    11am – 1am (Mon-Sun)   Mumbai     Lower Parel     3.8   \n",
       "\n",
       "       VOTES  COST  \n",
       "0   49 votes  1200  \n",
       "1   30 votes  1500  \n",
       "2  221 votes   800  \n",
       "3   24 votes   800  \n",
       "4  165 votes   300  "
      ]
     },
     "execution_count": 46,
     "metadata": {},
     "output_type": "execute_result"
    }
   ],
   "source": [
    "data_train.head()"
   ]
  },
  {
   "cell_type": "code",
   "execution_count": 47,
   "id": "c59c67e4",
   "metadata": {},
   "outputs": [
    {
     "data": {
      "text/plain": [
       "VOTES\n",
       "44 votes      71\n",
       "29 votes      66\n",
       "28 votes      66\n",
       "38 votes      65\n",
       "35 votes      64\n",
       "              ..\n",
       "1020 votes     1\n",
       "4634 votes     1\n",
       "2297 votes     1\n",
       "1475 votes     1\n",
       "1214 votes     1\n",
       "Name: count, Length: 1847, dtype: int64"
      ]
     },
     "execution_count": 47,
     "metadata": {},
     "output_type": "execute_result"
    }
   ],
   "source": [
    "#now we must treat the votes column\n",
    "data_train['VOTES'].value_counts()"
   ]
  },
  {
   "cell_type": "code",
   "execution_count": 48,
   "id": "bc3a8bd7",
   "metadata": {},
   "outputs": [
    {
     "data": {
      "text/html": [
       "<div>\n",
       "<style scoped>\n",
       "    .dataframe tbody tr th:only-of-type {\n",
       "        vertical-align: middle;\n",
       "    }\n",
       "\n",
       "    .dataframe tbody tr th {\n",
       "        vertical-align: top;\n",
       "    }\n",
       "\n",
       "    .dataframe thead th {\n",
       "        text-align: right;\n",
       "    }\n",
       "</style>\n",
       "<table border=\"1\" class=\"dataframe\">\n",
       "  <thead>\n",
       "    <tr style=\"text-align: right;\">\n",
       "      <th></th>\n",
       "      <th>TITLE</th>\n",
       "      <th>CUISINES</th>\n",
       "      <th>TIME</th>\n",
       "      <th>CITY</th>\n",
       "      <th>LOCALITY</th>\n",
       "      <th>RATING</th>\n",
       "      <th>VOTES</th>\n",
       "      <th>COST</th>\n",
       "    </tr>\n",
       "  </thead>\n",
       "  <tbody>\n",
       "    <tr>\n",
       "      <th>0</th>\n",
       "      <td>CASUAL DINING</td>\n",
       "      <td>Malwani, Goan, North Indian</td>\n",
       "      <td>11am – 4pm, 7:30pm – 11:30pm (Mon-Sun)</td>\n",
       "      <td>Thane</td>\n",
       "      <td>Dombivali East</td>\n",
       "      <td>3.6</td>\n",
       "      <td>49 votes</td>\n",
       "      <td>1200</td>\n",
       "    </tr>\n",
       "    <tr>\n",
       "      <th>1</th>\n",
       "      <td>CASUAL DINING,BAR</td>\n",
       "      <td>Asian, Modern Indian, Japanese</td>\n",
       "      <td>6pm – 11pm (Mon-Sun)</td>\n",
       "      <td>Chennai</td>\n",
       "      <td>Ramapuram</td>\n",
       "      <td>4.2</td>\n",
       "      <td>30 votes</td>\n",
       "      <td>1500</td>\n",
       "    </tr>\n",
       "    <tr>\n",
       "      <th>2</th>\n",
       "      <td>CASUAL DINING</td>\n",
       "      <td>North Indian, Chinese, Biryani, Hyderabadi</td>\n",
       "      <td>11am – 3:30pm, 7pm – 11pm (Mon-Sun)</td>\n",
       "      <td>Chennai</td>\n",
       "      <td>Saligramam</td>\n",
       "      <td>3.8</td>\n",
       "      <td>221 votes</td>\n",
       "      <td>800</td>\n",
       "    </tr>\n",
       "    <tr>\n",
       "      <th>3</th>\n",
       "      <td>QUICK BITES</td>\n",
       "      <td>Tibetan, Chinese</td>\n",
       "      <td>11:30am – 1am (Mon-Sun)</td>\n",
       "      <td>Mumbai</td>\n",
       "      <td>Bandra West</td>\n",
       "      <td>4.1</td>\n",
       "      <td>24 votes</td>\n",
       "      <td>800</td>\n",
       "    </tr>\n",
       "    <tr>\n",
       "      <th>4</th>\n",
       "      <td>DESSERT PARLOR</td>\n",
       "      <td>Desserts</td>\n",
       "      <td>11am – 1am (Mon-Sun)</td>\n",
       "      <td>Mumbai</td>\n",
       "      <td>Lower Parel</td>\n",
       "      <td>3.8</td>\n",
       "      <td>165 votes</td>\n",
       "      <td>300</td>\n",
       "    </tr>\n",
       "  </tbody>\n",
       "</table>\n",
       "</div>"
      ],
      "text/plain": [
       "               TITLE                                    CUISINES  \\\n",
       "0      CASUAL DINING                 Malwani, Goan, North Indian   \n",
       "1  CASUAL DINING,BAR              Asian, Modern Indian, Japanese   \n",
       "2      CASUAL DINING  North Indian, Chinese, Biryani, Hyderabadi   \n",
       "3        QUICK BITES                            Tibetan, Chinese   \n",
       "4     DESSERT PARLOR                                    Desserts   \n",
       "\n",
       "                                     TIME     CITY        LOCALITY  RATING  \\\n",
       "0  11am – 4pm, 7:30pm – 11:30pm (Mon-Sun)    Thane  Dombivali East     3.6   \n",
       "1                    6pm – 11pm (Mon-Sun)  Chennai       Ramapuram     4.2   \n",
       "2     11am – 3:30pm, 7pm – 11pm (Mon-Sun)  Chennai      Saligramam     3.8   \n",
       "3                 11:30am – 1am (Mon-Sun)   Mumbai     Bandra West     4.1   \n",
       "4                    11am – 1am (Mon-Sun)   Mumbai     Lower Parel     3.8   \n",
       "\n",
       "       VOTES  COST  \n",
       "0   49 votes  1200  \n",
       "1   30 votes  1500  \n",
       "2  221 votes   800  \n",
       "3   24 votes   800  \n",
       "4  165 votes   300  "
      ]
     },
     "execution_count": 48,
     "metadata": {},
     "output_type": "execute_result"
    }
   ],
   "source": [
    "data_train.head()"
   ]
  },
  {
   "cell_type": "code",
   "execution_count": 49,
   "id": "bca31dcf",
   "metadata": {},
   "outputs": [],
   "source": [
    "#We should remove the votes from the votes column which is in every row\n",
    "data_train['VOTES']=data_train['VOTES'].str.replace('votes','')#for the train dataset\n",
    "data_test['VOTES']=data_test['VOTES'].str.replace('votes','') #for the test dataset"
   ]
  },
  {
   "cell_type": "code",
   "execution_count": 54,
   "id": "ab8b2f6a",
   "metadata": {},
   "outputs": [],
   "source": [
    "data_train['VOTES']=data_train['VOTES'].astype('float') #For the train dataset\n",
    "data_test['VOTES']=data_test['VOTES'].astype('float') #For the test dataset"
   ]
  },
  {
   "cell_type": "code",
   "execution_count": 55,
   "id": "c581b54c",
   "metadata": {},
   "outputs": [],
   "source": [
    "data_train['VOTES']=data_train['VOTES'].fillna(value=data_train['VOTES'].mean()) #For the train dataset\n",
    "data_test['VOTES']=data_test['VOTES'].fillna(value=data_test['VOTES'].mean())#For the test dataset"
   ]
  },
  {
   "cell_type": "code",
   "execution_count": 56,
   "id": "0320e034",
   "metadata": {},
   "outputs": [
    {
     "data": {
      "text/plain": [
       "0"
      ]
     },
     "execution_count": 56,
     "metadata": {},
     "output_type": "execute_result"
    }
   ],
   "source": [
    "data_train['VOTES'].isna().sum()"
   ]
  },
  {
   "cell_type": "code",
   "execution_count": 57,
   "id": "1c5fe3b2",
   "metadata": {},
   "outputs": [
    {
     "data": {
      "text/plain": [
       "0"
      ]
     },
     "execution_count": 57,
     "metadata": {},
     "output_type": "execute_result"
    }
   ],
   "source": [
    "data_test['VOTES'].isna().sum()"
   ]
  },
  {
   "cell_type": "code",
   "execution_count": 58,
   "id": "df1f37f6",
   "metadata": {},
   "outputs": [
    {
     "data": {
      "text/html": [
       "<div>\n",
       "<style scoped>\n",
       "    .dataframe tbody tr th:only-of-type {\n",
       "        vertical-align: middle;\n",
       "    }\n",
       "\n",
       "    .dataframe tbody tr th {\n",
       "        vertical-align: top;\n",
       "    }\n",
       "\n",
       "    .dataframe thead th {\n",
       "        text-align: right;\n",
       "    }\n",
       "</style>\n",
       "<table border=\"1\" class=\"dataframe\">\n",
       "  <thead>\n",
       "    <tr style=\"text-align: right;\">\n",
       "      <th></th>\n",
       "      <th>TITLE</th>\n",
       "      <th>CUISINES</th>\n",
       "      <th>TIME</th>\n",
       "      <th>CITY</th>\n",
       "      <th>LOCALITY</th>\n",
       "      <th>RATING</th>\n",
       "      <th>VOTES</th>\n",
       "      <th>COST</th>\n",
       "    </tr>\n",
       "  </thead>\n",
       "  <tbody>\n",
       "    <tr>\n",
       "      <th>0</th>\n",
       "      <td>CASUAL DINING</td>\n",
       "      <td>Malwani, Goan, North Indian</td>\n",
       "      <td>11am – 4pm, 7:30pm – 11:30pm (Mon-Sun)</td>\n",
       "      <td>Thane</td>\n",
       "      <td>Dombivali East</td>\n",
       "      <td>3.6</td>\n",
       "      <td>49.0</td>\n",
       "      <td>1200</td>\n",
       "    </tr>\n",
       "    <tr>\n",
       "      <th>1</th>\n",
       "      <td>CASUAL DINING,BAR</td>\n",
       "      <td>Asian, Modern Indian, Japanese</td>\n",
       "      <td>6pm – 11pm (Mon-Sun)</td>\n",
       "      <td>Chennai</td>\n",
       "      <td>Ramapuram</td>\n",
       "      <td>4.2</td>\n",
       "      <td>30.0</td>\n",
       "      <td>1500</td>\n",
       "    </tr>\n",
       "    <tr>\n",
       "      <th>2</th>\n",
       "      <td>CASUAL DINING</td>\n",
       "      <td>North Indian, Chinese, Biryani, Hyderabadi</td>\n",
       "      <td>11am – 3:30pm, 7pm – 11pm (Mon-Sun)</td>\n",
       "      <td>Chennai</td>\n",
       "      <td>Saligramam</td>\n",
       "      <td>3.8</td>\n",
       "      <td>221.0</td>\n",
       "      <td>800</td>\n",
       "    </tr>\n",
       "    <tr>\n",
       "      <th>3</th>\n",
       "      <td>QUICK BITES</td>\n",
       "      <td>Tibetan, Chinese</td>\n",
       "      <td>11:30am – 1am (Mon-Sun)</td>\n",
       "      <td>Mumbai</td>\n",
       "      <td>Bandra West</td>\n",
       "      <td>4.1</td>\n",
       "      <td>24.0</td>\n",
       "      <td>800</td>\n",
       "    </tr>\n",
       "    <tr>\n",
       "      <th>4</th>\n",
       "      <td>DESSERT PARLOR</td>\n",
       "      <td>Desserts</td>\n",
       "      <td>11am – 1am (Mon-Sun)</td>\n",
       "      <td>Mumbai</td>\n",
       "      <td>Lower Parel</td>\n",
       "      <td>3.8</td>\n",
       "      <td>165.0</td>\n",
       "      <td>300</td>\n",
       "    </tr>\n",
       "  </tbody>\n",
       "</table>\n",
       "</div>"
      ],
      "text/plain": [
       "               TITLE                                    CUISINES  \\\n",
       "0      CASUAL DINING                 Malwani, Goan, North Indian   \n",
       "1  CASUAL DINING,BAR              Asian, Modern Indian, Japanese   \n",
       "2      CASUAL DINING  North Indian, Chinese, Biryani, Hyderabadi   \n",
       "3        QUICK BITES                            Tibetan, Chinese   \n",
       "4     DESSERT PARLOR                                    Desserts   \n",
       "\n",
       "                                     TIME     CITY        LOCALITY  RATING  \\\n",
       "0  11am – 4pm, 7:30pm – 11:30pm (Mon-Sun)    Thane  Dombivali East     3.6   \n",
       "1                    6pm – 11pm (Mon-Sun)  Chennai       Ramapuram     4.2   \n",
       "2     11am – 3:30pm, 7pm – 11pm (Mon-Sun)  Chennai      Saligramam     3.8   \n",
       "3                 11:30am – 1am (Mon-Sun)   Mumbai     Bandra West     4.1   \n",
       "4                    11am – 1am (Mon-Sun)   Mumbai     Lower Parel     3.8   \n",
       "\n",
       "   VOTES  COST  \n",
       "0   49.0  1200  \n",
       "1   30.0  1500  \n",
       "2  221.0   800  \n",
       "3   24.0   800  \n",
       "4  165.0   300  "
      ]
     },
     "execution_count": 58,
     "metadata": {},
     "output_type": "execute_result"
    }
   ],
   "source": [
    "#so we can clearly see that we have removed the nulls of the rating and the votes column\n",
    "data_train.head()"
   ]
  },
  {
   "cell_type": "code",
   "execution_count": 59,
   "id": "ddfe2680",
   "metadata": {},
   "outputs": [
    {
     "data": {
      "text/plain": [
       "112"
      ]
     },
     "execution_count": 59,
     "metadata": {},
     "output_type": "execute_result"
    }
   ],
   "source": [
    "#now let us do the encoding of the locality and the city column\n",
    "from sklearn.preprocessing import LabelEncoder\n",
    "lab_enc=LabelEncoder()\n",
    "data_train['CITY'].isna().sum()"
   ]
  },
  {
   "cell_type": "code",
   "execution_count": 60,
   "id": "afe40192",
   "metadata": {},
   "outputs": [
    {
     "data": {
      "text/plain": [
       "35"
      ]
     },
     "execution_count": 60,
     "metadata": {},
     "output_type": "execute_result"
    }
   ],
   "source": [
    "data_test['CITY'].isna().sum()"
   ]
  },
  {
   "cell_type": "code",
   "execution_count": 62,
   "id": "0d0853be",
   "metadata": {},
   "outputs": [],
   "source": [
    "#first let us treat the nulls afterwards we can encode\n",
    "data_train['CITY']=data_train['CITY'].fillna(value=data_train['CITY'].mode()[0]) #for the train dataset\n",
    "data_test['CITY']=data_test['CITY'].fillna(value=data_test['CITY'].mode()[0]) #for the test dataset"
   ]
  },
  {
   "cell_type": "code",
   "execution_count": 63,
   "id": "e66865e8",
   "metadata": {},
   "outputs": [
    {
     "data": {
      "text/plain": [
       "0"
      ]
     },
     "execution_count": 63,
     "metadata": {},
     "output_type": "execute_result"
    }
   ],
   "source": [
    "data_train['CITY'].isna().sum()"
   ]
  },
  {
   "cell_type": "code",
   "execution_count": 64,
   "id": "66e8e02b",
   "metadata": {},
   "outputs": [
    {
     "data": {
      "text/plain": [
       "0"
      ]
     },
     "execution_count": 64,
     "metadata": {},
     "output_type": "execute_result"
    }
   ],
   "source": [
    "data_test['CITY'].isna().sum()"
   ]
  },
  {
   "cell_type": "code",
   "execution_count": 65,
   "id": "16c9605b",
   "metadata": {},
   "outputs": [
    {
     "data": {
      "text/plain": [
       "CITY\n",
       "Chennai                                                                           2286\n",
       "Bangalore                                                                         2149\n",
       "Hyderabad                                                                         1819\n",
       "Mumbai                                                                            1722\n",
       "New Delhi                                                                         1321\n",
       "                                                                                  ... \n",
       "Gachibowli Hyderabad                                                                 1\n",
       "CPR layout harlur main road opposite to ozone ever green apartment Bangalore -       1\n",
       "ECR NEELANKARAI Chennai 600115                                                       1\n",
       "ward X11                                                                             1\n",
       "Masab Tank                                                                           1\n",
       "Name: count, Length: 359, dtype: int64"
      ]
     },
     "execution_count": 65,
     "metadata": {},
     "output_type": "execute_result"
    }
   ],
   "source": [
    "#now let us encode the values\n",
    "data_train['CITY'].value_counts()"
   ]
  },
  {
   "cell_type": "code",
   "execution_count": 66,
   "id": "d4f0ca51",
   "metadata": {},
   "outputs": [],
   "source": [
    "data_train['CITY']=lab_enc.fit_transform(data_train['CITY'])#For the train\n",
    "data_test['CITY']=lab_enc.fit_transform(data_test['CITY'])#For the test"
   ]
  },
  {
   "cell_type": "code",
   "execution_count": 67,
   "id": "7bcdaf01",
   "metadata": {},
   "outputs": [
    {
     "data": {
      "text/plain": [
       "CITY\n",
       "67     2286\n",
       "37     2149\n",
       "131    1819\n",
       "222    1722\n",
       "252    1321\n",
       "       ... \n",
       "111       1\n",
       "62        1\n",
       "98        1\n",
       "358       1\n",
       "212       1\n",
       "Name: count, Length: 359, dtype: int64"
      ]
     },
     "execution_count": 67,
     "metadata": {},
     "output_type": "execute_result"
    }
   ],
   "source": [
    "data_train['CITY'].value_counts()"
   ]
  },
  {
   "cell_type": "code",
   "execution_count": 68,
   "id": "1c89fc2a",
   "metadata": {},
   "outputs": [
    {
     "data": {
      "text/plain": [
       "CITY\n",
       "9      721\n",
       "18     681\n",
       "55     639\n",
       "96     589\n",
       "78     472\n",
       "      ... \n",
       "136      1\n",
       "97       1\n",
       "123      1\n",
       "82       1\n",
       "114      1\n",
       "Name: count, Length: 151, dtype: int64"
      ]
     },
     "execution_count": 68,
     "metadata": {},
     "output_type": "execute_result"
    }
   ],
   "source": [
    "data_test['CITY'].value_counts()"
   ]
  },
  {
   "cell_type": "code",
   "execution_count": 70,
   "id": "95a8ed8c",
   "metadata": {},
   "outputs": [
    {
     "data": {
      "text/plain": [
       "LOCALITY\n",
       "Gachibowli                 166\n",
       "Indiranagar                138\n",
       "Edappally                  122\n",
       "Kakkanad                   121\n",
       "HSR                        120\n",
       "                          ... \n",
       "Huda Market                  1\n",
       "OMR Road Sholinganallur      1\n",
       "Telangana 500053             1\n",
       "1st Lane                     1\n",
       "Near Malviya Nagar           1\n",
       "Name: count, Length: 1416, dtype: int64"
      ]
     },
     "execution_count": 70,
     "metadata": {},
     "output_type": "execute_result"
    }
   ],
   "source": [
    "data_train['LOCALITY'].value_counts()"
   ]
  },
  {
   "cell_type": "code",
   "execution_count": 71,
   "id": "304d0536",
   "metadata": {},
   "outputs": [],
   "source": [
    "data_train['LOCALITY']=lab_enc.fit_transform(data_train['LOCALITY'])\n",
    "data_test['LOCALITY']=lab_enc.fit_transform(data_test['LOCALITY'])"
   ]
  },
  {
   "cell_type": "code",
   "execution_count": 72,
   "id": "85d17ad2",
   "metadata": {},
   "outputs": [
    {
     "data": {
      "text/html": [
       "<div>\n",
       "<style scoped>\n",
       "    .dataframe tbody tr th:only-of-type {\n",
       "        vertical-align: middle;\n",
       "    }\n",
       "\n",
       "    .dataframe tbody tr th {\n",
       "        vertical-align: top;\n",
       "    }\n",
       "\n",
       "    .dataframe thead th {\n",
       "        text-align: right;\n",
       "    }\n",
       "</style>\n",
       "<table border=\"1\" class=\"dataframe\">\n",
       "  <thead>\n",
       "    <tr style=\"text-align: right;\">\n",
       "      <th></th>\n",
       "      <th>TITLE</th>\n",
       "      <th>CUISINES</th>\n",
       "      <th>TIME</th>\n",
       "      <th>CITY</th>\n",
       "      <th>LOCALITY</th>\n",
       "      <th>RATING</th>\n",
       "      <th>VOTES</th>\n",
       "      <th>COST</th>\n",
       "    </tr>\n",
       "  </thead>\n",
       "  <tbody>\n",
       "    <tr>\n",
       "      <th>0</th>\n",
       "      <td>CASUAL DINING</td>\n",
       "      <td>Malwani, Goan, North Indian</td>\n",
       "      <td>11am – 4pm, 7:30pm – 11:30pm (Mon-Sun)</td>\n",
       "      <td>320</td>\n",
       "      <td>285</td>\n",
       "      <td>3.6</td>\n",
       "      <td>49.0</td>\n",
       "      <td>1200</td>\n",
       "    </tr>\n",
       "    <tr>\n",
       "      <th>1</th>\n",
       "      <td>CASUAL DINING,BAR</td>\n",
       "      <td>Asian, Modern Indian, Japanese</td>\n",
       "      <td>6pm – 11pm (Mon-Sun)</td>\n",
       "      <td>67</td>\n",
       "      <td>1046</td>\n",
       "      <td>4.2</td>\n",
       "      <td>30.0</td>\n",
       "      <td>1500</td>\n",
       "    </tr>\n",
       "    <tr>\n",
       "      <th>2</th>\n",
       "      <td>CASUAL DINING</td>\n",
       "      <td>North Indian, Chinese, Biryani, Hyderabadi</td>\n",
       "      <td>11am – 3:30pm, 7pm – 11pm (Mon-Sun)</td>\n",
       "      <td>67</td>\n",
       "      <td>1101</td>\n",
       "      <td>3.8</td>\n",
       "      <td>221.0</td>\n",
       "      <td>800</td>\n",
       "    </tr>\n",
       "    <tr>\n",
       "      <th>3</th>\n",
       "      <td>QUICK BITES</td>\n",
       "      <td>Tibetan, Chinese</td>\n",
       "      <td>11:30am – 1am (Mon-Sun)</td>\n",
       "      <td>222</td>\n",
       "      <td>136</td>\n",
       "      <td>4.1</td>\n",
       "      <td>24.0</td>\n",
       "      <td>800</td>\n",
       "    </tr>\n",
       "    <tr>\n",
       "      <th>4</th>\n",
       "      <td>DESSERT PARLOR</td>\n",
       "      <td>Desserts</td>\n",
       "      <td>11am – 1am (Mon-Sun)</td>\n",
       "      <td>222</td>\n",
       "      <td>620</td>\n",
       "      <td>3.8</td>\n",
       "      <td>165.0</td>\n",
       "      <td>300</td>\n",
       "    </tr>\n",
       "  </tbody>\n",
       "</table>\n",
       "</div>"
      ],
      "text/plain": [
       "               TITLE                                    CUISINES  \\\n",
       "0      CASUAL DINING                 Malwani, Goan, North Indian   \n",
       "1  CASUAL DINING,BAR              Asian, Modern Indian, Japanese   \n",
       "2      CASUAL DINING  North Indian, Chinese, Biryani, Hyderabadi   \n",
       "3        QUICK BITES                            Tibetan, Chinese   \n",
       "4     DESSERT PARLOR                                    Desserts   \n",
       "\n",
       "                                     TIME  CITY  LOCALITY  RATING  VOTES  COST  \n",
       "0  11am – 4pm, 7:30pm – 11:30pm (Mon-Sun)   320       285     3.6   49.0  1200  \n",
       "1                    6pm – 11pm (Mon-Sun)    67      1046     4.2   30.0  1500  \n",
       "2     11am – 3:30pm, 7pm – 11pm (Mon-Sun)    67      1101     3.8  221.0   800  \n",
       "3                 11:30am – 1am (Mon-Sun)   222       136     4.1   24.0   800  \n",
       "4                    11am – 1am (Mon-Sun)   222       620     3.8  165.0   300  "
      ]
     },
     "execution_count": 72,
     "metadata": {},
     "output_type": "execute_result"
    }
   ],
   "source": [
    "data_train.head()"
   ]
  },
  {
   "cell_type": "code",
   "execution_count": 73,
   "id": "908c1b73",
   "metadata": {},
   "outputs": [
    {
     "data": {
      "text/plain": [
       "TITLE\n",
       "QUICK BITES               4218\n",
       "CASUAL DINING             3652\n",
       "CAFÉ                       607\n",
       "DESSERT PARLOR             382\n",
       "CASUAL DINING,BAR          349\n",
       "                          ... \n",
       "BAKERY,FOOD COURT            1\n",
       "CLUB,MICROBREWERY            1\n",
       "QUICK BITES,FOOD TRUCK       1\n",
       "BAKERY,BEVERAGE SHOP         1\n",
       "BAR,MICROBREWERY             1\n",
       "Name: count, Length: 112, dtype: int64"
      ]
     },
     "execution_count": 73,
     "metadata": {},
     "output_type": "execute_result"
    }
   ],
   "source": [
    "data_train['TITLE'].value_counts()"
   ]
  },
  {
   "cell_type": "code",
   "execution_count": 74,
   "id": "04af2dab",
   "metadata": {},
   "outputs": [
    {
     "data": {
      "text/plain": [
       "TITLE\n",
       "QUICK BITES                   1416\n",
       "CASUAL DINING                 1258\n",
       "CAFÉ                           223\n",
       "DESSERT PARLOR                 126\n",
       "CASUAL DINING,BAR              114\n",
       "                              ... \n",
       "CASUAL DINING,LOUNGE             1\n",
       "CLUB,FINE DINING                 1\n",
       "SWEET SHOP,DESSERT PARLOR        1\n",
       "COCKTAIL BAR,CASUAL DINING       1\n",
       "BHOJANALYA                       1\n",
       "Name: count, Length: 85, dtype: int64"
      ]
     },
     "execution_count": 74,
     "metadata": {},
     "output_type": "execute_result"
    }
   ],
   "source": [
    "data_test['TITLE'].value_counts()"
   ]
  },
  {
   "cell_type": "code",
   "execution_count": 75,
   "id": "56175036",
   "metadata": {},
   "outputs": [],
   "source": [
    "#Since we can see that the values in this title column are 112 and 85 respectively so we can just use the labelencoder here\n",
    "data_train['TITLE']=lab_enc.fit_transform(data_train['TITLE']) #for the train\n",
    "data_test['TITLE']=lab_enc.fit_transform(data_test['TITLE']) #for the test"
   ]
  },
  {
   "cell_type": "code",
   "execution_count": 204,
   "id": "e18928e8",
   "metadata": {},
   "outputs": [
    {
     "data": {
      "text/html": [
       "<div>\n",
       "<style scoped>\n",
       "    .dataframe tbody tr th:only-of-type {\n",
       "        vertical-align: middle;\n",
       "    }\n",
       "\n",
       "    .dataframe tbody tr th {\n",
       "        vertical-align: top;\n",
       "    }\n",
       "\n",
       "    .dataframe thead th {\n",
       "        text-align: right;\n",
       "    }\n",
       "</style>\n",
       "<table border=\"1\" class=\"dataframe\">\n",
       "  <thead>\n",
       "    <tr style=\"text-align: right;\">\n",
       "      <th></th>\n",
       "      <th>TITLE</th>\n",
       "      <th>CUISINES</th>\n",
       "      <th>TIME</th>\n",
       "      <th>CITY</th>\n",
       "      <th>LOCALITY</th>\n",
       "      <th>RATING</th>\n",
       "      <th>VOTES</th>\n",
       "      <th>COST</th>\n",
       "    </tr>\n",
       "  </thead>\n",
       "  <tbody>\n",
       "    <tr>\n",
       "      <th>0</th>\n",
       "      <td>31</td>\n",
       "      <td>Malwani, Goan, North Indian</td>\n",
       "      <td>11am – 4pm, 7:30pm – 11:30pm (Mon-Sun)</td>\n",
       "      <td>320</td>\n",
       "      <td>285</td>\n",
       "      <td>3.6</td>\n",
       "      <td>49.0</td>\n",
       "      <td>1200</td>\n",
       "    </tr>\n",
       "    <tr>\n",
       "      <th>1</th>\n",
       "      <td>33</td>\n",
       "      <td>Asian, Modern Indian, Japanese</td>\n",
       "      <td>6pm – 11pm (Mon-Sun)</td>\n",
       "      <td>67</td>\n",
       "      <td>1046</td>\n",
       "      <td>4.2</td>\n",
       "      <td>30.0</td>\n",
       "      <td>1500</td>\n",
       "    </tr>\n",
       "    <tr>\n",
       "      <th>2</th>\n",
       "      <td>31</td>\n",
       "      <td>North Indian, Chinese, Biryani, Hyderabadi</td>\n",
       "      <td>11am – 3:30pm, 7pm – 11pm (Mon-Sun)</td>\n",
       "      <td>67</td>\n",
       "      <td>1101</td>\n",
       "      <td>3.8</td>\n",
       "      <td>221.0</td>\n",
       "      <td>800</td>\n",
       "    </tr>\n",
       "    <tr>\n",
       "      <th>3</th>\n",
       "      <td>94</td>\n",
       "      <td>Tibetan, Chinese</td>\n",
       "      <td>11:30am – 1am (Mon-Sun)</td>\n",
       "      <td>222</td>\n",
       "      <td>136</td>\n",
       "      <td>4.1</td>\n",
       "      <td>24.0</td>\n",
       "      <td>800</td>\n",
       "    </tr>\n",
       "    <tr>\n",
       "      <th>4</th>\n",
       "      <td>50</td>\n",
       "      <td>Desserts</td>\n",
       "      <td>11am – 1am (Mon-Sun)</td>\n",
       "      <td>222</td>\n",
       "      <td>620</td>\n",
       "      <td>3.8</td>\n",
       "      <td>165.0</td>\n",
       "      <td>300</td>\n",
       "    </tr>\n",
       "  </tbody>\n",
       "</table>\n",
       "</div>"
      ],
      "text/plain": [
       "   TITLE                                    CUISINES  \\\n",
       "0     31                 Malwani, Goan, North Indian   \n",
       "1     33              Asian, Modern Indian, Japanese   \n",
       "2     31  North Indian, Chinese, Biryani, Hyderabadi   \n",
       "3     94                            Tibetan, Chinese   \n",
       "4     50                                    Desserts   \n",
       "\n",
       "                                     TIME  CITY  LOCALITY  RATING  VOTES  COST  \n",
       "0  11am – 4pm, 7:30pm – 11:30pm (Mon-Sun)   320       285     3.6   49.0  1200  \n",
       "1                    6pm – 11pm (Mon-Sun)    67      1046     4.2   30.0  1500  \n",
       "2     11am – 3:30pm, 7pm – 11pm (Mon-Sun)    67      1101     3.8  221.0   800  \n",
       "3                 11:30am – 1am (Mon-Sun)   222       136     4.1   24.0   800  \n",
       "4                    11am – 1am (Mon-Sun)   222       620     3.8  165.0   300  "
      ]
     },
     "execution_count": 204,
     "metadata": {},
     "output_type": "execute_result"
    }
   ],
   "source": [
    "data_train.head()"
   ]
  },
  {
   "cell_type": "code",
   "execution_count": 76,
   "id": "a5e4feae",
   "metadata": {},
   "outputs": [
    {
     "data": {
      "text/html": [
       "<div>\n",
       "<style scoped>\n",
       "    .dataframe tbody tr th:only-of-type {\n",
       "        vertical-align: middle;\n",
       "    }\n",
       "\n",
       "    .dataframe tbody tr th {\n",
       "        vertical-align: top;\n",
       "    }\n",
       "\n",
       "    .dataframe thead th {\n",
       "        text-align: right;\n",
       "    }\n",
       "</style>\n",
       "<table border=\"1\" class=\"dataframe\">\n",
       "  <thead>\n",
       "    <tr style=\"text-align: right;\">\n",
       "      <th></th>\n",
       "      <th>TITLE</th>\n",
       "      <th>CUISINES</th>\n",
       "      <th>TIME</th>\n",
       "      <th>CITY</th>\n",
       "      <th>LOCALITY</th>\n",
       "      <th>RATING</th>\n",
       "      <th>VOTES</th>\n",
       "    </tr>\n",
       "  </thead>\n",
       "  <tbody>\n",
       "    <tr>\n",
       "      <th>0</th>\n",
       "      <td>23</td>\n",
       "      <td>North Indian, Chinese, Mughlai, Kebab</td>\n",
       "      <td>12noon – 12midnight (Mon-Sun)</td>\n",
       "      <td>110</td>\n",
       "      <td>662</td>\n",
       "      <td>3.6</td>\n",
       "      <td>564.0</td>\n",
       "    </tr>\n",
       "    <tr>\n",
       "      <th>1</th>\n",
       "      <td>74</td>\n",
       "      <td>South Indian, Fast Food, Pizza, North Indian</td>\n",
       "      <td>7am – 12:30AM (Mon-Sun)</td>\n",
       "      <td>96</td>\n",
       "      <td>221</td>\n",
       "      <td>4.2</td>\n",
       "      <td>61.0</td>\n",
       "    </tr>\n",
       "    <tr>\n",
       "      <th>2</th>\n",
       "      <td>23</td>\n",
       "      <td>North Indian, Seafood, Biryani, Chinese</td>\n",
       "      <td>11am – 11:30pm (Mon-Sun)</td>\n",
       "      <td>96</td>\n",
       "      <td>411</td>\n",
       "      <td>3.8</td>\n",
       "      <td>350.0</td>\n",
       "    </tr>\n",
       "    <tr>\n",
       "      <th>3</th>\n",
       "      <td>85</td>\n",
       "      <td>Biryani</td>\n",
       "      <td>9am – 10pm (Mon, Wed, Thu, Fri, Sat, Sun), 10:...</td>\n",
       "      <td>41</td>\n",
       "      <td>456</td>\n",
       "      <td>4.1</td>\n",
       "      <td>1445.0</td>\n",
       "    </tr>\n",
       "    <tr>\n",
       "      <th>4</th>\n",
       "      <td>74</td>\n",
       "      <td>South Indian, Kerala</td>\n",
       "      <td>11am – 10pm (Mon-Sun)</td>\n",
       "      <td>78</td>\n",
       "      <td>300</td>\n",
       "      <td>3.8</td>\n",
       "      <td>23.0</td>\n",
       "    </tr>\n",
       "  </tbody>\n",
       "</table>\n",
       "</div>"
      ],
      "text/plain": [
       "   TITLE                                      CUISINES  \\\n",
       "0     23         North Indian, Chinese, Mughlai, Kebab   \n",
       "1     74  South Indian, Fast Food, Pizza, North Indian   \n",
       "2     23       North Indian, Seafood, Biryani, Chinese   \n",
       "3     85                                       Biryani   \n",
       "4     74                          South Indian, Kerala   \n",
       "\n",
       "                                                TIME  CITY  LOCALITY  RATING  \\\n",
       "0                      12noon – 12midnight (Mon-Sun)   110       662     3.6   \n",
       "1                            7am – 12:30AM (Mon-Sun)    96       221     4.2   \n",
       "2                           11am – 11:30pm (Mon-Sun)    96       411     3.8   \n",
       "3  9am – 10pm (Mon, Wed, Thu, Fri, Sat, Sun), 10:...    41       456     4.1   \n",
       "4                              11am – 10pm (Mon-Sun)    78       300     3.8   \n",
       "\n",
       "    VOTES  \n",
       "0   564.0  \n",
       "1    61.0  \n",
       "2   350.0  \n",
       "3  1445.0  \n",
       "4    23.0  "
      ]
     },
     "execution_count": 76,
     "metadata": {},
     "output_type": "execute_result"
    }
   ],
   "source": [
    "data_test.head()"
   ]
  },
  {
   "cell_type": "code",
   "execution_count": 77,
   "id": "a3796386",
   "metadata": {},
   "outputs": [
    {
     "data": {
      "text/plain": [
       "CUISINES\n",
       "South Indian                                  532\n",
       "North Indian                                  526\n",
       "North Indian, Chinese                         501\n",
       "Fast Food                                     286\n",
       "Chinese                                       167\n",
       "                                             ... \n",
       "Italian, Biryani, Fast Food                     1\n",
       "Desserts, Juices, Fast Food                     1\n",
       "Asian, Continental, European, North Indian      1\n",
       "Cafe, Continental, Italian, Lebanese            1\n",
       "Finger Food, Continental, Asian, Chinese        1\n",
       "Name: count, Length: 4155, dtype: int64"
      ]
     },
     "execution_count": 77,
     "metadata": {},
     "output_type": "execute_result"
    }
   ],
   "source": [
    "#now comes the cuisines part\n",
    "data_train['CUISINES'].value_counts()"
   ]
  },
  {
   "cell_type": "code",
   "execution_count": 207,
   "id": "571c683c",
   "metadata": {},
   "outputs": [],
   "source": [
    "#the values in this column are way to high so we will just not use the label encoder instead of that we will figure out \n",
    "#something else"
   ]
  },
  {
   "cell_type": "code",
   "execution_count": 78,
   "id": "52739566",
   "metadata": {},
   "outputs": [],
   "source": [
    "cuisines_mean_rating_train = data_train.groupby('CUISINES')['RATING'].mean()\n",
    "cuisines_mean_rating_test= data_test.groupby('CUISINES')['RATING'].mean()\n",
    "\n",
    "\n",
    "train_cuisines= data_train['CUISINES'].map(cuisines_mean_rating_train)\n",
    "test_cuisines= data_test['CUISINES'].map(cuisines_mean_rating_test)"
   ]
  },
  {
   "cell_type": "code",
   "execution_count": 79,
   "id": "36701953",
   "metadata": {},
   "outputs": [],
   "source": [
    "#here we have just grouped the common rows of the cuisines column together and have mapped in a column\n",
    "#so we can now just use these values of the cuisines column\n",
    "#And we know there might be multicollinerity issue between cuisines and the ratings we figure it out later on\n",
    "data_train['CUISINES']=train_cuisines\n",
    "data_test['CUISINES']=test_cuisines"
   ]
  },
  {
   "cell_type": "code",
   "execution_count": 80,
   "id": "75038fc5",
   "metadata": {},
   "outputs": [
    {
     "data": {
      "text/html": [
       "<div>\n",
       "<style scoped>\n",
       "    .dataframe tbody tr th:only-of-type {\n",
       "        vertical-align: middle;\n",
       "    }\n",
       "\n",
       "    .dataframe tbody tr th {\n",
       "        vertical-align: top;\n",
       "    }\n",
       "\n",
       "    .dataframe thead th {\n",
       "        text-align: right;\n",
       "    }\n",
       "</style>\n",
       "<table border=\"1\" class=\"dataframe\">\n",
       "  <thead>\n",
       "    <tr style=\"text-align: right;\">\n",
       "      <th></th>\n",
       "      <th>TITLE</th>\n",
       "      <th>CUISINES</th>\n",
       "      <th>TIME</th>\n",
       "      <th>CITY</th>\n",
       "      <th>LOCALITY</th>\n",
       "      <th>RATING</th>\n",
       "      <th>VOTES</th>\n",
       "      <th>COST</th>\n",
       "    </tr>\n",
       "  </thead>\n",
       "  <tbody>\n",
       "    <tr>\n",
       "      <th>0</th>\n",
       "      <td>31</td>\n",
       "      <td>3.600000</td>\n",
       "      <td>11am – 4pm, 7:30pm – 11:30pm (Mon-Sun)</td>\n",
       "      <td>320</td>\n",
       "      <td>285</td>\n",
       "      <td>3.6</td>\n",
       "      <td>49.0</td>\n",
       "      <td>1200</td>\n",
       "    </tr>\n",
       "    <tr>\n",
       "      <th>1</th>\n",
       "      <td>33</td>\n",
       "      <td>4.200000</td>\n",
       "      <td>6pm – 11pm (Mon-Sun)</td>\n",
       "      <td>67</td>\n",
       "      <td>1046</td>\n",
       "      <td>4.2</td>\n",
       "      <td>30.0</td>\n",
       "      <td>1500</td>\n",
       "    </tr>\n",
       "    <tr>\n",
       "      <th>2</th>\n",
       "      <td>31</td>\n",
       "      <td>3.900000</td>\n",
       "      <td>11am – 3:30pm, 7pm – 11pm (Mon-Sun)</td>\n",
       "      <td>67</td>\n",
       "      <td>1101</td>\n",
       "      <td>3.8</td>\n",
       "      <td>221.0</td>\n",
       "      <td>800</td>\n",
       "    </tr>\n",
       "    <tr>\n",
       "      <th>3</th>\n",
       "      <td>94</td>\n",
       "      <td>4.066667</td>\n",
       "      <td>11:30am – 1am (Mon-Sun)</td>\n",
       "      <td>222</td>\n",
       "      <td>136</td>\n",
       "      <td>4.1</td>\n",
       "      <td>24.0</td>\n",
       "      <td>800</td>\n",
       "    </tr>\n",
       "    <tr>\n",
       "      <th>4</th>\n",
       "      <td>50</td>\n",
       "      <td>3.869905</td>\n",
       "      <td>11am – 1am (Mon-Sun)</td>\n",
       "      <td>222</td>\n",
       "      <td>620</td>\n",
       "      <td>3.8</td>\n",
       "      <td>165.0</td>\n",
       "      <td>300</td>\n",
       "    </tr>\n",
       "  </tbody>\n",
       "</table>\n",
       "</div>"
      ],
      "text/plain": [
       "   TITLE  CUISINES                                    TIME  CITY  LOCALITY  \\\n",
       "0     31  3.600000  11am – 4pm, 7:30pm – 11:30pm (Mon-Sun)   320       285   \n",
       "1     33  4.200000                    6pm – 11pm (Mon-Sun)    67      1046   \n",
       "2     31  3.900000     11am – 3:30pm, 7pm – 11pm (Mon-Sun)    67      1101   \n",
       "3     94  4.066667                 11:30am – 1am (Mon-Sun)   222       136   \n",
       "4     50  3.869905                    11am – 1am (Mon-Sun)   222       620   \n",
       "\n",
       "   RATING  VOTES  COST  \n",
       "0     3.6   49.0  1200  \n",
       "1     4.2   30.0  1500  \n",
       "2     3.8  221.0   800  \n",
       "3     4.1   24.0   800  \n",
       "4     3.8  165.0   300  "
      ]
     },
     "execution_count": 80,
     "metadata": {},
     "output_type": "execute_result"
    }
   ],
   "source": [
    "data_train.head()"
   ]
  },
  {
   "cell_type": "code",
   "execution_count": 81,
   "id": "4e5b7f22",
   "metadata": {},
   "outputs": [
    {
     "data": {
      "text/html": [
       "<div>\n",
       "<style scoped>\n",
       "    .dataframe tbody tr th:only-of-type {\n",
       "        vertical-align: middle;\n",
       "    }\n",
       "\n",
       "    .dataframe tbody tr th {\n",
       "        vertical-align: top;\n",
       "    }\n",
       "\n",
       "    .dataframe thead th {\n",
       "        text-align: right;\n",
       "    }\n",
       "</style>\n",
       "<table border=\"1\" class=\"dataframe\">\n",
       "  <thead>\n",
       "    <tr style=\"text-align: right;\">\n",
       "      <th></th>\n",
       "      <th>TITLE</th>\n",
       "      <th>CUISINES</th>\n",
       "      <th>TIME</th>\n",
       "      <th>CITY</th>\n",
       "      <th>LOCALITY</th>\n",
       "      <th>RATING</th>\n",
       "      <th>VOTES</th>\n",
       "    </tr>\n",
       "  </thead>\n",
       "  <tbody>\n",
       "    <tr>\n",
       "      <th>0</th>\n",
       "      <td>23</td>\n",
       "      <td>3.600000</td>\n",
       "      <td>12noon – 12midnight (Mon-Sun)</td>\n",
       "      <td>110</td>\n",
       "      <td>662</td>\n",
       "      <td>3.6</td>\n",
       "      <td>564.0</td>\n",
       "    </tr>\n",
       "    <tr>\n",
       "      <th>1</th>\n",
       "      <td>74</td>\n",
       "      <td>4.200000</td>\n",
       "      <td>7am – 12:30AM (Mon-Sun)</td>\n",
       "      <td>96</td>\n",
       "      <td>221</td>\n",
       "      <td>4.2</td>\n",
       "      <td>61.0</td>\n",
       "    </tr>\n",
       "    <tr>\n",
       "      <th>2</th>\n",
       "      <td>23</td>\n",
       "      <td>3.800000</td>\n",
       "      <td>11am – 11:30pm (Mon-Sun)</td>\n",
       "      <td>96</td>\n",
       "      <td>411</td>\n",
       "      <td>3.8</td>\n",
       "      <td>350.0</td>\n",
       "    </tr>\n",
       "    <tr>\n",
       "      <th>3</th>\n",
       "      <td>85</td>\n",
       "      <td>3.821393</td>\n",
       "      <td>9am – 10pm (Mon, Wed, Thu, Fri, Sat, Sun), 10:...</td>\n",
       "      <td>41</td>\n",
       "      <td>456</td>\n",
       "      <td>4.1</td>\n",
       "      <td>1445.0</td>\n",
       "    </tr>\n",
       "    <tr>\n",
       "      <th>4</th>\n",
       "      <td>74</td>\n",
       "      <td>4.000000</td>\n",
       "      <td>11am – 10pm (Mon-Sun)</td>\n",
       "      <td>78</td>\n",
       "      <td>300</td>\n",
       "      <td>3.8</td>\n",
       "      <td>23.0</td>\n",
       "    </tr>\n",
       "  </tbody>\n",
       "</table>\n",
       "</div>"
      ],
      "text/plain": [
       "   TITLE  CUISINES                                               TIME  CITY  \\\n",
       "0     23  3.600000                      12noon – 12midnight (Mon-Sun)   110   \n",
       "1     74  4.200000                            7am – 12:30AM (Mon-Sun)    96   \n",
       "2     23  3.800000                           11am – 11:30pm (Mon-Sun)    96   \n",
       "3     85  3.821393  9am – 10pm (Mon, Wed, Thu, Fri, Sat, Sun), 10:...    41   \n",
       "4     74  4.000000                              11am – 10pm (Mon-Sun)    78   \n",
       "\n",
       "   LOCALITY  RATING   VOTES  \n",
       "0       662     3.6   564.0  \n",
       "1       221     4.2    61.0  \n",
       "2       411     3.8   350.0  \n",
       "3       456     4.1  1445.0  \n",
       "4       300     3.8    23.0  "
      ]
     },
     "execution_count": 81,
     "metadata": {},
     "output_type": "execute_result"
    }
   ],
   "source": [
    "data_test.head()"
   ]
  },
  {
   "cell_type": "code",
   "execution_count": 82,
   "id": "559a69d6",
   "metadata": {},
   "outputs": [
    {
     "data": {
      "text/plain": [
       "TIME\n",
       "11am – 11pm (Mon-Sun)                                 1415\n",
       "12noon – 12midnight (Mon-Sun)                          469\n",
       "12noon – 11pm (Mon-Sun)                                407\n",
       "11am – 12midnight (Mon-Sun)                            310\n",
       "10am – 10pm (Mon-Sun)                                  221\n",
       "                                                      ... \n",
       "10am – 10pm (Mon-Fri),8:30am – 10pm (Sat-Sun)            1\n",
       "12noon – 3:30pm, 6pm – 10:30pm (Mon-Thu),12noon...       1\n",
       "12noon – 5:30pm, 7pm – 11pm (Mon-Sun)                    1\n",
       "12midnight – 11:45pm (Mon-Sun)                           1\n",
       "12noon – 1am (Mon-Fri),11am – 5pm, 7pm – 1am...          1\n",
       "Name: count, Length: 2689, dtype: int64"
      ]
     },
     "execution_count": 82,
     "metadata": {},
     "output_type": "execute_result"
    }
   ],
   "source": [
    "#Now the only column left for preprocessing is the time column\n",
    "data_train['TIME'].value_counts()"
   ]
  },
  {
   "cell_type": "code",
   "execution_count": 83,
   "id": "7c38cfe5",
   "metadata": {},
   "outputs": [],
   "source": [
    "data_train['START_TIME']=data_train['TIME'].str.split('–').str[0] \n",
    "data_test['START_TIME']=data_test['TIME'].str.split('–').str[0]"
   ]
  },
  {
   "cell_type": "code",
   "execution_count": 84,
   "id": "7f065186",
   "metadata": {},
   "outputs": [
    {
     "data": {
      "text/html": [
       "<div>\n",
       "<style scoped>\n",
       "    .dataframe tbody tr th:only-of-type {\n",
       "        vertical-align: middle;\n",
       "    }\n",
       "\n",
       "    .dataframe tbody tr th {\n",
       "        vertical-align: top;\n",
       "    }\n",
       "\n",
       "    .dataframe thead th {\n",
       "        text-align: right;\n",
       "    }\n",
       "</style>\n",
       "<table border=\"1\" class=\"dataframe\">\n",
       "  <thead>\n",
       "    <tr style=\"text-align: right;\">\n",
       "      <th></th>\n",
       "      <th>TITLE</th>\n",
       "      <th>CUISINES</th>\n",
       "      <th>TIME</th>\n",
       "      <th>CITY</th>\n",
       "      <th>LOCALITY</th>\n",
       "      <th>RATING</th>\n",
       "      <th>VOTES</th>\n",
       "      <th>COST</th>\n",
       "      <th>START_TIME</th>\n",
       "    </tr>\n",
       "  </thead>\n",
       "  <tbody>\n",
       "    <tr>\n",
       "      <th>0</th>\n",
       "      <td>31</td>\n",
       "      <td>3.600000</td>\n",
       "      <td>11am – 4pm, 7:30pm – 11:30pm (Mon-Sun)</td>\n",
       "      <td>320</td>\n",
       "      <td>285</td>\n",
       "      <td>3.6</td>\n",
       "      <td>49.0</td>\n",
       "      <td>1200</td>\n",
       "      <td>11am</td>\n",
       "    </tr>\n",
       "    <tr>\n",
       "      <th>1</th>\n",
       "      <td>33</td>\n",
       "      <td>4.200000</td>\n",
       "      <td>6pm – 11pm (Mon-Sun)</td>\n",
       "      <td>67</td>\n",
       "      <td>1046</td>\n",
       "      <td>4.2</td>\n",
       "      <td>30.0</td>\n",
       "      <td>1500</td>\n",
       "      <td>6pm</td>\n",
       "    </tr>\n",
       "    <tr>\n",
       "      <th>2</th>\n",
       "      <td>31</td>\n",
       "      <td>3.900000</td>\n",
       "      <td>11am – 3:30pm, 7pm – 11pm (Mon-Sun)</td>\n",
       "      <td>67</td>\n",
       "      <td>1101</td>\n",
       "      <td>3.8</td>\n",
       "      <td>221.0</td>\n",
       "      <td>800</td>\n",
       "      <td>11am</td>\n",
       "    </tr>\n",
       "    <tr>\n",
       "      <th>3</th>\n",
       "      <td>94</td>\n",
       "      <td>4.066667</td>\n",
       "      <td>11:30am – 1am (Mon-Sun)</td>\n",
       "      <td>222</td>\n",
       "      <td>136</td>\n",
       "      <td>4.1</td>\n",
       "      <td>24.0</td>\n",
       "      <td>800</td>\n",
       "      <td>11:30am</td>\n",
       "    </tr>\n",
       "    <tr>\n",
       "      <th>4</th>\n",
       "      <td>50</td>\n",
       "      <td>3.869905</td>\n",
       "      <td>11am – 1am (Mon-Sun)</td>\n",
       "      <td>222</td>\n",
       "      <td>620</td>\n",
       "      <td>3.8</td>\n",
       "      <td>165.0</td>\n",
       "      <td>300</td>\n",
       "      <td>11am</td>\n",
       "    </tr>\n",
       "    <tr>\n",
       "      <th>...</th>\n",
       "      <td>...</td>\n",
       "      <td>...</td>\n",
       "      <td>...</td>\n",
       "      <td>...</td>\n",
       "      <td>...</td>\n",
       "      <td>...</td>\n",
       "      <td>...</td>\n",
       "      <td>...</td>\n",
       "      <td>...</td>\n",
       "    </tr>\n",
       "    <tr>\n",
       "      <th>12685</th>\n",
       "      <td>94</td>\n",
       "      <td>3.800000</td>\n",
       "      <td>12noon – 12midnight (Mon, Tue, Wed, Thu, Sun)...</td>\n",
       "      <td>131</td>\n",
       "      <td>342</td>\n",
       "      <td>3.8</td>\n",
       "      <td>546.0</td>\n",
       "      <td>500</td>\n",
       "      <td>12noon</td>\n",
       "    </tr>\n",
       "    <tr>\n",
       "      <th>12686</th>\n",
       "      <td>33</td>\n",
       "      <td>4.300000</td>\n",
       "      <td>12noon – 1am (Mon-Fri),11am – 5pm, 7pm – 1am...</td>\n",
       "      <td>222</td>\n",
       "      <td>133</td>\n",
       "      <td>4.3</td>\n",
       "      <td>1214.0</td>\n",
       "      <td>1800</td>\n",
       "      <td>12noon</td>\n",
       "    </tr>\n",
       "    <tr>\n",
       "      <th>12687</th>\n",
       "      <td>71</td>\n",
       "      <td>4.000000</td>\n",
       "      <td>12noon – 12:30AM (Mon-Sun)</td>\n",
       "      <td>239</td>\n",
       "      <td>1342</td>\n",
       "      <td>4.0</td>\n",
       "      <td>608.0</td>\n",
       "      <td>1300</td>\n",
       "      <td>12noon</td>\n",
       "    </tr>\n",
       "    <tr>\n",
       "      <th>12688</th>\n",
       "      <td>31</td>\n",
       "      <td>3.800000</td>\n",
       "      <td>6am – 10:45pm (Mon-Sun)</td>\n",
       "      <td>67</td>\n",
       "      <td>631</td>\n",
       "      <td>3.5</td>\n",
       "      <td>32.0</td>\n",
       "      <td>400</td>\n",
       "      <td>6am</td>\n",
       "    </tr>\n",
       "    <tr>\n",
       "      <th>12689</th>\n",
       "      <td>31</td>\n",
       "      <td>3.616973</td>\n",
       "      <td>12:30pm – 11pm (Mon-Sun)</td>\n",
       "      <td>131</td>\n",
       "      <td>1333</td>\n",
       "      <td>3.4</td>\n",
       "      <td>677.0</td>\n",
       "      <td>600</td>\n",
       "      <td>12:30pm</td>\n",
       "    </tr>\n",
       "  </tbody>\n",
       "</table>\n",
       "<p>12690 rows × 9 columns</p>\n",
       "</div>"
      ],
      "text/plain": [
       "       TITLE  CUISINES                                              TIME  \\\n",
       "0         31  3.600000            11am – 4pm, 7:30pm – 11:30pm (Mon-Sun)   \n",
       "1         33  4.200000                              6pm – 11pm (Mon-Sun)   \n",
       "2         31  3.900000               11am – 3:30pm, 7pm – 11pm (Mon-Sun)   \n",
       "3         94  4.066667                           11:30am – 1am (Mon-Sun)   \n",
       "4         50  3.869905                              11am – 1am (Mon-Sun)   \n",
       "...      ...       ...                                               ...   \n",
       "12685     94  3.800000  12noon – 12midnight (Mon, Tue, Wed, Thu, Sun)...   \n",
       "12686     33  4.300000   12noon – 1am (Mon-Fri),11am – 5pm, 7pm – 1am...   \n",
       "12687     71  4.000000                        12noon – 12:30AM (Mon-Sun)   \n",
       "12688     31  3.800000                           6am – 10:45pm (Mon-Sun)   \n",
       "12689     31  3.616973                          12:30pm – 11pm (Mon-Sun)   \n",
       "\n",
       "       CITY  LOCALITY  RATING   VOTES  COST START_TIME  \n",
       "0       320       285     3.6    49.0  1200      11am   \n",
       "1        67      1046     4.2    30.0  1500       6pm   \n",
       "2        67      1101     3.8   221.0   800      11am   \n",
       "3       222       136     4.1    24.0   800   11:30am   \n",
       "4       222       620     3.8   165.0   300      11am   \n",
       "...     ...       ...     ...     ...   ...        ...  \n",
       "12685   131       342     3.8   546.0   500    12noon   \n",
       "12686   222       133     4.3  1214.0  1800    12noon   \n",
       "12687   239      1342     4.0   608.0  1300    12noon   \n",
       "12688    67       631     3.5    32.0   400       6am   \n",
       "12689   131      1333     3.4   677.0   600   12:30pm   \n",
       "\n",
       "[12690 rows x 9 columns]"
      ]
     },
     "execution_count": 84,
     "metadata": {},
     "output_type": "execute_result"
    }
   ],
   "source": [
    "data_train"
   ]
  },
  {
   "cell_type": "code",
   "execution_count": null,
   "id": "9176a94f",
   "metadata": {},
   "outputs": [],
   "source": [
    "#WE have divided the time in start and now we will have to divide it into end also\n"
   ]
  },
  {
   "cell_type": "code",
   "execution_count": 85,
   "id": "ebc0304b",
   "metadata": {},
   "outputs": [],
   "source": [
    "end=data_train['TIME'].str.split('–').str[1] "
   ]
  },
  {
   "cell_type": "code",
   "execution_count": 86,
   "id": "3cdab7d7",
   "metadata": {},
   "outputs": [],
   "source": [
    "END=end.str.split(',').str[0]"
   ]
  },
  {
   "cell_type": "code",
   "execution_count": 87,
   "id": "2cb80ef8",
   "metadata": {},
   "outputs": [],
   "source": [
    "data_train['END_TIME']=END.str.split('(').str[0]"
   ]
  },
  {
   "cell_type": "code",
   "execution_count": 88,
   "id": "85b5483f",
   "metadata": {},
   "outputs": [
    {
     "data": {
      "text/html": [
       "<div>\n",
       "<style scoped>\n",
       "    .dataframe tbody tr th:only-of-type {\n",
       "        vertical-align: middle;\n",
       "    }\n",
       "\n",
       "    .dataframe tbody tr th {\n",
       "        vertical-align: top;\n",
       "    }\n",
       "\n",
       "    .dataframe thead th {\n",
       "        text-align: right;\n",
       "    }\n",
       "</style>\n",
       "<table border=\"1\" class=\"dataframe\">\n",
       "  <thead>\n",
       "    <tr style=\"text-align: right;\">\n",
       "      <th></th>\n",
       "      <th>TITLE</th>\n",
       "      <th>CUISINES</th>\n",
       "      <th>TIME</th>\n",
       "      <th>CITY</th>\n",
       "      <th>LOCALITY</th>\n",
       "      <th>RATING</th>\n",
       "      <th>VOTES</th>\n",
       "      <th>COST</th>\n",
       "      <th>START_TIME</th>\n",
       "      <th>END_TIME</th>\n",
       "    </tr>\n",
       "  </thead>\n",
       "  <tbody>\n",
       "    <tr>\n",
       "      <th>0</th>\n",
       "      <td>31</td>\n",
       "      <td>3.600000</td>\n",
       "      <td>11am – 4pm, 7:30pm – 11:30pm (Mon-Sun)</td>\n",
       "      <td>320</td>\n",
       "      <td>285</td>\n",
       "      <td>3.6</td>\n",
       "      <td>49.0</td>\n",
       "      <td>1200</td>\n",
       "      <td>11am</td>\n",
       "      <td>4pm</td>\n",
       "    </tr>\n",
       "    <tr>\n",
       "      <th>1</th>\n",
       "      <td>33</td>\n",
       "      <td>4.200000</td>\n",
       "      <td>6pm – 11pm (Mon-Sun)</td>\n",
       "      <td>67</td>\n",
       "      <td>1046</td>\n",
       "      <td>4.2</td>\n",
       "      <td>30.0</td>\n",
       "      <td>1500</td>\n",
       "      <td>6pm</td>\n",
       "      <td>11pm</td>\n",
       "    </tr>\n",
       "    <tr>\n",
       "      <th>2</th>\n",
       "      <td>31</td>\n",
       "      <td>3.900000</td>\n",
       "      <td>11am – 3:30pm, 7pm – 11pm (Mon-Sun)</td>\n",
       "      <td>67</td>\n",
       "      <td>1101</td>\n",
       "      <td>3.8</td>\n",
       "      <td>221.0</td>\n",
       "      <td>800</td>\n",
       "      <td>11am</td>\n",
       "      <td>3:30pm</td>\n",
       "    </tr>\n",
       "    <tr>\n",
       "      <th>3</th>\n",
       "      <td>94</td>\n",
       "      <td>4.066667</td>\n",
       "      <td>11:30am – 1am (Mon-Sun)</td>\n",
       "      <td>222</td>\n",
       "      <td>136</td>\n",
       "      <td>4.1</td>\n",
       "      <td>24.0</td>\n",
       "      <td>800</td>\n",
       "      <td>11:30am</td>\n",
       "      <td>1am</td>\n",
       "    </tr>\n",
       "    <tr>\n",
       "      <th>4</th>\n",
       "      <td>50</td>\n",
       "      <td>3.869905</td>\n",
       "      <td>11am – 1am (Mon-Sun)</td>\n",
       "      <td>222</td>\n",
       "      <td>620</td>\n",
       "      <td>3.8</td>\n",
       "      <td>165.0</td>\n",
       "      <td>300</td>\n",
       "      <td>11am</td>\n",
       "      <td>1am</td>\n",
       "    </tr>\n",
       "  </tbody>\n",
       "</table>\n",
       "</div>"
      ],
      "text/plain": [
       "   TITLE  CUISINES                                    TIME  CITY  LOCALITY  \\\n",
       "0     31  3.600000  11am – 4pm, 7:30pm – 11:30pm (Mon-Sun)   320       285   \n",
       "1     33  4.200000                    6pm – 11pm (Mon-Sun)    67      1046   \n",
       "2     31  3.900000     11am – 3:30pm, 7pm – 11pm (Mon-Sun)    67      1101   \n",
       "3     94  4.066667                 11:30am – 1am (Mon-Sun)   222       136   \n",
       "4     50  3.869905                    11am – 1am (Mon-Sun)   222       620   \n",
       "\n",
       "   RATING  VOTES  COST START_TIME END_TIME  \n",
       "0     3.6   49.0  1200      11am       4pm  \n",
       "1     4.2   30.0  1500       6pm     11pm   \n",
       "2     3.8  221.0   800      11am    3:30pm  \n",
       "3     4.1   24.0   800   11:30am      1am   \n",
       "4     3.8  165.0   300      11am      1am   "
      ]
     },
     "execution_count": 88,
     "metadata": {},
     "output_type": "execute_result"
    }
   ],
   "source": [
    "data_train.head()"
   ]
  },
  {
   "cell_type": "code",
   "execution_count": 89,
   "id": "45b3de46",
   "metadata": {},
   "outputs": [
    {
     "data": {
      "text/html": [
       "<div>\n",
       "<style scoped>\n",
       "    .dataframe tbody tr th:only-of-type {\n",
       "        vertical-align: middle;\n",
       "    }\n",
       "\n",
       "    .dataframe tbody tr th {\n",
       "        vertical-align: top;\n",
       "    }\n",
       "\n",
       "    .dataframe thead th {\n",
       "        text-align: right;\n",
       "    }\n",
       "</style>\n",
       "<table border=\"1\" class=\"dataframe\">\n",
       "  <thead>\n",
       "    <tr style=\"text-align: right;\">\n",
       "      <th></th>\n",
       "      <th>TITLE</th>\n",
       "      <th>CUISINES</th>\n",
       "      <th>TIME</th>\n",
       "      <th>CITY</th>\n",
       "      <th>LOCALITY</th>\n",
       "      <th>RATING</th>\n",
       "      <th>VOTES</th>\n",
       "      <th>START_TIME</th>\n",
       "      <th>END_TIME</th>\n",
       "    </tr>\n",
       "  </thead>\n",
       "  <tbody>\n",
       "    <tr>\n",
       "      <th>0</th>\n",
       "      <td>23</td>\n",
       "      <td>3.600000</td>\n",
       "      <td>12noon – 12midnight (Mon-Sun)</td>\n",
       "      <td>110</td>\n",
       "      <td>662</td>\n",
       "      <td>3.6</td>\n",
       "      <td>564.0</td>\n",
       "      <td>12noon</td>\n",
       "      <td>12midnight</td>\n",
       "    </tr>\n",
       "    <tr>\n",
       "      <th>1</th>\n",
       "      <td>74</td>\n",
       "      <td>4.200000</td>\n",
       "      <td>7am – 12:30AM (Mon-Sun)</td>\n",
       "      <td>96</td>\n",
       "      <td>221</td>\n",
       "      <td>4.2</td>\n",
       "      <td>61.0</td>\n",
       "      <td>7am</td>\n",
       "      <td>12:30AM</td>\n",
       "    </tr>\n",
       "    <tr>\n",
       "      <th>2</th>\n",
       "      <td>23</td>\n",
       "      <td>3.800000</td>\n",
       "      <td>11am – 11:30pm (Mon-Sun)</td>\n",
       "      <td>96</td>\n",
       "      <td>411</td>\n",
       "      <td>3.8</td>\n",
       "      <td>350.0</td>\n",
       "      <td>11am</td>\n",
       "      <td>11:30pm</td>\n",
       "    </tr>\n",
       "    <tr>\n",
       "      <th>3</th>\n",
       "      <td>85</td>\n",
       "      <td>3.821393</td>\n",
       "      <td>9am – 10pm (Mon, Wed, Thu, Fri, Sat, Sun), 10:...</td>\n",
       "      <td>41</td>\n",
       "      <td>456</td>\n",
       "      <td>4.1</td>\n",
       "      <td>1445.0</td>\n",
       "      <td>9am</td>\n",
       "      <td>10pm</td>\n",
       "    </tr>\n",
       "    <tr>\n",
       "      <th>4</th>\n",
       "      <td>74</td>\n",
       "      <td>4.000000</td>\n",
       "      <td>11am – 10pm (Mon-Sun)</td>\n",
       "      <td>78</td>\n",
       "      <td>300</td>\n",
       "      <td>3.8</td>\n",
       "      <td>23.0</td>\n",
       "      <td>11am</td>\n",
       "      <td>10pm</td>\n",
       "    </tr>\n",
       "  </tbody>\n",
       "</table>\n",
       "</div>"
      ],
      "text/plain": [
       "   TITLE  CUISINES                                               TIME  CITY  \\\n",
       "0     23  3.600000                      12noon – 12midnight (Mon-Sun)   110   \n",
       "1     74  4.200000                            7am – 12:30AM (Mon-Sun)    96   \n",
       "2     23  3.800000                           11am – 11:30pm (Mon-Sun)    96   \n",
       "3     85  3.821393  9am – 10pm (Mon, Wed, Thu, Fri, Sat, Sun), 10:...    41   \n",
       "4     74  4.000000                              11am – 10pm (Mon-Sun)    78   \n",
       "\n",
       "   LOCALITY  RATING   VOTES START_TIME      END_TIME  \n",
       "0       662     3.6   564.0    12noon    12midnight   \n",
       "1       221     4.2    61.0       7am       12:30AM   \n",
       "2       411     3.8   350.0      11am       11:30pm   \n",
       "3       456     4.1  1445.0       9am          10pm   \n",
       "4       300     3.8    23.0      11am          10pm   "
      ]
     },
     "execution_count": 89,
     "metadata": {},
     "output_type": "execute_result"
    }
   ],
   "source": [
    "#Now doing the same for the test dataset\n",
    "end=data_test['TIME'].str.split('–').str[1] \n",
    "END=end.str.split(',').str[0]\n",
    "data_test['END_TIME']=END.str.split('(').str[0]\n",
    "data_test.head()"
   ]
  },
  {
   "cell_type": "code",
   "execution_count": 90,
   "id": "e7d0ea60",
   "metadata": {},
   "outputs": [],
   "source": [
    "end=data_test['TIME'].str.split('–').str[1] \n",
    "END=end.str.split(',').str[0]"
   ]
  },
  {
   "cell_type": "code",
   "execution_count": 91,
   "id": "8f648276",
   "metadata": {},
   "outputs": [],
   "source": [
    "data_test['OPENED_DAYS']=data_test['TIME'].str.split('–').str[1].str.split('(').str[1].str.split(')').str[0]"
   ]
  },
  {
   "cell_type": "code",
   "execution_count": 92,
   "id": "72e8a54b",
   "metadata": {},
   "outputs": [],
   "source": [
    "data_train['OPENED_DAYS']=data_train['TIME'].str.split('–').str[1].str.split('(').str[1].str.split(')').str[0]"
   ]
  },
  {
   "cell_type": "code",
   "execution_count": 93,
   "id": "8783d0e2",
   "metadata": {},
   "outputs": [],
   "source": [
    "#so finally we have concluded the encoding steps\n",
    "#We can now delete the time column from both of out datasets\n",
    "data_train.drop(columns='TIME',inplace=True)\n",
    "data_test.drop(columns='TIME',inplace=True)"
   ]
  },
  {
   "cell_type": "code",
   "execution_count": 94,
   "id": "b9dd74af",
   "metadata": {},
   "outputs": [
    {
     "data": {
      "text/html": [
       "<div>\n",
       "<style scoped>\n",
       "    .dataframe tbody tr th:only-of-type {\n",
       "        vertical-align: middle;\n",
       "    }\n",
       "\n",
       "    .dataframe tbody tr th {\n",
       "        vertical-align: top;\n",
       "    }\n",
       "\n",
       "    .dataframe thead th {\n",
       "        text-align: right;\n",
       "    }\n",
       "</style>\n",
       "<table border=\"1\" class=\"dataframe\">\n",
       "  <thead>\n",
       "    <tr style=\"text-align: right;\">\n",
       "      <th></th>\n",
       "      <th>TITLE</th>\n",
       "      <th>CUISINES</th>\n",
       "      <th>CITY</th>\n",
       "      <th>LOCALITY</th>\n",
       "      <th>RATING</th>\n",
       "      <th>VOTES</th>\n",
       "      <th>COST</th>\n",
       "      <th>START_TIME</th>\n",
       "      <th>END_TIME</th>\n",
       "      <th>OPENED_DAYS</th>\n",
       "    </tr>\n",
       "  </thead>\n",
       "  <tbody>\n",
       "    <tr>\n",
       "      <th>0</th>\n",
       "      <td>31</td>\n",
       "      <td>3.600000</td>\n",
       "      <td>320</td>\n",
       "      <td>285</td>\n",
       "      <td>3.6</td>\n",
       "      <td>49.0</td>\n",
       "      <td>1200</td>\n",
       "      <td>11am</td>\n",
       "      <td>4pm</td>\n",
       "      <td>NaN</td>\n",
       "    </tr>\n",
       "    <tr>\n",
       "      <th>1</th>\n",
       "      <td>33</td>\n",
       "      <td>4.200000</td>\n",
       "      <td>67</td>\n",
       "      <td>1046</td>\n",
       "      <td>4.2</td>\n",
       "      <td>30.0</td>\n",
       "      <td>1500</td>\n",
       "      <td>6pm</td>\n",
       "      <td>11pm</td>\n",
       "      <td>Mon-Sun</td>\n",
       "    </tr>\n",
       "    <tr>\n",
       "      <th>2</th>\n",
       "      <td>31</td>\n",
       "      <td>3.900000</td>\n",
       "      <td>67</td>\n",
       "      <td>1101</td>\n",
       "      <td>3.8</td>\n",
       "      <td>221.0</td>\n",
       "      <td>800</td>\n",
       "      <td>11am</td>\n",
       "      <td>3:30pm</td>\n",
       "      <td>NaN</td>\n",
       "    </tr>\n",
       "    <tr>\n",
       "      <th>3</th>\n",
       "      <td>94</td>\n",
       "      <td>4.066667</td>\n",
       "      <td>222</td>\n",
       "      <td>136</td>\n",
       "      <td>4.1</td>\n",
       "      <td>24.0</td>\n",
       "      <td>800</td>\n",
       "      <td>11:30am</td>\n",
       "      <td>1am</td>\n",
       "      <td>Mon-Sun</td>\n",
       "    </tr>\n",
       "    <tr>\n",
       "      <th>4</th>\n",
       "      <td>50</td>\n",
       "      <td>3.869905</td>\n",
       "      <td>222</td>\n",
       "      <td>620</td>\n",
       "      <td>3.8</td>\n",
       "      <td>165.0</td>\n",
       "      <td>300</td>\n",
       "      <td>11am</td>\n",
       "      <td>1am</td>\n",
       "      <td>Mon-Sun</td>\n",
       "    </tr>\n",
       "  </tbody>\n",
       "</table>\n",
       "</div>"
      ],
      "text/plain": [
       "   TITLE  CUISINES  CITY  LOCALITY  RATING  VOTES  COST START_TIME END_TIME  \\\n",
       "0     31  3.600000   320       285     3.6   49.0  1200      11am       4pm   \n",
       "1     33  4.200000    67      1046     4.2   30.0  1500       6pm     11pm    \n",
       "2     31  3.900000    67      1101     3.8  221.0   800      11am    3:30pm   \n",
       "3     94  4.066667   222       136     4.1   24.0   800   11:30am      1am    \n",
       "4     50  3.869905   222       620     3.8  165.0   300      11am      1am    \n",
       "\n",
       "  OPENED_DAYS  \n",
       "0         NaN  \n",
       "1     Mon-Sun  \n",
       "2         NaN  \n",
       "3     Mon-Sun  \n",
       "4     Mon-Sun  "
      ]
     },
     "execution_count": 94,
     "metadata": {},
     "output_type": "execute_result"
    }
   ],
   "source": [
    "data_train.head()"
   ]
  },
  {
   "cell_type": "code",
   "execution_count": 95,
   "id": "64e7be07",
   "metadata": {},
   "outputs": [
    {
     "data": {
      "text/plain": [
       "TITLE             0\n",
       "CUISINES          0\n",
       "CITY              0\n",
       "LOCALITY          0\n",
       "RATING            0\n",
       "VOTES             0\n",
       "COST              0\n",
       "START_TIME        0\n",
       "END_TIME        239\n",
       "OPENED_DAYS    2153\n",
       "dtype: int64"
      ]
     },
     "execution_count": 95,
     "metadata": {},
     "output_type": "execute_result"
    }
   ],
   "source": [
    "#now let us delete the null values\n",
    "data_train.isna().sum()"
   ]
  },
  {
   "cell_type": "code",
   "execution_count": 96,
   "id": "54b40063",
   "metadata": {},
   "outputs": [],
   "source": [
    "#There are nulls in the start and end time\n",
    "data_train['START_TIME']=data_train['START_TIME'].fillna(data_train['START_TIME'].mode()[0])"
   ]
  },
  {
   "cell_type": "code",
   "execution_count": 97,
   "id": "7fd4f039",
   "metadata": {},
   "outputs": [],
   "source": [
    "data_train['START_TIME']=data_train['START_TIME'].fillna(data_train['START_TIME'].mode()[0])"
   ]
  },
  {
   "cell_type": "code",
   "execution_count": 98,
   "id": "f098b9ad",
   "metadata": {},
   "outputs": [],
   "source": [
    "data_train['OPENED_DAYS']=data_train['OPENED_DAYS'].fillna(data_train['OPENED_DAYS'].mode()[0])\n",
    "data_test['OPENED_DAYS']=data_test['OPENED_DAYS'].fillna(data_test['OPENED_DAYS'].mode()[0])"
   ]
  },
  {
   "cell_type": "code",
   "execution_count": 99,
   "id": "37751014",
   "metadata": {},
   "outputs": [],
   "source": [
    "data_test['END_TIME']=data_test['END_TIME'].fillna(data_test['END_TIME'].mode()[0])\n",
    "data_train['END_TIME']=data_train['END_TIME'].fillna(data_train['END_TIME'].mode()[0])"
   ]
  },
  {
   "cell_type": "code",
   "execution_count": 100,
   "id": "e77b2228",
   "metadata": {},
   "outputs": [
    {
     "data": {
      "text/plain": [
       "TITLE          0\n",
       "CUISINES       0\n",
       "CITY           0\n",
       "LOCALITY       0\n",
       "RATING         0\n",
       "VOTES          0\n",
       "COST           0\n",
       "START_TIME     0\n",
       "END_TIME       0\n",
       "OPENED_DAYS    0\n",
       "dtype: int64"
      ]
     },
     "execution_count": 100,
     "metadata": {},
     "output_type": "execute_result"
    }
   ],
   "source": [
    "data_train.isna().sum()"
   ]
  },
  {
   "cell_type": "code",
   "execution_count": 101,
   "id": "13b6acf8",
   "metadata": {},
   "outputs": [
    {
     "data": {
      "text/plain": [
       "TITLE          0\n",
       "CUISINES       0\n",
       "CITY           0\n",
       "LOCALITY       0\n",
       "RATING         0\n",
       "VOTES          0\n",
       "START_TIME     0\n",
       "END_TIME       0\n",
       "OPENED_DAYS    0\n",
       "dtype: int64"
      ]
     },
     "execution_count": 101,
     "metadata": {},
     "output_type": "execute_result"
    }
   ],
   "source": [
    "data_test.isna().sum()"
   ]
  },
  {
   "cell_type": "code",
   "execution_count": 102,
   "id": "b8924087",
   "metadata": {},
   "outputs": [
    {
     "data": {
      "text/html": [
       "<div>\n",
       "<style scoped>\n",
       "    .dataframe tbody tr th:only-of-type {\n",
       "        vertical-align: middle;\n",
       "    }\n",
       "\n",
       "    .dataframe tbody tr th {\n",
       "        vertical-align: top;\n",
       "    }\n",
       "\n",
       "    .dataframe thead th {\n",
       "        text-align: right;\n",
       "    }\n",
       "</style>\n",
       "<table border=\"1\" class=\"dataframe\">\n",
       "  <thead>\n",
       "    <tr style=\"text-align: right;\">\n",
       "      <th></th>\n",
       "      <th>TITLE</th>\n",
       "      <th>CUISINES</th>\n",
       "      <th>CITY</th>\n",
       "      <th>LOCALITY</th>\n",
       "      <th>RATING</th>\n",
       "      <th>VOTES</th>\n",
       "      <th>COST</th>\n",
       "      <th>START_TIME</th>\n",
       "      <th>END_TIME</th>\n",
       "      <th>OPENED_DAYS</th>\n",
       "    </tr>\n",
       "  </thead>\n",
       "  <tbody>\n",
       "    <tr>\n",
       "      <th>0</th>\n",
       "      <td>31</td>\n",
       "      <td>3.600000</td>\n",
       "      <td>320</td>\n",
       "      <td>285</td>\n",
       "      <td>3.6</td>\n",
       "      <td>49.0</td>\n",
       "      <td>1200</td>\n",
       "      <td>11am</td>\n",
       "      <td>4pm</td>\n",
       "      <td>Mon-Sun</td>\n",
       "    </tr>\n",
       "    <tr>\n",
       "      <th>1</th>\n",
       "      <td>33</td>\n",
       "      <td>4.200000</td>\n",
       "      <td>67</td>\n",
       "      <td>1046</td>\n",
       "      <td>4.2</td>\n",
       "      <td>30.0</td>\n",
       "      <td>1500</td>\n",
       "      <td>6pm</td>\n",
       "      <td>11pm</td>\n",
       "      <td>Mon-Sun</td>\n",
       "    </tr>\n",
       "    <tr>\n",
       "      <th>2</th>\n",
       "      <td>31</td>\n",
       "      <td>3.900000</td>\n",
       "      <td>67</td>\n",
       "      <td>1101</td>\n",
       "      <td>3.8</td>\n",
       "      <td>221.0</td>\n",
       "      <td>800</td>\n",
       "      <td>11am</td>\n",
       "      <td>3:30pm</td>\n",
       "      <td>Mon-Sun</td>\n",
       "    </tr>\n",
       "    <tr>\n",
       "      <th>3</th>\n",
       "      <td>94</td>\n",
       "      <td>4.066667</td>\n",
       "      <td>222</td>\n",
       "      <td>136</td>\n",
       "      <td>4.1</td>\n",
       "      <td>24.0</td>\n",
       "      <td>800</td>\n",
       "      <td>11:30am</td>\n",
       "      <td>1am</td>\n",
       "      <td>Mon-Sun</td>\n",
       "    </tr>\n",
       "    <tr>\n",
       "      <th>4</th>\n",
       "      <td>50</td>\n",
       "      <td>3.869905</td>\n",
       "      <td>222</td>\n",
       "      <td>620</td>\n",
       "      <td>3.8</td>\n",
       "      <td>165.0</td>\n",
       "      <td>300</td>\n",
       "      <td>11am</td>\n",
       "      <td>1am</td>\n",
       "      <td>Mon-Sun</td>\n",
       "    </tr>\n",
       "  </tbody>\n",
       "</table>\n",
       "</div>"
      ],
      "text/plain": [
       "   TITLE  CUISINES  CITY  LOCALITY  RATING  VOTES  COST START_TIME END_TIME  \\\n",
       "0     31  3.600000   320       285     3.6   49.0  1200      11am       4pm   \n",
       "1     33  4.200000    67      1046     4.2   30.0  1500       6pm     11pm    \n",
       "2     31  3.900000    67      1101     3.8  221.0   800      11am    3:30pm   \n",
       "3     94  4.066667   222       136     4.1   24.0   800   11:30am      1am    \n",
       "4     50  3.869905   222       620     3.8  165.0   300      11am      1am    \n",
       "\n",
       "  OPENED_DAYS  \n",
       "0     Mon-Sun  \n",
       "1     Mon-Sun  \n",
       "2     Mon-Sun  \n",
       "3     Mon-Sun  \n",
       "4     Mon-Sun  "
      ]
     },
     "execution_count": 102,
     "metadata": {},
     "output_type": "execute_result"
    }
   ],
   "source": [
    "data_train.head()"
   ]
  },
  {
   "cell_type": "code",
   "execution_count": 292,
   "id": "8ffd37f7",
   "metadata": {},
   "outputs": [],
   "source": [
    "#some things are still left which are the encoding of the start end and the opened days"
   ]
  },
  {
   "cell_type": "code",
   "execution_count": 103,
   "id": "3807ee4c",
   "metadata": {},
   "outputs": [],
   "source": [
    "data_test['START_TIME']=lab_enc.fit_transform(data_test['START_TIME'])\n",
    "data_train['START_TIME']=lab_enc.fit_transform(data_train['START_TIME'])"
   ]
  },
  {
   "cell_type": "code",
   "execution_count": 104,
   "id": "a1ebd745",
   "metadata": {},
   "outputs": [],
   "source": [
    "data_test['END_TIME']=lab_enc.fit_transform(data_test['END_TIME'])\n",
    "data_train['END_TIME']=lab_enc.fit_transform(data_train['END_TIME'])"
   ]
  },
  {
   "cell_type": "code",
   "execution_count": 105,
   "id": "49ee1d96",
   "metadata": {},
   "outputs": [],
   "source": [
    "data_test['OPENED_DAYS']=lab_enc.fit_transform(data_test['OPENED_DAYS'])\n",
    "data_train['OPENED_DAYS']=lab_enc.fit_transform(data_train['OPENED_DAYS'])"
   ]
  },
  {
   "cell_type": "code",
   "execution_count": 106,
   "id": "a35ba081",
   "metadata": {},
   "outputs": [
    {
     "data": {
      "text/html": [
       "<div>\n",
       "<style scoped>\n",
       "    .dataframe tbody tr th:only-of-type {\n",
       "        vertical-align: middle;\n",
       "    }\n",
       "\n",
       "    .dataframe tbody tr th {\n",
       "        vertical-align: top;\n",
       "    }\n",
       "\n",
       "    .dataframe thead th {\n",
       "        text-align: right;\n",
       "    }\n",
       "</style>\n",
       "<table border=\"1\" class=\"dataframe\">\n",
       "  <thead>\n",
       "    <tr style=\"text-align: right;\">\n",
       "      <th></th>\n",
       "      <th>TITLE</th>\n",
       "      <th>CUISINES</th>\n",
       "      <th>CITY</th>\n",
       "      <th>LOCALITY</th>\n",
       "      <th>RATING</th>\n",
       "      <th>VOTES</th>\n",
       "      <th>COST</th>\n",
       "      <th>START_TIME</th>\n",
       "      <th>END_TIME</th>\n",
       "      <th>OPENED_DAYS</th>\n",
       "    </tr>\n",
       "  </thead>\n",
       "  <tbody>\n",
       "    <tr>\n",
       "      <th>0</th>\n",
       "      <td>31</td>\n",
       "      <td>3.600000</td>\n",
       "      <td>320</td>\n",
       "      <td>285</td>\n",
       "      <td>3.6</td>\n",
       "      <td>49.0</td>\n",
       "      <td>1200</td>\n",
       "      <td>23</td>\n",
       "      <td>108</td>\n",
       "      <td>43</td>\n",
       "    </tr>\n",
       "    <tr>\n",
       "      <th>1</th>\n",
       "      <td>33</td>\n",
       "      <td>4.200000</td>\n",
       "      <td>67</td>\n",
       "      <td>1046</td>\n",
       "      <td>4.2</td>\n",
       "      <td>30.0</td>\n",
       "      <td>1500</td>\n",
       "      <td>64</td>\n",
       "      <td>42</td>\n",
       "      <td>43</td>\n",
       "    </tr>\n",
       "    <tr>\n",
       "      <th>2</th>\n",
       "      <td>31</td>\n",
       "      <td>3.900000</td>\n",
       "      <td>67</td>\n",
       "      <td>1101</td>\n",
       "      <td>3.8</td>\n",
       "      <td>221.0</td>\n",
       "      <td>800</td>\n",
       "      <td>23</td>\n",
       "      <td>90</td>\n",
       "      <td>43</td>\n",
       "    </tr>\n",
       "    <tr>\n",
       "      <th>3</th>\n",
       "      <td>94</td>\n",
       "      <td>4.066667</td>\n",
       "      <td>222</td>\n",
       "      <td>136</td>\n",
       "      <td>4.1</td>\n",
       "      <td>24.0</td>\n",
       "      <td>800</td>\n",
       "      <td>16</td>\n",
       "      <td>65</td>\n",
       "      <td>43</td>\n",
       "    </tr>\n",
       "    <tr>\n",
       "      <th>4</th>\n",
       "      <td>50</td>\n",
       "      <td>3.869905</td>\n",
       "      <td>222</td>\n",
       "      <td>620</td>\n",
       "      <td>3.8</td>\n",
       "      <td>165.0</td>\n",
       "      <td>300</td>\n",
       "      <td>23</td>\n",
       "      <td>65</td>\n",
       "      <td>43</td>\n",
       "    </tr>\n",
       "  </tbody>\n",
       "</table>\n",
       "</div>"
      ],
      "text/plain": [
       "   TITLE  CUISINES  CITY  LOCALITY  RATING  VOTES  COST  START_TIME  END_TIME  \\\n",
       "0     31  3.600000   320       285     3.6   49.0  1200          23       108   \n",
       "1     33  4.200000    67      1046     4.2   30.0  1500          64        42   \n",
       "2     31  3.900000    67      1101     3.8  221.0   800          23        90   \n",
       "3     94  4.066667   222       136     4.1   24.0   800          16        65   \n",
       "4     50  3.869905   222       620     3.8  165.0   300          23        65   \n",
       "\n",
       "   OPENED_DAYS  \n",
       "0           43  \n",
       "1           43  \n",
       "2           43  \n",
       "3           43  \n",
       "4           43  "
      ]
     },
     "execution_count": 106,
     "metadata": {},
     "output_type": "execute_result"
    }
   ],
   "source": [
    "data_train.head()"
   ]
  },
  {
   "cell_type": "code",
   "execution_count": 107,
   "id": "dc174c3d",
   "metadata": {},
   "outputs": [
    {
     "data": {
      "text/html": [
       "<div>\n",
       "<style scoped>\n",
       "    .dataframe tbody tr th:only-of-type {\n",
       "        vertical-align: middle;\n",
       "    }\n",
       "\n",
       "    .dataframe tbody tr th {\n",
       "        vertical-align: top;\n",
       "    }\n",
       "\n",
       "    .dataframe thead th {\n",
       "        text-align: right;\n",
       "    }\n",
       "</style>\n",
       "<table border=\"1\" class=\"dataframe\">\n",
       "  <thead>\n",
       "    <tr style=\"text-align: right;\">\n",
       "      <th></th>\n",
       "      <th>TITLE</th>\n",
       "      <th>CUISINES</th>\n",
       "      <th>CITY</th>\n",
       "      <th>LOCALITY</th>\n",
       "      <th>RATING</th>\n",
       "      <th>VOTES</th>\n",
       "      <th>START_TIME</th>\n",
       "      <th>END_TIME</th>\n",
       "      <th>OPENED_DAYS</th>\n",
       "    </tr>\n",
       "  </thead>\n",
       "  <tbody>\n",
       "    <tr>\n",
       "      <th>0</th>\n",
       "      <td>23</td>\n",
       "      <td>3.600000</td>\n",
       "      <td>110</td>\n",
       "      <td>662</td>\n",
       "      <td>3.6</td>\n",
       "      <td>564.0</td>\n",
       "      <td>15</td>\n",
       "      <td>38</td>\n",
       "      <td>30</td>\n",
       "    </tr>\n",
       "    <tr>\n",
       "      <th>1</th>\n",
       "      <td>74</td>\n",
       "      <td>4.200000</td>\n",
       "      <td>96</td>\n",
       "      <td>221</td>\n",
       "      <td>4.2</td>\n",
       "      <td>61.0</td>\n",
       "      <td>44</td>\n",
       "      <td>35</td>\n",
       "      <td>30</td>\n",
       "    </tr>\n",
       "    <tr>\n",
       "      <th>2</th>\n",
       "      <td>23</td>\n",
       "      <td>3.800000</td>\n",
       "      <td>96</td>\n",
       "      <td>411</td>\n",
       "      <td>3.8</td>\n",
       "      <td>350.0</td>\n",
       "      <td>10</td>\n",
       "      <td>20</td>\n",
       "      <td>30</td>\n",
       "    </tr>\n",
       "    <tr>\n",
       "      <th>3</th>\n",
       "      <td>85</td>\n",
       "      <td>3.821393</td>\n",
       "      <td>41</td>\n",
       "      <td>456</td>\n",
       "      <td>4.1</td>\n",
       "      <td>1445.0</td>\n",
       "      <td>53</td>\n",
       "      <td>10</td>\n",
       "      <td>26</td>\n",
       "    </tr>\n",
       "    <tr>\n",
       "      <th>4</th>\n",
       "      <td>74</td>\n",
       "      <td>4.000000</td>\n",
       "      <td>78</td>\n",
       "      <td>300</td>\n",
       "      <td>3.8</td>\n",
       "      <td>23.0</td>\n",
       "      <td>10</td>\n",
       "      <td>10</td>\n",
       "      <td>30</td>\n",
       "    </tr>\n",
       "  </tbody>\n",
       "</table>\n",
       "</div>"
      ],
      "text/plain": [
       "   TITLE  CUISINES  CITY  LOCALITY  RATING   VOTES  START_TIME  END_TIME  \\\n",
       "0     23  3.600000   110       662     3.6   564.0          15        38   \n",
       "1     74  4.200000    96       221     4.2    61.0          44        35   \n",
       "2     23  3.800000    96       411     3.8   350.0          10        20   \n",
       "3     85  3.821393    41       456     4.1  1445.0          53        10   \n",
       "4     74  4.000000    78       300     3.8    23.0          10        10   \n",
       "\n",
       "   OPENED_DAYS  \n",
       "0           30  \n",
       "1           30  \n",
       "2           30  \n",
       "3           26  \n",
       "4           30  "
      ]
     },
     "execution_count": 107,
     "metadata": {},
     "output_type": "execute_result"
    }
   ],
   "source": [
    "data_test.head()"
   ]
  },
  {
   "cell_type": "code",
   "execution_count": 308,
   "id": "abb5fa4a",
   "metadata": {},
   "outputs": [],
   "source": [
    "#so finally all the preprocessing steps are over"
   ]
  },
  {
   "cell_type": "code",
   "execution_count": 309,
   "id": "06f7cfcf",
   "metadata": {},
   "outputs": [],
   "source": [
    "#finally all the preprocessing completed let us deep dive into other process"
   ]
  },
  {
   "cell_type": "code",
   "execution_count": 108,
   "id": "fedb7ee5",
   "metadata": {},
   "outputs": [
    {
     "data": {
      "image/png": "[encoded data removed]",
      "text/plain": [
       "<Figure size 1500x600 with 10 Axes>"
      ]
     },
     "metadata": {},
     "output_type": "display_data"
    }
   ],
   "source": [
    "#visualigation of the dataset\n",
    "plt.figure(figsize=(15,6))\n",
    "plotnumber=1\n",
    "for i in data_train:\n",
    "    plt.subplot(5,2,plotnumber)\n",
    "    sns.distplot(data_train[i])\n",
    "    plt.xlabel(i)\n",
    "    plotnumber+=1\n",
    "plt.show()"
   ]
  },
  {
   "cell_type": "code",
   "execution_count": 109,
   "id": "64cd2993",
   "metadata": {},
   "outputs": [
    {
     "data": {
      "image/png": "[encoded data removed]",
      "text/plain": [
       "<Figure size 1500x600 with 10 Axes>"
      ]
     },
     "metadata": {},
     "output_type": "display_data"
    }
   ],
   "source": [
    "#let us plot the boxplot to see other things and outliers\n",
    "#visualigation of the dataset\n",
    "plt.figure(figsize=(15,6))\n",
    "plotnumber=1\n",
    "for i in data_train:\n",
    "    plt.subplot(2,5,plotnumber)\n",
    "    sns.boxplot(data_train[i])\n",
    "    plt.xlabel(i)\n",
    "    plotnumber+=1\n",
    "plt.show()"
   ]
  },
  {
   "cell_type": "code",
   "execution_count": 110,
   "id": "8a9de8ea",
   "metadata": {},
   "outputs": [],
   "source": [
    "#there are ouliers and we are only concerned about the continous data so we will use just the rating and the votes to remove\n",
    "from scipy.stats import zscore\n",
    "#the continou columns are only two which are the votes and the rating apart from the cost which is the label"
   ]
  },
  {
   "cell_type": "code",
   "execution_count": 111,
   "id": "f9b3ea3e",
   "metadata": {},
   "outputs": [],
   "source": [
    "continous_columns=['RATING', 'VOTES']"
   ]
  },
  {
   "cell_type": "code",
   "execution_count": 112,
   "id": "5845bc73",
   "metadata": {},
   "outputs": [],
   "source": [
    "Zscore=np.abs(zscore(data_train[continous_columns]))\n",
    "Zscore_test=np.abs(zscore(data_test[continous_columns]))"
   ]
  },
  {
   "cell_type": "code",
   "execution_count": 113,
   "id": "46a1fd60",
   "metadata": {},
   "outputs": [],
   "source": [
    "index=np.where(Zscore>3)\n",
    "index_test=np.where(Zscore>3) #the indexes of the test and train dataset "
   ]
  },
  {
   "cell_type": "code",
   "execution_count": 114,
   "id": "f6682749",
   "metadata": {},
   "outputs": [],
   "source": [
    "data_train.drop(index=index[0],inplace=True)"
   ]
  },
  {
   "cell_type": "code",
   "execution_count": 115,
   "id": "20f52fb1",
   "metadata": {},
   "outputs": [],
   "source": [
    "data_train=data_train.reset_index(drop=True)"
   ]
  },
  {
   "cell_type": "code",
   "execution_count": 117,
   "id": "3560c024",
   "metadata": {},
   "outputs": [],
   "source": [
    "Zscore_test=np.abs(zscore(data_test[continous_columns]))"
   ]
  },
  {
   "cell_type": "code",
   "execution_count": 118,
   "id": "8990ea74",
   "metadata": {},
   "outputs": [],
   "source": [
    "index_test=np.where(Zscore_test>3)"
   ]
  },
  {
   "cell_type": "code",
   "execution_count": 119,
   "id": "e039af60",
   "metadata": {},
   "outputs": [],
   "source": [
    "data_test.drop(index=index_test[0],inplace=True)"
   ]
  },
  {
   "cell_type": "code",
   "execution_count": 120,
   "id": "2e89ff77",
   "metadata": {},
   "outputs": [],
   "source": [
    "data_test.reset_index(drop=True,inplace=True)"
   ]
  },
  {
   "cell_type": "code",
   "execution_count": 121,
   "id": "9dac8373",
   "metadata": {},
   "outputs": [],
   "source": [
    "#Hence we have succesfully completed all the  outliers detection\n",
    "#Now let us compare the data feature relation"
   ]
  },
  {
   "cell_type": "code",
   "execution_count": 122,
   "id": "190b7444",
   "metadata": {},
   "outputs": [
    {
     "data": {
      "text/html": [
       "<div>\n",
       "<style scoped>\n",
       "    .dataframe tbody tr th:only-of-type {\n",
       "        vertical-align: middle;\n",
       "    }\n",
       "\n",
       "    .dataframe tbody tr th {\n",
       "        vertical-align: top;\n",
       "    }\n",
       "\n",
       "    .dataframe thead th {\n",
       "        text-align: right;\n",
       "    }\n",
       "</style>\n",
       "<table border=\"1\" class=\"dataframe\">\n",
       "  <thead>\n",
       "    <tr style=\"text-align: right;\">\n",
       "      <th></th>\n",
       "      <th>TITLE</th>\n",
       "      <th>CUISINES</th>\n",
       "      <th>CITY</th>\n",
       "      <th>LOCALITY</th>\n",
       "      <th>RATING</th>\n",
       "      <th>VOTES</th>\n",
       "      <th>COST</th>\n",
       "      <th>START_TIME</th>\n",
       "      <th>END_TIME</th>\n",
       "      <th>OPENED_DAYS</th>\n",
       "    </tr>\n",
       "  </thead>\n",
       "  <tbody>\n",
       "    <tr>\n",
       "      <th>count</th>\n",
       "      <td>12422.000000</td>\n",
       "      <td>12422.000000</td>\n",
       "      <td>12422.000000</td>\n",
       "      <td>12422.000000</td>\n",
       "      <td>12422.000000</td>\n",
       "      <td>12422.000000</td>\n",
       "      <td>12422.00000</td>\n",
       "      <td>12422.000000</td>\n",
       "      <td>12422.000000</td>\n",
       "      <td>12422.000000</td>\n",
       "    </tr>\n",
       "    <tr>\n",
       "      <th>mean</th>\n",
       "      <td>61.334165</td>\n",
       "      <td>3.781782</td>\n",
       "      <td>142.210031</td>\n",
       "      <td>661.229834</td>\n",
       "      <td>3.784566</td>\n",
       "      <td>349.374928</td>\n",
       "      <td>646.18427</td>\n",
       "      <td>40.140155</td>\n",
       "      <td>53.459829</td>\n",
       "      <td>42.173644</td>\n",
       "    </tr>\n",
       "    <tr>\n",
       "      <th>std</th>\n",
       "      <td>34.745783</td>\n",
       "      <td>0.255687</td>\n",
       "      <td>83.815357</td>\n",
       "      <td>404.418502</td>\n",
       "      <td>0.385307</td>\n",
       "      <td>439.401386</td>\n",
       "      <td>623.22395</td>\n",
       "      <td>24.326929</td>\n",
       "      <td>33.658554</td>\n",
       "      <td>5.512276</td>\n",
       "    </tr>\n",
       "    <tr>\n",
       "      <th>min</th>\n",
       "      <td>0.000000</td>\n",
       "      <td>2.600000</td>\n",
       "      <td>0.000000</td>\n",
       "      <td>0.000000</td>\n",
       "      <td>2.600000</td>\n",
       "      <td>4.000000</td>\n",
       "      <td>20.00000</td>\n",
       "      <td>0.000000</td>\n",
       "      <td>0.000000</td>\n",
       "      <td>0.000000</td>\n",
       "    </tr>\n",
       "    <tr>\n",
       "      <th>25%</th>\n",
       "      <td>31.000000</td>\n",
       "      <td>3.625871</td>\n",
       "      <td>67.000000</td>\n",
       "      <td>337.000000</td>\n",
       "      <td>3.600000</td>\n",
       "      <td>62.000000</td>\n",
       "      <td>300.00000</td>\n",
       "      <td>23.000000</td>\n",
       "      <td>27.000000</td>\n",
       "      <td>43.000000</td>\n",
       "    </tr>\n",
       "    <tr>\n",
       "      <th>50%</th>\n",
       "      <td>60.000000</td>\n",
       "      <td>3.747684</td>\n",
       "      <td>131.000000</td>\n",
       "      <td>590.000000</td>\n",
       "      <td>3.800000</td>\n",
       "      <td>195.000000</td>\n",
       "      <td>450.00000</td>\n",
       "      <td>34.000000</td>\n",
       "      <td>42.000000</td>\n",
       "      <td>43.000000</td>\n",
       "    </tr>\n",
       "    <tr>\n",
       "      <th>75%</th>\n",
       "      <td>94.000000</td>\n",
       "      <td>3.900000</td>\n",
       "      <td>222.000000</td>\n",
       "      <td>1014.750000</td>\n",
       "      <td>4.000000</td>\n",
       "      <td>415.668901</td>\n",
       "      <td>750.00000</td>\n",
       "      <td>63.000000</td>\n",
       "      <td>65.000000</td>\n",
       "      <td>43.000000</td>\n",
       "    </tr>\n",
       "    <tr>\n",
       "      <th>max</th>\n",
       "      <td>112.000000</td>\n",
       "      <td>4.900000</td>\n",
       "      <td>358.000000</td>\n",
       "      <td>1416.000000</td>\n",
       "      <td>4.900000</td>\n",
       "      <td>2811.000000</td>\n",
       "      <td>14000.00000</td>\n",
       "      <td>138.000000</td>\n",
       "      <td>140.000000</td>\n",
       "      <td>63.000000</td>\n",
       "    </tr>\n",
       "  </tbody>\n",
       "</table>\n",
       "</div>"
      ],
      "text/plain": [
       "              TITLE      CUISINES          CITY      LOCALITY        RATING  \\\n",
       "count  12422.000000  12422.000000  12422.000000  12422.000000  12422.000000   \n",
       "mean      61.334165      3.781782    142.210031    661.229834      3.784566   \n",
       "std       34.745783      0.255687     83.815357    404.418502      0.385307   \n",
       "min        0.000000      2.600000      0.000000      0.000000      2.600000   \n",
       "25%       31.000000      3.625871     67.000000    337.000000      3.600000   \n",
       "50%       60.000000      3.747684    131.000000    590.000000      3.800000   \n",
       "75%       94.000000      3.900000    222.000000   1014.750000      4.000000   \n",
       "max      112.000000      4.900000    358.000000   1416.000000      4.900000   \n",
       "\n",
       "              VOTES         COST    START_TIME      END_TIME   OPENED_DAYS  \n",
       "count  12422.000000  12422.00000  12422.000000  12422.000000  12422.000000  \n",
       "mean     349.374928    646.18427     40.140155     53.459829     42.173644  \n",
       "std      439.401386    623.22395     24.326929     33.658554      5.512276  \n",
       "min        4.000000     20.00000      0.000000      0.000000      0.000000  \n",
       "25%       62.000000    300.00000     23.000000     27.000000     43.000000  \n",
       "50%      195.000000    450.00000     34.000000     42.000000     43.000000  \n",
       "75%      415.668901    750.00000     63.000000     65.000000     43.000000  \n",
       "max     2811.000000  14000.00000    138.000000    140.000000     63.000000  "
      ]
     },
     "execution_count": 122,
     "metadata": {},
     "output_type": "execute_result"
    }
   ],
   "source": [
    "data_train.describe()"
   ]
  },
  {
   "cell_type": "code",
   "execution_count": 123,
   "id": "5befe9d1",
   "metadata": {},
   "outputs": [],
   "source": [
    "corr=data_train.corr()"
   ]
  },
  {
   "cell_type": "code",
   "execution_count": 124,
   "id": "9565159e",
   "metadata": {},
   "outputs": [
    {
     "data": {
      "text/plain": [
       "<Axes: >"
      ]
     },
     "execution_count": 124,
     "metadata": {},
     "output_type": "execute_result"
    },
    {
     "data": {
      "image/png": "[encoded data removed]",
      "text/plain": [
       "<Figure size 3000x1000 with 2 Axes>"
      ]
     },
     "metadata": {},
     "output_type": "display_data"
    }
   ],
   "source": [
    "plt.figure(figsize=(30,10))\n",
    "sns.heatmap(corr,annot=True,linewidths=0.1)"
   ]
  },
  {
   "cell_type": "code",
   "execution_count": 125,
   "id": "eea403c6",
   "metadata": {},
   "outputs": [
    {
     "data": {
      "image/png": "[encoded data removed]",
      "text/plain": [
       "<Figure size 640x480 with 1 Axes>"
      ]
     },
     "metadata": {},
     "output_type": "display_data"
    }
   ],
   "source": [
    "#we were concerned about the cuisines and the the rating being coorelated which we can see here\n",
    "#now let us plot a scatte plot to see\n",
    "plt.scatter(x='CUISINES',y='RATING',data=data_train)\n",
    "plt.xlabel('CUISINES')\n",
    "plt.ylabel('RATING')\n",
    "plt.show()"
   ]
  },
  {
   "cell_type": "code",
   "execution_count": 126,
   "id": "4196ccee",
   "metadata": {},
   "outputs": [],
   "source": [
    "#There is a relation but not that much that we should delete this"
   ]
  },
  {
   "cell_type": "code",
   "execution_count": 127,
   "id": "bffe5579",
   "metadata": {},
   "outputs": [
    {
     "data": {
      "text/plain": [
       "COST           1.000000\n",
       "CUISINES       0.362886\n",
       "RATING         0.317812\n",
       "VOTES          0.303430\n",
       "END_TIME       0.063669\n",
       "CITY           0.044333\n",
       "OPENED_DAYS   -0.003435\n",
       "LOCALITY      -0.017664\n",
       "START_TIME    -0.019902\n",
       "TITLE         -0.264775\n",
       "Name: COST, dtype: float64"
      ]
     },
     "execution_count": 127,
     "metadata": {},
     "output_type": "execute_result"
    }
   ],
   "source": [
    "corr['COST'].sort_values(ascending=False)\n",
    "#all the values are very much related to the label"
   ]
  },
  {
   "cell_type": "code",
   "execution_count": 128,
   "id": "ed6a8723",
   "metadata": {},
   "outputs": [],
   "source": [
    "#dividing the dataset into feature and label\n",
    "x=data_train.drop(columns='COST')\n",
    "y=data_train['COST']"
   ]
  },
  {
   "cell_type": "code",
   "execution_count": 129,
   "id": "abbeedf0",
   "metadata": {},
   "outputs": [],
   "source": [
    "#Apply standardscaler on the data to standardize the feature\n",
    "from sklearn.preprocessing import StandardScaler\n",
    "scaler=StandardScaler()\n",
    "x_scaled=scaler.fit_transform(x)"
   ]
  },
  {
   "cell_type": "code",
   "execution_count": 130,
   "id": "5011db14",
   "metadata": {},
   "outputs": [
    {
     "data": {
      "text/html": [
       "<div>\n",
       "<style scoped>\n",
       "    .dataframe tbody tr th:only-of-type {\n",
       "        vertical-align: middle;\n",
       "    }\n",
       "\n",
       "    .dataframe tbody tr th {\n",
       "        vertical-align: top;\n",
       "    }\n",
       "\n",
       "    .dataframe thead th {\n",
       "        text-align: right;\n",
       "    }\n",
       "</style>\n",
       "<table border=\"1\" class=\"dataframe\">\n",
       "  <thead>\n",
       "    <tr style=\"text-align: right;\">\n",
       "      <th></th>\n",
       "      <th>TITLE</th>\n",
       "      <th>CUISINES</th>\n",
       "      <th>CITY</th>\n",
       "      <th>LOCALITY</th>\n",
       "      <th>RATING</th>\n",
       "      <th>VOTES</th>\n",
       "      <th>START_TIME</th>\n",
       "      <th>END_TIME</th>\n",
       "      <th>OPENED_DAYS</th>\n",
       "    </tr>\n",
       "  </thead>\n",
       "  <tbody>\n",
       "    <tr>\n",
       "      <th>0</th>\n",
       "      <td>-0.873067</td>\n",
       "      <td>-0.710985</td>\n",
       "      <td>2.121295</td>\n",
       "      <td>-0.930336</td>\n",
       "      <td>-0.479031</td>\n",
       "      <td>-0.683628</td>\n",
       "      <td>-0.704604</td>\n",
       "      <td>1.620461</td>\n",
       "      <td>0.149918</td>\n",
       "    </tr>\n",
       "    <tr>\n",
       "      <th>1</th>\n",
       "      <td>-0.815503</td>\n",
       "      <td>1.635731</td>\n",
       "      <td>-0.897366</td>\n",
       "      <td>0.951454</td>\n",
       "      <td>1.078233</td>\n",
       "      <td>-0.726870</td>\n",
       "      <td>0.980839</td>\n",
       "      <td>-0.340487</td>\n",
       "      <td>0.149918</td>\n",
       "    </tr>\n",
       "    <tr>\n",
       "      <th>2</th>\n",
       "      <td>-0.873067</td>\n",
       "      <td>0.462373</td>\n",
       "      <td>-0.897366</td>\n",
       "      <td>1.087457</td>\n",
       "      <td>0.040057</td>\n",
       "      <td>-0.292170</td>\n",
       "      <td>-0.704604</td>\n",
       "      <td>1.085657</td>\n",
       "      <td>0.149918</td>\n",
       "    </tr>\n",
       "    <tr>\n",
       "      <th>3</th>\n",
       "      <td>0.940176</td>\n",
       "      <td>1.114238</td>\n",
       "      <td>0.952011</td>\n",
       "      <td>-1.298781</td>\n",
       "      <td>0.818689</td>\n",
       "      <td>-0.740526</td>\n",
       "      <td>-0.992362</td>\n",
       "      <td>0.342874</td>\n",
       "      <td>0.149918</td>\n",
       "    </tr>\n",
       "    <tr>\n",
       "      <th>4</th>\n",
       "      <td>-0.326216</td>\n",
       "      <td>0.344667</td>\n",
       "      <td>0.952011</td>\n",
       "      <td>-0.101953</td>\n",
       "      <td>0.040057</td>\n",
       "      <td>-0.419622</td>\n",
       "      <td>-0.704604</td>\n",
       "      <td>0.342874</td>\n",
       "      <td>0.149918</td>\n",
       "    </tr>\n",
       "    <tr>\n",
       "      <th>...</th>\n",
       "      <td>...</td>\n",
       "      <td>...</td>\n",
       "      <td>...</td>\n",
       "      <td>...</td>\n",
       "      <td>...</td>\n",
       "      <td>...</td>\n",
       "      <td>...</td>\n",
       "      <td>...</td>\n",
       "      <td>...</td>\n",
       "    </tr>\n",
       "    <tr>\n",
       "      <th>12417</th>\n",
       "      <td>0.940176</td>\n",
       "      <td>0.071254</td>\n",
       "      <td>-0.133752</td>\n",
       "      <td>-0.789387</td>\n",
       "      <td>0.040057</td>\n",
       "      <td>0.447502</td>\n",
       "      <td>-0.252412</td>\n",
       "      <td>0.045761</td>\n",
       "      <td>-2.208549</td>\n",
       "    </tr>\n",
       "    <tr>\n",
       "      <th>12418</th>\n",
       "      <td>-0.815503</td>\n",
       "      <td>2.026850</td>\n",
       "      <td>0.952011</td>\n",
       "      <td>-1.306199</td>\n",
       "      <td>1.337777</td>\n",
       "      <td>1.967813</td>\n",
       "      <td>-0.252412</td>\n",
       "      <td>0.342874</td>\n",
       "      <td>-0.212923</td>\n",
       "    </tr>\n",
       "    <tr>\n",
       "      <th>12419</th>\n",
       "      <td>0.278198</td>\n",
       "      <td>0.853492</td>\n",
       "      <td>1.154846</td>\n",
       "      <td>1.683399</td>\n",
       "      <td>0.559145</td>\n",
       "      <td>0.588609</td>\n",
       "      <td>-0.252412</td>\n",
       "      <td>-0.251353</td>\n",
       "      <td>0.149918</td>\n",
       "    </tr>\n",
       "    <tr>\n",
       "      <th>12420</th>\n",
       "      <td>-0.873067</td>\n",
       "      <td>0.071254</td>\n",
       "      <td>-0.897366</td>\n",
       "      <td>-0.074752</td>\n",
       "      <td>-0.738575</td>\n",
       "      <td>-0.722318</td>\n",
       "      <td>0.939731</td>\n",
       "      <td>-1.320960</td>\n",
       "      <td>0.149918</td>\n",
       "    </tr>\n",
       "    <tr>\n",
       "      <th>12421</th>\n",
       "      <td>-0.873067</td>\n",
       "      <td>-0.644600</td>\n",
       "      <td>-0.133752</td>\n",
       "      <td>1.661144</td>\n",
       "      <td>-0.998119</td>\n",
       "      <td>0.745647</td>\n",
       "      <td>-0.457954</td>\n",
       "      <td>-0.340487</td>\n",
       "      <td>0.149918</td>\n",
       "    </tr>\n",
       "  </tbody>\n",
       "</table>\n",
       "<p>12422 rows × 9 columns</p>\n",
       "</div>"
      ],
      "text/plain": [
       "          TITLE  CUISINES      CITY  LOCALITY    RATING     VOTES  START_TIME  \\\n",
       "0     -0.873067 -0.710985  2.121295 -0.930336 -0.479031 -0.683628   -0.704604   \n",
       "1     -0.815503  1.635731 -0.897366  0.951454  1.078233 -0.726870    0.980839   \n",
       "2     -0.873067  0.462373 -0.897366  1.087457  0.040057 -0.292170   -0.704604   \n",
       "3      0.940176  1.114238  0.952011 -1.298781  0.818689 -0.740526   -0.992362   \n",
       "4     -0.326216  0.344667  0.952011 -0.101953  0.040057 -0.419622   -0.704604   \n",
       "...         ...       ...       ...       ...       ...       ...         ...   \n",
       "12417  0.940176  0.071254 -0.133752 -0.789387  0.040057  0.447502   -0.252412   \n",
       "12418 -0.815503  2.026850  0.952011 -1.306199  1.337777  1.967813   -0.252412   \n",
       "12419  0.278198  0.853492  1.154846  1.683399  0.559145  0.588609   -0.252412   \n",
       "12420 -0.873067  0.071254 -0.897366 -0.074752 -0.738575 -0.722318    0.939731   \n",
       "12421 -0.873067 -0.644600 -0.133752  1.661144 -0.998119  0.745647   -0.457954   \n",
       "\n",
       "       END_TIME  OPENED_DAYS  \n",
       "0      1.620461     0.149918  \n",
       "1     -0.340487     0.149918  \n",
       "2      1.085657     0.149918  \n",
       "3      0.342874     0.149918  \n",
       "4      0.342874     0.149918  \n",
       "...         ...          ...  \n",
       "12417  0.045761    -2.208549  \n",
       "12418  0.342874    -0.212923  \n",
       "12419 -0.251353     0.149918  \n",
       "12420 -1.320960     0.149918  \n",
       "12421 -0.340487     0.149918  \n",
       "\n",
       "[12422 rows x 9 columns]"
      ]
     },
     "execution_count": 130,
     "metadata": {},
     "output_type": "execute_result"
    }
   ],
   "source": [
    "x_scaled=pd.DataFrame(x_scaled,columns=x.columns)\n",
    "x_scaled"
   ]
  },
  {
   "cell_type": "code",
   "execution_count": 131,
   "id": "0b68abca",
   "metadata": {},
   "outputs": [
    {
     "data": {
      "text/html": [
       "<div>\n",
       "<style scoped>\n",
       "    .dataframe tbody tr th:only-of-type {\n",
       "        vertical-align: middle;\n",
       "    }\n",
       "\n",
       "    .dataframe tbody tr th {\n",
       "        vertical-align: top;\n",
       "    }\n",
       "\n",
       "    .dataframe thead th {\n",
       "        text-align: right;\n",
       "    }\n",
       "</style>\n",
       "<table border=\"1\" class=\"dataframe\">\n",
       "  <thead>\n",
       "    <tr style=\"text-align: right;\">\n",
       "      <th></th>\n",
       "      <th>TITLE</th>\n",
       "      <th>CUISINES</th>\n",
       "      <th>CITY</th>\n",
       "      <th>LOCALITY</th>\n",
       "      <th>RATING</th>\n",
       "      <th>VOTES</th>\n",
       "      <th>START_TIME</th>\n",
       "      <th>END_TIME</th>\n",
       "      <th>OPENED_DAYS</th>\n",
       "    </tr>\n",
       "  </thead>\n",
       "  <tbody>\n",
       "    <tr>\n",
       "      <th>0</th>\n",
       "      <td>-0.870408</td>\n",
       "      <td>-0.771552</td>\n",
       "      <td>1.339275</td>\n",
       "      <td>1.154615</td>\n",
       "      <td>-0.500536</td>\n",
       "      <td>0.486453</td>\n",
       "      <td>-0.405793</td>\n",
       "      <td>0.096303</td>\n",
       "      <td>0.153223</td>\n",
       "    </tr>\n",
       "    <tr>\n",
       "      <th>1</th>\n",
       "      <td>0.987778</td>\n",
       "      <td>1.673385</td>\n",
       "      <td>0.976881</td>\n",
       "      <td>-0.699043</td>\n",
       "      <td>1.049263</td>\n",
       "      <td>-0.670590</td>\n",
       "      <td>1.246654</td>\n",
       "      <td>-0.046104</td>\n",
       "      <td>0.153223</td>\n",
       "    </tr>\n",
       "    <tr>\n",
       "      <th>2</th>\n",
       "      <td>-0.870408</td>\n",
       "      <td>0.043427</td>\n",
       "      <td>0.976881</td>\n",
       "      <td>0.099585</td>\n",
       "      <td>0.016064</td>\n",
       "      <td>-0.005808</td>\n",
       "      <td>-0.690697</td>\n",
       "      <td>-0.758142</td>\n",
       "      <td>0.153223</td>\n",
       "    </tr>\n",
       "    <tr>\n",
       "      <th>3</th>\n",
       "      <td>1.388563</td>\n",
       "      <td>0.130602</td>\n",
       "      <td>-0.446813</td>\n",
       "      <td>0.288734</td>\n",
       "      <td>0.790964</td>\n",
       "      <td>2.513004</td>\n",
       "      <td>1.759482</td>\n",
       "      <td>-1.232833</td>\n",
       "      <td>-0.832073</td>\n",
       "    </tr>\n",
       "    <tr>\n",
       "      <th>4</th>\n",
       "      <td>0.987778</td>\n",
       "      <td>0.858406</td>\n",
       "      <td>0.510945</td>\n",
       "      <td>-0.366982</td>\n",
       "      <td>0.016064</td>\n",
       "      <td>-0.758001</td>\n",
       "      <td>-0.690697</td>\n",
       "      <td>-1.232833</td>\n",
       "      <td>0.153223</td>\n",
       "    </tr>\n",
       "    <tr>\n",
       "      <th>...</th>\n",
       "      <td>...</td>\n",
       "      <td>...</td>\n",
       "      <td>...</td>\n",
       "      <td>...</td>\n",
       "      <td>...</td>\n",
       "      <td>...</td>\n",
       "      <td>...</td>\n",
       "      <td>...</td>\n",
       "      <td>...</td>\n",
       "    </tr>\n",
       "    <tr>\n",
       "      <th>4133</th>\n",
       "      <td>-0.870408</td>\n",
       "      <td>0.249417</td>\n",
       "      <td>1.287505</td>\n",
       "      <td>0.881400</td>\n",
       "      <td>-0.017024</td>\n",
       "      <td>-0.150726</td>\n",
       "      <td>-0.861640</td>\n",
       "      <td>-0.758142</td>\n",
       "      <td>0.153223</td>\n",
       "    </tr>\n",
       "    <tr>\n",
       "      <th>4134</th>\n",
       "      <td>1.388563</td>\n",
       "      <td>-0.186417</td>\n",
       "      <td>-1.275144</td>\n",
       "      <td>-0.631790</td>\n",
       "      <td>-0.242236</td>\n",
       "      <td>0.267926</td>\n",
       "      <td>-0.690697</td>\n",
       "      <td>0.333649</td>\n",
       "      <td>0.153223</td>\n",
       "    </tr>\n",
       "    <tr>\n",
       "      <th>4135</th>\n",
       "      <td>0.987778</td>\n",
       "      <td>0.684970</td>\n",
       "      <td>-0.446813</td>\n",
       "      <td>1.297527</td>\n",
       "      <td>0.790964</td>\n",
       "      <td>-0.688992</td>\n",
       "      <td>1.645520</td>\n",
       "      <td>-1.470179</td>\n",
       "      <td>0.153223</td>\n",
       "    </tr>\n",
       "    <tr>\n",
       "      <th>4136</th>\n",
       "      <td>0.987778</td>\n",
       "      <td>0.450916</td>\n",
       "      <td>0.510945</td>\n",
       "      <td>-0.232476</td>\n",
       "      <td>0.274364</td>\n",
       "      <td>0.177685</td>\n",
       "      <td>-0.690697</td>\n",
       "      <td>-0.758142</td>\n",
       "      <td>-2.063692</td>\n",
       "    </tr>\n",
       "    <tr>\n",
       "      <th>4137</th>\n",
       "      <td>0.987778</td>\n",
       "      <td>0.028513</td>\n",
       "      <td>-1.301029</td>\n",
       "      <td>0.809944</td>\n",
       "      <td>-0.017024</td>\n",
       "      <td>-0.665989</td>\n",
       "      <td>0.619864</td>\n",
       "      <td>0.333649</td>\n",
       "      <td>0.153223</td>\n",
       "    </tr>\n",
       "  </tbody>\n",
       "</table>\n",
       "<p>4138 rows × 9 columns</p>\n",
       "</div>"
      ],
      "text/plain": [
       "         TITLE  CUISINES      CITY  LOCALITY    RATING     VOTES  START_TIME  \\\n",
       "0    -0.870408 -0.771552  1.339275  1.154615 -0.500536  0.486453   -0.405793   \n",
       "1     0.987778  1.673385  0.976881 -0.699043  1.049263 -0.670590    1.246654   \n",
       "2    -0.870408  0.043427  0.976881  0.099585  0.016064 -0.005808   -0.690697   \n",
       "3     1.388563  0.130602 -0.446813  0.288734  0.790964  2.513004    1.759482   \n",
       "4     0.987778  0.858406  0.510945 -0.366982  0.016064 -0.758001   -0.690697   \n",
       "...        ...       ...       ...       ...       ...       ...         ...   \n",
       "4133 -0.870408  0.249417  1.287505  0.881400 -0.017024 -0.150726   -0.861640   \n",
       "4134  1.388563 -0.186417 -1.275144 -0.631790 -0.242236  0.267926   -0.690697   \n",
       "4135  0.987778  0.684970 -0.446813  1.297527  0.790964 -0.688992    1.645520   \n",
       "4136  0.987778  0.450916  0.510945 -0.232476  0.274364  0.177685   -0.690697   \n",
       "4137  0.987778  0.028513 -1.301029  0.809944 -0.017024 -0.665989    0.619864   \n",
       "\n",
       "      END_TIME  OPENED_DAYS  \n",
       "0     0.096303     0.153223  \n",
       "1    -0.046104     0.153223  \n",
       "2    -0.758142     0.153223  \n",
       "3    -1.232833    -0.832073  \n",
       "4    -1.232833     0.153223  \n",
       "...        ...          ...  \n",
       "4133 -0.758142     0.153223  \n",
       "4134  0.333649     0.153223  \n",
       "4135 -1.470179     0.153223  \n",
       "4136 -0.758142    -2.063692  \n",
       "4137  0.333649     0.153223  \n",
       "\n",
       "[4138 rows x 9 columns]"
      ]
     },
     "execution_count": 131,
     "metadata": {},
     "output_type": "execute_result"
    }
   ],
   "source": [
    "x_test_scaled=scaler.fit_transform(data_test)\n",
    "x_test_scaled=pd.DataFrame(x_test_scaled,columns=data_test.columns)\n",
    "x_test_scaled"
   ]
  },
  {
   "cell_type": "code",
   "execution_count": 132,
   "id": "cce9e747",
   "metadata": {},
   "outputs": [],
   "source": [
    "#Now let us check the variance inflation factor of each the column\n",
    "from statsmodels.stats.outliers_influence import variance_inflation_factor"
   ]
  },
  {
   "cell_type": "code",
   "execution_count": 133,
   "id": "d1827303",
   "metadata": {},
   "outputs": [
    {
     "name": "stdout",
     "output_type": "stream",
     "text": [
      "1.0511401884775846\n",
      "1.7938880880490213\n",
      "1.0132183385742808\n",
      "1.0055089316727788\n",
      "1.8970071166195923\n",
      "1.2898681925262294\n",
      "1.011992594559937\n"
     ]
    }
   ],
   "source": [
    "for i in range(7):\n",
    "    print(variance_inflation_factor(x_scaled,i))"
   ]
  },
  {
   "cell_type": "code",
   "execution_count": 134,
   "id": "57903329",
   "metadata": {},
   "outputs": [],
   "source": [
    "#no issue with the data let us move to the model phase"
   ]
  },
  {
   "cell_type": "code",
   "execution_count": 341,
   "id": "1dd46713",
   "metadata": {},
   "outputs": [],
   "source": [
    "#so from the variance inflation score it is cleat that we do not need to remove any of the columns\n",
    "#And there is no multicollineaity problem in the features so we can proceed further"
   ]
  },
  {
   "cell_type": "code",
   "execution_count": 139,
   "id": "9186a84c",
   "metadata": {},
   "outputs": [],
   "source": [
    "#Importing the necessary libraries\n",
    "from sklearn.model_selection import train_test_split\n",
    "from sklearn.ensemble import RandomForestRegressor,ExtraTreesRegressor\n",
    "from sklearn.linear_model import LinearRegression\n",
    "from sklearn.ensemble import GradientBoostingRegressor,AdaBoostRegressor,BaggingRegressor\n",
    "from sklearn.metrics import r2_score,mean_absolute_error,mean_squared_error\n",
    "from sklearn.linear_model import Ridge\n",
    "from sklearn.linear_model import LassoCV #ridge and the lassocv also act as a feature selector\n",
    "from sklearn.model_selection import cross_val_score  \n",
    "from sklearn.neighbors import KNeighborsClassifier\n",
    "from sklearn.tree import DecisionTreeClassifier"
   ]
  },
  {
   "cell_type": "code",
   "execution_count": 136,
   "id": "40f9932a",
   "metadata": {},
   "outputs": [
    {
     "name": "stdout",
     "output_type": "stream",
     "text": [
      "0.23201759731224092 65\n"
     ]
    }
   ],
   "source": [
    "# we will use the linearregression to check the best random state\n",
    "maxACC=0\n",
    "maxrs=0\n",
    "for i in range(1,200):\n",
    "    lr=LinearRegression()\n",
    "    x_train,x_test,y_train,y_test=train_test_split(x_scaled,y,test_size=0.3,random_state=i)\n",
    "    lr.fit(x_train,y_train)\n",
    "    pred=lr.predict(x_test)\n",
    "    acc=r2_score(y_test,pred)\n",
    "    if acc>maxACC:\n",
    "        maxACC=acc\n",
    "        maxrs=i\n",
    "print(maxACC,maxrs)"
   ]
  },
  {
   "cell_type": "code",
   "execution_count": 137,
   "id": "a1766792",
   "metadata": {},
   "outputs": [],
   "source": [
    "#so the max accuracy is 0.96 and best random state is 72\n",
    "x_train,x_test,y_train,y_test=train_test_split(x_scaled,y,test_size=0.25,random_state=maxrs)"
   ]
  },
  {
   "cell_type": "code",
   "execution_count": 141,
   "id": "41161f9c",
   "metadata": {},
   "outputs": [],
   "source": [
    "rr=RandomForestRegressor()\n",
    "er=ExtraTreesRegressor()\n",
    "lr=LinearRegression()\n",
    "gb=GradientBoostingRegressor()\n",
    "ad=AdaBoostRegressor()\n",
    "bg=BaggingRegressor()\n",
    "ri=Ridge()\n",
    "ls=LassoCV()\n",
    "knn=KNeighborsClassifier()\n",
    "ds=DecisionTreeClassifier()"
   ]
  },
  {
   "cell_type": "code",
   "execution_count": 142,
   "id": "a0695b74",
   "metadata": {},
   "outputs": [],
   "source": [
    "models=[rr,er,lr,gb,ad,bg,ri,ls,knn,ds]"
   ]
  },
  {
   "cell_type": "code",
   "execution_count": 143,
   "id": "e0d9f1c9",
   "metadata": {},
   "outputs": [
    {
     "name": "stdout",
     "output_type": "stream",
     "text": [
      "{RandomForestRegressor(): 0.7289782408689995, ExtraTreesRegressor(): 0.7193049523917947, LinearRegression(): 0.2202534195415391, GradientBoostingRegressor(): 0.7107685893019615, AdaBoostRegressor(): -0.6260912600347748, BaggingRegressor(): 0.7081174945968594, Ridge(): 0.22025308330117288, LassoCV(): 0.22098492789565138, KNeighborsClassifier(): 0.11824529570418052, DecisionTreeClassifier(): 0.3811972136158014}\n"
     ]
    }
   ],
   "source": [
    "accuracy={}\n",
    "for model in models:\n",
    "    model.fit(x_train,y_train)\n",
    "    pred=model.predict(x_test)\n",
    "    accuracy[model]=r2_score(y_test,pred)\n",
    "print(accuracy)"
   ]
  },
  {
   "cell_type": "code",
   "execution_count": 144,
   "id": "34e282a4",
   "metadata": {},
   "outputs": [],
   "source": [
    "#so as of now randomforest has the best accuracy\n",
    "#Let us see what happens after cross validation\n",
    "from sklearn.model_selection import cross_val_score"
   ]
  },
  {
   "cell_type": "code",
   "execution_count": 145,
   "id": "4cbfba47",
   "metadata": {},
   "outputs": [
    {
     "name": "stdout",
     "output_type": "stream",
     "text": [
      "RandomForestRegressor() , 0.7089076046179763\n",
      "ExtraTreesRegressor() , 0.7058013964256171\n",
      "LinearRegression() , 0.20436143967321505\n",
      "GradientBoostingRegressor() , 0.6969504500362202\n",
      "AdaBoostRegressor() , -0.6141138719770277\n",
      "BaggingRegressor() , 0.6844000825334093\n",
      "Ridge() , 0.20436147195770332\n",
      "LassoCV() , 0.20430622875930537\n",
      "KNeighborsClassifier() , 0.11632587797315293\n",
      "DecisionTreeClassifier() , 0.12622796359477315\n"
     ]
    }
   ],
   "source": [
    "for model in models:\n",
    "    print(model,',',cross_val_score(model,x_scaled,y,cv=5).mean())"
   ]
  },
  {
   "cell_type": "code",
   "execution_count": 146,
   "id": "6ce91e33",
   "metadata": {},
   "outputs": [],
   "source": [
    "#We can clearly see the dominance of Randomforest so we will proceed with this fornhyoerparamter tuning"
   ]
  },
  {
   "cell_type": "code",
   "execution_count": 147,
   "id": "db70de7c",
   "metadata": {},
   "outputs": [],
   "source": [
    "model=RandomForestRegressor()"
   ]
  },
  {
   "cell_type": "code",
   "execution_count": 148,
   "id": "6f9b48d2",
   "metadata": {},
   "outputs": [],
   "source": [
    "from sklearn.model_selection import GridSearchCV"
   ]
  },
  {
   "cell_type": "code",
   "execution_count": 149,
   "id": "2f29a574",
   "metadata": {},
   "outputs": [],
   "source": [
    "param_grid = {\n",
    "    'n_estimators': [100, 200],\n",
    "    'max_features': ['auto', 'sqrt'],\n",
    "    'max_depth': [10, 20],\n",
    "    'min_samples_split': [2, 5],\n",
    "    'min_samples_leaf': [1, 2],\n",
    "    'bootstrap': [True, False]\n",
    "}"
   ]
  },
  {
   "cell_type": "code",
   "execution_count": 150,
   "id": "dd0cb092",
   "metadata": {},
   "outputs": [],
   "source": [
    "grid_search=GridSearchCV(model,param_grid,cv=5)"
   ]
  },
  {
   "cell_type": "code",
   "execution_count": 151,
   "id": "6e8c8e34",
   "metadata": {},
   "outputs": [
    {
     "data": {
      "text/html": [
       "<style>#sk-container-id-1 {color: black;}#sk-container-id-1 pre{padding: 0;}#sk-container-id-1 div.sk-toggleable {background-color: white;}#sk-container-id-1 label.sk-toggleable__label {cursor: pointer;display: block;width: 100%;margin-bottom: 0;padding: 0.3em;box-sizing: border-box;text-align: center;}#sk-container-id-1 label.sk-toggleable__label-arrow:before {content: \"▸\";float: left;margin-right: 0.25em;color: #696969;}#sk-container-id-1 label.sk-toggleable__label-arrow:hover:before {color: black;}#sk-container-id-1 div.sk-estimator:hover label.sk-toggleable__label-arrow:before {color: black;}#sk-container-id-1 div.sk-toggleable__content {max-height: 0;max-width: 0;overflow: hidden;text-align: left;background-color: #f0f8ff;}#sk-container-id-1 div.sk-toggleable__content pre {margin: 0.2em;color: black;border-radius: 0.25em;background-color: #f0f8ff;}#sk-container-id-1 input.sk-toggleable__control:checked~div.sk-toggleable__content {max-height: 200px;max-width: 100%;overflow: auto;}#sk-container-id-1 input.sk-toggleable__control:checked~label.sk-toggleable__label-arrow:before {content: \"▾\";}#sk-container-id-1 div.sk-estimator input.sk-toggleable__control:checked~label.sk-toggleable__label {background-color: #d4ebff;}#sk-container-id-1 div.sk-label input.sk-toggleable__control:checked~label.sk-toggleable__label {background-color: #d4ebff;}#sk-container-id-1 input.sk-hidden--visually {border: 0;clip: rect(1px 1px 1px 1px);clip: rect(1px, 1px, 1px, 1px);height: 1px;margin: -1px;overflow: hidden;padding: 0;position: absolute;width: 1px;}#sk-container-id-1 div.sk-estimator {font-family: monospace;background-color: #f0f8ff;border: 1px dotted black;border-radius: 0.25em;box-sizing: border-box;margin-bottom: 0.5em;}#sk-container-id-1 div.sk-estimator:hover {background-color: #d4ebff;}#sk-container-id-1 div.sk-parallel-item::after {content: \"\";width: 100%;border-bottom: 1px solid gray;flex-grow: 1;}#sk-container-id-1 div.sk-label:hover label.sk-toggleable__label {background-color: #d4ebff;}#sk-container-id-1 div.sk-serial::before {content: \"\";position: absolute;border-left: 1px solid gray;box-sizing: border-box;top: 0;bottom: 0;left: 50%;z-index: 0;}#sk-container-id-1 div.sk-serial {display: flex;flex-direction: column;align-items: center;background-color: white;padding-right: 0.2em;padding-left: 0.2em;position: relative;}#sk-container-id-1 div.sk-item {position: relative;z-index: 1;}#sk-container-id-1 div.sk-parallel {display: flex;align-items: stretch;justify-content: center;background-color: white;position: relative;}#sk-container-id-1 div.sk-item::before, #sk-container-id-1 div.sk-parallel-item::before {content: \"\";position: absolute;border-left: 1px solid gray;box-sizing: border-box;top: 0;bottom: 0;left: 50%;z-index: -1;}#sk-container-id-1 div.sk-parallel-item {display: flex;flex-direction: column;z-index: 1;position: relative;background-color: white;}#sk-container-id-1 div.sk-parallel-item:first-child::after {align-self: flex-end;width: 50%;}#sk-container-id-1 div.sk-parallel-item:last-child::after {align-self: flex-start;width: 50%;}#sk-container-id-1 div.sk-parallel-item:only-child::after {width: 0;}#sk-container-id-1 div.sk-dashed-wrapped {border: 1px dashed gray;margin: 0 0.4em 0.5em 0.4em;box-sizing: border-box;padding-bottom: 0.4em;background-color: white;}#sk-container-id-1 div.sk-label label {font-family: monospace;font-weight: bold;display: inline-block;line-height: 1.2em;}#sk-container-id-1 div.sk-label-container {text-align: center;}#sk-container-id-1 div.sk-container {/* jupyter's `normalize.less` sets `[hidden] { display: none; }` but bootstrap.min.css set `[hidden] { display: none !important; }` so we also need the `!important` here to be able to override the default hidden behavior on the sphinx rendered scikit-learn.org. See: https://github.com/scikit-learn/scikit-learn/issues/21755 */display: inline-block !important;position: relative;}#sk-container-id-1 div.sk-text-repr-fallback {display: none;}</style><div id=\"sk-container-id-1\" class=\"sk-top-container\"><div class=\"sk-text-repr-fallback\"><pre>GridSearchCV(cv=5, estimator=RandomForestRegressor(),\n",
       "             param_grid={&#x27;bootstrap&#x27;: [True, False], &#x27;max_depth&#x27;: [10, 20],\n",
       "                         &#x27;max_features&#x27;: [&#x27;auto&#x27;, &#x27;sqrt&#x27;],\n",
       "                         &#x27;min_samples_leaf&#x27;: [1, 2],\n",
       "                         &#x27;min_samples_split&#x27;: [2, 5],\n",
       "                         &#x27;n_estimators&#x27;: [100, 200]})</pre><b>In a Jupyter environment, please rerun this cell to show the HTML representation or trust the notebook. <br />On GitHub, the HTML representation is unable to render, please try loading this page with nbviewer.org.</b></div><div class=\"sk-container\" hidden><div class=\"sk-item sk-dashed-wrapped\"><div class=\"sk-label-container\"><div class=\"sk-label sk-toggleable\"><input class=\"sk-toggleable__control sk-hidden--visually\" id=\"sk-estimator-id-1\" type=\"checkbox\" ><label for=\"sk-estimator-id-1\" class=\"sk-toggleable__label sk-toggleable__label-arrow\">GridSearchCV</label><div class=\"sk-toggleable__content\"><pre>GridSearchCV(cv=5, estimator=RandomForestRegressor(),\n",
       "             param_grid={&#x27;bootstrap&#x27;: [True, False], &#x27;max_depth&#x27;: [10, 20],\n",
       "                         &#x27;max_features&#x27;: [&#x27;auto&#x27;, &#x27;sqrt&#x27;],\n",
       "                         &#x27;min_samples_leaf&#x27;: [1, 2],\n",
       "                         &#x27;min_samples_split&#x27;: [2, 5],\n",
       "                         &#x27;n_estimators&#x27;: [100, 200]})</pre></div></div></div><div class=\"sk-parallel\"><div class=\"sk-parallel-item\"><div class=\"sk-item\"><div class=\"sk-label-container\"><div class=\"sk-label sk-toggleable\"><input class=\"sk-toggleable__control sk-hidden--visually\" id=\"sk-estimator-id-2\" type=\"checkbox\" ><label for=\"sk-estimator-id-2\" class=\"sk-toggleable__label sk-toggleable__label-arrow\">estimator: RandomForestRegressor</label><div class=\"sk-toggleable__content\"><pre>RandomForestRegressor()</pre></div></div></div><div class=\"sk-serial\"><div class=\"sk-item\"><div class=\"sk-estimator sk-toggleable\"><input class=\"sk-toggleable__control sk-hidden--visually\" id=\"sk-estimator-id-3\" type=\"checkbox\" ><label for=\"sk-estimator-id-3\" class=\"sk-toggleable__label sk-toggleable__label-arrow\">RandomForestRegressor</label><div class=\"sk-toggleable__content\"><pre>RandomForestRegressor()</pre></div></div></div></div></div></div></div></div></div></div>"
      ],
      "text/plain": [
       "GridSearchCV(cv=5, estimator=RandomForestRegressor(),\n",
       "             param_grid={'bootstrap': [True, False], 'max_depth': [10, 20],\n",
       "                         'max_features': ['auto', 'sqrt'],\n",
       "                         'min_samples_leaf': [1, 2],\n",
       "                         'min_samples_split': [2, 5],\n",
       "                         'n_estimators': [100, 200]})"
      ]
     },
     "execution_count": 151,
     "metadata": {},
     "output_type": "execute_result"
    }
   ],
   "source": [
    "grid_search.fit(x_train,y_train)"
   ]
  },
  {
   "cell_type": "code",
   "execution_count": 153,
   "id": "9c57b2f8",
   "metadata": {},
   "outputs": [
    {
     "name": "stdout",
     "output_type": "stream",
     "text": [
      "RandomForestRegressor(bootstrap=False, max_depth=20, max_features='sqrt',\n",
      "                      min_samples_leaf=2, n_estimators=200) 0.6883532825850143\n"
     ]
    }
   ],
   "source": [
    "print(grid_search.best_estimator_,grid_search.best_score_)"
   ]
  },
  {
   "cell_type": "code",
   "execution_count": 154,
   "id": "b3ee290b",
   "metadata": {},
   "outputs": [],
   "source": [
    "#let us make the final model\n",
    "model=RandomForestRegressor(bootstrap=False,max_depth=20,max_features='sqrt',min_samples_leaf=2,n_estimators=200)"
   ]
  },
  {
   "cell_type": "code",
   "execution_count": 155,
   "id": "26aafeea",
   "metadata": {},
   "outputs": [
    {
     "data": {
      "text/html": [
       "<style>#sk-container-id-3 {color: black;}#sk-container-id-3 pre{padding: 0;}#sk-container-id-3 div.sk-toggleable {background-color: white;}#sk-container-id-3 label.sk-toggleable__label {cursor: pointer;display: block;width: 100%;margin-bottom: 0;padding: 0.3em;box-sizing: border-box;text-align: center;}#sk-container-id-3 label.sk-toggleable__label-arrow:before {content: \"▸\";float: left;margin-right: 0.25em;color: #696969;}#sk-container-id-3 label.sk-toggleable__label-arrow:hover:before {color: black;}#sk-container-id-3 div.sk-estimator:hover label.sk-toggleable__label-arrow:before {color: black;}#sk-container-id-3 div.sk-toggleable__content {max-height: 0;max-width: 0;overflow: hidden;text-align: left;background-color: #f0f8ff;}#sk-container-id-3 div.sk-toggleable__content pre {margin: 0.2em;color: black;border-radius: 0.25em;background-color: #f0f8ff;}#sk-container-id-3 input.sk-toggleable__control:checked~div.sk-toggleable__content {max-height: 200px;max-width: 100%;overflow: auto;}#sk-container-id-3 input.sk-toggleable__control:checked~label.sk-toggleable__label-arrow:before {content: \"▾\";}#sk-container-id-3 div.sk-estimator input.sk-toggleable__control:checked~label.sk-toggleable__label {background-color: #d4ebff;}#sk-container-id-3 div.sk-label input.sk-toggleable__control:checked~label.sk-toggleable__label {background-color: #d4ebff;}#sk-container-id-3 input.sk-hidden--visually {border: 0;clip: rect(1px 1px 1px 1px);clip: rect(1px, 1px, 1px, 1px);height: 1px;margin: -1px;overflow: hidden;padding: 0;position: absolute;width: 1px;}#sk-container-id-3 div.sk-estimator {font-family: monospace;background-color: #f0f8ff;border: 1px dotted black;border-radius: 0.25em;box-sizing: border-box;margin-bottom: 0.5em;}#sk-container-id-3 div.sk-estimator:hover {background-color: #d4ebff;}#sk-container-id-3 div.sk-parallel-item::after {content: \"\";width: 100%;border-bottom: 1px solid gray;flex-grow: 1;}#sk-container-id-3 div.sk-label:hover label.sk-toggleable__label {background-color: #d4ebff;}#sk-container-id-3 div.sk-serial::before {content: \"\";position: absolute;border-left: 1px solid gray;box-sizing: border-box;top: 0;bottom: 0;left: 50%;z-index: 0;}#sk-container-id-3 div.sk-serial {display: flex;flex-direction: column;align-items: center;background-color: white;padding-right: 0.2em;padding-left: 0.2em;position: relative;}#sk-container-id-3 div.sk-item {position: relative;z-index: 1;}#sk-container-id-3 div.sk-parallel {display: flex;align-items: stretch;justify-content: center;background-color: white;position: relative;}#sk-container-id-3 div.sk-item::before, #sk-container-id-3 div.sk-parallel-item::before {content: \"\";position: absolute;border-left: 1px solid gray;box-sizing: border-box;top: 0;bottom: 0;left: 50%;z-index: -1;}#sk-container-id-3 div.sk-parallel-item {display: flex;flex-direction: column;z-index: 1;position: relative;background-color: white;}#sk-container-id-3 div.sk-parallel-item:first-child::after {align-self: flex-end;width: 50%;}#sk-container-id-3 div.sk-parallel-item:last-child::after {align-self: flex-start;width: 50%;}#sk-container-id-3 div.sk-parallel-item:only-child::after {width: 0;}#sk-container-id-3 div.sk-dashed-wrapped {border: 1px dashed gray;margin: 0 0.4em 0.5em 0.4em;box-sizing: border-box;padding-bottom: 0.4em;background-color: white;}#sk-container-id-3 div.sk-label label {font-family: monospace;font-weight: bold;display: inline-block;line-height: 1.2em;}#sk-container-id-3 div.sk-label-container {text-align: center;}#sk-container-id-3 div.sk-container {/* jupyter's `normalize.less` sets `[hidden] { display: none; }` but bootstrap.min.css set `[hidden] { display: none !important; }` so we also need the `!important` here to be able to override the default hidden behavior on the sphinx rendered scikit-learn.org. See: https://github.com/scikit-learn/scikit-learn/issues/21755 */display: inline-block !important;position: relative;}#sk-container-id-3 div.sk-text-repr-fallback {display: none;}</style><div id=\"sk-container-id-3\" class=\"sk-top-container\"><div class=\"sk-text-repr-fallback\"><pre>RandomForestRegressor(bootstrap=False, max_depth=20, max_features=&#x27;sqrt&#x27;,\n",
       "                      min_samples_leaf=2, n_estimators=200)</pre><b>In a Jupyter environment, please rerun this cell to show the HTML representation or trust the notebook. <br />On GitHub, the HTML representation is unable to render, please try loading this page with nbviewer.org.</b></div><div class=\"sk-container\" hidden><div class=\"sk-item\"><div class=\"sk-estimator sk-toggleable\"><input class=\"sk-toggleable__control sk-hidden--visually\" id=\"sk-estimator-id-5\" type=\"checkbox\" checked><label for=\"sk-estimator-id-5\" class=\"sk-toggleable__label sk-toggleable__label-arrow\">RandomForestRegressor</label><div class=\"sk-toggleable__content\"><pre>RandomForestRegressor(bootstrap=False, max_depth=20, max_features=&#x27;sqrt&#x27;,\n",
       "                      min_samples_leaf=2, n_estimators=200)</pre></div></div></div></div></div>"
      ],
      "text/plain": [
       "RandomForestRegressor(bootstrap=False, max_depth=20, max_features='sqrt',\n",
       "                      min_samples_leaf=2, n_estimators=200)"
      ]
     },
     "execution_count": 155,
     "metadata": {},
     "output_type": "execute_result"
    }
   ],
   "source": [
    "model.fit(x_train,y_train)"
   ]
  },
  {
   "cell_type": "code",
   "execution_count": 156,
   "id": "af9ce628",
   "metadata": {},
   "outputs": [
    {
     "data": {
      "text/plain": [
       "0.7169962575799721"
      ]
     },
     "execution_count": 156,
     "metadata": {},
     "output_type": "execute_result"
    }
   ],
   "source": [
    "#let us evaluate the prediction of the model\n",
    "pred=model.predict(x_test)\n",
    "r2_score(y_test,pred)"
   ]
  },
  {
   "cell_type": "code",
   "execution_count": 157,
   "id": "7d8bf458",
   "metadata": {},
   "outputs": [],
   "source": [
    "#SO the r2 score for the model is 0.71 so now let us just predict the test dataset"
   ]
  },
  {
   "cell_type": "code",
   "execution_count": 158,
   "id": "4e221488",
   "metadata": {},
   "outputs": [],
   "source": [
    "#The point to note is that we did not had the label with the test dataset so we build and choosed the best model using the trainng dataset only"
   ]
  },
  {
   "cell_type": "code",
   "execution_count": 160,
   "id": "6bcb8e8c",
   "metadata": {},
   "outputs": [],
   "source": [
    "Predicted_values=model.predict(x_test_scaled)"
   ]
  },
  {
   "cell_type": "code",
   "execution_count": 161,
   "id": "502d4ad0",
   "metadata": {},
   "outputs": [
    {
     "data": {
      "text/plain": [
       "0       711.105839\n",
       "1       406.729167\n",
       "2       656.340939\n",
       "3       333.266667\n",
       "4       424.079762\n",
       "           ...    \n",
       "4133    681.101191\n",
       "4134    443.490055\n",
       "4135    381.665952\n",
       "4136    434.690037\n",
       "4137    323.876455\n",
       "Name: Test dataset Prediction, Length: 4138, dtype: float64"
      ]
     },
     "execution_count": 161,
     "metadata": {},
     "output_type": "execute_result"
    }
   ],
   "source": [
    "#Predicted values\n",
    "Predicted_values=pd.Series(Predicted_values,name='Test dataset Prediction')\n",
    "Predicted_values"
   ]
  },
  {
   "cell_type": "code",
   "execution_count": 162,
   "id": "e67a4fb7",
   "metadata": {},
   "outputs": [],
   "source": [
    "#Conclusion\n",
    "#The random forest had the best r2 score before and after cross validation\n",
    "#We predicted the final test dataset predcition using the random forest \n",
    "#Thanks"
   ]
  },
  {
   "cell_type": "code",
   "execution_count": null,
   "id": "b5903453",
   "metadata": {},
   "outputs": [],
   "source": []
  },
  {
   "cell_type": "code",
   "execution_count": null,
   "id": "7a10eab3",
   "metadata": {},
   "outputs": [],
   "source": []
  },
  {
   "cell_type": "code",
   "execution_count": null,
   "id": "2c4d63fd",
   "metadata": {},
   "outputs": [],
   "source": []
  },
  {
   "cell_type": "code",
   "execution_count": null,
   "id": "dc2d14a6",
   "metadata": {},
   "outputs": [],
   "source": []
  }
 ],
 "metadata": {
  "kernelspec": {
   "display_name": "Python 3 (ipykernel)",
   "language": "python",
   "name": "python3"
  },
  "language_info": {
   "codemirror_mode": {
    "name": "ipython",
    "version": 3
   },
   "file_extension": ".py",
   "mimetype": "text/x-python",
   "name": "python",
   "nbconvert_exporter": "python",
   "pygments_lexer": "ipython3",
   "version": "3.11.5"
  }
 },
 "nbformat": 4,
 "nbformat_minor": 5
}
